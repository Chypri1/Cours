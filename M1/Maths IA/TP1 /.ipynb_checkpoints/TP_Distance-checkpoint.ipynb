{
 "cells": [
  {
   "cell_type": "markdown",
   "id": "1c88bc3c",
   "metadata": {},
   "source": [
    "<img src='https://upload.wikimedia.org/wikipedia/fr/thumb/e/ed/Logo_Universit%C3%A9_du_Maine.svg/1280px-Logo_Universit%C3%A9_du_Maine.svg.png' width=\"300\" height=\"500\">\n",
    "<br>\n",
    "<div style=\"border: solid 3px #000;\">\n",
    "    <h1 style=\"text-align: center; color:#000; font-family:Georgia; font-size:26px;\">Mathématiques pour l'IA</h1>\n",
    "    <p style='text-align: center;'>Master Informatique 1</p>\n",
    "    <p style='text-align: center;'>Marie Tahon</p>\n",
    "</div>\n",
    "\n",
    "\n",
    "\n",
    "## TP1 Maths pour l'IA: Calcul de normes et de distances\n",
    "\n",
    "Ce TP vous permettra de mettre en pratique le cours de Maths sur les normes et les distances calculées sur des vecteurs (ou des matrices) de grande dimension. Dans un première temps vous implémenterez les différents calculs de distance vus en cours et vous les validerez sur des exemples simples. Dans un deuxième temps, vous cherchez à identifier des locuteurs à partir d'une similarité obtenue sur des vecteurs de grande dimension."
   ]
  },
  {
   "cell_type": "markdown",
   "id": "39eb1d99",
   "metadata": {},
   "source": [
    "## Partie 1: Implémentation des normes et distances\n",
    "\n",
    "### 1.1. Normes $L^1$ et $L^2$, $L^{\\infty}$"
   ]
  },
  {
   "cell_type": "code",
   "execution_count": 6,
   "id": "ee155073",
   "metadata": {},
   "outputs": [],
   "source": [
    "import numpy as np\n",
    "\n",
    "x = np.array([2, 3, -1])\n",
    "y = np.array([2, 3, 10])"
   ]
  },
  {
   "cell_type": "markdown",
   "id": "f117f1e7",
   "metadata": {},
   "source": [
    "Créer trois fonctions qui permettent de calculer les normes L$^1$, L$^2 $et L$^\\infty$ d'un vecteur de dimension $n$. Calculer ces normes pour les vecteurs $x$ et $y$. Ce sont les vecteurs vus en cours, vous connaissez donc le résultat, sinon refaites le calcul pour vérifier."
   ]
  },
  {
   "cell_type": "code",
   "execution_count": 7,
   "id": "6b432192",
   "metadata": {},
   "outputs": [
    {
     "name": "stdout",
     "output_type": "stream",
     "text": [
      "L1: 6, L2: 3.7416573867739413, Linf : 3\n",
      "L1: 15, L2: 10.63014581273465, Linf : 10\n"
     ]
    }
   ],
   "source": [
    "def L1norm(x):\n",
    "    return np.abs(x).sum()\n",
    "\n",
    "\n",
    "def L2norm(x):\n",
    "    return np.sqrt(np.square(x).sum())\n",
    "\n",
    "def Linf(x):\n",
    "    return np.max(np.abs(x))\n",
    "    \n",
    "\n",
    "print(f\"L1: {L1norm(x)}, L2: {L2norm(x)}, Linf : {Linf(x)}\")\n",
    "print(f\"L1: {L1norm(y)}, L2: {L2norm(y)}, Linf : {Linf(y)}\")"
   ]
  },
  {
   "cell_type": "markdown",
   "id": "e5618709",
   "metadata": {},
   "source": [
    "### 1.2. Norme de Froebenius\n",
    "Créer une fonction permettant de calculer la norme de Froebenius d'une matrice $\\mathbf{A}$."
   ]
  },
  {
   "cell_type": "code",
   "execution_count": 8,
   "id": "670ff0e4",
   "metadata": {},
   "outputs": [],
   "source": [
    "A = np.array([[  2,  -5, -11,   0],\n",
    "       [-10,   4,   6,  13],\n",
    "       [  4,   7,  12,  -2]])"
   ]
  },
  {
   "cell_type": "code",
   "execution_count": 9,
   "id": "3fcfb275",
   "metadata": {},
   "outputs": [
    {
     "name": "stdout",
     "output_type": "stream",
     "text": [
      "684\n"
     ]
    }
   ],
   "source": [
    "def Fnorm(A):\n",
    "    return np.square(A).sum()\n",
    "\n",
    "print(Fnorm(A))"
   ]
  },
  {
   "cell_type": "markdown",
   "id": "4a3e630f",
   "metadata": {},
   "source": [
    "### 1.3. Comportement proche de 0"
   ]
  },
  {
   "cell_type": "markdown",
   "id": "de5412e4",
   "metadata": {},
   "source": [
    "Q1. Est-ce que l'égalité suivante ```0.1 + 0.1 +0.1 == 0.3``` est vraie en Python ?"
   ]
  },
  {
   "cell_type": "code",
   "execution_count": 10,
   "id": "68906999-8656-4a63-8c89-b671c1642fce",
   "metadata": {},
   "outputs": [
    {
     "data": {
      "text/plain": [
       "False"
      ]
     },
     "execution_count": 10,
     "metadata": {},
     "output_type": "execute_result"
    }
   ],
   "source": [
    "\"\"\"\n",
    "Réponse Q1:  \n",
    "\n",
    "C'est faux.\n",
    "\"\"\"\n",
    "\n",
    "0.1 + 0.1 + 0.1 == 0.3"
   ]
  },
  {
   "cell_type": "markdown",
   "id": "e8f8cb83",
   "metadata": {},
   "source": [
    "Q2. La fraction décimale ```0.125``` peut s'écrire sous la forme $0\\cdot 10^0 + 1\\cdot 10^{-1} + 2\\cdot 10^{-2} +5\\cdot 10^{-3}$. Donner la forme des fractions binaires ```0.1``` et ```0.3``` ?"
   ]
  },
  {
   "cell_type": "markdown",
   "id": "7d879deb-a600-4879-8874-6bdf2228dfac",
   "metadata": {},
   "source": [
    "#### Réponse 2\n",
    "\n",
    "0.1 en fraction binaire -> $0\\cdot 10^0 + 1\\cdot 10^{-1}$\n",
    "\n",
    "0.3 en frcation binaire -> $0\\cdot 10^0 + 3\\cdot 10^{-1}$\n"
   ]
  },
  {
   "cell_type": "markdown",
   "id": "ccfaf3fe",
   "metadata": {},
   "source": [
    "Q3. En utilisant le format d'affichage des flottants en Python, par exemple ```\"%.2f\" %0.1``` donner la valeur exacte en décimale de l'approximation en binaire stockées en machine pour ```0.1```."
   ]
  },
  {
   "cell_type": "markdown",
   "id": "25a422b7",
   "metadata": {},
   "source": [
    "Q3. Expliquer le résultat obtenu à la première question."
   ]
  },
  {
   "cell_type": "code",
   "execution_count": 11,
   "id": "0e834381-0be7-44dd-bb60-a6c2898a97a2",
   "metadata": {},
   "outputs": [
    {
     "name": "stdout",
     "output_type": "stream",
     "text": [
      "0.3000000000000000444089\n",
      "0.2999999999999999888978\n",
      "{False}\n"
     ]
    }
   ],
   "source": [
    "\"\"\"\n",
    "Réponse 3:\n",
    "Le résu£ltat obtenu à la question 1 est fausse car valeur n'esrt pas égale à 0.3 et que resultat n'est pas égale à 0.3 \n",
    "\"\"\"\n",
    "\n",
    "valeur = 0.1 + 0.1 + 0.1\n",
    "resultat = 0.3 \n",
    "print(\"%.22f\" %valeur)\n",
    "print(\"%.22f\" %resultat)\n",
    "print({valeur==resultat})"
   ]
  },
  {
   "cell_type": "markdown",
   "id": "65f7772d",
   "metadata": {},
   "source": [
    "Q4. Définir des vecteurs contenant des très petites valeurs (de l'ordre de $10^{-320}$). Vérifier que ces valeurs sont bien différentes de 0. Vérifier que les normes L1 et L2 de ces vecteurs sont bien différentes de 0. \n",
    "\n",
    "Qu'en concluez-vous sur le choix des normes L1 ou L2 ?"
   ]
  },
  {
   "cell_type": "markdown",
   "id": "117656f9-58b0-43a8-bb10-63185a11520e",
   "metadata": {},
   "source": [
    "#### Réponse 4\n",
    "De toute évidence, 0.1*3 != 0.3 en python, car ni 0.1 ni 0.3 n'est strictement égal à sa valeur affichée"
   ]
  },
  {
   "cell_type": "markdown",
   "id": "4dc416ab",
   "metadata": {},
   "source": [
    "### 1.5. Calcul des distances"
   ]
  },
  {
   "cell_type": "markdown",
   "id": "8e2cd81c",
   "metadata": {},
   "source": [
    "Q5. Définir plusieurs fonctions correspondantes aux distances vues en cours: Manhattan, Euclidienne, Tchebychev. Vous proposerez également une implémentation de la similarité cosinus. Vous vérifierez que les dimensions des deux vecteurs $x$ et $y$ sont égales."
   ]
  },
  {
   "cell_type": "code",
   "execution_count": 56,
   "id": "0a7438c3-7310-46c9-8740-6267600664fc",
   "metadata": {},
   "outputs": [],
   "source": [
    "def manhattan(x, y):\n",
    "    return np.sum(np.abs(x-y))\n",
    "    \n",
    "    \n",
    "def euclidienne(x, y):\n",
    "    return np.sqrt(np.sum((x-y)**2))\n",
    "\n",
    "def tchebychev(x, y):\n",
    "    return np.max(np.abs(x-y))\n",
    "    \n",
    "def sim_cos(x, y):\n",
    "    return np.dot(x, y) / (L2norm(x) * L2norm(y))"
   ]
  },
  {
   "cell_type": "markdown",
   "id": "1f1b92b5",
   "metadata": {},
   "source": [
    "Q6. Le calcul de la similarité cosinus fait intervenir le produit scalaire. Nous avons vu en cours qu'il existait deux approches pour le calculer. En utilisant la librairie ```time``` évaluer le temps pris par chacune de ces approches quand les vecteurs sont de grande dimension et choisissez celle qui vous semble la plus pertinente."
   ]
  },
  {
   "cell_type": "code",
   "execution_count": 57,
   "id": "14b0e7f6",
   "metadata": {},
   "outputs": [
    {
     "name": "stdout",
     "output_type": "stream",
     "text": [
      "temps méthode 1 0.0001201629638671875\n",
      "0.02217606321654353\n",
      "temps méthode 2 9.417533874511719e-05\n",
      "0.02217606321654131\n"
     ]
    }
   ],
   "source": [
    "import time\n",
    "n = 800 # dimension du vecteur\n",
    "a = np.linspace(0,1,n)\n",
    "b = np.random.randn(n)\n",
    "start = time.time()\n",
    "prod_scalaire1 = np.sum(a*b)\n",
    "    \n",
    "print(f\"temps méthode 1 {time.time() - start}\")\n",
    "print(prod_scalaire1)\n",
    "start = time.time()\n",
    "prod_scalaire2 = np.dot(a, b)\n",
    "print(f\"temps méthode 2 {time.time() - start}\")\n",
    "print(prod_scalaire2)"
   ]
  },
  {
   "cell_type": "markdown",
   "id": "30caa443",
   "metadata": {},
   "source": [
    "Q7. Calculer la distance entre les vecteurs $x$ et $y$ définis au tout début avec les différentes versions que vous aurez implémentées."
   ]
  },
  {
   "cell_type": "code",
   "execution_count": 58,
   "id": "b1eef502",
   "metadata": {},
   "outputs": [
    {
     "name": "stdout",
     "output_type": "stream",
     "text": [
      "Manhattan : 11\n",
      "Euclidienne : 11.0\n",
      "Tchebychev : 11\n",
      "Similarité cosinus : 0.07542546827314035\n"
     ]
    }
   ],
   "source": [
    "print(f\"Manhattan : {manhattan(x,y)}\")\n",
    "print(f\"Euclidienne : {euclidienne(x,y)}\")\n",
    "print(f\"Tchebychev : {tchebychev(x,y)}\")\n",
    "print(f\"Similarité cosinus : {sim_cos(x,y)}\")"
   ]
  },
  {
   "cell_type": "markdown",
   "id": "cceed1a4",
   "metadata": {},
   "source": [
    "---------------------------------------"
   ]
  },
  {
   "cell_type": "markdown",
   "id": "312eaac6",
   "metadata": {},
   "source": [
    "## Partie 2: Matrices de similarité sur le dataset Iris\n",
    "Pour cette première partie on utilisera le dataset Iris que l'on peut récupérer directement dans la librairie ```sklearn```. Le corpus est organisé en dictionnaire, où la clé *data* correspond aux caractéristiques et la clé *target* aux labels.\n",
    "\n",
    "Q1. Charger le corpus, et vérifier que vous avez bien 150 iris de 3 types différents et 4 caractéristiques (vous afficherez les dimensions des tableaux que vous récupérerez). La fonction vous permettant de récupérer les valeurs uniques en python est ```set```. Afficher les caractéristiques et labels correspondant aux 3 premières données."
   ]
  },
  {
   "cell_type": "code",
   "execution_count": 59,
   "id": "0ec2a801",
   "metadata": {},
   "outputs": [],
   "source": [
    "import matplotlib.pyplot as plt\n",
    "from sklearn.datasets import load_iris\n",
    "iris = load_iris() # La variable iris est un dictionnaire\n",
    "#print(iris.keys())"
   ]
  },
  {
   "cell_type": "code",
   "execution_count": 60,
   "id": "22ce93de-adae-4cb4-ae7f-f1c0f5f5ae92",
   "metadata": {},
   "outputs": [
    {
     "name": "stdout",
     "output_type": "stream",
     "text": [
      "dict_keys(['data', 'target', 'frame', 'target_names', 'DESCR', 'feature_names', 'filename', 'data_module'])\n",
      "150\n",
      "['setosa' 'versicolor' 'virginica']\n",
      "['sepal length (cm)', 'sepal width (cm)', 'petal length (cm)', 'petal width (cm)']\n"
     ]
    }
   ],
   "source": [
    "print(iris.keys())\n",
    "print(len(iris.data))\n",
    "print(iris.target_names)\n",
    "print(iris.feature_names)\n",
    "matrice=np.array(iris.data)"
   ]
  },
  {
   "cell_type": "markdown",
   "id": "d2ee6913",
   "metadata": {},
   "source": [
    "Q2. Afficher l'ensemble des données suivant leurs caractéristiques suivant deux axes que vous choisirez parmi les 4 caractéristiques. "
   ]
  },
  {
   "cell_type": "code",
   "execution_count": 61,
   "id": "6e5b3c32-f9f1-468d-b64d-c74adf029167",
   "metadata": {},
   "outputs": [
    {
     "data": {
      "text/plain": [
       "<matplotlib.collections.PathCollection at 0x11baed290>"
      ]
     },
     "execution_count": 61,
     "metadata": {},
     "output_type": "execute_result"
    },
    {
     "data": {
      "image/png": "[encoded data removed]",
      "text/plain": [
       "<Figure size 640x480 with 1 Axes>"
      ]
     },
     "metadata": {},
     "output_type": "display_data"
    }
   ],
   "source": [
    "plt.scatter(matrice[0],matrice[2])"
   ]
  },
  {
   "cell_type": "markdown",
   "id": "ef05aa07",
   "metadata": {},
   "source": [
    "Q3. On va maintenant chercher à calculer une matrice de similarité sur l'ensemble des données du dataset iris. Calculer la distance entre chacune des données deux à deux. Vous retournerez une matrice de similarité que vous afficherez (fonction ```imshow()```). Tester plusieurs mesures de distance et observez les modifications sur la matrice de similarité."
   ]
  },
  {
   "cell_type": "code",
   "execution_count": 64,
   "id": "b0131da4-4e68-4970-8dcb-1cb4ca087a30",
   "metadata": {},
   "outputs": [
    {
     "ename": "SyntaxError",
     "evalue": "incomplete input (889826472.py, line 2)",
     "output_type": "error",
     "traceback": [
      "\u001b[0;36m  Cell \u001b[0;32mIn[64], line 2\u001b[0;36m\u001b[0m\n\u001b[0;31m    \u001b[0m\n\u001b[0m    ^\u001b[0m\n\u001b[0;31mSyntaxError\u001b[0m\u001b[0;31m:\u001b[0m incomplete input\n"
     ]
    }
   ],
   "source": [
    "def similarite(data,fonction):\n",
    "    "
   ]
  },
  {
   "cell_type": "code",
   "execution_count": 65,
   "id": "685c4193",
   "metadata": {},
   "outputs": [
    {
     "ename": "NameError",
     "evalue": "name 'similarite' is not defined",
     "output_type": "error",
     "traceback": [
      "\u001b[0;31m---------------------------------------------------------------------------\u001b[0m",
      "\u001b[0;31mNameError\u001b[0m                                 Traceback (most recent call last)",
      "Cell \u001b[0;32mIn[65], line 1\u001b[0m\n\u001b[0;32m----> 1\u001b[0m S \u001b[38;5;241m=\u001b[39m \u001b[43msimilarite\u001b[49m(iris[\u001b[38;5;124m'\u001b[39m\u001b[38;5;124mdata\u001b[39m\u001b[38;5;124m'\u001b[39m], euclidienne)\n\u001b[1;32m      2\u001b[0m plt\u001b[38;5;241m.\u001b[39mimshow(S)\n\u001b[1;32m      3\u001b[0m plt\u001b[38;5;241m.\u001b[39mshow()\n",
      "\u001b[0;31mNameError\u001b[0m: name 'similarite' is not defined"
     ]
    }
   ],
   "source": [
    "S = similarite(iris['data'], euclidienne)\n",
    "plt.imshow(S)\n",
    "plt.show()"
   ]
  },
  {
   "cell_type": "markdown",
   "id": "f4117895",
   "metadata": {},
   "source": [
    "## Partie 3. Identifier un locuteur à partir d'une similarité\n",
    "La tâche d'identification du locuteur consiste à apprendre des modèles de locuteurs connus suivant leur identifiant, et ensuite associer l'enregistrement d'un locuteur inconnu avec un des identifiants.\n",
    "Pour cela, les techniques récentes utilisent des représentations de locuteurs apprises sur de grandes quantités de données appelées *speaker embeddings*. Ces représentations sont des vecteurs de grande dimension qui capturent l'identité vocale des locuteurs.\n",
    "\n",
    "Les locuteurs apparaissent plusieurs fois dans le corpus, on a plusieurs extraits audio (segments de parole) où un même locuteur apparait.\n",
    "\n",
    "A partir d'un signal de parole correspondant à un locuteur connu, on extrait un vecteur d'*embeddings*. Ces locuteurs feront partie de l'enrollement. On obtient alors une modélisation acoustique pour chaque locuteur de notre partition d'enrollement.\n",
    "\n",
    "En phase de test, on récupère un extrait de signal de parole correspondant à un unique locuteur que l'on ne connait pas. On extrait à partir de ce signal le vecteur d'*embeddings* associé et on va chercher l'identifiant correspondant au vecteur d'*embeddings* du locuteur de l'enrollement le plus similaire. On calculera un taux d'erreur suivant la distance utilisée à partir des identifiants des locuteurs inconnus présent dans la partition de test."
   ]
  },
  {
   "cell_type": "code",
   "execution_count": 39,
   "id": "84838022",
   "metadata": {},
   "outputs": [],
   "source": [
    "enroll_ids = np.load(\"TP_distance/enroll_ids.npy\")#identifiants des locuteurs connus\n",
    "enroll_xv = np.load(\"TP_distance/enroll_xv.npy\")  #vecteurs d'embeddings des loc connus\n",
    "\n",
    "test_ids = np.load(\"TP_distance/test_ids.npy\")    #identifiants des locuteurs inconnus => pour vérifier\n",
    "test_xv = np.load(\"TP_distance/test_xv.npy\")      #vecteurs d'embeddings des loc inconnus"
   ]
  },
  {
   "cell_type": "markdown",
   "id": "864ac901",
   "metadata": {},
   "source": [
    "### 3.1. Calculer les scores avec une similarité cosine\n",
    "\n",
    "Q1. Calculer la similarité entre chaque locuteur connu de la partition d'enrollement et chaque locuteur inconnu de la partition de test.\n",
    "\n",
    "Séparer les cas où les identifiants des locuteurs connus et inconnus sont les mêmes ou différents. Stocker les scores dans deux variables différentes et vérifier que la moyenne des scores entre deux locuteurs différents est plus petite (moins similaire) que celle obtenue entre deux locuteurs identiques (très similaire)."
   ]
  },
  {
   "cell_type": "markdown",
   "id": "45093bd2",
   "metadata": {},
   "source": [
    "### 3.2. Calculer un taux d'erreur\n",
    "\n",
    "Q2. Pour un locuteur inconnu de la partition de test, on cherchera l'identifiant du locuteur de la partition d'enrollement qui a le plus grand score de similarité. On considère alors que cet identifiant correspond au locuteur prédit. \n",
    "\n",
    "En comparant l'identifiant du locuteur prédit avec celui du locuteur de référence, on peut évaluer les performances de notre approche en calculant un taux d'erreur (nombre de bonnes réponses / nombre de locuteurs inconnus)."
   ]
  },
  {
   "cell_type": "markdown",
   "id": "d6364e23",
   "metadata": {},
   "source": [
    "Q3. Le modèle qui a permis d'apprendre les *embeddings* a été entraîné avec une similarité cosinus. Est-ce que cette mesure de similarité est bien celle qui donne le meilleur taux de reconnaissance ?"
   ]
  }
 ],
 "metadata": {
  "kernelspec": {
   "display_name": "Python 3 (ipykernel)",
   "language": "python",
   "name": "python3"
  },
  "language_info": {
   "codemirror_mode": {
    "name": "ipython",
    "version": 3
   },
   "file_extension": ".py",
   "mimetype": "text/x-python",
   "name": "python",
   "nbconvert_exporter": "python",
   "pygments_lexer": "ipython3",
   "version": "3.11.4"
  }
 },
 "nbformat": 4,
 "nbformat_minor": 5
}
