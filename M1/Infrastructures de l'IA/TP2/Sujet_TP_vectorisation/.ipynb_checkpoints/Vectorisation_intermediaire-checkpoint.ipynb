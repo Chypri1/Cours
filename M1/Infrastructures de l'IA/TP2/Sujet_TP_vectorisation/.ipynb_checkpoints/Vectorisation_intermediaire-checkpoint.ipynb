{
 "cells": [
  {
   "cell_type": "markdown",
   "id": "celtic-whale",
   "metadata": {},
   "source": [
    "<img src='https://upload.wikimedia.org/wikipedia/fr/thumb/e/ed/Logo_Universit%C3%A9_du_Maine.svg/1280px-Logo_Universit%C3%A9_du_Maine.svg.png' width=\"300\" height=\"500\">\n",
    "<br>\n",
    "<div style=\"border: solid 3px #000;\">\n",
    "    <h1 style=\"text-align: center; color:#000; font-family:Georgia; font-size:26px;\">Infrastructures pour l'IA</h1>\n",
    "    <p style='text-align: center;'>Master Informatique 1</p>\n",
    "    <p style='text-align: center;'>Anhony Larcher</p>\n",
    "</div>\n",
    "\n",
    "Cette session est organisée comme un challenge:\n",
    "* Vous optimiserez un code afin d'effectuer un calcul le plus rapidement possible\n",
    "* le résultat sera utilisée dans le TP numéro 6 pour faire du calcul parallélisé.\n"
   ]
  },
  {
   "cell_type": "markdown",
   "id": "264f937f-8bd2-40e8-8ed5-1d35c51837b6",
   "metadata": {},
   "source": [
    "# Implémenter le calcul suivant et optimisez le au mieux"
   ]
  },
  {
   "cell_type": "markdown",
   "id": "2170d483",
   "metadata": {},
   "source": [
    "Il s'agit d'accumuler les statistiques d'ordre 0 et d'ordre 1 sur un mélange de Gaussiennes. Vous trouverez sur Umtice une archive zip contenant un objet Mixture et des paramètres acoustiques de type MFCC."
   ]
  },
  {
   "cell_type": "markdown",
   "id": "38b3f254-3206-4924-985d-7ad095b801e7",
   "metadata": {},
   "source": [
    "Chaque distribution de la mixture a pour densité de probabilité:"
   ]
  },
  {
   "cell_type": "markdown",
   "id": "5446f09b-e1b0-48cf-be6f-c6ab532bd8ac",
   "metadata": {},
   "source": [
    "Et la densité de probabilité du mélange de Gaussienne est \n",
    "$$p(x|\\lambda) = \\Sigma_{i=1}^{M}w_ip_i(x)$$\n",
    "\n",
    "où $$\\Sigma_{i=1}^{M}w_i = 1$$\n",
    "\n",
    "et \n",
    "\n",
    "$$p_i(x) = \\frac{1}{(2\\pi)^{\\frac{D}{2}}|\\Sigma_i|^\\frac{1}{2}} e^{-(\\frac{1}{2}(x - \\mu)^T\\Sigma_i^{-1}(x-\\mu))}$$"
   ]
  },
  {
   "cell_type": "markdown",
   "id": "strong-weather",
   "metadata": {},
   "source": [
    "Nous souhaiton ici calculer pour chaque trame $x_t$\n",
    "\n",
    "$$P(i|x_t) = \\frac{w_ip_i(x_t)}{\\Sigma_{j=1}^M w_j p_j(x(t))}$$\n",
    "\n",
    "Pour ensuite calculer les statistiques d'ordre 0 pour chaque gaussienne $i$:\n",
    "\n",
    "$$n_i = \\Sigma_{t=1}^{T}P(i|x_t)$$\n",
    "\n",
    "Les statistiques d'ordre 1:\n",
    "\n",
    "$$E_i(x) = \\frac{1}{n_i} \\Sigma_{t=1}^{T}P(i|x_t)x_t$$\n",
    "\n",
    "Et les statistiques d'ordre 2:\n",
    "\n",
    "$$E_i(x^2) = \\frac{1}{n_i} \\Sigma_{t=1}^{T}P(i|x_t)x_t^2$$"
   ]
  },
  {
   "cell_type": "markdown",
   "id": "8e03927e-a2e2-435b-afed-195b98682349",
   "metadata": {},
   "source": [
    "Les données sont disponibles ici:\n",
    "\n",
    "    https://umbox.univ-lemans.fr/index.php/s/CiP47cfw8NBMM5J"
   ]
  },
  {
   "cell_type": "markdown",
   "id": "094eb943",
   "metadata": {},
   "source": [
    "## 1.1) Initialisez l'accumulateur de statistiques\n",
    "\n",
    "Le fichier ``mixture.py``contient le code d'une classe Mixtuyre qui sera utilisé dans ce TP. Ce code se trouve également dans la cellule ci-dessous pour travailler dans le notebook. Une fois la cellule ci-dessous complétée vous pourrez recopier le code dans le fichier ``mixture.py``afin d'avoir une version propre du code."
   ]
  },
  {
   "cell_type": "code",
   "execution_count": 1,
   "id": "4099388c",
   "metadata": {},
   "outputs": [],
   "source": [
    "import numpy\n",
    "import pickle\n",
    "\n",
    "\n",
    "class Mixture(object):\n",
    "\n",
    "    def __init__(self):\n",
    "        \"\"\"\n",
    "        Initialize an empty Mixture object\n",
    "        \"\"\"\n",
    "        self.w = numpy.array([])\n",
    "        self.mu = numpy.array([])\n",
    "        self.invcov = numpy.array([])\n",
    "        self.cst = numpy.array([])\n",
    "        self.det = numpy.array([])\n",
    "\n",
    "    def __repr__(self):\n",
    "        \"\"\"\n",
    "        Serialize a Mixture object to text\n",
    "        \"\"\"\n",
    "        return f'w = {self.w}\\nmu =  {selmf.mu}\\ninvcov = {self.invcov}, cst = {self.cst}\\ndet = {self.det}'\n",
    "\n",
    "    @classmethod\n",
    "    def read(cls, filename):\n",
    "        \"\"\"\n",
    "        Read a Mixture object stored in Pickle format on disk\n",
    "        :param filename: the name of the file to read from\n",
    "        :return: a Mixture object\n",
    "        \"\"\"\n",
    "        with open(filename, 'rb') as fh:\n",
    "            mixture = pickle.load(fh)\n",
    "            return mixture\n",
    "\n",
    "    def save(self, filename):\n",
    "        \"\"\"\n",
    "        Save a Mixture object to disk in Pickle format\n",
    "        :param filename: the name of the file to write to\n",
    "        \"\"\"\n",
    "        with open(filename, 'wb') as fh:\n",
    "            pickle.dump(self, fh)\n",
    "\n",
    "def compute_lpp_1(self, cep, mu=None):\n",
    "    \"\"\" Compute log posterior probabilities for a set of feature frames.\n",
    "\n",
    "    :param cep: a set of feature frames in a ndarray, one feature per row\n",
    "    :param mu: a mean super-vector to replace the ubm's one. If it is an empty \n",
    "          vector, use the UBM, dimension is: \n",
    "\n",
    "    :return: A ndarray of log-posterior probabilities corresponding to the \n",
    "          input feature set.\n",
    "    \"\"\"\n",
    "    # Get the dimension of the feature vector from the cep input\n",
    "    self.dim = self.mu.shape[1]\n",
    "    \n",
    "    # Compute the value of the determinant from the covariance matrix\n",
    "    self.det=numpy.zeros(64)\n",
    "    for ii in range(self.dim):\n",
    "        self.det[ii] = 1.0 / numpy.prod(self.invcov[ii, :])\n",
    "    \n",
    "    # for each Guassian distribution, compute the term that is invariant\n",
    "    self.det=numpy.zeros(64)\n",
    "    for ii in range(self.dim):\n",
    "        self.cst[ii] = 1.0 / (numpy.sqrt(self.det[ii]) * (2.0 * numpy.pi) ** (self.dim / 2.0))\n",
    "        \n",
    "    \n",
    "    # For each feature, compute the data independent term\n",
    "    for ii in range(self.dim):\n",
    "        A[ii] = (numpy.square(self.mu[ii, :]) * self.invcov[ii, :]).sum() - 2.0 * (numpy.log(self.w[ii]) + numpy.log(self.cst[ii]))\n",
    "    \n",
    "    # Compute the data dependent term\n",
    "    # numpy.square(cep) est de dimension Nx39\n",
    "    # numpy.dot(numpy.square(cep), self.invcov.T) est de dimension Nx39 multiplié par 39x64 -> dimension Nx64\n",
    "    # mu.reshape(self.mu.shape) * self.invcov) est de dimension 64x39 \n",
    "    # numpy.transpose(mu.reshape(self.mu.shape) * self.invcov) est de dimension 39x64\n",
    "    # numpy.dot(cep, numpy.transpose(mu.reshape(self.mu.shape) * self.invcov)) est de dimension Nx39 multiplié par 39x64 -> Nx64\n",
    "    # B est de dimension Nx64\n",
    "\n",
    "\n",
    "    B = numpy.zeros((cep.shape[0],64))\n",
    "    # for each feature and each distribution\n",
    "    for tt in range(cep.shape[0]):\n",
    "        for ii in range(self.dim):\n",
    "            B[tt, ii] = numpy.dot(numpy.square(cep[tt, :]), self.invcov[ii, :].T) - 2.0 * numpy.dot(cep[tt, :], numpy.transpose(mu[tt, :].reshape(self.dim) * self.invcov[ii, :]))\n",
    "                        # numpy.square(cep[tt, :]) * self.invcov[ii, :].T\n",
    "\n",
    "    # Compute the exponential term\n",
    "    lp = -0.5 * (B + A)\n",
    "    \"\"\"\n",
    "    for tt in range(cep.shape[0]):\n",
    "       for ii in range(self.dim):\n",
    "           pass\n",
    "    \"\"\"\n",
    "    return lp\n",
    "        \n",
    "            "
   ]
  },
  {
   "cell_type": "markdown",
   "id": "83e53141",
   "metadata": {},
   "source": [
    "## Analyse des formules\n",
    "\n",
    "On remarque d'abord que certains éléments dépendent des données, et plus particulièrement de chaque vecteur de donnée, mais également de chaque distribution de la mixture.\n",
    "\n",
    "Nous verrons donc apparaitre 2 boucles principales:\n",
    "* une sur les données\n",
    "* une sur les distributions\n",
    "\n",
    "Pour simplifier le calcul nous devons donc séparer ce qui est indépendant de ces boucles afin de ne pas le recalculer plusieurs fois.\n",
    "\n",
    "Ré-écrivez $$p_i(x)$$ en séparant ces termes.\n",
    "\n",
    "$$p_i(x) = \\frac{1}{(2\\pi)^{\\frac{D}{2}}|\\Sigma_i|^\\frac{1}{2}} e^{-(\\frac{1}{2}(x - \\mu_i)^T\\Sigma_i^{-1}(x-\\mu_i))}$$\n",
    "\n",
    "On trouve d'abord un terme qui dépend de chaque mixture: leur déterminant"
   ]
  },
  {
   "cell_type": "code",
   "execution_count": 2,
   "id": "f17f0d28",
   "metadata": {},
   "outputs": [],
   "source": [
    "# Il faut donc calculer ce déterminant une seule fois:\n",
    "# Le déterminant d'une matrice diagonale est le produit de ses termes diagonaux.\n",
    "# Les covariances inverses étant stockées par ligne dans self.invcov nous calculons\n",
    "\n"
   ]
  },
  {
   "cell_type": "markdown",
   "id": "a673e834",
   "metadata": {},
   "source": [
    "Nous pouvons maintenant calculer le premier terme pour chaque distribution:\n",
    "    \n",
    "$$ \\frac{1}{(2\\pi)^{\\frac{D}{2}}|\\Sigma_i|^\\frac{1}{2}} $$ "
   ]
  },
  {
   "cell_type": "code",
   "execution_count": 3,
   "id": "99a3e19e",
   "metadata": {},
   "outputs": [],
   "source": [
    "# Pour chaque distribution, le terme invariant est:\n",
    "\n",
    "\n"
   ]
  },
  {
   "cell_type": "markdown",
   "id": "a6c145a9",
   "metadata": {},
   "source": [
    "Regardons maintenant le terme contenu dans l'exponentielle:\n",
    "\n",
    "$$ -(\\frac{1}{2}(x - \\mu_i)^T\\Sigma_i^{-1}(x-\\mu_i)) $$ \n",
    "\n",
    "Tout ce terme dépend des distributions, une partie seulement dépend des données.\n",
    "\n",
    "$$ -(\\frac{1}{2}(x - \\mu_i)^T\\Sigma_i^{-1}(x-\\mu_i)) = -\\frac{1}{2} ( x^T\\Sigma_i^{-1}x + \\mu_i^T\\Sigma_i^{-1}\\mu_i - x^T\\Sigma_i^{-1}\\mu_i - \\mu_i^T\\Sigma_i^{-1}x ) $$ \n",
    "\n",
    "Calculez chacun de ces termes:"
   ]
  },
  {
   "cell_type": "markdown",
   "id": "528cade4",
   "metadata": {},
   "source": [
    "Analyse du terme independant des données:\n",
    "\n",
    "$$ \\mu_i^T\\Sigma_i^{-1}\\mu_i $$\n",
    "\n",
    "$$ \\mu_i^T$$ est de dimension (1, 39) $$\\Sigma_i$$ est de dimension (39, 39)\n",
    "\n",
    "Donc $$ \\mu_i^T\\Sigma_i^{-1}\\mu_i $$ est de dimension (1,)"
   ]
  },
  {
   "cell_type": "code",
   "execution_count": null,
   "id": "9756cb23",
   "metadata": {},
   "outputs": [],
   "source": [
    "# En pratique, comme la matruice de covariance est diagonale, nous n'avons pas besoin de calculer un vrai produit matriciel\n",
    "# Écrivez la valeur du premier terme de \\mu_i \\Sigma^{-1}_i et tirez partie de cette expression pour simplifier\n",
    "# le calcul de ce terme\n",
    "\n",
    "# self.mu est de dimension 64x39\n",
    "# self.invcov est de dimension 64x39\n",
    "# numpy.square(self.mu) * self.invcov) est de dimension 64x39\n",
    "# numpy.square(self.mu) * self.invcov).sum(1) est de dimension 64 \n",
    "# A est de dimension 64\n",
    "\n"
   ]
  },
  {
   "cell_type": "markdown",
   "id": "a738780d-c5ce-4136-a2e3-9a9911029daa",
   "metadata": {},
   "source": [
    "## 1.2) Écrivez une fonction compute_lpp \n",
    "\n",
    "Cette méthode de la class **Mixture** va calculer les log posterior probabilités $$\\log{p_i(x)}$$ d'un ensemble de vecteurs sur ce mélange de Gaussienne à matrices de covariances diagonales\n",
    "\n",
    "Pour acumuler les statistiques, vous allez créer un objet mixture que vous appelerez **accum**.\n",
    "\n",
    "* Cette méthode prend en paramètres une matrice de coefficients cepstraux de dimension N x F où N est le nombre de vecteurs (variable selon les fichiers) et F est la dimension des vecteurs (39 dans notre cas)\n",
    "* En premier lieu, pensez à extraire des boucles tous les termes qui ne dépendent pas des données\n",
    "* Cette méthode renvoie les $$n_i$$ (donc un vecteur)"
   ]
  },
  {
   "cell_type": "code",
   "execution_count": 2,
   "id": "73558128-8817-4016-aa2d-f8559ad436ba",
   "metadata": {},
   "outputs": [
    {
     "data": {
      "text/plain": [
       "(338, 39)"
      ]
     },
     "execution_count": 2,
     "metadata": {},
     "output_type": "execute_result"
    }
   ],
   "source": [
    "import numpy\n",
    "X = numpy.load(\"features_1.npy\")\n",
    "X.shape"
   ]
  },
  {
   "cell_type": "markdown",
   "id": "4f61a954-76a6-4ecf-b6b1-61ee35c4d235",
   "metadata": {},
   "source": [
    "## 1.3) Utilisez la fonction **sum_log_probabilities**\n",
    "* Que fait cette fonction qui vous est donnée?\n",
    "* Pourquoi l'utilise-t'on?"
   ]
  },
  {
   "cell_type": "code",
   "execution_count": 2,
   "id": "9b29bd63-76a6-4290-81b2-f6ae7f73693f",
   "metadata": {},
   "outputs": [],
   "source": [
    "def sum_log_probabilities(lp):\n",
    "    \"\"\"Sum log probabilities in a secure manner to avoid extreme values\n",
    "\n",
    "    :param lp: numpy array of log-probabilities to sum\n",
    "    \"\"\"\n",
    "    pp_max = numpy.max(lp, axis=1)\n",
    "    log_lk = pp_max + numpy.log(numpy.sum(numpy.exp((lp.transpose() - pp_max).T), axis=1))\n",
    "    ind = ~numpy.isfinite(pp_max)\n",
    "    if sum(ind) != 0:\n",
    "        log_lk[ind] = pp_max[ind]\n",
    "    pp = numpy.exp((lp.transpose() - log_lk).transpose())\n",
    "    llk = log_lk.sum()\n",
    "    return pp, llk"
   ]
  },
  {
   "cell_type": "markdown",
   "id": "bde1ee10-f7d7-4be1-9e0a-762be74bb52d",
   "metadata": {},
   "source": [
    "## 1.4) Bouclez sur les fichiers de paramètres pour accumuler les statistiques"
   ]
  },
  {
   "cell_type": "code",
   "execution_count": null,
   "id": "d0c44723-f60f-4371-b18d-6f2d4c98dbcc",
   "metadata": {},
   "outputs": [],
   "source": []
  }
 ],
 "metadata": {
  "kernelspec": {
   "display_name": "Python 3 (ipykernel)",
   "language": "python",
   "name": "python3"
  },
  "language_info": {
   "codemirror_mode": {
    "name": "ipython",
    "version": 3
   },
   "file_extension": ".py",
   "mimetype": "text/x-python",
   "name": "python",
   "nbconvert_exporter": "python",
   "pygments_lexer": "ipython3",
   "version": "3.11.4"
  }
 },
 "nbformat": 4,
 "nbformat_minor": 5
}
