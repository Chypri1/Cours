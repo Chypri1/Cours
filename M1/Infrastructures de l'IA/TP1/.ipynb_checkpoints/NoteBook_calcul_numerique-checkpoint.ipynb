{
 "cells": [
  {
   "cell_type": "markdown",
   "id": "celtic-whale",
   "metadata": {},
   "source": [
    "<img src='https://upload.wikimedia.org/wikipedia/fr/thumb/e/ed/Logo_Universit%C3%A9_du_Maine.svg/1280px-Logo_Universit%C3%A9_du_Maine.svg.png' width=\"300\" height=\"500\">\n",
    "<br>\n",
    "<div style=\"border: solid 3px #000;\">\n",
    "    <h1 style=\"text-align: center; color:#000; font-family:Georgia; font-size:26px;\">Mathématiques pour l'IA</h1>\n",
    "    <p style='text-align: center;'>Master Informatique 1</p>\n",
    "    <p style='text-align: center;'>Anhony Larcher</p>\n",
    "</div>\n",
    "\n",
    "Ce premier tutoriel est organisé en deux parties:\n",
    "* un guide pour l'environnement [**Jupyter-Notebook**](https://jupyter.org/documentation).\n",
    "* un guide pour le calcul matriciel en python\n",
    "\n",
    "# Introduction à Python et Jupyter-Notebook\n",
    "\n",
    "Un notebook est un environnement d'exécution interactif dans lequel le code peut etre executé, on peut aussi faire de l'affichage, de la visualisation graphique.\n",
    "\n",
    "Dans un notebook Jupyter, il est possible:\n",
    "* d'ajouter des cellules (ajoutez en une en dessous de celle-ci)\n",
    "* de créer des cellules de différentes nature (texte, code, texte formaté: markdown)\n",
    "* de diviser une cellule en deux (après avoir tapé deux lignes dans votre nouvelle cellule, divisez la en deux)\n",
    "* de supprimer des cellules (supprimez celle que vous venez d'ajouter)\n",
    "* de redémarrer l'interpreteur python pour ré-initialiser l'environnement.\n"
   ]
  },
  {
   "cell_type": "code",
   "execution_count": 1,
   "id": "33d82abd-beef-4743-a6da-a2cc610abb6c",
   "metadata": {},
   "outputs": [],
   "source": [
    "!touch 'test.py'"
   ]
  },
  {
   "cell_type": "code",
   "execution_count": 2,
   "id": "reflected-sensitivity",
   "metadata": {},
   "outputs": [
    {
     "name": "stdout",
     "output_type": "stream",
     "text": [
      "Le resulat est : 1\n"
     ]
    }
   ],
   "source": [
    "\"\"\"\n",
    "Placez le fichier test.py dans le même répertoire que ce notebook.\n",
    "Vous pouvez importer ce module et utiliser la function \"operation\" comme suit:\n",
    "\"\"\"\n",
    "\n",
    "import test\n",
    "print(f\"Le resulat est : {test.operation(4,3)}\")"
   ]
  },
  {
   "cell_type": "markdown",
   "id": "2170d483",
   "metadata": {},
   "source": [
    "Modifiez maintenant le code de cette fonction pour avoir:\n",
    "```\n",
    "def operation(a, b):\n",
    "\treturn a - b\n",
    "```\n",
    "Ré-exécutez la cellule précédente. Qu'observez-vous?"
   ]
  },
  {
   "cell_type": "markdown",
   "id": "aadd2545-b725-4239-82e3-e0c4dda5fb21",
   "metadata": {},
   "source": [
    "Réponse : Le kernel ne se recharge pas à chaque execution."
   ]
  },
  {
   "cell_type": "markdown",
   "id": "boxed-albert",
   "metadata": {},
   "source": [
    "Dans un **notebook** re-executer une cellule avec un import ne re-importe pas les modules.\n",
    "\n",
    "Deux options:\n",
    "* redémarrer le kernel (arrêter python et redémarrer)\n",
    "* utiliser le module **autoreload** comme ci-dessous\n",
    "\n",
    "puis re-executez la cellule du début."
   ]
  },
  {
   "cell_type": "code",
   "execution_count": 3,
   "id": "starting-story",
   "metadata": {},
   "outputs": [],
   "source": [
    "%load_ext autoreload\n",
    "%autoreload 2"
   ]
  },
  {
   "cell_type": "markdown",
   "id": "strong-weather",
   "metadata": {},
   "source": [
    "Il est possible d'excuter des commandes **shell** directement depuis vore notebook en utilisant le préfixe **!**.\n",
    "\n",
    "Vous pouvez donc combiner du code **shell** et python pour par exemple créer un répertoire, écrire dans un fichier,\n",
    "l'afficher puis le supprimer."
   ]
  },
  {
   "cell_type": "code",
   "execution_count": 11,
   "id": "ruled-assist",
   "metadata": {},
   "outputs": [
    {
     "name": "stdout",
     "output_type": "stream",
     "text": [
      "mkdir: figures: File exists\n"
     ]
    },
    {
     "ename": "IndexError",
     "evalue": "list index out of range",
     "output_type": "error",
     "traceback": [
      "\u001b[0;31m---------------------------------------------------------------------------\u001b[0m",
      "\u001b[0;31mIndexError\u001b[0m                                Traceback (most recent call last)",
      "Cell \u001b[0;32mIn[11], line 14\u001b[0m\n\u001b[1;32m     11\u001b[0m \u001b[38;5;28;01mwith\u001b[39;00m \u001b[38;5;28mopen\u001b[39m(\u001b[38;5;124m\"\u001b[39m\u001b[38;5;124mtoto/my_file.txt\u001b[39m\u001b[38;5;124m\"\u001b[39m, \u001b[38;5;124m\"\u001b[39m\u001b[38;5;124mr\u001b[39m\u001b[38;5;124m\"\u001b[39m) \u001b[38;5;28;01mas\u001b[39;00m fh:\n\u001b[1;32m     12\u001b[0m     text \u001b[38;5;241m=\u001b[39m fh\u001b[38;5;241m.\u001b[39mreadlines()\n\u001b[0;32m---> 14\u001b[0m \u001b[38;5;28mprint\u001b[39m(\u001b[43mtext\u001b[49m\u001b[43m[\u001b[49m\u001b[38;5;241;43m1\u001b[39;49m\u001b[43m]\u001b[49m)\n",
      "\u001b[0;31mIndexError\u001b[0m: list index out of range"
     ]
    }
   ],
   "source": [
    "# Crée un répertoire toto et un repertoire figures\n",
    "!mkdir toto\n",
    "!mkdir figures\n",
    "\n",
    "# Crée un fichier texte et écrit dedans\n",
    "with open(\"toto/my_file.txt\", \"w\") as fh:\n",
    "    fh.write(\"J'écris dans mon fichier texte\")\n",
    "    fh.write(\"J'écris  avec mon clavier\")\n",
    "\n",
    "# Affiche le contenu du fichier texte ainsi créé\n",
    "with open(\"toto/my_file.txt\", \"r\") as fh:\n",
    "    text = fh.readlines()\n",
    "\n",
    "print(text[1])"
   ]
  },
  {
   "cell_type": "markdown",
   "id": "conservative-property",
   "metadata": {},
   "source": [
    "Maintenant supprimez le fichier créé et le répertoire toto en utilisant des commandes SHELL"
   ]
  },
  {
   "cell_type": "code",
   "execution_count": 12,
   "id": "numeric-married",
   "metadata": {},
   "outputs": [],
   "source": [
    "# Solution \n",
    "!rm toto/my_file.txt\n",
    "!rmdir toto"
   ]
  },
  {
   "cell_type": "markdown",
   "id": "be3cc9f2",
   "metadata": {},
   "source": [
    "On peut donc installer des packages python directement depuis un notebook\n",
    "Il est cependant déconseillé d'utiliser directement \n",
    "```\n",
    "!conda install --yes numpy\n",
    "!pip install matplotlib\n",
    "```\n",
    "préférez la méthode suivante:\n"
   ]
  },
  {
   "cell_type": "code",
   "execution_count": 13,
   "id": "convenient-shade",
   "metadata": {},
   "outputs": [
    {
     "name": "stdout",
     "output_type": "stream",
     "text": [
      "Collecting package metadata (current_repodata.json): done\n",
      "Solving environment: done\n",
      "\n",
      "# All requested packages already installed.\n",
      "\n",
      "Collecting matplotlib\n",
      "  Downloading matplotlib-3.7.3-cp311-cp311-macosx_10_12_x86_64.whl (7.4 MB)\n",
      "\u001b[2K     \u001b[90m━━━━━━━━━━━━━━━━━━━━━━━━━━━━━━━━━━━━━━━━\u001b[0m \u001b[32m7.4/7.4 MB\u001b[0m \u001b[31m7.0 MB/s\u001b[0m eta \u001b[36m0:00:00\u001b[0m00:01\u001b[0m00:01\u001b[0m\n",
      "\u001b[?25hCollecting contourpy>=1.0.1 (from matplotlib)\n",
      "  Downloading contourpy-1.1.0-cp311-cp311-macosx_10_9_x86_64.whl (243 kB)\n",
      "\u001b[2K     \u001b[90m━━━━━━━━━━━━━━━━━━━━━━━━━━━━━━━━━━━━━━━\u001b[0m \u001b[32m243.5/243.5 kB\u001b[0m \u001b[31m5.4 MB/s\u001b[0m eta \u001b[36m0:00:00\u001b[0ma \u001b[36m0:00:01\u001b[0m\n",
      "\u001b[?25hCollecting cycler>=0.10 (from matplotlib)\n",
      "  Using cached cycler-0.11.0-py3-none-any.whl (6.4 kB)\n",
      "Collecting fonttools>=4.22.0 (from matplotlib)\n",
      "  Downloading fonttools-4.42.1-cp311-cp311-macosx_10_9_x86_64.whl (2.2 MB)\n",
      "\u001b[2K     \u001b[90m━━━━━━━━━━━━━━━━━━━━━━━━━━━━━━━━━━━━━━━━\u001b[0m \u001b[32m2.2/2.2 MB\u001b[0m \u001b[31m7.3 MB/s\u001b[0m eta \u001b[36m0:00:00\u001b[0ma \u001b[36m0:00:01\u001b[0m\n",
      "\u001b[?25hCollecting kiwisolver>=1.0.1 (from matplotlib)\n",
      "  Downloading kiwisolver-1.4.5-cp311-cp311-macosx_10_9_x86_64.whl (68 kB)\n",
      "\u001b[2K     \u001b[90m━━━━━━━━━━━━━━━━━━━━━━━━━━━━━━━━━━━━━━━━\u001b[0m \u001b[32m68.2/68.2 kB\u001b[0m \u001b[31m7.1 MB/s\u001b[0m eta \u001b[36m0:00:00\u001b[0m\n",
      "\u001b[?25hRequirement already satisfied: numpy<2,>=1.20 in /Users/apple/miniconda3/lib/python3.11/site-packages (from matplotlib) (1.25.2)\n",
      "Requirement already satisfied: packaging>=20.0 in /Users/apple/miniconda3/lib/python3.11/site-packages (from matplotlib) (23.0)\n",
      "Collecting pillow>=6.2.0 (from matplotlib)\n",
      "  Downloading Pillow-10.0.0-cp311-cp311-macosx_10_10_x86_64.whl (3.4 MB)\n",
      "\u001b[2K     \u001b[90m━━━━━━━━━━━━━━━━━━━━━━━━━━━━━━━━━━━━━━━━\u001b[0m \u001b[32m3.4/3.4 MB\u001b[0m \u001b[31m6.9 MB/s\u001b[0m eta \u001b[36m0:00:00\u001b[0m00:01\u001b[0m00:01\u001b[0m\n",
      "\u001b[?25hCollecting pyparsing>=2.3.1 (from matplotlib)\n",
      "  Downloading pyparsing-3.1.1-py3-none-any.whl (103 kB)\n",
      "\u001b[2K     \u001b[90m━━━━━━━━━━━━━━━━━━━━━━━━━━━━━━━━━━━━━━━\u001b[0m \u001b[32m103.1/103.1 kB\u001b[0m \u001b[31m5.5 MB/s\u001b[0m eta \u001b[36m0:00:00\u001b[0m\n",
      "\u001b[?25hRequirement already satisfied: python-dateutil>=2.7 in /Users/apple/miniconda3/lib/python3.11/site-packages (from matplotlib) (2.8.2)\n",
      "Requirement already satisfied: six>=1.5 in /Users/apple/miniconda3/lib/python3.11/site-packages (from python-dateutil>=2.7->matplotlib) (1.16.0)\n",
      "Installing collected packages: pyparsing, pillow, kiwisolver, fonttools, cycler, contourpy, matplotlib\n",
      "Successfully installed contourpy-1.1.0 cycler-0.11.0 fonttools-4.42.1 kiwisolver-1.4.5 matplotlib-3.7.3 pillow-10.0.0 pyparsing-3.1.1\n"
     ]
    }
   ],
   "source": [
    "#\n",
    "import sys\n",
    "!conda install --yes --prefix {sys.prefix} numpy\n",
    "\n",
    "!python -m pip install matplotlib"
   ]
  },
  {
   "cell_type": "markdown",
   "id": "c92f9176",
   "metadata": {},
   "source": [
    "L'ajout du préfix et l'utilisation de ```python``` assurent que le module est installé pour la bonne version de python et dans le bon environnement."
   ]
  },
  {
   "cell_type": "code",
   "execution_count": 2,
   "id": "directed-chess",
   "metadata": {},
   "outputs": [
    {
     "name": "stdout",
     "output_type": "stream",
     "text": [
      "Numpy est installé dans:\n",
      "/Users/apple/miniconda3/lib/python3.11/site-packages/numpy/__init__.py\n",
      "La version installée est :1.25.2\n"
     ]
    }
   ],
   "source": [
    "# Comment voir où sont installé les modules?\n",
    "import numpy\n",
    "print(\"Numpy est installé dans:\")\n",
    "print(numpy.__file__)\n",
    "print(f\"La version installée est :{numpy.__version__}\")"
   ]
  },
  {
   "cell_type": "markdown",
   "id": "proof-springfield",
   "metadata": {},
   "source": [
    "<div style=\"border: solid 3px #000;\">\n",
    "    <h1 style=\"text-align: center; color:#000; font-family:Georgia; font-size:20px;\">Attention à l'ordre d'execution des cellules (regardez bien le numéro à gauche)</h1>\n",
    "</div>\n",
    "\n",
    "## Graphiques dans Notebook\n",
    "\n",
    "[Matplotlib](https://matplotlib.org/) est la bibliothèque graphique de base en python (par la suite vous pourrez utilser [Seaborn](https://seaborn.pydata.org/))\n",
    "\n",
    "Pour utiliser **matplotlib** directement dans le notebook, plusieurs options sont possible comme par exemple:"
   ]
  },
  {
   "cell_type": "code",
   "execution_count": 19,
   "id": "inclusive-price",
   "metadata": {},
   "outputs": [],
   "source": [
    "%matplotlib inline\n",
    "#`%matplotlib notebook\n",
    "\n",
    "import matplotlib.pyplot as plt"
   ]
  },
  {
   "cell_type": "markdown",
   "id": "sized-asthma",
   "metadata": {},
   "source": [
    "Pour activer le mode interactif dans le notebook:\n",
    "```python\n",
    "%matplotlib notebook \n",
    "```\n",
    "\n",
    "\n",
    "Pour afficher uniquement des images statiques\n",
    "```python\n",
    "%matplotlib inline\n",
    "```\n",
    "\n",
    "Tracez maintenant une figure simple avec **matplotlib**, comparez les différents modes possibles"
   ]
  },
  {
   "cell_type": "code",
   "execution_count": 20,
   "id": "celtic-sunday",
   "metadata": {},
   "outputs": [
    {
     "data": {
      "text/plain": [
       "[<matplotlib.lines.Line2D at 0x10c887510>]"
      ]
     },
     "execution_count": 20,
     "metadata": {},
     "output_type": "execute_result"
    },
    {
     "data": {
      "image/png": "[encoded data removed]",
      "text/plain": [
       "<Figure size 640x480 with 1 Axes>"
      ]
     },
     "metadata": {},
     "output_type": "display_data"
    }
   ],
   "source": [
    "fig = plt.figure()\n",
    "plt.plot(numpy.arange(10))"
   ]
  },
  {
   "cell_type": "markdown",
   "id": "developmental-locking",
   "metadata": {},
   "source": [
    "Sauvez la figure avec:"
   ]
  },
  {
   "cell_type": "code",
   "execution_count": 27,
   "id": "senior-pixel",
   "metadata": {},
   "outputs": [],
   "source": [
    "fig.savefig('figures/my_figure.png')\n",
    "fig.savefig('figures/my_figure.jpeg')"
   ]
  },
  {
   "cell_type": "markdown",
   "id": "967f8f7b",
   "metadata": {},
   "source": [
    "Notez que différents formats de fichiers peuvent être utilisés."
   ]
  },
  {
   "cell_type": "markdown",
   "id": "stuffed-glasgow",
   "metadata": {},
   "source": [
    "# Calcul scientifique avec Numpy\n",
    "\n",
    "[Numpy](https://numpy.org) est la bibliothèque de calcul numérique par défaut pour Python.\n",
    "\n",
    "D'autres modules sont disponibles, les principaux sont:\n",
    "* [Scipy](https://www.scipy.org/) avec une syntaxe plus *mathématiques*\n",
    "* [PyTorch](https://pytorch.org/) dédié au Deep Learning, reprend la plupart des éléments de Numpy et permet d'effectuer les calculs sur CPU ou GPU\n",
    "* [TensorFlow](https://www.tensorflow.org/) projet concurrent de PyTorch, très similaire"
   ]
  },
  {
   "cell_type": "markdown",
   "id": "capital-fortune",
   "metadata": {},
   "source": [
    "**Numpy** permet de simplement et rapidement manipuler des données numériques.\n",
    "\n",
    "## La classe de base: numpy.ndarray\n",
    "\n",
    "La classe de base est le **numpy.ndarray**.\n",
    "\"ndarray\" : n-dimensional array (vecteur multi-dimensionnel) permet de stocker et traiter des données numériques mais également textuelles sous forme de scalaire, vecteur, tenseur à **n** dimensions.\n",
    "\n",
    "Les exemples suivant montre un petit aperçu (vraiment petit) des nombreuses fonctionnalités qu'offre Numpy.\n",
    "\n",
    "**Avant d'implémenter des choses en python, demandez-vous toujours si Numpy ne le fait pas déjà.**"
   ]
  },
  {
   "cell_type": "code",
   "execution_count": 29,
   "id": "material-croatia",
   "metadata": {},
   "outputs": [
    {
     "data": {
      "text/plain": [
       "array([1., 1., 1., 1., 1.])"
      ]
     },
     "execution_count": 29,
     "metadata": {},
     "output_type": "execute_result"
    }
   ],
   "source": [
    "hVec = numpy.ones(5)\n",
    "hVec"
   ]
  },
  {
   "cell_type": "code",
   "execution_count": 52,
   "id": "honest-ireland",
   "metadata": {},
   "outputs": [
    {
     "data": {
      "text/plain": [
       "array([[1.],\n",
       "       [1.],\n",
       "       [1.],\n",
       "       [1.],\n",
       "       [1.]])"
      ]
     },
     "execution_count": 52,
     "metadata": {},
     "output_type": "execute_result"
    }
   ],
   "source": [
    "vVec = numpy.ones((5, 1))\n",
    "vVec"
   ]
  },
  {
   "cell_type": "markdown",
   "id": "fede6f4e",
   "metadata": {},
   "source": [
    "Comme vous l'avez vu en cours, il y a une différence entre vecteur et matrice. \n",
    "C'est encore plus vrai dans ``Numpy``où un vecteur peut être:\n",
    "* à 1 seule dimension\n",
    "* ligne \n",
    "* colonne\n",
    "\n",
    "Ainsi les dimensions de hVec et vVec sont différentes:"
   ]
  },
  {
   "cell_type": "code",
   "execution_count": 36,
   "id": "eight-source",
   "metadata": {},
   "outputs": [
    {
     "name": "stdout",
     "output_type": "stream",
     "text": [
      "Shape of hVec: (5,)\n",
      "Shape of vVec: (5, 1)\n"
     ]
    }
   ],
   "source": [
    "print(f\"Shape of hVec: {hVec.shape}\")\n",
    "print(f\"Shape of vVec: {vVec.shape}\")"
   ]
  },
  {
   "cell_type": "markdown",
   "id": "2104179b",
   "metadata": {},
   "source": [
    "Créez dans la cellule suivante un vecteur ligne, un vecteur colonne et calculer leurs produits vectoriels\n",
    "* ligne multiplié par colonne (produit scalaire)\n",
    "* colonne multiplié par ligne (produit matriciel)"
   ]
  },
  {
   "cell_type": "code",
   "execution_count": 64,
   "id": "b27cc53b",
   "metadata": {},
   "outputs": [
    {
     "name": "stdout",
     "output_type": "stream",
     "text": [
      "Shape of vecCol: (3, 1)\n",
      "[[ 5]\n",
      " [ 3]\n",
      " [-2]]\n",
      "Shape of vecLig: (1, 3)\n",
      "[[-4  2  7]]\n"
     ]
    }
   ],
   "source": [
    "#vecCol\n",
    "vecCol = numpy.array([[5], [3], [-2]])\n",
    "print(f\"Shape of vecCol: {vecCol.shape}\")\n",
    "print(vecCol)\n",
    "\n",
    "#vecLig\n",
    "vecLig = numpy.array([[-4], [2], [7]])\n",
    "vecLig=vecLig.reshape((1,3))\n",
    "print(f\"Shape of vecLig: {vecLig.shape}\")\n",
    "print(vecLig)\n",
    "\n",
    "#Prodit scalaire\n",
    "prodSca=numpy.dot(vecLig,vecCol)\n",
    "\n",
    "\n",
    "#Produit matriciel\n",
    "prodMat=numpy.dot(vecCol,vecLig)\n",
    "\n"
   ]
  },
  {
   "cell_type": "markdown",
   "id": "occupied-samuel",
   "metadata": {},
   "source": [
    "### Initialiser des numpy.array\n",
    "On peut simplement initiliser des numpy.ndarray pour contenir des zéros:"
   ]
  },
  {
   "cell_type": "code",
   "execution_count": 7,
   "id": "derived-metro",
   "metadata": {},
   "outputs": [
    {
     "data": {
      "text/plain": [
       "array([[0., 0., 0.],\n",
       "       [0., 0., 0.],\n",
       "       [0., 0., 0.]])"
      ]
     },
     "execution_count": 7,
     "metadata": {},
     "output_type": "execute_result"
    }
   ],
   "source": [
    "zvec = numpy.zeros((3,3))\n",
    "zvec"
   ]
  },
  {
   "cell_type": "markdown",
   "id": "expanded-russia",
   "metadata": {},
   "source": [
    "Des valeurs aléatoires (avec différentes distributions)."
   ]
  },
  {
   "cell_type": "code",
   "execution_count": 12,
   "id": "naval-editing",
   "metadata": {},
   "outputs": [
    {
     "data": {
      "text/plain": [
       "array([-0.10565751,  1.05312469,  1.03366647,  1.25817891])"
      ]
     },
     "execution_count": 12,
     "metadata": {},
     "output_type": "execute_result"
    }
   ],
   "source": [
    "rvec = numpy.random.randn(4)\n",
    "rvec"
   ]
  },
  {
   "cell_type": "markdown",
   "id": "blond-knock",
   "metadata": {},
   "source": [
    "Une allocation rapide de la mémoire sans modifier les valeurs."
   ]
  },
  {
   "cell_type": "code",
   "execution_count": 13,
   "id": "electrical-enhancement",
   "metadata": {},
   "outputs": [
    {
     "data": {
      "text/plain": [
       "array([[ 99.26727273, 187.12181818, 274.97636364],\n",
       "       [362.83090909, 450.68545455, 222.        ]])"
      ]
     },
     "execution_count": 13,
     "metadata": {},
     "output_type": "execute_result"
    }
   ],
   "source": [
    "evec = numpy.empty((2,3), dtype=numpy.float64)\n",
    "evec"
   ]
  },
  {
   "cell_type": "markdown",
   "id": "80f5e2bb",
   "metadata": {},
   "source": [
    "**Attention**: Numpy défini un type par défaut lorsqu'on crée un *ndarray* sans en spécifier.\n",
    "\n",
    "En utilisant la cellule suivante, trouvez quel est le type utilisé par défaut dans Numpy et affichez le."
   ]
  },
  {
   "cell_type": "code",
   "execution_count": null,
   "id": "88b75686",
   "metadata": {},
   "outputs": [],
   "source": []
  },
  {
   "cell_type": "markdown",
   "id": "aboriginal-cooler",
   "metadata": {},
   "source": [
    "On peut initialiser un ndarray à partir d'une liste **python** unidimensionnelle"
   ]
  },
  {
   "cell_type": "code",
   "execution_count": 14,
   "id": "voluntary-individual",
   "metadata": {},
   "outputs": [
    {
     "data": {
      "text/plain": [
       "array([1, 2, 3])"
      ]
     },
     "execution_count": 14,
     "metadata": {},
     "output_type": "execute_result"
    }
   ],
   "source": [
    "lvec = numpy.array([1, 2, 3])\n",
    "lvec"
   ]
  },
  {
   "cell_type": "markdown",
   "id": "charged-wildlife",
   "metadata": {},
   "source": [
    "multi-dimensionnelle:"
   ]
  },
  {
   "cell_type": "code",
   "execution_count": 15,
   "id": "scenic-password",
   "metadata": {},
   "outputs": [
    {
     "data": {
      "text/plain": [
       "array([[1, 2, 3],\n",
       "       [4, 5, 6]])"
      ]
     },
     "execution_count": 15,
     "metadata": {},
     "output_type": "execute_result"
    }
   ],
   "source": [
    "lvec2d = numpy.array([[1, 2, 3],[4,5,6]])\n",
    "lvec2d"
   ]
  },
  {
   "cell_type": "markdown",
   "id": "5c216552",
   "metadata": {},
   "source": [
    "**Attention** un `numpy.array` doit avoir des lignes, colonnes (dimensions) qui sont toutes de la même taille.\n",
    "\n",
    "Expliquez ce qui se passe dans la cellule suivante."
   ]
  },
  {
   "cell_type": "code",
   "execution_count": 16,
   "id": "6cfb4f9b",
   "metadata": {},
   "outputs": [
    {
     "name": "stderr",
     "output_type": "stream",
     "text": [
      "/Users/larcher/miniconda3/lib/python3.7/site-packages/ipykernel_launcher.py:1: VisibleDeprecationWarning: Creating an ndarray from ragged nested sequences (which is a list-or-tuple of lists-or-tuples-or ndarrays with different lengths or shapes) is deprecated. If you meant to do this, you must specify 'dtype=object' when creating the ndarray.\n",
      "  \"\"\"Entry point for launching an IPython kernel.\n"
     ]
    },
    {
     "data": {
      "text/plain": [
       "array([list([1, 2, 3]), list([4, 5])], dtype=object)"
      ]
     },
     "execution_count": 16,
     "metadata": {},
     "output_type": "execute_result"
    }
   ],
   "source": [
    "lvec2d = numpy.array([[1, 2, 3],[4,5]])\n",
    "lvec2d"
   ]
  },
  {
   "cell_type": "markdown",
   "id": "contemporary-modification",
   "metadata": {},
   "source": [
    "Il est possible de créer des **ndarray** plus complexes:"
   ]
  },
  {
   "cell_type": "code",
   "execution_count": 17,
   "id": "nervous-convert",
   "metadata": {},
   "outputs": [
    {
     "name": "stdout",
     "output_type": "stream",
     "text": [
      "Premier exemple: [3 3 3 3]\n",
      "Deuxième exemple: [1 1 2 2 3 3 4 4]\n"
     ]
    }
   ],
   "source": [
    "print(f\"Premier exemple: {numpy.repeat(3, 4)}\")\n",
    "x = numpy.array([[1,2],[3,4]])\n",
    "print(f\"Deuxième exemple: {numpy.repeat(x, 2)}\")"
   ]
  },
  {
   "cell_type": "markdown",
   "id": "abe98f54",
   "metadata": {},
   "source": [
    "Mais aussi avec la méthode ``numpy.tile(A, reps)``.\n",
    "Testez la dans la cellule suivante"
   ]
  },
  {
   "cell_type": "code",
   "execution_count": null,
   "id": "d2802d36",
   "metadata": {},
   "outputs": [],
   "source": []
  },
  {
   "cell_type": "markdown",
   "id": "mental-bermuda",
   "metadata": {},
   "source": [
    "On peut facilement **typer** les variable à utiliser \n",
    "([type](https://numpy.org/doc/stable/reference/arrays.dtypes.html)):"
   ]
  },
  {
   "cell_type": "code",
   "execution_count": 18,
   "id": "valid-freight",
   "metadata": {},
   "outputs": [
    {
     "data": {
      "text/plain": [
       "array([1, 0])"
      ]
     },
     "execution_count": 18,
     "metadata": {},
     "output_type": "execute_result"
    }
   ],
   "source": [
    "ivec = numpy.random.randint((2,2), dtype=int)\n",
    "ivec"
   ]
  },
  {
   "cell_type": "markdown",
   "id": "sunset-gathering",
   "metadata": {},
   "source": [
    "et vérifier le type des variables:"
   ]
  },
  {
   "cell_type": "code",
   "execution_count": 19,
   "id": "extensive-example",
   "metadata": {},
   "outputs": [
    {
     "data": {
      "text/plain": [
       "dtype('int64')"
      ]
     },
     "execution_count": 19,
     "metadata": {},
     "output_type": "execute_result"
    }
   ],
   "source": [
    "ivec.dtype"
   ]
  },
  {
   "cell_type": "markdown",
   "id": "classified-division",
   "metadata": {},
   "source": [
    "**Attention** par défaut, le type d'un numpy.ndarray est **float64**, ce qui consomme beaucoup de mémoire et n'est pas souvent utile."
   ]
  },
  {
   "cell_type": "markdown",
   "id": "knowing-stereo",
   "metadata": {},
   "source": [
    "### Opérations de base sur les **numpy.ndarray**\n",
    "\n",
    "Les **numpy.ndarray** se manipulent comme des vecteurs, matrices ou tenseurs et un grand nombre de méthodes mathématiques sont déjà implémentées pour calculer :\n",
    "* des moyennes\n",
    "* des écarts types\n",
    "* les max, min\n",
    "* trouver les indices des max, min\n",
    "* calculer la somme des valeurs\n",
    "* calculer la somme culmulée des valeurs\n",
    "\n",
    "La documentation complète de [**Numpy**](https://numpy.org/doc/stable/reference/index.html#reference) est très utile car de nombreuses méthodes sont implémentées.\n",
    "\n",
    "Pour tester quelques fonctions de Numpy nous allons d'abord initialiser un vecteur d'entiers aléatoirement."
   ]
  },
  {
   "cell_type": "code",
   "execution_count": 20,
   "id": "modular-polyester",
   "metadata": {},
   "outputs": [
    {
     "data": {
      "text/plain": [
       "array([8, 3, 4, 3, 9, 0, 5, 8, 4, 8])"
      ]
     },
     "execution_count": 20,
     "metadata": {},
     "output_type": "execute_result"
    }
   ],
   "source": [
    "vec = numpy.random.randint(10, size=10)\n",
    "vec"
   ]
  },
  {
   "cell_type": "markdown",
   "id": "4579db1f",
   "metadata": {},
   "source": [
    "**Attention** à gérer l'initialisation de la [**graine de l'algorithme aléatoire**](https://en.wikipedia.org/wiki/Random_seed) (*seed*).\n",
    "\n",
    "**La génération de nombres aléatoires est déterministe.**\n",
    "\n",
    "Python a une graine, Numpy, une autre, PyTorch une troisième...\n",
    "\n",
    "Ces graines sont particulièrement importantes pourr la reproductibilité (confiance scientifique et debuggage).\n",
    "Exemple:"
   ]
  },
  {
   "cell_type": "code",
   "execution_count": 21,
   "id": "35c15df9",
   "metadata": {},
   "outputs": [
    {
     "name": "stdout",
     "output_type": "stream",
     "text": [
      "[6 3 7 4 6 9 2 6 7 4]\n",
      "[3 7 7 2 5 4 1 7 5 1]\n"
     ]
    }
   ],
   "source": [
    "numpy.random.seed(42)\n",
    "print(numpy.random.randint(10, size=10))\n",
    "print(numpy.random.randint(10, size=10))"
   ]
  },
  {
   "cell_type": "markdown",
   "id": "510dfcaa",
   "metadata": {},
   "source": [
    "Que se passe-t'il dans la cellule suivante?"
   ]
  },
  {
   "cell_type": "code",
   "execution_count": 48,
   "id": "51ba6ee5",
   "metadata": {},
   "outputs": [
    {
     "name": "stdout",
     "output_type": "stream",
     "text": [
      "[6 3 7 4 6 9 2 6 7 4]\n",
      "[6 3 7 4 6 9 2 6 7 4]\n",
      "[3 7 7 2 5 4 1 7 5 1]\n"
     ]
    }
   ],
   "source": [
    "numpy.random.seed(42)\n",
    "print(numpy.random.randint(10, size=10))\n",
    "numpy.random.seed(42)\n",
    "print(numpy.random.randint(10, size=10))\n",
    "print(numpy.random.randint(10, size=10))"
   ]
  },
  {
   "cell_type": "code",
   "execution_count": 49,
   "id": "champion-chaos",
   "metadata": {},
   "outputs": [
    {
     "name": "stdout",
     "output_type": "stream",
     "text": [
      "On affiche la valeur minimum de vec avec : 3\n",
      "On affiche la valeur maximum de vec avec : 9\n",
      "On calcule le somme cumulée avec : [ 3  6 12 18 25 32 39 48 57 66]\n",
      "Le vecteur trié est: [3 3 6 6 7 7 7 9 9 9]\n"
     ]
    }
   ],
   "source": [
    "print(f\"Vecteur vec: {vec}\")\n",
    "print(f\"On affiche la valeur minimum de vec avec : {vec.min()}\")\n",
    "print(f\"On affiche la valeur maximum de vec avec : {vec.max()}\")\n",
    "print(f\"On calcule le somme cumulée avec : {vec.cumsum()}\")\n",
    "vec.sort() # trie le ndarray en place.\n",
    "print(f\"Le vecteur trié est: {vec}\")"
   ]
  },
  {
   "cell_type": "markdown",
   "id": "c648ff7f",
   "metadata": {},
   "source": [
    "### Inverse de matrice\n",
    "\n",
    "Créez une matrice aléatoire de dimension (3, 3).\n",
    "\n",
    "Calculez le déterminant de cette matrice et inversez là.\n",
    "\n",
    "Calculez ensuite le produit de cette matrice par son inverse.\n",
    "\n",
    "Trouvez le rang de cette matrice."
   ]
  },
  {
   "cell_type": "code",
   "execution_count": null,
   "id": "0f0f2eff",
   "metadata": {},
   "outputs": [],
   "source": []
  },
  {
   "cell_type": "code",
   "execution_count": null,
   "id": "30b7a54a",
   "metadata": {},
   "outputs": [],
   "source": []
  },
  {
   "cell_type": "markdown",
   "id": "7d967448",
   "metadata": {},
   "source": [
    "### Normes de vecteurs et de matrice\n",
    "\n",
    "Numpy permet de calculer rapidement un grand nombre de [**normes**](https://numpy.org/doc/stable/reference/generated/numpy.linalg.norm.html)"
   ]
  },
  {
   "cell_type": "markdown",
   "id": "3a7a740a",
   "metadata": {},
   "source": [
    "**Note** vous avez vu les systèmes d'équations linéaires. La résolution d'un système peut êter faite sans inverser la matrice (de façon plus efficace) avec les fonction `solve`de Numpy."
   ]
  },
  {
   "cell_type": "markdown",
   "id": "faced-colony",
   "metadata": {},
   "source": [
    "### Indexing"
   ]
  },
  {
   "cell_type": "code",
   "execution_count": 50,
   "id": "liable-dubai",
   "metadata": {},
   "outputs": [
    {
     "name": "stdout",
     "output_type": "stream",
     "text": [
      "Nouveau vecteur: [4 0 9 5 8 0 9 2 6 3]\n",
      "On peut trouver l'indice de la valeur minimum avec: 1\n",
      "On peut trouver l'indice de la valeur maximum avec: 2\n",
      "On peut trouver les indices de toutes les valeurs triés avec : [1 5 7 9 0 3 8 4 2 6]\n",
      "Et on obtient donc le vecteur trié en faisant: [0 0 2 3 4 5 6 8 9 9]\n"
     ]
    }
   ],
   "source": [
    "vec = numpy.random.randint(10, size=10)\n",
    "print(f\"Nouveau vecteur: {vec}\")\n",
    "print(f\"On peut trouver l'indice de la valeur minimum avec: {vec.argmin()}\")\n",
    "print(f\"On peut trouver l'indice de la valeur maximum avec: {vec.argmax()}\")\n",
    "print(f\"On peut trouver les indices de toutes les valeurs triés avec : {vec.argsort()}\")\n",
    "print(f\"Et on obtient donc le vecteur trié en faisant: {vec[vec.argsort()]}\")\n"
   ]
  },
  {
   "cell_type": "markdown",
   "id": "romance-compromise",
   "metadata": {},
   "source": [
    "<div style=\"border: solid 3px #000;\">\n",
    "    <h1 style=\"text-align: center; color:#000; font-family:Georgia; font-size:26px;\">Exercice</h1>\n",
    "    <p style='text-align: left;'> </p>\n",
    "</div>\n",
    "\n",
    "\n",
    "\n",
    "Écrire un code qui:\n",
    "* initialise un vecteur de dimension $10$ avec des valeurs aléatoire tirées uniformément entre 1 et 2\n",
    "* soustrait à chaque valeur de cette matrice le minimum de ces valeurs\n",
    "* affiche l'indice de la valeur minimum dans le vecteur en utilisant une `f-string`"
   ]
  },
  {
   "cell_type": "code",
   "execution_count": 3,
   "id": "textile-sequence",
   "metadata": {},
   "outputs": [],
   "source": [
    "# Solution\n"
   ]
  },
  {
   "cell_type": "markdown",
   "id": "bright-importance",
   "metadata": {},
   "source": [
    "### Vues et indexage\n",
    "\n",
    "En pratique, les **ndarray** sont stockés sous forme d'un tableau dans la mémoire de la machine.\n",
    "\n",
    "Afin d'accélerer les calculs ou de simplifier les traitements, un grand nombre de méthodes sont disponibles pour visualier les données des **ndarray**.\n",
    "\n",
    "On peut accéder aux valeurs de différentes façons:"
   ]
  },
  {
   "cell_type": "code",
   "execution_count": 59,
   "id": "pursuant-prison",
   "metadata": {},
   "outputs": [
    {
     "name": "stdout",
     "output_type": "stream",
     "text": [
      "Vecteur original: [ 0  1  2  3  4  5  6  7  8  9 10 11 12 13 14 15]\n",
      "\n",
      "NdArray redimensioné\n",
      " [[ 0  1  2  3]\n",
      " [ 4  5  6  7]\n",
      " [ 8  9 10 11]\n",
      " [12 13 14 15]]\n",
      "\n",
      "[[ 4  5  6]\n",
      " [ 8  9 10]]\n"
     ]
    }
   ],
   "source": [
    "A = numpy.arange(16)\n",
    "print(f\"Vecteur original: {A}\\n\")\n",
    "\n",
    "A = A.reshape(4, 4)\n",
    "print(f\"ndArray redimensioné\\n {A}\\n\")\n",
    "\n",
    "# par indexage:\n",
    "print(A[1:3, :3]) # lignes de 1 comprise à 3 non comprise et colonnes jusqu'à 3 non comprise."
   ]
  },
  {
   "cell_type": "code",
   "execution_count": 63,
   "id": "exclusive-creek",
   "metadata": {},
   "outputs": [
    {
     "name": "stdout",
     "output_type": "stream",
     "text": [
      "On crée un masque de booléen\n",
      "\n",
      "[[ True False  True False]\n",
      " [False  True  True False]\n",
      " [False  True  True  True]\n",
      " [False False False False]]\n",
      "\n",
      "Qu'on utilise pour sélectionner une partie du ndarray A\n"
     ]
    },
    {
     "data": {
      "text/plain": [
       "array([ 0,  2,  5,  6,  9, 10, 11])"
      ]
     },
     "execution_count": 63,
     "metadata": {},
     "output_type": "execute_result"
    }
   ],
   "source": [
    "# Avec des booléens:\n",
    "B = numpy.random.randint(0,2,16).reshape(4, 4).astype(bool)\n",
    "\n",
    "print(\"On crée un masque de booléen\\n\")\n",
    "print(B)\n",
    "\n",
    "print(\"\\nQu'on utilise pour sélectionner une partie du ndarray A\")\n",
    "A[B]"
   ]
  },
  {
   "cell_type": "markdown",
   "id": "8d50f6d2",
   "metadata": {},
   "source": [
    "**Attention** la dimension du ndArray renvoyé n'est pas celle de `A`"
   ]
  },
  {
   "cell_type": "code",
   "execution_count": 64,
   "id": "outstanding-fields",
   "metadata": {},
   "outputs": [
    {
     "name": "stdout",
     "output_type": "stream",
     "text": [
      "[0 1 2 3 4 5 6 7 8 9]\n",
      "Avec un pas de 3: [0 3 6 9]\n",
      "A l'envers: [9 8 7 6 5 4 3 2 1 0]\n",
      "A l'envers, sur un segment et avec un pas donné: [8 6 4]\n"
     ]
    }
   ],
   "source": [
    "# On peut utiliser un pas de lecture\n",
    "A = numpy.arange(10)\n",
    "print(A)\n",
    "print(f\"Avec un pas de 3: {A[::3]}\")\n",
    "\n",
    "print(f\"A l'envers: {A[::-1]}\")\n",
    "\n",
    "print(f\"A l'envers, sur un segment et avec un pas donné: {A[8:2:-2]}\")"
   ]
  },
  {
   "cell_type": "markdown",
   "id": "quantitative-third",
   "metadata": {},
   "source": [
    "Voici quelques méthodes pratiques:\n",
    "\n",
    "* la méthode **flatten** renvoit une copie du **ndarray** sous forme d'un vecteur de dimension 1"
   ]
  },
  {
   "cell_type": "code",
   "execution_count": 65,
   "id": "under-mixture",
   "metadata": {},
   "outputs": [
    {
     "name": "stdout",
     "output_type": "stream",
     "text": [
      "Matrice M originale:\n",
      "[[1 2 3]\n",
      " [4 5 6]]\n",
      "\n",
      "En utilisant flatten:\n",
      "[1 2 3 4 5 6]\n"
     ]
    }
   ],
   "source": [
    "M = numpy.array([[1, 2, 3],[4,5,6]])\n",
    "print(\"Matrice M originale:\")\n",
    "print(M)\n",
    "\n",
    "# Collapse M and display\n",
    "print(\"\\nEn utilisant flatten:\")\n",
    "print(M.flatten())"
   ]
  },
  {
   "cell_type": "markdown",
   "id": "excessive-gothic",
   "metadata": {},
   "source": [
    "* la méthode **reshape** renvoir une copie redimensionnée d'un **ndarray**"
   ]
  },
  {
   "cell_type": "code",
   "execution_count": 66,
   "id": "senior-integration",
   "metadata": {},
   "outputs": [
    {
     "name": "stdout",
     "output_type": "stream",
     "text": [
      "Matrice M originale:\n",
      "[[1 2 3]\n",
      " [4 5 6]]\n",
      "\n",
      "En utilisant reshape:\n",
      "[[1 2]\n",
      " [3 4]\n",
      " [5 6]]\n",
      "\n",
      "En utilisant reshape:\n",
      "[[1 5]\n",
      " [4 3]\n",
      " [2 6]]\n"
     ]
    }
   ],
   "source": [
    "M = numpy.array([[1, 2, 3],[4,5,6]])\n",
    "print(\"Matrice M originale:\")\n",
    "print(M)\n",
    "\n",
    "print(\"\\nEn utilisant reshape:\")\n",
    "print(M.reshape(3, 2))\n",
    "\n",
    "# Attention, selon le format d'indexing on peut obtenir différents résultats\n",
    "print(\"\\nEn utilisant reshape:\")\n",
    "print(M.reshape((3, 2), order='F'))"
   ]
  },
  {
   "cell_type": "markdown",
   "id": "physical-falls",
   "metadata": {},
   "source": [
    "<div style=\"border: solid 3px #000;\">\n",
    "    <h1 style=\"text-align: center; color:#000; font-family:Georgia; font-size:26px;\">Exercice</h1>\n",
    "    <p style='text-align: left;'> </p>\n",
    "</div>\n",
    "\n",
    "On peut simplement extraire la diagonale d'un **ndarray**:\n",
    "\n",
    "Écrire un code qui:\n",
    "* initialise une matrice de réels (**float64**) de dimension $3 \\times 3$\n",
    "* Extraire sa diagonale et afficher ses dimensions (shape)\n",
    "* Modifier cette diagonale pour obtenir un vecteur de dimension $3 \\times 1$ avec la méthode **newaxis**"
   ]
  },
  {
   "cell_type": "code",
   "execution_count": 68,
   "id": "blond-triumph",
   "metadata": {},
   "outputs": [
    {
     "name": "stdout",
     "output_type": "stream",
     "text": [
      "[[0.10789143 0.03142919 0.6364104 ]\n",
      " [0.31435597 0.5085707  0.9075665 ]\n",
      " [0.24929222 0.41038293 0.75555116]]\n",
      "(3,)\n",
      "(3, 1)\n",
      "[[0.10789143]\n",
      " [0.5085707 ]\n",
      " [0.75555116]]\n"
     ]
    }
   ],
   "source": [
    "# Solution\n",
    "M = numpy.random.rand(3, 3).astype(numpy.float32)\n",
    "print(M)\n",
    "print(numpy.diag(M).shape)\n",
    "print(numpy.diag(M)[:, numpy.newaxis].shape)\n",
    "print(numpy.diag(M)[:, numpy.newaxis])"
   ]
  },
  {
   "cell_type": "markdown",
   "id": "mysterious-volleyball",
   "metadata": {},
   "source": [
    "La méthode **lib.stride_tricks.sliding_window_view** permet de se déplacer dans un **ndarray** en fixant un pas précis et en affichant une zone déterminée."
   ]
  },
  {
   "cell_type": "code",
   "execution_count": 69,
   "id": "peaceful-custody",
   "metadata": {},
   "outputs": [
    {
     "name": "stdout",
     "output_type": "stream",
     "text": [
      "Matrice M originale:\n",
      "[[ 0  1  2  3]\n",
      " [ 4  5  6  7]\n",
      " [ 8  9 10 11]\n",
      " [12 13 14 15]]\n"
     ]
    },
    {
     "data": {
      "text/plain": [
       "array([[[[ 0,  1],\n",
       "         [ 4,  5]],\n",
       "\n",
       "        [[ 1,  2],\n",
       "         [ 5,  6]],\n",
       "\n",
       "        [[ 2,  3],\n",
       "         [ 6,  7]]],\n",
       "\n",
       "\n",
       "       [[[ 4,  5],\n",
       "         [ 8,  9]],\n",
       "\n",
       "        [[ 5,  6],\n",
       "         [ 9, 10]],\n",
       "\n",
       "        [[ 6,  7],\n",
       "         [10, 11]]],\n",
       "\n",
       "\n",
       "       [[[ 8,  9],\n",
       "         [12, 13]],\n",
       "\n",
       "        [[ 9, 10],\n",
       "         [13, 14]],\n",
       "\n",
       "        [[10, 11],\n",
       "         [14, 15]]]])"
      ]
     },
     "execution_count": 69,
     "metadata": {},
     "output_type": "execute_result"
    }
   ],
   "source": [
    "M = numpy.arange(16).reshape((4, 4))\n",
    "print(\"Matrice M originale:\")\n",
    "print(M)\n",
    "\n",
    "window_size = (2, 2)\n",
    "M_view = numpy.lib.stride_tricks.sliding_window_view(M, window_size)\n",
    "M_view"
   ]
  },
  {
   "cell_type": "markdown",
   "id": "static-catch",
   "metadata": {},
   "source": [
    "On peut également changer le pas de déplacement"
   ]
  },
  {
   "cell_type": "code",
   "execution_count": 70,
   "id": "humanitarian-inspiration",
   "metadata": {},
   "outputs": [
    {
     "name": "stdout",
     "output_type": "stream",
     "text": [
      "Matrice M originale:\n",
      "[[ 0  1  2  3]\n",
      " [ 4  5  6  7]\n",
      " [ 8  9 10 11]\n",
      " [12 13 14 15]]\n"
     ]
    },
    {
     "data": {
      "text/plain": [
       "array([[[[ 0,  1],\n",
       "         [ 4,  5]],\n",
       "\n",
       "        [[ 2,  3],\n",
       "         [ 6,  7]]],\n",
       "\n",
       "\n",
       "       [[[ 8,  9],\n",
       "         [12, 13]],\n",
       "\n",
       "        [[10, 11],\n",
       "         [14, 15]]]])"
      ]
     },
     "execution_count": 70,
     "metadata": {},
     "output_type": "execute_result"
    }
   ],
   "source": [
    "print(\"Matrice M originale:\")\n",
    "print(M)\n",
    "M_view = numpy.lib.stride_tricks.sliding_window_view(M, window_size)[::2, ::2]\n",
    "M_view"
   ]
  },
  {
   "cell_type": "markdown",
   "id": "insured-compensation",
   "metadata": {},
   "source": [
    "### Calcul matriciel\n",
    "\n",
    "Écrire un code pour calculer $X = A \\times B$\n",
    "Où $A$ et $B$ sont deux matrices de dimension $100 \\times 100$ définies par:"
   ]
  },
  {
   "cell_type": "raw",
   "id": "present-remove",
   "metadata": {},
   "source": [
    "A = array([[   0,    1,    2, ...,   97,   98,   99],\n",
    "          [ 100,  101,  102, ...,  197,  198,  199],\n",
    "          [ 200,  201,  202, ...,  297,  298,  299],\n",
    "          ...,\n",
    "          [9700, 9701, 9702, ..., 9797, 9798, 9799],\n",
    "          [9800, 9801, 9802, ..., 9897, 9898, 9899],\n",
    "          [9900, 9901, 9902, ..., 9997, 9998, 9999]])\n",
    "          \n",
    "B = array([[9999, 9998, 9997, ..., 9902, 9901, 9900],\n",
    "          [9899, 9898, 9897, ..., 9802, 9801, 9800],\n",
    "          [9799, 9798, 9797, ..., 9702, 9701, 9700],\n",
    "          ...,\n",
    "          [ 299,  298,  297, ...,  202,  201,  200],\n",
    "          [ 199,  198,  197, ...,  102,  101,  100],\n",
    "          [  99,   98,   97, ...,    2,    1,    0]])"
   ]
  },
  {
   "cell_type": "code",
   "execution_count": 4,
   "id": "capable-elevation",
   "metadata": {},
   "outputs": [],
   "source": [
    "# Solution"
   ]
  },
  {
   "cell_type": "markdown",
   "id": "advance-london",
   "metadata": {},
   "source": [
    "<div style=\"border: solid 3px #000;\">\n",
    "    <h1 style=\"text-align: center; color:#000; font-family:Georgia; font-size:26px;\">Exercice</h1>\n",
    "    <p style='text-align: left;'> </p>\n",
    "</div>\n",
    "\n",
    "Calculez le produit matriciel $A \\times B$ et mesurez le temps d'execution avec le module **time**\n",
    "\n",
    "Effectuer le même calcul avec **Numpy** et la méthode **dot**."
   ]
  },
  {
   "cell_type": "code",
   "execution_count": 5,
   "id": "structured-hurricane",
   "metadata": {},
   "outputs": [],
   "source": [
    "# Solution\n"
   ]
  },
  {
   "cell_type": "markdown",
   "id": "productive-injury",
   "metadata": {},
   "source": [
    "Quelle est la différence entre:\n",
    "    \n",
    "A * B\n",
    "et \n",
    "A.dot(B)"
   ]
  },
  {
   "cell_type": "code",
   "execution_count": null,
   "id": "1446588c",
   "metadata": {},
   "outputs": [],
   "source": []
  },
  {
   "cell_type": "markdown",
   "id": "unique-southeast",
   "metadata": {},
   "source": [
    "## Broadcasting\n",
    "\n",
    "**Numpy** effectue la plupart du temps les opérations terme à terme.\n",
    "\n",
    "Ce qui nécessite d'avoir des ndarray de même taille. \n",
    "\n",
    "Exemple:"
   ]
  },
  {
   "cell_type": "code",
   "execution_count": 74,
   "id": "viral-suggestion",
   "metadata": {},
   "outputs": [
    {
     "data": {
      "text/plain": [
       "array([2., 4., 6.])"
      ]
     },
     "execution_count": 74,
     "metadata": {},
     "output_type": "execute_result"
    }
   ],
   "source": [
    "a = numpy.array([1.0, 2.0, 3.0])\n",
    "b = numpy.array([2.0, 2.0, 2.0])\n",
    "a * b"
   ]
  },
  {
   "cell_type": "markdown",
   "id": "wrong-checklist",
   "metadata": {},
   "source": [
    "Cependant, dans certaines conditions (dimensions compatibles), Numpy effectue du **broadcasting** et permet de faire des calculs avec différentes dimensions.\n",
    "\n",
    "Exemple:"
   ]
  },
  {
   "cell_type": "code",
   "execution_count": 75,
   "id": "endless-brain",
   "metadata": {},
   "outputs": [
    {
     "data": {
      "text/plain": [
       "array([2., 4., 6.])"
      ]
     },
     "execution_count": 75,
     "metadata": {},
     "output_type": "execute_result"
    }
   ],
   "source": [
    "from numpy import array\n",
    "a = array([1.0, 2.0, 3.0])\n",
    "b = 2.0\n",
    "a * b"
   ]
  },
  {
   "cell_type": "markdown",
   "id": "sudden-clerk",
   "metadata": {},
   "source": [
    "<div style=\"border: solid 3px #000;\">\n",
    "    <h1 style=\"text-align: center; color:#000; font-family:Georgia; font-size:26px;\">Règle de broadcasting</h1>\n",
    "    <h1 style=\"text-align: center; color:#000; font-family:Georgia; font-size:18px;\">Pour le broadcasting, la taille de l'axe commun entre les deux ndarray doit être la même ou l'une d'elle doit être 1.</h1>\n",
    "    <p style='text-align: left;'> </p>\n",
    "</div>"
   ]
  },
  {
   "cell_type": "markdown",
   "id": "together-flesh",
   "metadata": {},
   "source": [
    "<img src='https://numpy.org/doc/stable/_images/broadcasting_1.png' width=\"300\" height=\"500\">"
   ]
  },
  {
   "cell_type": "markdown",
   "id": "editorial-eleven",
   "metadata": {},
   "source": [
    "Créez un ndarray de dimension 4 x 3 et un autre de dimension 3 que vous sommerez.\n",
    "\n",
    "<img src='https://numpy.org/doc/stable/_images/broadcasting_2.png' width=\"300\" height=\"500\">"
   ]
  },
  {
   "cell_type": "code",
   "execution_count": 76,
   "id": "foster-boring",
   "metadata": {},
   "outputs": [],
   "source": [
    "# Essayez ensuite avec un ndarray de dimension 4 x 3 et un autre de dimension 4\n",
    "\n",
    "# Qu'en concluez-vous?\n",
    "# Vous pouvez maintenant essayer avec un ndarray de dimension 4 x 3 et un autre de dimension 4 x 1"
   ]
  },
  {
   "cell_type": "code",
   "execution_count": 82,
   "id": "006b8921",
   "metadata": {},
   "outputs": [
    {
     "name": "stdout",
     "output_type": "stream",
     "text": [
      "[[5. 5. 5.]\n",
      " [5. 5. 5.]\n",
      " [5. 5. 5.]\n",
      " [5. 5. 5.]]\n"
     ]
    }
   ],
   "source": [
    "A43 = numpy.ones((4, 3))\n",
    "# B3 = numpy.ones(4) * 4\n",
    "B3 = numpy.ones((4, 1)) * 4\n",
    "print(A43 + B3)\n"
   ]
  },
  {
   "cell_type": "markdown",
   "id": "passive-publicity",
   "metadata": {},
   "source": [
    "Il est également possible d'ajouter une dimension temporaire au 2e ndarray pour effectuer des produits vectoriels.\n",
    "\n",
    "Que se passe-t'il dans l'exemple suivant?"
   ]
  },
  {
   "cell_type": "code",
   "execution_count": 83,
   "id": "referenced-factor",
   "metadata": {},
   "outputs": [
    {
     "data": {
      "text/plain": [
       "array([[ 1.,  2.,  3.],\n",
       "       [11., 12., 13.],\n",
       "       [21., 22., 23.],\n",
       "       [31., 32., 33.]])"
      ]
     },
     "execution_count": 83,
     "metadata": {},
     "output_type": "execute_result"
    }
   ],
   "source": [
    "a = numpy.array([0.0, 10.0, 20.0, 30.0])\n",
    "b = numpy.array([1.0, 2.0, 3.0])\n",
    "a[:,numpy.newaxis] + b"
   ]
  },
  {
   "cell_type": "markdown",
   "id": "floppy-edmonton",
   "metadata": {},
   "source": [
    "<img src='https://jakevdp.github.io/PythonDataScienceHandbook/figures/02.05-broadcasting.png' width=\"300\" height=\"500\">\n"
   ]
  },
  {
   "cell_type": "markdown",
   "id": "fresh-wedding",
   "metadata": {},
   "source": [
    "## Somme de Einstein\n",
    "\n",
    "La notation d'Einstein est un raccourci de notation utile pour la manipulation des équations concernant des coordonnées."
   ]
  },
  {
   "cell_type": "code",
   "execution_count": 86,
   "id": "norwegian-canvas",
   "metadata": {},
   "outputs": [
    {
     "name": "stdout",
     "output_type": "stream",
     "text": [
      "[[ 0  1  2  3  4]\n",
      " [ 5  6  7  8  9]\n",
      " [10 11 12 13 14]\n",
      " [15 16 17 18 19]\n",
      " [20 21 22 23 24]]\n"
     ]
    }
   ],
   "source": [
    "A = numpy.arange(25).reshape(5,5)\n",
    "print(a)"
   ]
  },
  {
   "cell_type": "markdown",
   "id": "actual-bonus",
   "metadata": {},
   "source": [
    "Peut être utilisée pour calculer la trace d'une matrice:"
   ]
  },
  {
   "cell_type": "code",
   "execution_count": 87,
   "id": "brilliant-stock",
   "metadata": {},
   "outputs": [
    {
     "data": {
      "text/plain": [
       "60"
      ]
     },
     "execution_count": 87,
     "metadata": {},
     "output_type": "execute_result"
    }
   ],
   "source": [
    "numpy.einsum('ii', A) # On somme tous les termes de coordonnées (i, i) les valeurs limites de 'i' sont implicites."
   ]
  },
  {
   "cell_type": "markdown",
   "id": "confirmed-discretion",
   "metadata": {},
   "source": [
    "Pour extraire la diagonale:"
   ]
  },
  {
   "cell_type": "code",
   "execution_count": 90,
   "id": "reported-samuel",
   "metadata": {},
   "outputs": [
    {
     "data": {
      "text/plain": [
       "array([ 0,  6, 12, 18, 24])"
      ]
     },
     "execution_count": 90,
     "metadata": {},
     "output_type": "execute_result"
    }
   ],
   "source": [
    "numpy.einsum('ii->i', A) \n",
    "# On extrait les termes de coordonnées (i, i) \n",
    "# qu'on place dans un vecteur (unidimensionnel) à l'indice 'i''"
   ]
  },
  {
   "cell_type": "markdown",
   "id": "0d186f87",
   "metadata": {},
   "source": [
    "Pour sommer les colonnes ou les lignes selon un axe déterminé:"
   ]
  },
  {
   "cell_type": "code",
   "execution_count": 91,
   "id": "graphic-madonna",
   "metadata": {},
   "outputs": [
    {
     "data": {
      "text/plain": [
       "array([ 10,  35,  60,  85, 110])"
      ]
     },
     "execution_count": 91,
     "metadata": {},
     "output_type": "execute_result"
    }
   ],
   "source": [
    "numpy.einsum('ij->i', A)"
   ]
  },
  {
   "cell_type": "markdown",
   "id": "characteristic-world",
   "metadata": {},
   "source": [
    "<div style=\"border: solid 3px #000;\">\n",
    "    <h1 style=\"text-align: center; color:#000; font-family:Georgia; font-size:26px;\">Exercice</h1>\n",
    "    <p style='text-align: left;'> </p>\n",
    "</div>\n",
    "\n",
    "Calculez le produit matriciel d'une matrice $A$ avec sa transposée sans utiliser la transposée explicite (donc avec une sommation de Einstein)."
   ]
  },
  {
   "cell_type": "code",
   "execution_count": 92,
   "id": "analyzed-seating",
   "metadata": {},
   "outputs": [
    {
     "name": "stdout",
     "output_type": "stream",
     "text": [
      "[[  30   80  130  180  230]\n",
      " [  80  255  430  605  780]\n",
      " [ 130  430  730 1030 1330]\n",
      " [ 180  605 1030 1455 1880]\n",
      " [ 230  780 1330 1880 2430]]\n"
     ]
    }
   ],
   "source": [
    "A = numpy.arange(25).reshape(5,5)\n",
    "# Avec la transposée:\n",
    "print(A.dot(A.T))"
   ]
  },
  {
   "cell_type": "code",
   "execution_count": 6,
   "id": "pharmaceutical-margin",
   "metadata": {},
   "outputs": [],
   "source": [
    "# Solution\n"
   ]
  },
  {
   "cell_type": "markdown",
   "id": "severe-removal",
   "metadata": {},
   "source": [
    "Différents modes d'optimisation peuvent être appliquées\n",
    "\n",
    "L'efficacité du calcul n'est pas toujours évidente, n'hésitez à tester et chronométrer les différentes options"
   ]
  },
  {
   "cell_type": "code",
   "execution_count": 101,
   "id": "cardiac-collection",
   "metadata": {},
   "outputs": [
    {
     "name": "stdout",
     "output_type": "stream",
     "text": [
      "Resultat obtenu en 0.28317737579345703 secondes\n"
     ]
    }
   ],
   "source": [
    "a = numpy.ones(64).reshape(2,4,8)\n",
    "\n",
    "#Chronométrez les différentes options en utilisant la somme de einstein brute ou en donnant au paramètre\n",
    "# optimize les valeurs suivantes:  'optimal', 'greedy'\n",
    "\n",
    "\n",
    "#for iteration in range(500):\n",
    "#    _ = numpy.einsum('ijk,ilm,njm,nlk,abc->',a,a,a,a,a)\n",
    "\n",
    "# Puis en utilisant un einsum_path pour optimiser de la façon suivante:\n",
    "#path = np.einsum_path('ijk,ilm,njm,nlk,abc->',a,a,a,a,a, optimize='optimal')[0]\n",
    "\n",
    "\n",
    "#for iteration in range(500):\n",
    "#    _ = numpy.einsum_path('ijk,ilm,njm,nlk,abc->',a,a,a,a,a, optimize='optimal')[0]\n",
    "\n",
    "\n"
   ]
  },
  {
   "cell_type": "code",
   "execution_count": null,
   "id": "48a06094",
   "metadata": {},
   "outputs": [],
   "source": []
  }
 ],
 "metadata": {
  "kernelspec": {
   "display_name": "Python 3 (ipykernel)",
   "language": "python",
   "name": "python3"
  },
  "language_info": {
   "codemirror_mode": {
    "name": "ipython",
    "version": 3
   },
   "file_extension": ".py",
   "mimetype": "text/x-python",
   "name": "python",
   "nbconvert_exporter": "python",
   "pygments_lexer": "ipython3",
   "version": "3.11.4"
  }
 },
 "nbformat": 4,
 "nbformat_minor": 5
}
