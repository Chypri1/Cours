{
 "cells": [
  {
   "cell_type": "markdown",
   "id": "9e7d1267-6a0b-4058-a693-1b69cf02b77b",
   "metadata": {},
   "source": [
    "# TP4 slurm"
   ]
  },
  {
   "cell_type": "markdown",
   "id": "4c12c17c-540a-4274-b436-ee72d4b95be9",
   "metadata": {},
   "source": [
    "4. V ́erifiez les resources dont vous disposez (nombre de CPU, GPU, m ́emoire)\n",
    "5. Visualisez la liste des JOBs actifs sur le cluster pour tous les utilisa- teurs, puis seulement vos JOBs\n",
    "6. Que renvoie la commande\n",
    "      squeue -o \"%.18i %.9P %.8j %.8u %.8T %.10M %.9l %.6D %R\"\n"
   ]
  },
  {
   "cell_type": "markdown",
   "id": "0718a818-5f88-4b32-9e13-cd2eab1e866f",
   "metadata": {},
   "source": [
    "4. scontrol show nodes"
   ]
  },
  {
   "cell_type": "markdown",
   "id": "a1c1085e-93cd-49fd-bead-811a501e3b75",
   "metadata": {},
   "source": [
    "\n",
    "5. sacct -a --stat=RUNNING / squeue --users=s190703"
   ]
  },
  {
   "cell_type": "markdown",
   "id": "4447312a-ca2e-4a24-b4c1-277c200ec543",
   "metadata": {},
   "source": [
    "7.  dans skinner et pas dans un gpu : srun --pty --job-name \"mimir\" --cpus-per-task 2 bash8"
   ]
  },
  {
   "cell_type": "markdown",
   "id": "f0c48807-e494-4be6-a4e0-52af359d69ef",
   "metadata": {},
   "source": [
    "8. dans skinner et pas dans un gpu :  srun --pty --job-name mimir --c 2 bash"
   ]
  },
  {
   "cell_type": "markdown",
   "id": "2295bcd9-6529-4d3b-9cdb-822c38923c53",
   "metadata": {},
   "source": [
    "9.  dans skinner et pas dans un gpu :  srun --pty --job-name mimir --c 2 --gres=gpu:1 bash"
   ]
  }
 ],
 "metadata": {
  "kernelspec": {
   "display_name": "Python 3 (ipykernel)",
   "language": "python",
   "name": "python3"
  },
  "language_info": {
   "codemirror_mode": {
    "name": "ipython",
    "version": 3
   },
   "file_extension": ".py",
   "mimetype": "text/x-python",
   "name": "python",
   "nbconvert_exporter": "python",
   "pygments_lexer": "ipython3",
   "version": "3.11.4"
  }
 },
 "nbformat": 4,
 "nbformat_minor": 5
}
