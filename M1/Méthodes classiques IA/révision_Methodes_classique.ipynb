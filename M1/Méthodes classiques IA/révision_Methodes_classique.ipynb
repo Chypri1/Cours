{
 "cells": [
  {
   "cell_type": "code",
   "execution_count": null,
   "id": "f4686d84-ee5d-4e9c-b2bd-2e7de88208e9",
   "metadata": {},
   "outputs": [],
   "source": [
    "#fonction sigmoide \n",
    "f(x) = 1/ 1+np.exp(-x)\n",
    "h(x) = O0+O1x1+...+Opxp\n",
    "g(x) = f(h(x)) = 1/ 1+np.exp(-h(x))"
   ]
  },
  {
   "cell_type": "code",
   "execution_count": 2,
   "id": "704182b7-8061-4e68-a8e9-c8331638cbe9",
   "metadata": {},
   "outputs": [],
   "source": [
    "from sklearn.datasets import make_classification"
   ]
  },
  {
   "cell_type": "code",
   "execution_count": null,
   "id": "06e4087d-3761-4d52-82f8-3d1d6f7c8ed5",
   "metadata": {},
   "outputs": [],
   "source": [
    "X, y = make_classification( n_classes=2, n_features=2, n_informative=2, n_redundant=0, n_repeated=0, n_"
   ]
  },
  {
   "cell_type": "code",
   "execution_count": null,
   "id": "87bcfeb1-f1fb-45bd-bbc8-78e134336814",
   "metadata": {},
   "outputs": [],
   "source": []
  }
 ],
 "metadata": {
  "kernelspec": {
   "display_name": "Python 3 (ipykernel)",
   "language": "python",
   "name": "python3"
  },
  "language_info": {
   "codemirror_mode": {
    "name": "ipython",
    "version": 3
   },
   "file_extension": ".py",
   "mimetype": "text/x-python",
   "name": "python",
   "nbconvert_exporter": "python",
   "pygments_lexer": "ipython3",
   "version": "3.11.4"
  }
 },
 "nbformat": 4,
 "nbformat_minor": 5
}
