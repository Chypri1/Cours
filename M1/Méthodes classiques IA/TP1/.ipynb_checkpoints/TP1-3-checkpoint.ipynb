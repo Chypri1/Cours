{
 "cells": [
  {
   "cell_type": "code",
   "execution_count": 1,
   "id": "59c79847-3221-4b76-86fc-005ea29a7918",
   "metadata": {
    "tags": []
   },
   "outputs": [
    {
     "data": {
      "image/png": "[encoded data removed]",
      "text/plain": [
       "<Figure size 640x480 with 1 Axes>"
      ]
     },
     "metadata": {},
     "output_type": "display_data"
    }
   ],
   "source": [
    "import pandas as pd\n",
    "import matplotlib.pyplot as plt\n",
    "# Importation des données\n",
    "iris = pd.read_csv(\"iris.csv\")\n",
    "x = iris.loc[:,\"petal_length\"]\n",
    "y = iris.loc[:,\"petal_width\"]\n",
    "lab = iris.loc[:,\"species\"]\n",
    "# Affichage des données\n",
    "for e, c in [('setosa','g'), ('virginica', 'r'), ('versicolor', 'b')]:\n",
    "    plt.scatter(x[lab == e], y[lab == e], color = c, label = e)\n",
    "plt.legend()\n",
    "fig = plt.gcf()\n",
    "plt.show()"
   ]
  },
  {
   "cell_type": "markdown",
   "id": "db8e4813-8d7a-4418-8527-018a67d3080d",
   "metadata": {},
   "source": [
    "<h1>KPPV</h1>"
   ]
  },
  {
   "cell_type": "code",
   "execution_count": 3,
   "id": "4d6aa334-23ab-42bd-ba7e-114735f57071",
   "metadata": {
    "tags": []
   },
   "outputs": [
    {
     "data": {
      "text/plain": [
       "4.242640687119285"
      ]
     },
     "execution_count": 3,
     "metadata": {},
     "output_type": "execute_result"
    }
   ],
   "source": [
    "import numpy as np\n",
    "x=np.array((4,2,2))\n",
    "y=np.array((3,1,6))\n",
    "#distance euclidienne*\n",
    "def dist_euclid(p1,p2):\n",
    "    return np.sqrt(np.sum(np.square(p2-p1)))\n",
    "dist_euclid(x,y)"
   ]
  },
  {
   "cell_type": "code",
   "execution_count": 4,
   "id": "e7f87686-3e46-41f2-80ca-fee5a9149fe5",
   "metadata": {
    "tags": []
   },
   "outputs": [
    {
     "data": {
      "text/plain": [
       "6"
      ]
     },
     "execution_count": 4,
     "metadata": {},
     "output_type": "execute_result"
    }
   ],
   "source": [
    "def dist_manhattan(p1,p2):\n",
    "    return np.sum(np.abs(p2-p1))\n",
    "dist_manhattan(x,y)"
   ]
  },
  {
   "cell_type": "code",
   "execution_count": 5,
   "id": "c50a51da-ab58-4247-9521-01328f29b272",
   "metadata": {
    "tags": []
   },
   "outputs": [
    {
     "data": {
      "text/plain": [
       "14"
      ]
     },
     "execution_count": 5,
     "metadata": {},
     "output_type": "execute_result"
    }
   ],
   "source": [
    "def dist_hamming(p1,p2):\n",
    "    return np.sum(p1^p2)\n",
    "dist_hamming(x,y)"
   ]
  },
  {
   "cell_type": "code",
   "execution_count": 6,
   "id": "b648e90a-c865-49b4-95b8-c6e5eea7df61",
   "metadata": {
    "tags": []
   },
   "outputs": [
    {
     "data": {
      "text/html": [
       "<div>\n",
       "<style scoped>\n",
       "    .dataframe tbody tr th:only-of-type {\n",
       "        vertical-align: middle;\n",
       "    }\n",
       "\n",
       "    .dataframe tbody tr th {\n",
       "        vertical-align: top;\n",
       "    }\n",
       "\n",
       "    .dataframe thead th {\n",
       "        text-align: right;\n",
       "    }\n",
       "</style>\n",
       "<table border=\"1\" class=\"dataframe\">\n",
       "  <thead>\n",
       "    <tr style=\"text-align: right;\">\n",
       "      <th></th>\n",
       "      <th>sepal_length</th>\n",
       "      <th>sepal_width</th>\n",
       "      <th>petal_length</th>\n",
       "      <th>petal_width</th>\n",
       "      <th>species</th>\n",
       "    </tr>\n",
       "  </thead>\n",
       "  <tbody>\n",
       "    <tr>\n",
       "      <th>0</th>\n",
       "      <td>5.1</td>\n",
       "      <td>3.5</td>\n",
       "      <td>1.4</td>\n",
       "      <td>0.2</td>\n",
       "      <td>setosa</td>\n",
       "    </tr>\n",
       "    <tr>\n",
       "      <th>1</th>\n",
       "      <td>4.9</td>\n",
       "      <td>3.0</td>\n",
       "      <td>1.4</td>\n",
       "      <td>0.2</td>\n",
       "      <td>setosa</td>\n",
       "    </tr>\n",
       "    <tr>\n",
       "      <th>2</th>\n",
       "      <td>4.7</td>\n",
       "      <td>3.2</td>\n",
       "      <td>1.3</td>\n",
       "      <td>0.2</td>\n",
       "      <td>setosa</td>\n",
       "    </tr>\n",
       "    <tr>\n",
       "      <th>3</th>\n",
       "      <td>4.6</td>\n",
       "      <td>3.1</td>\n",
       "      <td>1.5</td>\n",
       "      <td>0.2</td>\n",
       "      <td>setosa</td>\n",
       "    </tr>\n",
       "    <tr>\n",
       "      <th>4</th>\n",
       "      <td>5.0</td>\n",
       "      <td>3.6</td>\n",
       "      <td>1.4</td>\n",
       "      <td>0.2</td>\n",
       "      <td>setosa</td>\n",
       "    </tr>\n",
       "    <tr>\n",
       "      <th>...</th>\n",
       "      <td>...</td>\n",
       "      <td>...</td>\n",
       "      <td>...</td>\n",
       "      <td>...</td>\n",
       "      <td>...</td>\n",
       "    </tr>\n",
       "    <tr>\n",
       "      <th>145</th>\n",
       "      <td>6.7</td>\n",
       "      <td>3.0</td>\n",
       "      <td>5.2</td>\n",
       "      <td>2.3</td>\n",
       "      <td>virginica</td>\n",
       "    </tr>\n",
       "    <tr>\n",
       "      <th>146</th>\n",
       "      <td>6.3</td>\n",
       "      <td>2.5</td>\n",
       "      <td>5.0</td>\n",
       "      <td>1.9</td>\n",
       "      <td>virginica</td>\n",
       "    </tr>\n",
       "    <tr>\n",
       "      <th>147</th>\n",
       "      <td>6.5</td>\n",
       "      <td>3.0</td>\n",
       "      <td>5.2</td>\n",
       "      <td>2.0</td>\n",
       "      <td>virginica</td>\n",
       "    </tr>\n",
       "    <tr>\n",
       "      <th>148</th>\n",
       "      <td>6.2</td>\n",
       "      <td>3.4</td>\n",
       "      <td>5.4</td>\n",
       "      <td>2.3</td>\n",
       "      <td>virginica</td>\n",
       "    </tr>\n",
       "    <tr>\n",
       "      <th>149</th>\n",
       "      <td>5.9</td>\n",
       "      <td>3.0</td>\n",
       "      <td>5.1</td>\n",
       "      <td>1.8</td>\n",
       "      <td>virginica</td>\n",
       "    </tr>\n",
       "  </tbody>\n",
       "</table>\n",
       "<p>150 rows × 5 columns</p>\n",
       "</div>"
      ],
      "text/plain": [
       "     sepal_length  sepal_width  petal_length  petal_width    species\n",
       "0             5.1          3.5           1.4          0.2     setosa\n",
       "1             4.9          3.0           1.4          0.2     setosa\n",
       "2             4.7          3.2           1.3          0.2     setosa\n",
       "3             4.6          3.1           1.5          0.2     setosa\n",
       "4             5.0          3.6           1.4          0.2     setosa\n",
       "..            ...          ...           ...          ...        ...\n",
       "145           6.7          3.0           5.2          2.3  virginica\n",
       "146           6.3          2.5           5.0          1.9  virginica\n",
       "147           6.5          3.0           5.2          2.0  virginica\n",
       "148           6.2          3.4           5.4          2.3  virginica\n",
       "149           5.9          3.0           5.1          1.8  virginica\n",
       "\n",
       "[150 rows x 5 columns]"
      ]
     },
     "execution_count": 6,
     "metadata": {},
     "output_type": "execute_result"
    }
   ],
   "source": [
    "iris"
   ]
  },
  {
   "cell_type": "code",
   "execution_count": 7,
   "id": "07c5d1d5-8265-4094-a3b9-43dc6da2daef",
   "metadata": {
    "tags": []
   },
   "outputs": [
    {
     "name": "stdout",
     "output_type": "stream",
     "text": [
      "sepal_length       4.6\n",
      "sepal_width        3.4\n",
      "petal_length       1.4\n",
      "petal_width        0.3\n",
      "species         setosa\n",
      "Name: 6, dtype: object\n"
     ]
    },
    {
     "name": "stderr",
     "output_type": "stream",
     "text": [
      "C:\\Users\\A052080\\AppData\\Local\\Temp\\ipykernel_14568\\3908002191.py:22: SettingWithCopyWarning: \n",
      "A value is trying to be set on a copy of a slice from a DataFrame\n",
      "\n",
      "See the caveats in the documentation: https://pandas.pydata.org/pandas-docs/stable/user_guide/indexing.html#returning-a-view-versus-a-copy\n",
      "  xt[\"species\"]=Counter(frequence).most_common(1)[0][0] #je prend l'espèce de fleur qui a le plus de voisins dans la liste et je change l'espèce de\n"
     ]
    },
    {
     "data": {
      "text/plain": [
       "sepal_length       4.6\n",
       "sepal_width        3.4\n",
       "petal_length       1.4\n",
       "petal_width        0.3\n",
       "species         setosa\n",
       "Name: 6, dtype: object"
      ]
     },
     "execution_count": 7,
     "metadata": {},
     "output_type": "execute_result"
    }
   ],
   "source": [
    "import numpy as np\n",
    "from collections import Counter \n",
    "import random\n",
    "\"\"\"\n",
    "Cette fonction est l'algorithme kppv (k plus proche voisins) pour la dataframe Iris\n",
    ":param data la base de donnée\n",
    ":param xt : la donnée test\n",
    ":param k : le nombre de voisins les plus proches\n",
    ":param d : la fonction de calcule de distance (j'en ai fait 3 Euclidienne,Manhattan,Hamming)\n",
    "\"\"\"\n",
    "def kppv(data,xt,k,d): \n",
    "    assert k < data.shape[0] #je vérifie que k < n  n étant la taille du jeu de donnée\n",
    "    resultat=[] #tableau des distances ainsi que l'espèce correspondant à la donnée comparer\n",
    "    frequence=[] #tableau de fréquence des espèces de fleurs\n",
    "    print(xt)\n",
    "    for index, row in data.iterrows(): \n",
    "        resultat.append((d(np.array((row[\"sepal_length\"], row[\"petal_length\"])),(xt[\"sepal_length\"],xt[\"petal_length\"])),row[\"species\"]))\n",
    "        #le résultat est sous la forme d'un tuple (distance,espèce)\n",
    "    resultat.sort() #je trie par ordre croissant\n",
    "    resultat=resultat[:k] #je prend que les k premiers qui seront les k plus proches voisins\n",
    "    frequence=[x[1] for x in resultat] #je prend que les espèces de fleurs\n",
    "    xt[\"species\"]=Counter(frequence).most_common(1)[0][0] #je prend l'espèce de fleur qui a le plus de voisins dans la liste et je change l'espèce de\n",
    "    #la donnée test\n",
    "    return xt #je sais pas trop quoi renvoyer du coup je renvoie la donnée test\n",
    "\n",
    "test_iris=iris.sample(20)\n",
    "kppv(test_iris,test_iris.iloc[10],7,dist_euclid)\n",
    "\n",
    "        \n",
    "    "
   ]
  },
  {
   "cell_type": "markdown",
   "id": "0cd06395-9465-4764-887b-12a862a8420b",
   "metadata": {},
   "source": [
    "<h1> ZEROR </h1>"
   ]
  },
  {
   "cell_type": "code",
   "execution_count": 7,
   "id": "175b1d97-663a-4b4b-a613-7162b9028b3e",
   "metadata": {},
   "outputs": [
    {
     "data": {
      "text/plain": [
       "'setosa'"
      ]
     },
     "execution_count": 7,
     "metadata": {},
     "output_type": "execute_result"
    }
   ],
   "source": [
    "import numpy as np\n",
    "from collections import Counter \n",
    "\"\"\"\n",
    "Cette fonction correspond à l'algorithme de classification zeroR pour le jeu de donnée Iris en fonction de la fréquence des espèces\n",
    ":param data le jeu de donnée\n",
    "\"\"\"\n",
    "def zeroR(data):\n",
    "    frequence=data[\"species\"]\n",
    "    return Counter(frequence).most_common(1)[0][0]\n",
    "\n",
    "zeroR(iris)"
   ]
  },
  {
   "cell_type": "markdown",
   "id": "113c95e4-9a49-4361-a8fa-183ec23ec2b7",
   "metadata": {},
   "source": [
    "<h1>ONER</h1>"
   ]
  },
  {
   "cell_type": "code",
   "execution_count": 7,
   "id": "5361ef92-fe91-48c6-bc5c-911cbefb6480",
   "metadata": {
    "tags": []
   },
   "outputs": [],
   "source": [
    "import numpy as np\n",
    "from collections import Counter \n",
    "from fractions import Fraction\n",
    "\"\"\"\n",
    "Cette fonction représente l'algorithm ONER pour tous les jeux de donnée en fonction d'une colonne\n",
    ":param data le jeu de donnée iris\n",
    "\"\"\"\n",
    "def oneR(data,classe):\n",
    "    regles=[] #les règles que je vais stocker\n",
    "    tauxErreur=1 #et le taux d'erreur\n",
    "    dataWOS=data.drop(classe,axis=1)\n",
    "    #dataWOS = dataWithOutSpecies le jeu de donnée sans la colonne espèce\n",
    "    for (columnName, columnData) in dataWOS.items(): #pour chaque colonne je fais la fonction frequence qui retourne un tuple (regles,tauxErreur)\n",
    "        tmp=frequence(data,columnData,columnName,data[classe])\n",
    "        if tmp[1]<tauxErreur: \n",
    "            regles=tmp[0]\n",
    "            tauxErreur=tmp[1]\n",
    "    return (regles,tauxErreur)\n",
    "\n",
    "def frequence(data,featureData,featureName,classData):\n",
    "    tab=[]\n",
    "    groups={}\n",
    "    freq=[]\n",
    "    regles=[]\n",
    "    ind=0\n",
    "    for value in featureData: #je parcours chaque valeur de la feature \n",
    "        tab.append((value,classData.loc[ind])) #je stock dans mon tableau tab un tuple (valeur,espèce de fleur)\n",
    "        ind+=1\n",
    "        \n",
    "    for xx, yy in tab: #je regroupe dans un dictionnaire en mettant (valeur : [espèce]) key=valeur value=[espèce]\n",
    "        tmp = groups.get(xx, [])\n",
    "        tmp.append(yy)\n",
    "        groups[xx] = tmp\n",
    "        \n",
    "    for key,value in groups.items():#pour chaque élément de mon dictionnaire\n",
    "        class_most_freq=Counter(value).most_common()[0] #je prend l'espèce la plus commune pour chaque valeur\n",
    "        class_freq=Counter(value) \n",
    "        if len(class_freq)!=1 :\n",
    "            freq.append(list(class_freq.values())[-1]) #je l'ajoute dans un tableau de frequence pour faire le calcul de taux d'erreur\n",
    "        regle=f\"SI {featureName} = {key} ALORS {class_most_freq[0]}\" #je créé ma règle\n",
    "        regles.append(regle) #je l'ajoute dans mon tableau de règles\n",
    "    tauxErreur=Fraction(sum(freq),len(featureData))\n",
    "    return (regles,tauxErreur) #je renvoie un tuple (regles,taux d'erreur)\n",
    "\n",
    "   "
   ]
  },
  {
   "cell_type": "code",
   "execution_count": 8,
   "id": "c78cfc62-1b4e-45d7-a8ab-f33e4307dcac",
   "metadata": {
    "tags": []
   },
   "outputs": [
    {
     "data": {
      "text/html": [
       "<div>\n",
       "<style scoped>\n",
       "    .dataframe tbody tr th:only-of-type {\n",
       "        vertical-align: middle;\n",
       "    }\n",
       "\n",
       "    .dataframe tbody tr th {\n",
       "        vertical-align: top;\n",
       "    }\n",
       "\n",
       "    .dataframe thead th {\n",
       "        text-align: right;\n",
       "    }\n",
       "</style>\n",
       "<table border=\"1\" class=\"dataframe\">\n",
       "  <thead>\n",
       "    <tr style=\"text-align: right;\">\n",
       "      <th></th>\n",
       "      <th>Outlook</th>\n",
       "      <th>Temp</th>\n",
       "      <th>Humidity</th>\n",
       "      <th>Windy</th>\n",
       "      <th>Play Golf</th>\n",
       "    </tr>\n",
       "  </thead>\n",
       "  <tbody>\n",
       "    <tr>\n",
       "      <th>0</th>\n",
       "      <td>Rainy</td>\n",
       "      <td>Hot</td>\n",
       "      <td>High</td>\n",
       "      <td>False</td>\n",
       "      <td>No</td>\n",
       "    </tr>\n",
       "    <tr>\n",
       "      <th>1</th>\n",
       "      <td>Rainy</td>\n",
       "      <td>Hot</td>\n",
       "      <td>High</td>\n",
       "      <td>True</td>\n",
       "      <td>No</td>\n",
       "    </tr>\n",
       "    <tr>\n",
       "      <th>2</th>\n",
       "      <td>Overcast</td>\n",
       "      <td>Hot</td>\n",
       "      <td>High</td>\n",
       "      <td>False</td>\n",
       "      <td>Yes</td>\n",
       "    </tr>\n",
       "    <tr>\n",
       "      <th>3</th>\n",
       "      <td>Sunny</td>\n",
       "      <td>Mild</td>\n",
       "      <td>High</td>\n",
       "      <td>False</td>\n",
       "      <td>Yes</td>\n",
       "    </tr>\n",
       "    <tr>\n",
       "      <th>4</th>\n",
       "      <td>Sunny</td>\n",
       "      <td>Cool</td>\n",
       "      <td>Normal</td>\n",
       "      <td>False</td>\n",
       "      <td>Yes</td>\n",
       "    </tr>\n",
       "    <tr>\n",
       "      <th>5</th>\n",
       "      <td>Sunny</td>\n",
       "      <td>Cool</td>\n",
       "      <td>Normal</td>\n",
       "      <td>True</td>\n",
       "      <td>No</td>\n",
       "    </tr>\n",
       "    <tr>\n",
       "      <th>6</th>\n",
       "      <td>Overcast</td>\n",
       "      <td>Cool</td>\n",
       "      <td>Normal</td>\n",
       "      <td>True</td>\n",
       "      <td>Yes</td>\n",
       "    </tr>\n",
       "    <tr>\n",
       "      <th>7</th>\n",
       "      <td>Rainy</td>\n",
       "      <td>Mild</td>\n",
       "      <td>High</td>\n",
       "      <td>False</td>\n",
       "      <td>No</td>\n",
       "    </tr>\n",
       "    <tr>\n",
       "      <th>8</th>\n",
       "      <td>Rainy</td>\n",
       "      <td>Cool</td>\n",
       "      <td>Normal</td>\n",
       "      <td>False</td>\n",
       "      <td>Yes</td>\n",
       "    </tr>\n",
       "    <tr>\n",
       "      <th>9</th>\n",
       "      <td>Sunny</td>\n",
       "      <td>Mild</td>\n",
       "      <td>Normal</td>\n",
       "      <td>False</td>\n",
       "      <td>Yes</td>\n",
       "    </tr>\n",
       "    <tr>\n",
       "      <th>10</th>\n",
       "      <td>Rainy</td>\n",
       "      <td>Mild</td>\n",
       "      <td>Normal</td>\n",
       "      <td>True</td>\n",
       "      <td>Yes</td>\n",
       "    </tr>\n",
       "    <tr>\n",
       "      <th>11</th>\n",
       "      <td>Overcast</td>\n",
       "      <td>Mild</td>\n",
       "      <td>High</td>\n",
       "      <td>True</td>\n",
       "      <td>Yes</td>\n",
       "    </tr>\n",
       "    <tr>\n",
       "      <th>12</th>\n",
       "      <td>Overcast</td>\n",
       "      <td>Hot</td>\n",
       "      <td>Normal</td>\n",
       "      <td>False</td>\n",
       "      <td>Yes</td>\n",
       "    </tr>\n",
       "    <tr>\n",
       "      <th>13</th>\n",
       "      <td>Sunny</td>\n",
       "      <td>Mild</td>\n",
       "      <td>High</td>\n",
       "      <td>True</td>\n",
       "      <td>No</td>\n",
       "    </tr>\n",
       "  </tbody>\n",
       "</table>\n",
       "</div>"
      ],
      "text/plain": [
       "     Outlook  Temp Humidity  Windy Play Golf\n",
       "0      Rainy   Hot     High  False        No\n",
       "1      Rainy   Hot     High   True        No\n",
       "2   Overcast   Hot     High  False       Yes\n",
       "3      Sunny  Mild     High  False       Yes\n",
       "4      Sunny  Cool   Normal  False       Yes\n",
       "5      Sunny  Cool   Normal   True        No\n",
       "6   Overcast  Cool   Normal   True       Yes\n",
       "7      Rainy  Mild     High  False        No\n",
       "8      Rainy  Cool   Normal  False       Yes\n",
       "9      Sunny  Mild   Normal  False       Yes\n",
       "10     Rainy  Mild   Normal   True       Yes\n",
       "11  Overcast  Mild     High   True       Yes\n",
       "12  Overcast   Hot   Normal  False       Yes\n",
       "13     Sunny  Mild     High   True        No"
      ]
     },
     "execution_count": 8,
     "metadata": {},
     "output_type": "execute_result"
    }
   ],
   "source": [
    "golf=pd.read_csv(\"golf.csv\")\n",
    "golf"
   ]
  },
  {
   "cell_type": "code",
   "execution_count": 9,
   "id": "04093429-68fe-499e-85aa-71f952f795ec",
   "metadata": {
    "tags": []
   },
   "outputs": [
    {
     "data": {
      "text/plain": [
       "(['SI Outlook = Rainy ALORS No',\n",
       "  'SI Outlook = Overcast ALORS Yes',\n",
       "  'SI Outlook = Sunny ALORS Yes'],\n",
       " Fraction(2, 7))"
      ]
     },
     "execution_count": 9,
     "metadata": {},
     "output_type": "execute_result"
    }
   ],
   "source": [
    "oneR(golf,'Play Golf')"
   ]
  },
  {
   "cell_type": "code",
   "execution_count": 10,
   "id": "285f7bb4-c70f-4a33-b0fd-8cde92b07a7c",
   "metadata": {},
   "outputs": [
    {
     "data": {
      "text/html": [
       "<div>\n",
       "<style scoped>\n",
       "    .dataframe tbody tr th:only-of-type {\n",
       "        vertical-align: middle;\n",
       "    }\n",
       "\n",
       "    .dataframe tbody tr th {\n",
       "        vertical-align: top;\n",
       "    }\n",
       "\n",
       "    .dataframe thead th {\n",
       "        text-align: right;\n",
       "    }\n",
       "</style>\n",
       "<table border=\"1\" class=\"dataframe\">\n",
       "  <thead>\n",
       "    <tr style=\"text-align: right;\">\n",
       "      <th></th>\n",
       "      <th>survived</th>\n",
       "      <th>pclass</th>\n",
       "      <th>name</th>\n",
       "      <th>sex</th>\n",
       "      <th>age</th>\n",
       "      <th>sibsp</th>\n",
       "      <th>parch</th>\n",
       "      <th>ticket</th>\n",
       "      <th>fare</th>\n",
       "      <th>cabin</th>\n",
       "      <th>embarked</th>\n",
       "    </tr>\n",
       "  </thead>\n",
       "  <tbody>\n",
       "    <tr>\n",
       "      <th>0</th>\n",
       "      <td>0</td>\n",
       "      <td>3</td>\n",
       "      <td>Braund, Mr. Owen Harris</td>\n",
       "      <td>male</td>\n",
       "      <td>22.0</td>\n",
       "      <td>1</td>\n",
       "      <td>0</td>\n",
       "      <td>A/5 21171</td>\n",
       "      <td>7.2500</td>\n",
       "      <td>NaN</td>\n",
       "      <td>S</td>\n",
       "    </tr>\n",
       "    <tr>\n",
       "      <th>1</th>\n",
       "      <td>1</td>\n",
       "      <td>1</td>\n",
       "      <td>Cumings, Mrs. John Bradley (Florence Briggs Th...</td>\n",
       "      <td>female</td>\n",
       "      <td>38.0</td>\n",
       "      <td>1</td>\n",
       "      <td>0</td>\n",
       "      <td>PC 17599</td>\n",
       "      <td>71.2833</td>\n",
       "      <td>C85</td>\n",
       "      <td>C</td>\n",
       "    </tr>\n",
       "    <tr>\n",
       "      <th>2</th>\n",
       "      <td>1</td>\n",
       "      <td>3</td>\n",
       "      <td>Heikkinen, Miss. Laina</td>\n",
       "      <td>female</td>\n",
       "      <td>26.0</td>\n",
       "      <td>0</td>\n",
       "      <td>0</td>\n",
       "      <td>STON/O2. 3101282</td>\n",
       "      <td>7.9250</td>\n",
       "      <td>NaN</td>\n",
       "      <td>S</td>\n",
       "    </tr>\n",
       "    <tr>\n",
       "      <th>3</th>\n",
       "      <td>1</td>\n",
       "      <td>1</td>\n",
       "      <td>Futrelle, Mrs. Jacques Heath (Lily May Peel)</td>\n",
       "      <td>female</td>\n",
       "      <td>35.0</td>\n",
       "      <td>1</td>\n",
       "      <td>0</td>\n",
       "      <td>113803</td>\n",
       "      <td>53.1000</td>\n",
       "      <td>C123</td>\n",
       "      <td>S</td>\n",
       "    </tr>\n",
       "    <tr>\n",
       "      <th>4</th>\n",
       "      <td>0</td>\n",
       "      <td>3</td>\n",
       "      <td>Allen, Mr. William Henry</td>\n",
       "      <td>male</td>\n",
       "      <td>35.0</td>\n",
       "      <td>0</td>\n",
       "      <td>0</td>\n",
       "      <td>373450</td>\n",
       "      <td>8.0500</td>\n",
       "      <td>NaN</td>\n",
       "      <td>S</td>\n",
       "    </tr>\n",
       "    <tr>\n",
       "      <th>...</th>\n",
       "      <td>...</td>\n",
       "      <td>...</td>\n",
       "      <td>...</td>\n",
       "      <td>...</td>\n",
       "      <td>...</td>\n",
       "      <td>...</td>\n",
       "      <td>...</td>\n",
       "      <td>...</td>\n",
       "      <td>...</td>\n",
       "      <td>...</td>\n",
       "      <td>...</td>\n",
       "    </tr>\n",
       "    <tr>\n",
       "      <th>886</th>\n",
       "      <td>0</td>\n",
       "      <td>2</td>\n",
       "      <td>Montvila, Rev. Juozas</td>\n",
       "      <td>male</td>\n",
       "      <td>27.0</td>\n",
       "      <td>0</td>\n",
       "      <td>0</td>\n",
       "      <td>211536</td>\n",
       "      <td>13.0000</td>\n",
       "      <td>NaN</td>\n",
       "      <td>S</td>\n",
       "    </tr>\n",
       "    <tr>\n",
       "      <th>887</th>\n",
       "      <td>1</td>\n",
       "      <td>1</td>\n",
       "      <td>Graham, Miss. Margaret Edith</td>\n",
       "      <td>female</td>\n",
       "      <td>19.0</td>\n",
       "      <td>0</td>\n",
       "      <td>0</td>\n",
       "      <td>112053</td>\n",
       "      <td>30.0000</td>\n",
       "      <td>B42</td>\n",
       "      <td>S</td>\n",
       "    </tr>\n",
       "    <tr>\n",
       "      <th>888</th>\n",
       "      <td>0</td>\n",
       "      <td>3</td>\n",
       "      <td>Johnston, Miss. Catherine Helen \"Carrie\"</td>\n",
       "      <td>female</td>\n",
       "      <td>NaN</td>\n",
       "      <td>1</td>\n",
       "      <td>2</td>\n",
       "      <td>W./C. 6607</td>\n",
       "      <td>23.4500</td>\n",
       "      <td>NaN</td>\n",
       "      <td>S</td>\n",
       "    </tr>\n",
       "    <tr>\n",
       "      <th>889</th>\n",
       "      <td>1</td>\n",
       "      <td>1</td>\n",
       "      <td>Behr, Mr. Karl Howell</td>\n",
       "      <td>male</td>\n",
       "      <td>26.0</td>\n",
       "      <td>0</td>\n",
       "      <td>0</td>\n",
       "      <td>111369</td>\n",
       "      <td>30.0000</td>\n",
       "      <td>C148</td>\n",
       "      <td>C</td>\n",
       "    </tr>\n",
       "    <tr>\n",
       "      <th>890</th>\n",
       "      <td>0</td>\n",
       "      <td>3</td>\n",
       "      <td>Dooley, Mr. Patrick</td>\n",
       "      <td>male</td>\n",
       "      <td>32.0</td>\n",
       "      <td>0</td>\n",
       "      <td>0</td>\n",
       "      <td>370376</td>\n",
       "      <td>7.7500</td>\n",
       "      <td>NaN</td>\n",
       "      <td>Q</td>\n",
       "    </tr>\n",
       "  </tbody>\n",
       "</table>\n",
       "<p>891 rows × 11 columns</p>\n",
       "</div>"
      ],
      "text/plain": [
       "     survived  pclass                                               name  \\\n",
       "0           0       3                            Braund, Mr. Owen Harris   \n",
       "1           1       1  Cumings, Mrs. John Bradley (Florence Briggs Th...   \n",
       "2           1       3                             Heikkinen, Miss. Laina   \n",
       "3           1       1       Futrelle, Mrs. Jacques Heath (Lily May Peel)   \n",
       "4           0       3                           Allen, Mr. William Henry   \n",
       "..        ...     ...                                                ...   \n",
       "886         0       2                              Montvila, Rev. Juozas   \n",
       "887         1       1                       Graham, Miss. Margaret Edith   \n",
       "888         0       3           Johnston, Miss. Catherine Helen \"Carrie\"   \n",
       "889         1       1                              Behr, Mr. Karl Howell   \n",
       "890         0       3                                Dooley, Mr. Patrick   \n",
       "\n",
       "        sex   age  sibsp  parch            ticket     fare cabin embarked  \n",
       "0      male  22.0      1      0         A/5 21171   7.2500   NaN        S  \n",
       "1    female  38.0      1      0          PC 17599  71.2833   C85        C  \n",
       "2    female  26.0      0      0  STON/O2. 3101282   7.9250   NaN        S  \n",
       "3    female  35.0      1      0            113803  53.1000  C123        S  \n",
       "4      male  35.0      0      0            373450   8.0500   NaN        S  \n",
       "..      ...   ...    ...    ...               ...      ...   ...      ...  \n",
       "886    male  27.0      0      0            211536  13.0000   NaN        S  \n",
       "887  female  19.0      0      0            112053  30.0000   B42        S  \n",
       "888  female   NaN      1      2        W./C. 6607  23.4500   NaN        S  \n",
       "889    male  26.0      0      0            111369  30.0000  C148        C  \n",
       "890    male  32.0      0      0            370376   7.7500   NaN        Q  \n",
       "\n",
       "[891 rows x 11 columns]"
      ]
     },
     "execution_count": 10,
     "metadata": {},
     "output_type": "execute_result"
    }
   ],
   "source": [
    "import numpy as np\n",
    "import pandas as pd\n",
    "url = \"https://raw.github.com/mattdelhey/kaggle-titanic/master/Data/train.csv\"\n",
    "titanic = pd.read_csv(url)\n",
    "titanic"
   ]
  },
  {
   "cell_type": "markdown",
   "id": "bc003f33-491e-48d0-b166-ce1d35d0a096",
   "metadata": {
    "tags": []
   },
   "source": [
    "<h1>NAIVE BAYES</h1>"
   ]
  },
  {
   "cell_type": "code",
   "execution_count": 11,
   "id": "07ac1300-31ec-4860-99b7-d4eec72453c3",
   "metadata": {},
   "outputs": [
    {
     "data": {
      "text/plain": [
       "0.5510662177328844"
      ]
     },
     "execution_count": 11,
     "metadata": {},
     "output_type": "execute_result"
    }
   ],
   "source": [
    "\"\"\"\n",
    "fonction qui calcule la probabilité à priori\n",
    "\"\"\"\n",
    "def proba_priori(data,classe,variable):\n",
    "    return data.groupby(classe).size()[variable]/len(data[classe])\n",
    "proba_priori(titanic,\"pclass\",3)"
   ]
  },
  {
   "cell_type": "code",
   "execution_count": 12,
   "id": "38d42940-76d0-46fd-99d7-6c008a37e183",
   "metadata": {
    "tags": []
   },
   "outputs": [
    {
     "name": "stdout",
     "output_type": "stream",
     "text": [
      "0.6990151199889065\n",
      "2.308641975308642\n"
     ]
    }
   ],
   "source": [
    "import numpy as np\n",
    "def moyenne(nombres):\n",
    "    return sum(nombres)/len(nombres)\n",
    "def variance(nombres):\n",
    "    moy=moyenne(nombres)\n",
    "    variance=sum([(x-moy)**2 for x in nombres]) / float(len(nombres)-1)\n",
    "    return variance\n",
    "print(variance(titanic.pclass))\n",
    "print(moyenne(titanic.pclass))"
   ]
  },
  {
   "cell_type": "code",
   "execution_count": 13,
   "id": "c792a510-965a-4136-8b99-5317e2560e83",
   "metadata": {
    "tags": []
   },
   "outputs": [
    {
     "name": "stdout",
     "output_type": "stream",
     "text": [
      "0.3499512206526093\n",
      "0.09893649836374452\n",
      "0.5177132923138529\n"
     ]
    }
   ],
   "source": [
    "\"\"\"\n",
    "fonction qui calcule le Gaussian\n",
    "\"\"\"\n",
    "def gaussian(data,classe,x):\n",
    "    moy=moyenne(data[classe])\n",
    "    var = variance(data[classe])\n",
    "    num = np.exp(-((x - moy) ** 2) / (2 * var**2))\n",
    "    den = np.sqrt(2 * np.pi )* var\n",
    "    return num / den\n",
    "result=[]\n",
    "for x in titanic.pclass.unique() :\n",
    "    print(gaussian(titanic,'pclass',x))"
   ]
  },
  {
   "cell_type": "code",
   "execution_count": 14,
   "id": "a7026021-f24c-4b73-86e6-079c973a15a3",
   "metadata": {
    "tags": []
   },
   "outputs": [
    {
     "name": "stdout",
     "output_type": "stream",
     "text": [
      "102    3.0\n",
      "39     3.4\n",
      "11     3.4\n",
      "121    2.8\n",
      "13     3.0\n",
      "73     2.8\n",
      "85     3.4\n",
      "125    3.2\n",
      "65     3.1\n",
      "15     4.4\n",
      "118    2.6\n",
      "32     4.1\n",
      "146    2.5\n",
      "111    2.7\n",
      "89     2.5\n",
      "117    3.8\n",
      "45     3.0\n",
      "55     2.8\n",
      "51     3.2\n",
      "104    3.0\n",
      "Name: sepal_width, dtype: float64\n",
      "0      3.5\n",
      "1      3.0\n",
      "2      3.2\n",
      "3      3.1\n",
      "4      3.6\n",
      "      ... \n",
      "145    3.0\n",
      "146    2.5\n",
      "147    3.0\n",
      "148    3.4\n",
      "149    3.0\n",
      "Name: sepal_width, Length: 150, dtype: float64\n"
     ]
    }
   ],
   "source": [
    "\"\"\"\n",
    "fonction qui renvoie la clé d'après une valeur\n",
    "\"\"\"\n",
    "\n",
    "def get_key(dic,x):\n",
    "    for i in dic:\n",
    "        for j in dic[i]:\n",
    "            if j == x :\n",
    "                return i\n",
    "    return None\n",
    "\"\"\"\n",
    "fonction qui fait la classification naïve de Bayes\n",
    ":param data mon corpus/dataset\n",
    ":param classe le nom de la feature \n",
    "\"\"\"\n",
    "def naiveBayes(data,classe):\n",
    "    posterioris=[] #je stock tous les probabilités à posteriori\n",
    "    dictio={} #ce dictionnaire me permettre de ranger les proba à posteriori par feature\n",
    "    dataWOS=data.drop(classe,axis=1)\n",
    "    for columnName,columnData in dataWOS.items(): #je parcours par feature\n",
    "        tmp=[] #il me sert à stocker les proba à posteriori pour que je les range dans le dictionnaire\n",
    "        for x in columnData:\n",
    "            apriori=np.log(proba_priori(data,columnName,x)) #calcule proba à priori\n",
    "            posteriori=np.sum(np.log(gaussian(data,columnName, x))) #application de l'équation.\n",
    "            posteriori = posteriori + apriori\n",
    "            tmp.append(posteriori)\n",
    "            posterioris.append(posteriori)\n",
    "        dictio[columnName]=tmp #je les range dans mon dictionnaire par feature\n",
    "    result=get_key(dictio,posterioris[np.argmax(posterioris)]) #la classe trouvé d'après la valeur trouvé par l'indice de argmax\n",
    "    return data[result]\n",
    "            \n",
    "#Je test sur le dataset Iris vu que dans le dataset Titanic il y'a \n",
    "print(naiveBayes(iris.sample(20),'species'))\n",
    "print(naiveBayes(iris,'species'))"
   ]
  },
  {
   "cell_type": "markdown",
   "id": "9393044d-a51f-4293-aef5-a8d664408f2b",
   "metadata": {},
   "source": [
    "<h1> K-MOYENNES </h1>"
   ]
  },
  {
   "cell_type": "code",
   "execution_count": 288,
   "id": "493f9159-4a4f-4195-891f-898c4be28a55",
   "metadata": {},
   "outputs": [
    {
     "name": "stdout",
     "output_type": "stream",
     "text": [
      "[[5, 4, 5, 0], [7, 4, 3, 1], [5, 2, 6, 1]]\n",
      "[[5, 4, 5, 0], [7, 4, 3, 1], [5, 2, 6, 1]]\n",
      "[[5, 4, 5, 0], [7, 4, 3, 1], [5, 2, 6, 1]]\n",
      "[[7, 4, 5, 2], [5, 4, 4, 0], [7, 3, 1, 0]]\n"
     ]
    },
    {
     "data": {
      "image/png": "[encoded data removed]",
      "text/plain": [
       "<Figure size 640x480 with 1 Axes>"
      ]
     },
     "metadata": {},
     "output_type": "display_data"
    },
    {
     "name": "stdout",
     "output_type": "stream",
     "text": [
      "[[7 4 5 2]\n",
      " [5 4 4 0]\n",
      " [7 3 1 0]]\n"
     ]
    },
    {
     "data": {
      "text/plain": [
       "(array([[7, 4, 5, 2],\n",
       "        [5, 4, 4, 0],\n",
       "        [7, 3, 1, 0]]),\n",
       " [4.111607142857143, 4.0193877551020405, 2.842123287671233],\n",
       " 2)"
      ]
     },
     "execution_count": 288,
     "metadata": {},
     "output_type": "execute_result"
    }
   ],
   "source": [
    "import random\n",
    "def fonction_erreur(data,A,mu):\n",
    "    result=0\n",
    "    for i in range(len(mu)):\n",
    "        for j in A[i]:\n",
    "            result+=np.sum(np.square(np.array(j)-mu[i]))\n",
    "    return result\n",
    "def affectation_classes(data,A,mu):\n",
    "    liste_per_classes = {i: [] for i in range(len(mu))}\n",
    "    for index, row in data.iterrows():\n",
    "        d=(dist_euclid(mu[0],row),row,0)\n",
    "        if(len(mu)>1):\n",
    "            for i in range(1,len(mu)):\n",
    "                if d[0]<dist_euclid(mu[i],row):\n",
    "                    d=(dist_euclid(mu[i],row),row,i)\n",
    "        liste_per_classes[d[2]].append(d[1])      \n",
    "    for i in range(len(mu)):\n",
    "        A.append(liste_per_classes[i])\n",
    "    return A\n",
    "\n",
    "def calcul_moy_mu(data,A,mu):\n",
    "    moyenne_mu = []\n",
    "    for i in range(len(mu)):\n",
    "        moyenne_mu.append(np.mean(np.mean(A[i])))\n",
    "    return moyenne_mu\n",
    "    \n",
    "def k_moyennes(data,k):\n",
    "    assert k < data.shape[0] #je vérifie que k < n  n étant la taille du jeu de donnée\n",
    "    mu=[] #matrice de centroïdes\n",
    "    A= [] #matrice d'affectation\n",
    "    coordonnees_centroides=[]\n",
    "    dataWOS=data.drop('species',axis=1) #j'enlève la colonne des espèces de fleurs\n",
    "    for i in range(k):\n",
    "        coordonnees_centroides=[]\n",
    "        for columnName,columnData in dataWOS.items(): #je parcours par feature\n",
    "            coordonnees_centroides.append(random.randint(int(min(dataWOS[columnName])),int(max(dataWOS[columnName]))))\n",
    "        mu.append(coordonnees_centroides)\n",
    "    print(mu)\n",
    "    A=affectation_classes(dataWO-)àç!,A,mu)\n",
    "    print(mu)\n",
    "    old_A=0\n",
    "    moyenne_mu=calcul_moy_mu(dataWOS,A,mu)\n",
    "    print(mu)\n",
    "    nb_iter=1\n",
    "    while(old_A!=A):\n",
    "        mu=[]\n",
    "        nb_iter+=1\n",
    "        old_A=A\n",
    "        for i in range(k):\n",
    "            coordonnees_centroides=[]\n",
    "            for columnName,columnData in dataWOS.items(): #je parcours par feature\n",
    "                coordonnees_centroides.append(random.randint(int(min(dataWOS[columnName])),int(max(dataWOS[columnName]))))\n",
    "            mu.append(coordonnees_centroides)\n",
    "        A=affectation_classes(dataWOS,A,mu)\n",
    "        moyenne_mu=calcul_moy_mu(dataWOS,A,mu)\n",
    "    print(mu)\n",
    "    fig = plt.figure()\n",
    "    ax = fig.add_subplot(111)  # Créer un sous-plot 3D\n",
    "\n",
    "    \n",
    "    \n",
    "    # Afficher les points de données\n",
    "    ax.scatter(dataWOS.iloc[:, 0], dataWOS.iloc[:, 1], c='b', marker='o', label='Data Points')\n",
    "\n",
    "    # Afficher les centroïdes\n",
    "    mu = np.array(mu)\n",
    "    ax.scatter(mu[:,0], mu[:, 1], c='r', marker='X', s=200, label='Centroids')\n",
    "\n",
    "    ax.set_xlabel('Feature 1')\n",
    "    ax.set_ylabel('Feature 2')\n",
    "    ax.set_title('K-Means Clustering in 3D')\n",
    "    ax.legend()\n",
    "\n",
    "    plt.show()\n",
    "    print(mu)\n",
    "    return mu,moyenne_mu,nb_iter\n",
    "k_moyennes(iris,3)   "
   ]
  }
 ],
 "metadata": {
  "kernelspec": {
   "display_name": "Python 3 (ipykernel)",
   "language": "python",
   "name": "python3"
  },
  "language_info": {
   "codemirror_mode": {
    "name": "ipython",
    "version": 3
   },
   "file_extension": ".py",
   "mimetype": "text/x-python",
   "name": "python",
   "nbconvert_exporter": "python",
   "pygments_lexer": "ipython3",
   "version": "3.11.4"
  }
 },
 "nbformat": 4,
 "nbformat_minor": 5
}
