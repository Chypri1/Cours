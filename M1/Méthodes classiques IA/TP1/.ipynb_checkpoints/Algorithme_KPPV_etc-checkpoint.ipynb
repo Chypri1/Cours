{
 "cells": [
  {
   "cell_type": "markdown",
   "id": "2b488a60-3e46-4e55-8a4c-4c2d5382f152",
   "metadata": {},
   "source": [
    "# TP1 - Méthodes classiques"
   ]
  },
  {
   "cell_type": "markdown",
   "id": "7dcdc45f-d7fb-46cd-8bba-d3271f6b5971",
   "metadata": {},
   "source": [
    "algorithme préalable:"
   ]
  },
  {
   "cell_type": "code",
   "execution_count": 1,
   "id": "81cb1e90-565e-413e-9e5a-0b0ab145af9f",
   "metadata": {},
   "outputs": [],
   "source": [
    "import numpy as np\n",
    "import matplotlib \n",
    "import pandas as pd"
   ]
  },
  {
   "cell_type": "code",
   "execution_count": 2,
   "id": "82ee8b3f-b750-497a-a071-423181bbc1e9",
   "metadata": {},
   "outputs": [],
   "source": [
    "\"\"\"\n",
    "Distance euclidienne : \n",
    "La distance euclidienne se calcule en soustrayant les coordonnées puis en les mettant au carré puis en additionnant les distances et de faire la racine du résultat \n",
    "\"\"\"\n",
    "\n",
    "def dist_euclid(p1,p2):\n",
    "    return np.sqrt(np.sum(np.square(p2-p1)))\n",
    "\n",
    "\"\"\"\n",
    "Distance de Manhattan :\n",
    "La distance de Manhattan se calcule en additionnant les coordonnées en abscisse et en ordonnée\n",
    "\"\"\"\n",
    "\n",
    "def distance_Manhattan(p1,p2):\n",
    "    if p1.shape == p2.shape :\n",
    "        for ii in range(p1.shape):\n",
    "            resultat += p2[i] - p1[i]\n",
    "        return resultat\n",
    "    else: # celui la ?\n",
    "        print(\"Vous devez prednre des points avec le même nombre de dimensions\")\n",
    "    \n",
    "\n",
    "\"\"\"\n",
    "Distance de Hamming :\n",
    "La distance de Hamming est le calcul d'une distance grâce à un XOR. \n",
    "Si les coordonnées sont les mêmes, alors cela vaut zéri sinon la valeur vaut un. Puis il faut faire l'addition des valeurs obtenus.\n",
    "\"\"\"\n",
    "\n",
    "def distance_Hamming(p1,p2):\n",
    "    if p1.shape == p2.shape :\n",
    "        return np.sum(p1^p2)\n",
    "    else :\n",
    "        print(\"Vous devez prendre des points avec le même nombre de dimensions\")\n",
    "\n",
    "\n",
    "\n",
    "            "
   ]
  },
  {
   "cell_type": "code",
   "execution_count": 3,
   "id": "b4a743bc-ec38-4216-bd2a-3c373a32bc67",
   "metadata": {},
   "outputs": [],
   "source": [
    "csv_url = 'https://archive.ics.uci.edu/ml/machine-learning-databases/iris/iris.data'\n",
    "col_names = ['Sepal_Length','Sepal_Width','Petal_Length','Petal_Width','Class']\n",
    "iris =  pd.read_csv(csv_url, names = col_names)"
   ]
  },
  {
   "cell_type": "markdown",
   "id": "8f729046-82f9-4f57-a56e-30c7ed4d2c02",
   "metadata": {},
   "source": [
    "### ALgorithme KPPV :\n",
    "En reconnaissance de forme, l'algorithme des k plus proches voisins (k-NN) est une méthode non paramétrique utilisée pour la classification et la régression. Dans les deux cas, il s'agit de classer l'entrée dans la catégorie à laquelle appartient les k plus proches voisins dans l'espace des caractéristiques identifiées par apprentissage."
   ]
  },
  {
   "cell_type": "code",
   "execution_count": 4,
   "id": "ca21e64f-b7d6-4424-afba-58def1acb5e3",
   "metadata": {},
   "outputs": [
    {
     "data": {
      "text/html": [
       "<div>\n",
       "<style scoped>\n",
       "    .dataframe tbody tr th:only-of-type {\n",
       "        vertical-align: middle;\n",
       "    }\n",
       "\n",
       "    .dataframe tbody tr th {\n",
       "        vertical-align: top;\n",
       "    }\n",
       "\n",
       "    .dataframe thead th {\n",
       "        text-align: right;\n",
       "    }\n",
       "</style>\n",
       "<table border=\"1\" class=\"dataframe\">\n",
       "  <thead>\n",
       "    <tr style=\"text-align: right;\">\n",
       "      <th></th>\n",
       "      <th>Sepal_Length</th>\n",
       "      <th>Sepal_Width</th>\n",
       "      <th>Petal_Length</th>\n",
       "      <th>Petal_Width</th>\n",
       "      <th>Class</th>\n",
       "    </tr>\n",
       "  </thead>\n",
       "  <tbody>\n",
       "    <tr>\n",
       "      <th>0</th>\n",
       "      <td>5.1</td>\n",
       "      <td>3.5</td>\n",
       "      <td>1.4</td>\n",
       "      <td>0.2</td>\n",
       "      <td>Iris-setosa</td>\n",
       "    </tr>\n",
       "    <tr>\n",
       "      <th>1</th>\n",
       "      <td>4.9</td>\n",
       "      <td>3.0</td>\n",
       "      <td>1.4</td>\n",
       "      <td>0.2</td>\n",
       "      <td>Iris-setosa</td>\n",
       "    </tr>\n",
       "    <tr>\n",
       "      <th>2</th>\n",
       "      <td>4.7</td>\n",
       "      <td>3.2</td>\n",
       "      <td>1.3</td>\n",
       "      <td>0.2</td>\n",
       "      <td>Iris-setosa</td>\n",
       "    </tr>\n",
       "    <tr>\n",
       "      <th>3</th>\n",
       "      <td>4.6</td>\n",
       "      <td>3.1</td>\n",
       "      <td>1.5</td>\n",
       "      <td>0.2</td>\n",
       "      <td>Iris-setosa</td>\n",
       "    </tr>\n",
       "    <tr>\n",
       "      <th>4</th>\n",
       "      <td>5.0</td>\n",
       "      <td>3.6</td>\n",
       "      <td>1.4</td>\n",
       "      <td>0.2</td>\n",
       "      <td>Iris-setosa</td>\n",
       "    </tr>\n",
       "    <tr>\n",
       "      <th>...</th>\n",
       "      <td>...</td>\n",
       "      <td>...</td>\n",
       "      <td>...</td>\n",
       "      <td>...</td>\n",
       "      <td>...</td>\n",
       "    </tr>\n",
       "    <tr>\n",
       "      <th>145</th>\n",
       "      <td>6.7</td>\n",
       "      <td>3.0</td>\n",
       "      <td>5.2</td>\n",
       "      <td>2.3</td>\n",
       "      <td>Iris-virginica</td>\n",
       "    </tr>\n",
       "    <tr>\n",
       "      <th>146</th>\n",
       "      <td>6.3</td>\n",
       "      <td>2.5</td>\n",
       "      <td>5.0</td>\n",
       "      <td>1.9</td>\n",
       "      <td>Iris-virginica</td>\n",
       "    </tr>\n",
       "    <tr>\n",
       "      <th>147</th>\n",
       "      <td>6.5</td>\n",
       "      <td>3.0</td>\n",
       "      <td>5.2</td>\n",
       "      <td>2.0</td>\n",
       "      <td>Iris-virginica</td>\n",
       "    </tr>\n",
       "    <tr>\n",
       "      <th>148</th>\n",
       "      <td>6.2</td>\n",
       "      <td>3.4</td>\n",
       "      <td>5.4</td>\n",
       "      <td>2.3</td>\n",
       "      <td>Iris-virginica</td>\n",
       "    </tr>\n",
       "    <tr>\n",
       "      <th>149</th>\n",
       "      <td>5.9</td>\n",
       "      <td>3.0</td>\n",
       "      <td>5.1</td>\n",
       "      <td>1.8</td>\n",
       "      <td>Iris-virginica</td>\n",
       "    </tr>\n",
       "  </tbody>\n",
       "</table>\n",
       "<p>150 rows × 5 columns</p>\n",
       "</div>"
      ],
      "text/plain": [
       "     Sepal_Length  Sepal_Width  Petal_Length  Petal_Width           Class\n",
       "0             5.1          3.5           1.4          0.2     Iris-setosa\n",
       "1             4.9          3.0           1.4          0.2     Iris-setosa\n",
       "2             4.7          3.2           1.3          0.2     Iris-setosa\n",
       "3             4.6          3.1           1.5          0.2     Iris-setosa\n",
       "4             5.0          3.6           1.4          0.2     Iris-setosa\n",
       "..            ...          ...           ...          ...             ...\n",
       "145           6.7          3.0           5.2          2.3  Iris-virginica\n",
       "146           6.3          2.5           5.0          1.9  Iris-virginica\n",
       "147           6.5          3.0           5.2          2.0  Iris-virginica\n",
       "148           6.2          3.4           5.4          2.3  Iris-virginica\n",
       "149           5.9          3.0           5.1          1.8  Iris-virginica\n",
       "\n",
       "[150 rows x 5 columns]"
      ]
     },
     "execution_count": 4,
     "metadata": {},
     "output_type": "execute_result"
    }
   ],
   "source": [
    "iris"
   ]
  },
  {
   "cell_type": "code",
   "execution_count": 5,
   "id": "bae1e6c0-daf2-46e0-944d-6b8fe4917e7f",
   "metadata": {},
   "outputs": [
    {
     "data": {
      "image/png": "[encoded data removed]",
      "text/plain": [
       "<Figure size 640x480 with 1 Axes>"
      ]
     },
     "metadata": {},
     "output_type": "display_data"
    }
   ],
   "source": [
    "import pandas\n",
    "import matplotlib.pyplot as plt\n",
    "# Importation des données\n",
    "iris = pandas.read_csv(\"iris.csv\")\n",
    "x = iris.loc[:,\"petal_length\"]\n",
    "y = iris.loc[:,\"petal_width\"]\n",
    "lab = iris.loc[:,\"species\"]\n",
    "# Affichage des données\n",
    "for e, c in [('setosa','g'), ('virginica', 'r'), ('versicolor', 'b')]:\n",
    "    plt.scatter(x[lab == e], y[lab == e], color = c, label = e)\n",
    "plt.legend()\n",
    "fig = plt.gcf()\n",
    "plt.show()"
   ]
  },
  {
   "cell_type": "code",
   "execution_count": 6,
   "id": "9cfcf5db-3acd-4e22-94ad-59b28bc2cc1f",
   "metadata": {},
   "outputs": [
    {
     "name": "stderr",
     "output_type": "stream",
     "text": [
      "/var/folders/ts/kww6z2z510xb35njpx1_8q8m0000gn/T/ipykernel_12957/1164803147.py:25: SettingWithCopyWarning: \n",
      "A value is trying to be set on a copy of a slice from a DataFrame\n",
      "\n",
      "See the caveats in the documentation: https://pandas.pydata.org/pandas-docs/stable/user_guide/indexing.html#returning-a-view-versus-a-copy\n",
      "  xt[\"species\"]=Counter(frequence).most_common(1)[0][0] #je prend l'espèce de fleur qui a le plus de voisins dans la liste et je change l'espèce de\n"
     ]
    },
    {
     "data": {
      "text/plain": [
       "sepal_length           7.0\n",
       "sepal_width            3.2\n",
       "petal_length           4.7\n",
       "petal_width            1.4\n",
       "species         versicolor\n",
       "Name: 50, dtype: object"
      ]
     },
     "execution_count": 6,
     "metadata": {},
     "output_type": "execute_result"
    }
   ],
   "source": [
    "def algo_KPPV(p1,K):\n",
    "    K_voisin=np.array(K)\n",
    "    for ii in iris:\n",
    "        min(distance_Euclidienne(p1,ii))\n",
    "\n",
    "import numpy as np\n",
    "from collections import Counter \n",
    "\"\"\"\n",
    "Cette fonction est l'algorithme kppv (k plus proche voisins) pour la dataframe Iris\n",
    ":param data la base de donnée\n",
    ":param xt : la donnée test\n",
    ":param k : le nombre de voisins les plus proches\n",
    ":param d : la fonction de calcule de distance (j'en ai fait 3 Euclidienne,Manhattan,Hamming)\n",
    "\"\"\"\n",
    "def kppv(data,xt,k,d): \n",
    "    assert k < data.shape[0] #je vérifie que k < n  n étant la taille du jeu de donnée\n",
    "    resultat=[] #tableau des distances ainsi que l'espèce correspondant à la donnée comparer\n",
    "    frequence=[] #tableau de fréquence des espèces de fleurs\n",
    "    for index, row in data.iterrows(): \n",
    "        resultat.append((d(np.array((row[\"sepal_length\"], row[\"petal_length\"])),(xt[\"sepal_length\"],xt[\"petal_length\"])),row[\"species\"]))\n",
    "        #le résultat est sous la forme d'un tuple (distance,espèce)\n",
    "    resultat.sort() #je trie par ordre croissant\n",
    "    resultat=resultat[:k] #je prend que les k premiers qui seront les k plus proches voisins\n",
    "    frequence=[x[1] for x in resultat] #je prend que les espèces de fleurs\n",
    "    xt[\"species\"]=Counter(frequence).most_common(1)[0][0] #je prend l'espèce de fleur qui a le plus de voisins dans la liste et je change l'espèce de\n",
    "    #la donnée test\n",
    "    return xt #je sais pas trop quoi renvoyer du coup je renvoie la donnée test\n",
    "        \n",
    "kppv(iris,iris.iloc[50],5,dist_euclid)\n",
    "        \n"
   ]
  },
  {
   "cell_type": "markdown",
   "id": "3e822d32-e270-4187-a584-4b304c098f6c",
   "metadata": {},
   "source": [
    "### ZEROR"
   ]
  },
  {
   "cell_type": "code",
   "execution_count": 7,
   "id": "c00bb3f1-c306-45d5-9c2b-2dfc98381292",
   "metadata": {},
   "outputs": [
    {
     "data": {
      "text/plain": [
       "'setosa'"
      ]
     },
     "execution_count": 7,
     "metadata": {},
     "output_type": "execute_result"
    }
   ],
   "source": [
    "import numpy as np\n",
    "from collections import Counter \n",
    "\"\"\"\n",
    "Cette fonction correspond à l'algorithme de classification zeroR pour le jeu de donnée Iris en fonction de la fréquence des espèces\n",
    ":param data le jeu de donnée\n",
    "\"\"\"\n",
    "def zeroR(data):\n",
    "    frequence=data[\"species\"]\n",
    "    return Counter(frequence).most_common(1)[0][0]\n",
    "\n",
    "zeroR(iris)"
   ]
  },
  {
   "cell_type": "markdown",
   "id": "179656c9-71b2-4fbd-8dfc-24191aba1ab0",
   "metadata": {},
   "source": [
    "### ONER"
   ]
  },
  {
   "cell_type": "code",
   "execution_count": 8,
   "id": "1d9e3912-b21e-4684-bb3f-fbb2985cb269",
   "metadata": {},
   "outputs": [],
   "source": [
    "import numpy as np\n",
    "from collections import Counter \n",
    "from fractions import Fraction\n",
    "\"\"\"\n",
    "Cette fonction représente l'algorithm ONER pour le jeu de donnée Iris en fonction de son espèce\n",
    ":param data le jeu de donnée iris\n",
    "\"\"\"\n",
    "def oneR(data,classe):\n",
    "    regles=[] #les règles que je vais stocker\n",
    "    tauxErreur=1 #et le taux d'erreur\n",
    "    dataWOS=data[data.columns.difference([classe])] \n",
    "    #dataWOS = dataWithOutSpecies le jeu de donnée sans la colonne espèce\n",
    "    for (columnName, columnData) in dataWOS.items(): #pour chaque colonne je fais la fonction frequence qui retourne un tuple (regles,tauxErreur)\n",
    "        tmp=frequence(data,columnData,columnName,classe)\n",
    "        if tmp[1]<tauxErreur: \n",
    "            regles=tmp[0]\n",
    "            tauxErreur=tmp[1]\n",
    "    return (regles,tmp)\n",
    "\n",
    "def frequence(data,featureData,featureName,classe):\n",
    "    tab=[]\n",
    "    groups={}\n",
    "    freq=[]\n",
    "    regles=[]\n",
    "    ind=0\n",
    "    for value in featureData: #je parcours chaque valeur de la feature \n",
    "        tab.append((value,data._get_value(ind,classe,takeable=False))) #je stock dans mon tableau tab un tuple (valeur,classe)\n",
    "        ind+=1\n",
    "        \n",
    "    for x, y in tab: #je regroupe dans un dictionnaire en mettant (valeur : [classe]) key=valeur value=[classe]\n",
    "        tmp = groups.get(x, [])\n",
    "        tmp.append(y)\n",
    "        groups[x] = tmp\n",
    "        \n",
    "    for key,value in groups.items():#pour chaque élément de mon dictionnaire\n",
    "        class_most_freq=Counter(value) #je prend l'espèce le plus commun pour chaque valeur\n",
    "        print(class_most_freq)\n",
    "        freq.append(list(class_most_freq.values())[-1]) #je l'ajoute dans un tableau de frequence pour faire le calcul de taux d'erreur\n",
    "        print(freq)\n",
    "        regle=f\"SI {featureName} = {key} ALORS {class_most_freq[0]}\" #je créé ma règle\n",
    "        regles.append(regle) #je l'ajoute dans mon tableau de règles\n",
    "    tauxErreur=Fraction(sum(freq),len(featureData))\n",
    "    print(regles, tauxErreur)\n",
    "    \n",
    "    return (regles, tauxErreur) #je renvoie un tuple (regles,taux d'erreur)\n",
    "#oneR(iris,'species')\n",
    "   "
   ]
  },
  {
   "cell_type": "markdown",
   "id": "dfcc427f-1f57-4443-9188-05b8150257eb",
   "metadata": {},
   "source": [
    "### ONER avec golf(weather)"
   ]
  },
  {
   "cell_type": "code",
   "execution_count": 9,
   "id": "761f8e55-9acb-4648-a1ec-73202c3c4cb6",
   "metadata": {},
   "outputs": [],
   "source": [
    "csv_url = './golf-dataset.csv'\n",
    "golf =  pd.read_csv(csv_url)"
   ]
  },
  {
   "cell_type": "code",
   "execution_count": 10,
   "id": "398ef931-e1c8-43c8-8006-17aa2a8d1f02",
   "metadata": {},
   "outputs": [
    {
     "data": {
      "text/html": [
       "<div>\n",
       "<style scoped>\n",
       "    .dataframe tbody tr th:only-of-type {\n",
       "        vertical-align: middle;\n",
       "    }\n",
       "\n",
       "    .dataframe tbody tr th {\n",
       "        vertical-align: top;\n",
       "    }\n",
       "\n",
       "    .dataframe thead th {\n",
       "        text-align: right;\n",
       "    }\n",
       "</style>\n",
       "<table border=\"1\" class=\"dataframe\">\n",
       "  <thead>\n",
       "    <tr style=\"text-align: right;\">\n",
       "      <th></th>\n",
       "      <th>Outlook</th>\n",
       "      <th>Temp</th>\n",
       "      <th>Humidity</th>\n",
       "      <th>Windy</th>\n",
       "      <th>Play Golf</th>\n",
       "    </tr>\n",
       "  </thead>\n",
       "  <tbody>\n",
       "    <tr>\n",
       "      <th>0</th>\n",
       "      <td>Rainy</td>\n",
       "      <td>Hot</td>\n",
       "      <td>High</td>\n",
       "      <td>False</td>\n",
       "      <td>No</td>\n",
       "    </tr>\n",
       "    <tr>\n",
       "      <th>1</th>\n",
       "      <td>Rainy</td>\n",
       "      <td>Hot</td>\n",
       "      <td>High</td>\n",
       "      <td>True</td>\n",
       "      <td>No</td>\n",
       "    </tr>\n",
       "    <tr>\n",
       "      <th>2</th>\n",
       "      <td>Overcast</td>\n",
       "      <td>Hot</td>\n",
       "      <td>High</td>\n",
       "      <td>False</td>\n",
       "      <td>Yes</td>\n",
       "    </tr>\n",
       "    <tr>\n",
       "      <th>3</th>\n",
       "      <td>Sunny</td>\n",
       "      <td>Mild</td>\n",
       "      <td>High</td>\n",
       "      <td>False</td>\n",
       "      <td>Yes</td>\n",
       "    </tr>\n",
       "    <tr>\n",
       "      <th>4</th>\n",
       "      <td>Sunny</td>\n",
       "      <td>Cool</td>\n",
       "      <td>Normal</td>\n",
       "      <td>False</td>\n",
       "      <td>Yes</td>\n",
       "    </tr>\n",
       "    <tr>\n",
       "      <th>5</th>\n",
       "      <td>Sunny</td>\n",
       "      <td>Cool</td>\n",
       "      <td>Normal</td>\n",
       "      <td>True</td>\n",
       "      <td>No</td>\n",
       "    </tr>\n",
       "    <tr>\n",
       "      <th>6</th>\n",
       "      <td>Overcast</td>\n",
       "      <td>Cool</td>\n",
       "      <td>Normal</td>\n",
       "      <td>True</td>\n",
       "      <td>Yes</td>\n",
       "    </tr>\n",
       "    <tr>\n",
       "      <th>7</th>\n",
       "      <td>Rainy</td>\n",
       "      <td>Mild</td>\n",
       "      <td>High</td>\n",
       "      <td>False</td>\n",
       "      <td>No</td>\n",
       "    </tr>\n",
       "    <tr>\n",
       "      <th>8</th>\n",
       "      <td>Rainy</td>\n",
       "      <td>Cool</td>\n",
       "      <td>Normal</td>\n",
       "      <td>False</td>\n",
       "      <td>Yes</td>\n",
       "    </tr>\n",
       "    <tr>\n",
       "      <th>9</th>\n",
       "      <td>Sunny</td>\n",
       "      <td>Mild</td>\n",
       "      <td>Normal</td>\n",
       "      <td>False</td>\n",
       "      <td>Yes</td>\n",
       "    </tr>\n",
       "    <tr>\n",
       "      <th>10</th>\n",
       "      <td>Rainy</td>\n",
       "      <td>Mild</td>\n",
       "      <td>Normal</td>\n",
       "      <td>True</td>\n",
       "      <td>Yes</td>\n",
       "    </tr>\n",
       "    <tr>\n",
       "      <th>11</th>\n",
       "      <td>Overcast</td>\n",
       "      <td>Mild</td>\n",
       "      <td>High</td>\n",
       "      <td>True</td>\n",
       "      <td>Yes</td>\n",
       "    </tr>\n",
       "    <tr>\n",
       "      <th>12</th>\n",
       "      <td>Overcast</td>\n",
       "      <td>Hot</td>\n",
       "      <td>Normal</td>\n",
       "      <td>False</td>\n",
       "      <td>Yes</td>\n",
       "    </tr>\n",
       "    <tr>\n",
       "      <th>13</th>\n",
       "      <td>Sunny</td>\n",
       "      <td>Mild</td>\n",
       "      <td>High</td>\n",
       "      <td>True</td>\n",
       "      <td>No</td>\n",
       "    </tr>\n",
       "  </tbody>\n",
       "</table>\n",
       "</div>"
      ],
      "text/plain": [
       "     Outlook  Temp Humidity  Windy Play Golf\n",
       "0      Rainy   Hot     High  False        No\n",
       "1      Rainy   Hot     High   True        No\n",
       "2   Overcast   Hot     High  False       Yes\n",
       "3      Sunny  Mild     High  False       Yes\n",
       "4      Sunny  Cool   Normal  False       Yes\n",
       "5      Sunny  Cool   Normal   True        No\n",
       "6   Overcast  Cool   Normal   True       Yes\n",
       "7      Rainy  Mild     High  False        No\n",
       "8      Rainy  Cool   Normal  False       Yes\n",
       "9      Sunny  Mild   Normal  False       Yes\n",
       "10     Rainy  Mild   Normal   True       Yes\n",
       "11  Overcast  Mild     High   True       Yes\n",
       "12  Overcast   Hot   Normal  False       Yes\n",
       "13     Sunny  Mild     High   True        No"
      ]
     },
     "execution_count": 10,
     "metadata": {},
     "output_type": "execute_result"
    }
   ],
   "source": [
    "golf"
   ]
  },
  {
   "cell_type": "code",
   "execution_count": 11,
   "id": "92546a30-a9ab-466f-86bf-fe2522a976aa",
   "metadata": {},
   "outputs": [
    {
     "name": "stdout",
     "output_type": "stream",
     "text": [
      "Counter({'No': 4, 'Yes': 3})\n",
      "[3]\n",
      "Counter({'Yes': 6, 'No': 1})\n",
      "[3, 1]\n",
      "['SI Humidity = High ALORS 0', 'SI Humidity = Normal ALORS 0'] 2/7\n",
      "Counter({'No': 3, 'Yes': 2})\n",
      "[2]\n",
      "Counter({'Yes': 4})\n",
      "[2, 4]\n",
      "Counter({'Yes': 3, 'No': 2})\n",
      "[2, 4, 2]\n",
      "['SI Outlook = Rainy ALORS 0', 'SI Outlook = Overcast ALORS 0', 'SI Outlook = Sunny ALORS 0'] 4/7\n",
      "Counter({'No': 2, 'Yes': 2})\n",
      "[2]\n",
      "Counter({'Yes': 4, 'No': 2})\n",
      "[2, 2]\n",
      "Counter({'Yes': 3, 'No': 1})\n",
      "[2, 2, 1]\n",
      "['SI Temp = Hot ALORS 0', 'SI Temp = Mild ALORS 0', 'SI Temp = Cool ALORS 0'] 5/14\n",
      "Counter({'Yes': 6, 'No': 2})\n",
      "[6]\n",
      "Counter({'No': 3, 'Yes': 3})\n",
      "[6, 3]\n",
      "['SI Windy = False ALORS 0', 'SI Windy = True ALORS 0'] 9/14\n"
     ]
    },
    {
     "data": {
      "text/plain": [
       "(['SI Humidity = High ALORS 0', 'SI Humidity = Normal ALORS 0'],\n",
       " (['SI Windy = False ALORS 0', 'SI Windy = True ALORS 0'], Fraction(9, 14)))"
      ]
     },
     "execution_count": 11,
     "metadata": {},
     "output_type": "execute_result"
    }
   ],
   "source": [
    "oneR(golf,'Play Golf')\n"
   ]
  },
  {
   "cell_type": "markdown",
   "id": "638dcdd8-3f37-437d-a0f0-ab874dc65a3e",
   "metadata": {},
   "source": [
    "### Naif Bayesien"
   ]
  },
  {
   "cell_type": "code",
   "execution_count": 12,
   "id": "e7c7a84a-d004-43ad-963a-d225d31ef962",
   "metadata": {},
   "outputs": [
    {
     "name": "stdout",
     "output_type": "stream",
     "text": [
      "<class 'pandas.core.frame.DataFrame'>\n",
      "RangeIndex: 891 entries, 0 to 890\n",
      "Data columns (total 11 columns):\n",
      " #   Column    Non-Null Count  Dtype  \n",
      "---  ------    --------------  -----  \n",
      " 0   survived  891 non-null    int64  \n",
      " 1   pclass    891 non-null    int64  \n",
      " 2   name      891 non-null    object \n",
      " 3   sex       891 non-null    object \n",
      " 4   age       714 non-null    float64\n",
      " 5   sibsp     891 non-null    int64  \n",
      " 6   parch     891 non-null    int64  \n",
      " 7   ticket    891 non-null    object \n",
      " 8   fare      891 non-null    float64\n",
      " 9   cabin     204 non-null    object \n",
      " 10  embarked  889 non-null    object \n",
      "dtypes: float64(2), int64(4), object(5)\n",
      "memory usage: 76.7+ KB\n"
     ]
    }
   ],
   "source": [
    "import numpy as np\n",
    "import pandas as pd\n",
    "url = \"https://raw.github.com/mattdelhey/kaggle-titanic/master/Data/train.csv\"\n",
    "titanic = pd.read_csv(url)\n",
    "titanic.info()"
   ]
  },
  {
   "cell_type": "code",
   "execution_count": 13,
   "id": "3921b4c5-5b8c-4e84-b046-40f8ac68c299",
   "metadata": {},
   "outputs": [
    {
     "data": {
      "text/html": [
       "<div>\n",
       "<style scoped>\n",
       "    .dataframe tbody tr th:only-of-type {\n",
       "        vertical-align: middle;\n",
       "    }\n",
       "\n",
       "    .dataframe tbody tr th {\n",
       "        vertical-align: top;\n",
       "    }\n",
       "\n",
       "    .dataframe thead th {\n",
       "        text-align: right;\n",
       "    }\n",
       "</style>\n",
       "<table border=\"1\" class=\"dataframe\">\n",
       "  <thead>\n",
       "    <tr style=\"text-align: right;\">\n",
       "      <th></th>\n",
       "      <th>survived</th>\n",
       "      <th>pclass</th>\n",
       "      <th>name</th>\n",
       "      <th>sex</th>\n",
       "      <th>age</th>\n",
       "      <th>sibsp</th>\n",
       "      <th>parch</th>\n",
       "      <th>ticket</th>\n",
       "      <th>fare</th>\n",
       "      <th>cabin</th>\n",
       "      <th>embarked</th>\n",
       "    </tr>\n",
       "  </thead>\n",
       "  <tbody>\n",
       "    <tr>\n",
       "      <th>0</th>\n",
       "      <td>0</td>\n",
       "      <td>3</td>\n",
       "      <td>Braund, Mr. Owen Harris</td>\n",
       "      <td>male</td>\n",
       "      <td>22.0</td>\n",
       "      <td>1</td>\n",
       "      <td>0</td>\n",
       "      <td>A/5 21171</td>\n",
       "      <td>7.2500</td>\n",
       "      <td>NaN</td>\n",
       "      <td>S</td>\n",
       "    </tr>\n",
       "    <tr>\n",
       "      <th>1</th>\n",
       "      <td>1</td>\n",
       "      <td>1</td>\n",
       "      <td>Cumings, Mrs. John Bradley (Florence Briggs Th...</td>\n",
       "      <td>female</td>\n",
       "      <td>38.0</td>\n",
       "      <td>1</td>\n",
       "      <td>0</td>\n",
       "      <td>PC 17599</td>\n",
       "      <td>71.2833</td>\n",
       "      <td>C85</td>\n",
       "      <td>C</td>\n",
       "    </tr>\n",
       "    <tr>\n",
       "      <th>2</th>\n",
       "      <td>1</td>\n",
       "      <td>3</td>\n",
       "      <td>Heikkinen, Miss. Laina</td>\n",
       "      <td>female</td>\n",
       "      <td>26.0</td>\n",
       "      <td>0</td>\n",
       "      <td>0</td>\n",
       "      <td>STON/O2. 3101282</td>\n",
       "      <td>7.9250</td>\n",
       "      <td>NaN</td>\n",
       "      <td>S</td>\n",
       "    </tr>\n",
       "    <tr>\n",
       "      <th>3</th>\n",
       "      <td>1</td>\n",
       "      <td>1</td>\n",
       "      <td>Futrelle, Mrs. Jacques Heath (Lily May Peel)</td>\n",
       "      <td>female</td>\n",
       "      <td>35.0</td>\n",
       "      <td>1</td>\n",
       "      <td>0</td>\n",
       "      <td>113803</td>\n",
       "      <td>53.1000</td>\n",
       "      <td>C123</td>\n",
       "      <td>S</td>\n",
       "    </tr>\n",
       "    <tr>\n",
       "      <th>4</th>\n",
       "      <td>0</td>\n",
       "      <td>3</td>\n",
       "      <td>Allen, Mr. William Henry</td>\n",
       "      <td>male</td>\n",
       "      <td>35.0</td>\n",
       "      <td>0</td>\n",
       "      <td>0</td>\n",
       "      <td>373450</td>\n",
       "      <td>8.0500</td>\n",
       "      <td>NaN</td>\n",
       "      <td>S</td>\n",
       "    </tr>\n",
       "    <tr>\n",
       "      <th>...</th>\n",
       "      <td>...</td>\n",
       "      <td>...</td>\n",
       "      <td>...</td>\n",
       "      <td>...</td>\n",
       "      <td>...</td>\n",
       "      <td>...</td>\n",
       "      <td>...</td>\n",
       "      <td>...</td>\n",
       "      <td>...</td>\n",
       "      <td>...</td>\n",
       "      <td>...</td>\n",
       "    </tr>\n",
       "    <tr>\n",
       "      <th>886</th>\n",
       "      <td>0</td>\n",
       "      <td>2</td>\n",
       "      <td>Montvila, Rev. Juozas</td>\n",
       "      <td>male</td>\n",
       "      <td>27.0</td>\n",
       "      <td>0</td>\n",
       "      <td>0</td>\n",
       "      <td>211536</td>\n",
       "      <td>13.0000</td>\n",
       "      <td>NaN</td>\n",
       "      <td>S</td>\n",
       "    </tr>\n",
       "    <tr>\n",
       "      <th>887</th>\n",
       "      <td>1</td>\n",
       "      <td>1</td>\n",
       "      <td>Graham, Miss. Margaret Edith</td>\n",
       "      <td>female</td>\n",
       "      <td>19.0</td>\n",
       "      <td>0</td>\n",
       "      <td>0</td>\n",
       "      <td>112053</td>\n",
       "      <td>30.0000</td>\n",
       "      <td>B42</td>\n",
       "      <td>S</td>\n",
       "    </tr>\n",
       "    <tr>\n",
       "      <th>888</th>\n",
       "      <td>0</td>\n",
       "      <td>3</td>\n",
       "      <td>Johnston, Miss. Catherine Helen \"Carrie\"</td>\n",
       "      <td>female</td>\n",
       "      <td>NaN</td>\n",
       "      <td>1</td>\n",
       "      <td>2</td>\n",
       "      <td>W./C. 6607</td>\n",
       "      <td>23.4500</td>\n",
       "      <td>NaN</td>\n",
       "      <td>S</td>\n",
       "    </tr>\n",
       "    <tr>\n",
       "      <th>889</th>\n",
       "      <td>1</td>\n",
       "      <td>1</td>\n",
       "      <td>Behr, Mr. Karl Howell</td>\n",
       "      <td>male</td>\n",
       "      <td>26.0</td>\n",
       "      <td>0</td>\n",
       "      <td>0</td>\n",
       "      <td>111369</td>\n",
       "      <td>30.0000</td>\n",
       "      <td>C148</td>\n",
       "      <td>C</td>\n",
       "    </tr>\n",
       "    <tr>\n",
       "      <th>890</th>\n",
       "      <td>0</td>\n",
       "      <td>3</td>\n",
       "      <td>Dooley, Mr. Patrick</td>\n",
       "      <td>male</td>\n",
       "      <td>32.0</td>\n",
       "      <td>0</td>\n",
       "      <td>0</td>\n",
       "      <td>370376</td>\n",
       "      <td>7.7500</td>\n",
       "      <td>NaN</td>\n",
       "      <td>Q</td>\n",
       "    </tr>\n",
       "  </tbody>\n",
       "</table>\n",
       "<p>891 rows × 11 columns</p>\n",
       "</div>"
      ],
      "text/plain": [
       "     survived  pclass                                               name  \\\n",
       "0           0       3                            Braund, Mr. Owen Harris   \n",
       "1           1       1  Cumings, Mrs. John Bradley (Florence Briggs Th...   \n",
       "2           1       3                             Heikkinen, Miss. Laina   \n",
       "3           1       1       Futrelle, Mrs. Jacques Heath (Lily May Peel)   \n",
       "4           0       3                           Allen, Mr. William Henry   \n",
       "..        ...     ...                                                ...   \n",
       "886         0       2                              Montvila, Rev. Juozas   \n",
       "887         1       1                       Graham, Miss. Margaret Edith   \n",
       "888         0       3           Johnston, Miss. Catherine Helen \"Carrie\"   \n",
       "889         1       1                              Behr, Mr. Karl Howell   \n",
       "890         0       3                                Dooley, Mr. Patrick   \n",
       "\n",
       "        sex   age  sibsp  parch            ticket     fare cabin embarked  \n",
       "0      male  22.0      1      0         A/5 21171   7.2500   NaN        S  \n",
       "1    female  38.0      1      0          PC 17599  71.2833   C85        C  \n",
       "2    female  26.0      0      0  STON/O2. 3101282   7.9250   NaN        S  \n",
       "3    female  35.0      1      0            113803  53.1000  C123        S  \n",
       "4      male  35.0      0      0            373450   8.0500   NaN        S  \n",
       "..      ...   ...    ...    ...               ...      ...   ...      ...  \n",
       "886    male  27.0      0      0            211536  13.0000   NaN        S  \n",
       "887  female  19.0      0      0            112053  30.0000   B42        S  \n",
       "888  female   NaN      1      2        W./C. 6607  23.4500   NaN        S  \n",
       "889    male  26.0      0      0            111369  30.0000  C148        C  \n",
       "890    male  32.0      0      0            370376   7.7500   NaN        Q  \n",
       "\n",
       "[891 rows x 11 columns]"
      ]
     },
     "execution_count": 13,
     "metadata": {},
     "output_type": "execute_result"
    }
   ],
   "source": [
    "titanic"
   ]
  },
  {
   "cell_type": "code",
   "execution_count": 14,
   "id": "658791ae-c0fc-4b7f-8e13-634b824b41d5",
   "metadata": {},
   "outputs": [],
   "source": [
    "def listing_elem(liste):\n",
    "    elem = Counter(liste)\n",
    "    return dict(elem)\n",
    "\n",
    "dico = listing_elem(titanic)"
   ]
  },
  {
   "cell_type": "code",
   "execution_count": 15,
   "id": "5138eb25-86d2-4722-a660-a10a138e4c2c",
   "metadata": {},
   "outputs": [
    {
     "name": "stdout",
     "output_type": "stream",
     "text": [
      "11\n"
     ]
    }
   ],
   "source": [
    "nb_elem = sum(list(dico.values()))\n",
    "print(nb_elem)"
   ]
  },
  {
   "cell_type": "code",
   "execution_count": 16,
   "id": "ea0af555-8ff2-41d8-a606-c4b02589b8e2",
   "metadata": {},
   "outputs": [
    {
     "name": "stdout",
     "output_type": "stream",
     "text": [
      "187.0\n",
      "2763039.272727273\n"
     ]
    }
   ],
   "source": [
    "def moyenne(dico, key):\n",
    "    return sum(dico[key])/nb_elem\n",
    "\n",
    "def variance(dico,key):\n",
    "    return (sum( (dico[key]-moyenne(dico,key))**2) / nb_elem)\n",
    "\n",
    "print(moyenne(titanic,'pclass'))\n",
    "print(variance(titanic,'pclass'))"
   ]
  },
  {
   "cell_type": "code",
   "execution_count": 17,
   "id": "dda2a833-54a5-41c4-86cb-1f8723650d7d",
   "metadata": {},
   "outputs": [],
   "source": [
    "# proba de valeur dans une meme classe ou la somme des probas vaut 1\n",
    "def proba_priori(dico,key,value):\n",
    "    dico = dict(Counter(dico[key]))\n",
    "    return dico[value]/nb_elem\n",
    "\n",
    "# proba p tel que Ev(p) = log (p) - log(1 - p)\n",
    "def proba_evidence(dico,key,value):\n",
    "    value = proba_priori(dico,key,value)\n",
    "    evidence = np.log(value) - np.log(1-value)\n",
    "    return evidence\n",
    "\n",
    "# gaussienne par moi\n",
    "def gaussienne(dico,key,value):\n",
    "    moyen = moyenne(dico,key)\n",
    "    varian = variance(dico,key)\n",
    "    return (1/(varian*np.sqrt(2 * np.pi)) *      np.exp(-1/2 * ((value - moyen) / varian)**2))"
   ]
  },
  {
   "cell_type": "code",
   "execution_count": 18,
   "id": "6f2e6f3e-313f-4da6-a058-85aed4e91f5d",
   "metadata": {},
   "outputs": [
    {
     "data": {
      "text/plain": [
       "44.63636363636363"
      ]
     },
     "execution_count": 18,
     "metadata": {},
     "output_type": "execute_result"
    }
   ],
   "source": [
    "proba_priori(titanic,'pclass',3)"
   ]
  },
  {
   "cell_type": "code",
   "execution_count": 19,
   "id": "35ba1da1-3270-4ecc-b723-20c771deb72c",
   "metadata": {},
   "outputs": [
    {
     "name": "stderr",
     "output_type": "stream",
     "text": [
      "/var/folders/ts/kww6z2z510xb35njpx1_8q8m0000gn/T/ipykernel_12957/997291010.py:9: RuntimeWarning: invalid value encountered in log\n",
      "  evidence = np.log(value) - np.log(1-value)\n"
     ]
    },
    {
     "data": {
      "text/plain": [
       "nan"
      ]
     },
     "execution_count": 19,
     "metadata": {},
     "output_type": "execute_result"
    }
   ],
   "source": [
    "proba_evidence(titanic,'pclass',3)"
   ]
  },
  {
   "cell_type": "code",
   "execution_count": 20,
   "id": "f7f4a7da-2093-411c-85b7-6dccefcddbba",
   "metadata": {},
   "outputs": [
    {
     "data": {
      "text/plain": [
       "1.4438530912485564e-07"
      ]
     },
     "execution_count": 20,
     "metadata": {},
     "output_type": "execute_result"
    }
   ],
   "source": [
    "gaussienne(titanic,'pclass',3)"
   ]
  },
  {
   "cell_type": "markdown",
   "id": "2b525097-29fb-455c-8dc3-a15bfa5d458b",
   "metadata": {},
   "source": [
    "# K-moyennes"
   ]
  },
  {
   "cell_type": "code",
   "execution_count": 32,
   "id": "4c81b69f-9a23-49cf-8dce-5e34b6e18367",
   "metadata": {},
   "outputs": [],
   "source": [
    "import random\n",
    "\n",
    "def fonction_erreur(A = [], mu = []):\n",
    "    return 1\n",
    "    \n",
    "#Définition des centroides au départ \n",
    "\n",
    "def definition_centroide(data,k):\n",
    "    mu = []\n",
    "    for i in range(k):\n",
    "        liste_coordonnees_centroide = []\n",
    "        for columnName,columnData in data.items():\n",
    "            liste_coordonnees_centroide.append(columnData[random.randint(0,len(data))])\n",
    "        mu.append(liste_coordonnees_centroide)\n",
    "    return mu\n",
    "            \n",
    "\n",
    "# affectation des points aux classes\n",
    "def affectation_classes(data,A,mu):\n",
    "    liste_per_classes = {i: [] for i in range(len(mu))}\n",
    "    for index, row in data.iterrows():\n",
    "        d=(dist_euclid(mu[0],row),row,0)\n",
    "        if(len(mu)>1):\n",
    "            for i in range(1,len(mu)):\n",
    "                if d[0]<dist_euclid(mu[i],row):\n",
    "                    d=(dist_euclid(mu[i],row),row,i)\n",
    "        liste_per_classes[d[2]].append(d[1])      \n",
    "    for i in range(len(mu)):\n",
    "        A.append(liste_per_classes[i])\n",
    "    return A\n",
    "\n",
    "# modification des coordonnées des centroides pour reduire le taux d'erreur\n",
    "\n",
    "def calcul_nouveau_centroide(data, A, mu):\n",
    "    liste_centroide = []\n",
    "    temporel2 = []\n",
    "    moyenne =[]\n",
    "    moyenne_coordonnees = []\n",
    "    for ii in range (len(mu)):\n",
    "        liste_coordonnees_centroide = []\n",
    "        for jj in range(len(A)):\n",
    "            tempo=A[jj]\n",
    "            moyenne = []\n",
    "            for kk in range(len(tempo)):\n",
    "                temporel2.append(tempo[kk])\n",
    "            \n",
    "            moyenne.append(np.mean(temporel2)) # moyenne d'une coordonnée       \n",
    "        liste_coordonnees_centroide.append(moyenne) # moyenne des coordonnées pour centroide \n",
    "            \n",
    "        liste_centroide.append(liste_coordonnees_centroide) # ajout des coordonnées d'un centroide \n",
    "    \n",
    "    return liste_centroide\n",
    "\n",
    "\n",
    "\n",
    "def k_moyennes(data,k):\n",
    "    assert k < data.shape[0] #je vérifie que k < n  n étant la taille du jeu de donnée\n",
    "    mu=[] #matrice de centroïdes\n",
    "    A= [] #matrice d'affectation\n",
    "    dataWOS=iris.drop('species',axis=1) #j'enlève la colonne des espèces de fleurs\n",
    "    mu = definition_centroide(data,k)\n",
    "    print(mu)\n",
    "    A=affectation_classes(dataWOS,A,mu)\n",
    "    print(mu)\n",
    "    mu = calcul_nouveau_centroide(data,A,mu)\n",
    "    A=affectation_classes(dataWOS,A,mu)\n",
    "    print(mu)\n",
    "    mu = calcul_nouveau_centroide(data,A,mu)\n",
    "    \n",
    "    print(mu)\n",
    "    fig = plt.figure()\n",
    "    #ax = fig.add_subplot(111)  # Créer un sous-plot 3D\n",
    "\n",
    "    fig = plt.figure(1, figsize=(8, 6))\n",
    "    ax = fig.add_subplot(111, projection=\"3d\", elev=-150, azim=110)\n",
    "    \n",
    "    # Afficher les points de données\n",
    "    ax.scatter(dataWOS.iloc[:, 0], dataWOS.iloc[:, 1], c='b', marker='o', label='Data Points')\n",
    "    # Afficher les centroïdes\n",
    "    mu = np.array(mu)\n",
    "    # mu doit correspondre aux trois principales composantes\n",
    "    ax.scatter(mu[0],mu[1],mu[2],  c='r', marker='X', s=1000, label='Centroids')\n",
    "\n",
    "    ax.set_xlabel('Feature 1')\n",
    "    ax.set_ylabel('Feature 2')\n",
    "    ax.set_title('K-Means Clustering in 3D')\n",
    "    ax.legend()\n",
    "\n",
    "    plt.show()\n",
    "    print(mu)\n",
    "    return mu,moyenne_mu,nb_iter"
   ]
  },
  {
   "cell_type": "code",
   "execution_count": 33,
   "id": "abcff944-0f7c-4ccc-b88e-3eca82a70872",
   "metadata": {},
   "outputs": [
    {
     "name": "stdout",
     "output_type": "stream",
     "text": [
      "[[6.9, 3.4, 1.5, 0.2], [6.2, 2.9, 4.8, 2.0], [7.7, 3.4, 1.3, 0.2]]\n",
      "[[6.9, 3.4, 1.5, 0.2], [6.2, 2.9, 4.8, 2.0], [7.7, 3.4, 1.3, 0.2]]\n"
     ]
    },
    {
     "name": "stderr",
     "output_type": "stream",
     "text": [
      "/Users/apple/miniconda3/lib/python3.11/site-packages/numpy/core/fromnumeric.py:3504: RuntimeWarning: Mean of empty slice.\n",
      "  return _methods._mean(a, axis=axis, dtype=dtype,\n",
      "/Users/apple/miniconda3/lib/python3.11/site-packages/numpy/core/_methods.py:129: RuntimeWarning: invalid value encountered in scalar divide\n",
      "  ret = ret.dtype.type(ret / rcount)\n"
     ]
    },
    {
     "ename": "ValueError",
     "evalue": "Length of values (1) does not match length of index (4)",
     "output_type": "error",
     "traceback": [
      "\u001b[0;31m---------------------------------------------------------------------------\u001b[0m",
      "\u001b[0;31mValueError\u001b[0m                                Traceback (most recent call last)",
      "Cell \u001b[0;32mIn[33], line 1\u001b[0m\n\u001b[0;32m----> 1\u001b[0m k_moyennes(iris\u001b[38;5;241m.\u001b[39mdrop(\u001b[38;5;124m'\u001b[39m\u001b[38;5;124mspecies\u001b[39m\u001b[38;5;124m'\u001b[39m, axis\u001b[38;5;241m=\u001b[39m\u001b[38;5;241m1\u001b[39m), \u001b[38;5;241m3\u001b[39m)\n",
      "Cell \u001b[0;32mIn[32], line 66\u001b[0m, in \u001b[0;36mk_moyennes\u001b[0;34m(data, k)\u001b[0m\n\u001b[1;32m     64\u001b[0m \u001b[38;5;28mprint\u001b[39m(mu)\n\u001b[1;32m     65\u001b[0m mu \u001b[38;5;241m=\u001b[39m calcul_nouveau_centroide(data,A,mu)\n\u001b[0;32m---> 66\u001b[0m A\u001b[38;5;241m=\u001b[39maffectation_classes(dataWOS,A,mu)\n\u001b[1;32m     67\u001b[0m \u001b[38;5;28mprint\u001b[39m(mu)\n\u001b[1;32m     68\u001b[0m mu \u001b[38;5;241m=\u001b[39m calcul_nouveau_centroide(data,A,mu)\n",
      "Cell \u001b[0;32mIn[32], line 22\u001b[0m, in \u001b[0;36maffectation_classes\u001b[0;34m(data, A, mu)\u001b[0m\n\u001b[1;32m     20\u001b[0m liste_per_classes \u001b[38;5;241m=\u001b[39m {i: [] \u001b[38;5;28;01mfor\u001b[39;00m i \u001b[38;5;129;01min\u001b[39;00m \u001b[38;5;28mrange\u001b[39m(\u001b[38;5;28mlen\u001b[39m(mu))}\n\u001b[1;32m     21\u001b[0m \u001b[38;5;28;01mfor\u001b[39;00m index, row \u001b[38;5;129;01min\u001b[39;00m data\u001b[38;5;241m.\u001b[39miterrows():\n\u001b[0;32m---> 22\u001b[0m     d\u001b[38;5;241m=\u001b[39m(dist_euclid(mu[\u001b[38;5;241m0\u001b[39m],row),row,\u001b[38;5;241m0\u001b[39m)\n\u001b[1;32m     23\u001b[0m     \u001b[38;5;28;01mif\u001b[39;00m(\u001b[38;5;28mlen\u001b[39m(mu)\u001b[38;5;241m>\u001b[39m\u001b[38;5;241m1\u001b[39m):\n\u001b[1;32m     24\u001b[0m         \u001b[38;5;28;01mfor\u001b[39;00m i \u001b[38;5;129;01min\u001b[39;00m \u001b[38;5;28mrange\u001b[39m(\u001b[38;5;241m1\u001b[39m,\u001b[38;5;28mlen\u001b[39m(mu)):\n",
      "Cell \u001b[0;32mIn[2], line 7\u001b[0m, in \u001b[0;36mdist_euclid\u001b[0;34m(p1, p2)\u001b[0m\n\u001b[1;32m      6\u001b[0m \u001b[38;5;28;01mdef\u001b[39;00m \u001b[38;5;21mdist_euclid\u001b[39m(p1,p2):\n\u001b[0;32m----> 7\u001b[0m     \u001b[38;5;28;01mreturn\u001b[39;00m np\u001b[38;5;241m.\u001b[39msqrt(np\u001b[38;5;241m.\u001b[39msum(np\u001b[38;5;241m.\u001b[39msquare(p2\u001b[38;5;241m-\u001b[39mp1)))\n",
      "File \u001b[0;32m~/miniconda3/lib/python3.11/site-packages/pandas/core/ops/common.py:76\u001b[0m, in \u001b[0;36m_unpack_zerodim_and_defer.<locals>.new_method\u001b[0;34m(self, other)\u001b[0m\n\u001b[1;32m     72\u001b[0m             \u001b[38;5;28;01mreturn\u001b[39;00m \u001b[38;5;28mNotImplemented\u001b[39m\n\u001b[1;32m     74\u001b[0m other \u001b[38;5;241m=\u001b[39m item_from_zerodim(other)\n\u001b[0;32m---> 76\u001b[0m \u001b[38;5;28;01mreturn\u001b[39;00m method(\u001b[38;5;28mself\u001b[39m, other)\n",
      "File \u001b[0;32m~/miniconda3/lib/python3.11/site-packages/pandas/core/arraylike.py:194\u001b[0m, in \u001b[0;36mOpsMixin.__sub__\u001b[0;34m(self, other)\u001b[0m\n\u001b[1;32m    192\u001b[0m \u001b[38;5;129m@unpack_zerodim_and_defer\u001b[39m(\u001b[38;5;124m\"\u001b[39m\u001b[38;5;124m__sub__\u001b[39m\u001b[38;5;124m\"\u001b[39m)\n\u001b[1;32m    193\u001b[0m \u001b[38;5;28;01mdef\u001b[39;00m \u001b[38;5;21m__sub__\u001b[39m(\u001b[38;5;28mself\u001b[39m, other):\n\u001b[0;32m--> 194\u001b[0m     \u001b[38;5;28;01mreturn\u001b[39;00m \u001b[38;5;28mself\u001b[39m\u001b[38;5;241m.\u001b[39m_arith_method(other, operator\u001b[38;5;241m.\u001b[39msub)\n",
      "File \u001b[0;32m~/miniconda3/lib/python3.11/site-packages/pandas/core/series.py:5820\u001b[0m, in \u001b[0;36mSeries._arith_method\u001b[0;34m(self, other, op)\u001b[0m\n\u001b[1;32m   5818\u001b[0m \u001b[38;5;28;01mdef\u001b[39;00m \u001b[38;5;21m_arith_method\u001b[39m(\u001b[38;5;28mself\u001b[39m, other, op):\n\u001b[1;32m   5819\u001b[0m     \u001b[38;5;28mself\u001b[39m, other \u001b[38;5;241m=\u001b[39m \u001b[38;5;28mself\u001b[39m\u001b[38;5;241m.\u001b[39m_align_for_op(other)\n\u001b[0;32m-> 5820\u001b[0m     \u001b[38;5;28;01mreturn\u001b[39;00m base\u001b[38;5;241m.\u001b[39mIndexOpsMixin\u001b[38;5;241m.\u001b[39m_arith_method(\u001b[38;5;28mself\u001b[39m, other, op)\n",
      "File \u001b[0;32m~/miniconda3/lib/python3.11/site-packages/pandas/core/base.py:1383\u001b[0m, in \u001b[0;36mIndexOpsMixin._arith_method\u001b[0;34m(self, other, op)\u001b[0m\n\u001b[1;32m   1380\u001b[0m \u001b[38;5;28;01mwith\u001b[39;00m np\u001b[38;5;241m.\u001b[39merrstate(\u001b[38;5;28mall\u001b[39m\u001b[38;5;241m=\u001b[39m\u001b[38;5;124m\"\u001b[39m\u001b[38;5;124mignore\u001b[39m\u001b[38;5;124m\"\u001b[39m):\n\u001b[1;32m   1381\u001b[0m     result \u001b[38;5;241m=\u001b[39m ops\u001b[38;5;241m.\u001b[39marithmetic_op(lvalues, rvalues, op)\n\u001b[0;32m-> 1383\u001b[0m \u001b[38;5;28;01mreturn\u001b[39;00m \u001b[38;5;28mself\u001b[39m\u001b[38;5;241m.\u001b[39m_construct_result(result, name\u001b[38;5;241m=\u001b[39mres_name)\n",
      "File \u001b[0;32m~/miniconda3/lib/python3.11/site-packages/pandas/core/series.py:5916\u001b[0m, in \u001b[0;36mSeries._construct_result\u001b[0;34m(self, result, name)\u001b[0m\n\u001b[1;32m   5913\u001b[0m \u001b[38;5;66;03m# TODO: result should always be ArrayLike, but this fails for some\u001b[39;00m\n\u001b[1;32m   5914\u001b[0m \u001b[38;5;66;03m#  JSONArray tests\u001b[39;00m\n\u001b[1;32m   5915\u001b[0m dtype \u001b[38;5;241m=\u001b[39m \u001b[38;5;28mgetattr\u001b[39m(result, \u001b[38;5;124m\"\u001b[39m\u001b[38;5;124mdtype\u001b[39m\u001b[38;5;124m\"\u001b[39m, \u001b[38;5;28;01mNone\u001b[39;00m)\n\u001b[0;32m-> 5916\u001b[0m out \u001b[38;5;241m=\u001b[39m \u001b[38;5;28mself\u001b[39m\u001b[38;5;241m.\u001b[39m_constructor(result, index\u001b[38;5;241m=\u001b[39m\u001b[38;5;28mself\u001b[39m\u001b[38;5;241m.\u001b[39mindex, dtype\u001b[38;5;241m=\u001b[39mdtype, copy\u001b[38;5;241m=\u001b[39m\u001b[38;5;28;01mFalse\u001b[39;00m)\n\u001b[1;32m   5917\u001b[0m out \u001b[38;5;241m=\u001b[39m out\u001b[38;5;241m.\u001b[39m__finalize__(\u001b[38;5;28mself\u001b[39m)\n\u001b[1;32m   5919\u001b[0m \u001b[38;5;66;03m# Set the result's name after __finalize__ is called because __finalize__\u001b[39;00m\n\u001b[1;32m   5920\u001b[0m \u001b[38;5;66;03m#  would set it back to self.name\u001b[39;00m\n",
      "File \u001b[0;32m~/miniconda3/lib/python3.11/site-packages/pandas/core/series.py:503\u001b[0m, in \u001b[0;36mSeries.__init__\u001b[0;34m(self, data, index, dtype, name, copy, fastpath)\u001b[0m\n\u001b[1;32m    501\u001b[0m     index \u001b[38;5;241m=\u001b[39m default_index(\u001b[38;5;28mlen\u001b[39m(data))\n\u001b[1;32m    502\u001b[0m \u001b[38;5;28;01melif\u001b[39;00m is_list_like(data):\n\u001b[0;32m--> 503\u001b[0m     com\u001b[38;5;241m.\u001b[39mrequire_length_match(data, index)\n\u001b[1;32m    505\u001b[0m \u001b[38;5;66;03m# create/copy the manager\u001b[39;00m\n\u001b[1;32m    506\u001b[0m \u001b[38;5;28;01mif\u001b[39;00m \u001b[38;5;28misinstance\u001b[39m(data, (SingleBlockManager, SingleArrayManager)):\n",
      "File \u001b[0;32m~/miniconda3/lib/python3.11/site-packages/pandas/core/common.py:561\u001b[0m, in \u001b[0;36mrequire_length_match\u001b[0;34m(data, index)\u001b[0m\n\u001b[1;32m    557\u001b[0m \u001b[38;5;250m\u001b[39m\u001b[38;5;124;03m\"\"\"\u001b[39;00m\n\u001b[1;32m    558\u001b[0m \u001b[38;5;124;03mCheck the length of data matches the length of the index.\u001b[39;00m\n\u001b[1;32m    559\u001b[0m \u001b[38;5;124;03m\"\"\"\u001b[39;00m\n\u001b[1;32m    560\u001b[0m \u001b[38;5;28;01mif\u001b[39;00m \u001b[38;5;28mlen\u001b[39m(data) \u001b[38;5;241m!=\u001b[39m \u001b[38;5;28mlen\u001b[39m(index):\n\u001b[0;32m--> 561\u001b[0m     \u001b[38;5;28;01mraise\u001b[39;00m \u001b[38;5;167;01mValueError\u001b[39;00m(\n\u001b[1;32m    562\u001b[0m         \u001b[38;5;124m\"\u001b[39m\u001b[38;5;124mLength of values \u001b[39m\u001b[38;5;124m\"\u001b[39m\n\u001b[1;32m    563\u001b[0m         \u001b[38;5;124mf\u001b[39m\u001b[38;5;124m\"\u001b[39m\u001b[38;5;124m(\u001b[39m\u001b[38;5;132;01m{\u001b[39;00m\u001b[38;5;28mlen\u001b[39m(data)\u001b[38;5;132;01m}\u001b[39;00m\u001b[38;5;124m) \u001b[39m\u001b[38;5;124m\"\u001b[39m\n\u001b[1;32m    564\u001b[0m         \u001b[38;5;124m\"\u001b[39m\u001b[38;5;124mdoes not match length of index \u001b[39m\u001b[38;5;124m\"\u001b[39m\n\u001b[1;32m    565\u001b[0m         \u001b[38;5;124mf\u001b[39m\u001b[38;5;124m\"\u001b[39m\u001b[38;5;124m(\u001b[39m\u001b[38;5;132;01m{\u001b[39;00m\u001b[38;5;28mlen\u001b[39m(index)\u001b[38;5;132;01m}\u001b[39;00m\u001b[38;5;124m)\u001b[39m\u001b[38;5;124m\"\u001b[39m\n\u001b[1;32m    566\u001b[0m     )\n",
      "\u001b[0;31mValueError\u001b[0m: Length of values (1) does not match length of index (4)"
     ]
    }
   ],
   "source": [
    "k_moyennes(iris.drop('species', axis=1), 3)"
   ]
  },
  {
   "cell_type": "code",
   "execution_count": 130,
   "id": "f5540ce8-b9d2-47af-92c8-c809e273bdbb",
   "metadata": {},
   "outputs": [
    {
     "name": "stderr",
     "output_type": "stream",
     "text": [
      "/Users/apple/miniconda3/lib/python3.11/site-packages/sklearn/utils/validation.py:767: FutureWarning: is_sparse is deprecated and will be removed in a future version. Check `isinstance(dtype, pd.SparseDtype)` instead.\n",
      "  if not hasattr(array, \"sparse\") and array.dtypes.apply(is_sparse).any():\n",
      "/Users/apple/miniconda3/lib/python3.11/site-packages/sklearn/utils/validation.py:605: FutureWarning: is_sparse is deprecated and will be removed in a future version. Check `isinstance(dtype, pd.SparseDtype)` instead.\n",
      "  if is_sparse(pd_dtype):\n",
      "/Users/apple/miniconda3/lib/python3.11/site-packages/sklearn/utils/validation.py:614: FutureWarning: is_sparse is deprecated and will be removed in a future version. Check `isinstance(dtype, pd.SparseDtype)` instead.\n",
      "  if is_sparse(pd_dtype) or not is_extension_array_dtype(pd_dtype):\n"
     ]
    },
    {
     "ename": "IndexError",
     "evalue": "list index out of range",
     "output_type": "error",
     "traceback": [
      "\u001b[0;31m---------------------------------------------------------------------------\u001b[0m",
      "\u001b[0;31mIndexError\u001b[0m                                Traceback (most recent call last)",
      "Cell \u001b[0;32mIn[130], line 11\u001b[0m\n\u001b[1;32m      7\u001b[0m ax \u001b[38;5;241m=\u001b[39m fig\u001b[38;5;241m.\u001b[39madd_subplot(\u001b[38;5;241m111\u001b[39m, projection\u001b[38;5;241m=\u001b[39m\u001b[38;5;124m\"\u001b[39m\u001b[38;5;124m3d\u001b[39m\u001b[38;5;124m\"\u001b[39m, elev\u001b[38;5;241m=\u001b[39m\u001b[38;5;241m-\u001b[39m\u001b[38;5;241m150\u001b[39m, azim\u001b[38;5;241m=\u001b[39m\u001b[38;5;241m110\u001b[39m)\n\u001b[1;32m      9\u001b[0m X_reduced \u001b[38;5;241m=\u001b[39m PCA(n_components\u001b[38;5;241m=\u001b[39m\u001b[38;5;241m3\u001b[39m)\u001b[38;5;241m.\u001b[39mfit_transform(iris\u001b[38;5;241m.\u001b[39mdrop(\u001b[38;5;124m'\u001b[39m\u001b[38;5;124mspecies\u001b[39m\u001b[38;5;124m'\u001b[39m, axis\u001b[38;5;241m=\u001b[39m\u001b[38;5;241m1\u001b[39m))\n\u001b[1;32m     10\u001b[0m ax\u001b[38;5;241m.\u001b[39mscatter(\n\u001b[0;32m---> 11\u001b[0m     A[\u001b[38;5;241m0\u001b[39m],\n\u001b[1;32m     12\u001b[0m     A[\u001b[38;5;241m1\u001b[39m],\n\u001b[1;32m     13\u001b[0m     A[\u001b[38;5;241m2\u001b[39m],\n\u001b[1;32m     14\u001b[0m     s\u001b[38;5;241m=\u001b[39m\u001b[38;5;241m40\u001b[39m\n\u001b[1;32m     15\u001b[0m )\n\u001b[1;32m     17\u001b[0m ax\u001b[38;5;241m.\u001b[39mset_title(\u001b[38;5;124m\"\u001b[39m\u001b[38;5;124mFirst three PCA dimensions\u001b[39m\u001b[38;5;124m\"\u001b[39m)\n\u001b[1;32m     18\u001b[0m ax\u001b[38;5;241m.\u001b[39mset_xlabel(\u001b[38;5;124m\"\u001b[39m\u001b[38;5;124m1st Eigenvector\u001b[39m\u001b[38;5;124m\"\u001b[39m)\n",
      "\u001b[0;31mIndexError\u001b[0m: list index out of range"
     ]
    },
    {
     "data": {
      "image/png": "[encoded data removed]",
      "text/plain": [
       "<Figure size 800x600 with 1 Axes>"
      ]
     },
     "metadata": {},
     "output_type": "display_data"
    }
   ],
   "source": [
    "# unused but required import for doing 3d projections with matplotlib < 3.2\n",
    "import mpl_toolkits.mplot3d  # noqa: F401\n",
    "\n",
    "from sklearn.decomposition import PCA\n",
    "\n",
    "fig = plt.figure(1, figsize=(8, 6))\n",
    "ax = fig.add_subplot(111, projection=\"3d\", elev=-150, azim=110)\n",
    "\n",
    "X_reduced = PCA(n_components=3).fit_transform(iris.drop('species', axis=1))\n",
    "ax.scatter(\n",
    "    A[0],\n",
    "    A[1],\n",
    "    A[0],\n",
    "    s=40\n",
    ")\n",
    "\n",
    "ax.set_title(\"First three PCA dimensions\")\n",
    "ax.set_xlabel(\"1st Eigenvector\")\n",
    "ax.xaxis.set_ticklabels([])\n",
    "ax.set_ylabel(\"2nd Eigenvector\")\n",
    "ax.yaxis.set_ticklabels([])\n",
    "ax.set_zlabel(\"3rd Eigenvector\")\n",
    "ax.zaxis.set_ticklabels([])\n",
    "\n",
    "plt.show()"
   ]
  },
  {
   "cell_type": "code",
   "execution_count": null,
   "id": "a3191d48-e3d9-4318-aac1-3fd6c2b21324",
   "metadata": {},
   "outputs": [],
   "source": []
  }
 ],
 "metadata": {
  "kernelspec": {
   "display_name": "Python 3 (ipykernel)",
   "language": "python",
   "name": "python3"
  },
  "language_info": {
   "codemirror_mode": {
    "name": "ipython",
    "version": 3
   },
   "file_extension": ".py",
   "mimetype": "text/x-python",
   "name": "python",
   "nbconvert_exporter": "python",
   "pygments_lexer": "ipython3",
   "version": "3.11.4"
  }
 },
 "nbformat": 4,
 "nbformat_minor": 5
}
