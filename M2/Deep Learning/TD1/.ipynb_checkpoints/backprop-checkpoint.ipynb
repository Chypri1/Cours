{
 "cells": [
  {
   "cell_type": "markdown",
   "id": "9802aa68-d341-4e76-8efb-95611b324688",
   "metadata": {},
   "source": [
    "<img src='https://upload.wikimedia.org/wikipedia/fr/thumb/e/ed/Logo_Universit%C3%A9_du_Maine.svg/1280px-Logo_Universit%C3%A9_du_Maine.svg.png' width=\"300\" height=\"500\">\n",
    "<br>\n",
    "<div style=\"border: solid 3px #000;\">\n",
    "    <h1 style=\"text-align: center; color:#000; font-family:Georgia; font-size:26px;\">Apprentissage Profond</h1>\n",
    "    <p style='text-align: center;'>Master Informatique 2</p>\n",
    "    <p style='text-align: center;'>Anhony Larcher</p>\n",
    "</div>\n",
    "\n",
    "Ce tutoriel contient le code pour effectuer une descente de gradient pour un réseau de 3 neurones organisés en 2 couches sans aucune fonction d'activation."
   ]
  },
  {
   "cell_type": "code",
   "execution_count": 9,
   "id": "e4e62d23-db94-4474-962c-14238068eac7",
   "metadata": {},
   "outputs": [
    {
     "name": "stderr",
     "output_type": "stream",
     "text": [
      "Matplotlib is building the font cache; this may take a moment.\n"
     ]
    }
   ],
   "source": [
    "# Import the necessary Python modules\n",
    "import numpy\n",
    "import matplotlib.pyplot as plt\n",
    "from matplotlib import ticker\n",
    "import matplotlib.transforms as mtransforms\n",
    "\n",
    "\n",
    "\n",
    "%matplotlib inline"
   ]
  },
  {
   "cell_type": "markdown",
   "id": "fea630c3-bad6-4c6c-ae19-4a4192a53143",
   "metadata": {},
   "source": [
    "# Data\n",
    "\n",
    "Create the training data, a set of two 2D samples together with the expected output values."
   ]
  },
  {
   "cell_type": "code",
   "execution_count": 10,
   "id": "6a491137-734f-41f8-83fb-44a696b19506",
   "metadata": {},
   "outputs": [],
   "source": [
    "X = ((0.5, 0.2), (1.1, 1))\n",
    "Y = (4, 3)"
   ]
  },
  {
   "cell_type": "markdown",
   "id": "3b112a5b-2491-4bac-8e1f-cc6e0e303329",
   "metadata": {},
   "source": [
    "# Meta parameters"
   ]
  },
  {
   "cell_type": "code",
   "execution_count": 25,
   "id": "0b180d5f-79eb-4c5a-805a-50360880a0d1",
   "metadata": {},
   "outputs": [],
   "source": [
    "# Set the learning rate\n",
    "lr = 0.001\n",
    "\n",
    "# Set the stopping criteria\n",
    "max_step_number = 10000\n",
    "min_step_value = 0.01"
   ]
  },
  {
   "cell_type": "markdown",
   "id": "d3a2af44-c885-4ba9-bafe-ea6f9508659e",
   "metadata": {},
   "source": [
    "# Straight forward implementation of a neural network"
   ]
  },
  {
   "cell_type": "markdown",
   "id": "9ffb9e3a-6e6f-4863-9c50-7ef4fbcda030",
   "metadata": {},
   "source": [
    "## Model Initialization"
   ]
  },
  {
   "cell_type": "code",
   "execution_count": 33,
   "id": "7fa4157a-2571-463a-b783-794285b30462",
   "metadata": {},
   "outputs": [],
   "source": [
    "class ANN():\n",
    "    \"\"\"\n",
    "    This class implement neural network with \n",
    "    - 2 inputs\n",
    "    - a hidden layer with 2 neurons\n",
    "    - an output layer with 1 neuron\n",
    "    \"\"\"\n",
    "    def __init__(self):\n",
    "        \"\"\"\n",
    "        Initialize the weigths and biases of the neurons as well as the hidden variables and set the gradient to zero\n",
    "        \"\"\"\n",
    "        self.w1_11 = 0.1\n",
    "        self.w1_12 = 0.2\n",
    "        self.w1_21 = 0.3\n",
    "        self.w1_22 = 0.4\n",
    "        self.w2_11 = 0.5\n",
    "        self.w2_21 = 0.6\n",
    "        self.b1_1 = 1\n",
    "        self.b1_2 = 1\n",
    "        self.b2_1 = 1\n",
    "        \n",
    "        self.h1_1 = 0.\n",
    "        self.h1_2 = 0.\n",
    "        \n",
    "        self.dEdw1_11 = 0.\n",
    "        self.dEdw1_12 = 0.\n",
    "        self.dEdw1_21 = 0.\n",
    "        self.dEdw1_22 = 0.\n",
    "        self.dEdw2_11 = 0.\n",
    "        self.dEdw2_21 = 0.\n",
    "        self.dEdb1_1 = 0.\n",
    "        self.dEdb1_2 = 0.\n",
    "        self.dEdb2_1 = 0.\n",
    "        \n",
    "    def forward(self, data):\n",
    "        \"\"\"\n",
    "        Forward pass, this method compute the values of self.h1_1, self.h1_2 and y_hat and return y_hat\n",
    "        :param data: a tupple of two float used as input\n",
    "        :return: the output of the last layer\n",
    "        \"\"\"\n",
    "        x1, x2 = data\n",
    "        self.h1_1 = self.w1_11 * x1 + self.w1_21 * x2 + self.b1_1\n",
    "        self.h1_2 = self.w1_12 * x1 + self.w1_22 * x2 + self.b1_2\n",
    "        \n",
    "        y_hat = self.w2_11 * self.h1_1 + self.w2_21 * self.h1_2 + self.b2_1\n",
    "        return y_hat\n",
    "    \n",
    "    def loss(self, data, label):\n",
    "        \"\"\"\n",
    "        Compute the loss for the input data given the label\n",
    "        :param data: the input data, a tuple of 2D-tuples\n",
    "        :param label: the corresponding labels given as a tuple\n",
    "        :return: the loss value\n",
    "        \"\"\"\n",
    "        err = 0.\n",
    "        for _X, _Y in zip(data, label):\n",
    "            err += (_Y - self.forward(_X))**2\n",
    "        return err\n",
    "    \n",
    "    def reset_grad(self):\n",
    "        \"\"\"\n",
    "        Reset the gradient values\n",
    "        \"\"\"\n",
    "        self.dEdw1_11 = 0.\n",
    "        self.dEdw1_12 = 0.\n",
    "        self.dEdw1_21 = 0.\n",
    "        self.dEdw1_22 = 0.\n",
    "        self.dEdw2_11 = 0.\n",
    "        self.dEdw2_21 = 0.\n",
    "        self.dEdb1_1 = 0.\n",
    "        self.dEdb1_2 = 0.\n",
    "        self.dEdb2_1 = 0.\n",
    "    \n",
    "    def accumulate_gradient(self, X, Y):\n",
    "        \"\"\"\n",
    "        Accumulate the gradient values for a given input and label\n",
    "        :param X: an input 2D-tuple\n",
    "        :param Y: a float corresponding to the expected output\n",
    "        \"\"\"\n",
    "        self.dEdw1_11 += 2 * (Y - (self.w2_11 * self.h1_1  + self.w2_21 * self.h1_2 + self.b2_1 )) * (-self.w2_11) * X[0]\n",
    "        self.dEdw1_12 += 2 * (Y - (self.w2_11 * self.h1_1  + self.w2_21 * self.h1_2 + self.b2_1 )) * (-self.w2_21) * X[0]\n",
    "        self.dEdw1_21 += 2 * (Y - (self.w2_11 * self.h1_1  + self.w2_21 * self.h1_2 + self.b2_1 )) * (-self.w2_11) * X[1]\n",
    "        self.dEdw1_22 += 2 * (Y - (self.w2_11 * self.h1_1  + self.w2_21 * self.h1_2 + self.b2_1 )) * (-self.w2_21) * X[1]\n",
    "        self.dEdw2_11 += 2 * (Y - (self.w2_11 * self.h1_1  + self.w2_21 * self.h1_2 + self.b2_1 )) * (-self.h1_1)\n",
    "        self.dEdw2_21 += 2 * (Y - (self.w2_11 * self.h1_1  + self.w2_21 * self.h1_2 + self.b2_1 )) * (-self.h1_2)\n",
    "        self.dEdb1_1 += 2 * (Y - (self.w2_11 * self.h1_1  + self.w2_21 * self.h1_2 + self.b2_1 )) * (-self.w2_11)\n",
    "        self.dEdb1_2 += 2 * (Y - (self.w2_11 * self.h1_1  + self.w2_21 * self.h1_2 + self.b2_1 )) * (-self.w2_21)\n",
    "        self.dEdb2_1 += 2 * (Y - (self.w2_11 * self.h1_1  + self.w2_21 * self.h1_2 + self.b2_1 )) * (-1) \n",
    "\n",
    "    def backward(self, lr):\n",
    "        \"\"\"\n",
    "        Process the backward pass to update the parameters of the model given the current gradient\n",
    "        :param lr: the learning rate to update the weights\n",
    "        \"\"\"\n",
    "        self.w1_11 -= self.dEdw1_11 * lr\n",
    "        self.w1_12 -= self.dEdw1_12 * lr\n",
    "        self.w1_21 -= self.dEdw1_21 * lr\n",
    "        self.w1_22 -= self.dEdw1_22 * lr\n",
    "        self.w2_11 -= self.dEdw2_11 * lr\n",
    "        self.w2_21 -= self.dEdw2_21 * lr\n",
    "        self.b1_1 -= self.dEdb1_1 * lr\n",
    "        self.b1_2 -= self.dEdb1_2 * lr\n",
    "        self.b2_1 -= self.dEdb2_1 * lr\n",
    "        "
   ]
  },
  {
   "cell_type": "markdown",
   "id": "7a11080d-f826-487b-b5c9-c1b84e2e4152",
   "metadata": {},
   "source": [
    "## Train your network"
   ]
  },
  {
   "cell_type": "code",
   "execution_count": 36,
   "id": "5bb9ba57-b199-49c3-b6e0-c220e6569120",
   "metadata": {},
   "outputs": [
    {
     "name": "stdout",
     "output_type": "stream",
     "text": [
      "Loss init = 3.1214980000000003\n"
     ]
    },
    {
     "data": {
      "text/plain": [
       "[<matplotlib.lines.Line2D at 0x10b45d810>]"
      ]
     },
     "execution_count": 36,
     "metadata": {},
     "output_type": "execute_result"
    },
    {
     "data": {
      "image/png": "[encoded data removed]",
      "text/plain": [
       "<Figure size 640x480 with 1 Axes>"
      ]
     },
     "metadata": {},
     "output_type": "display_data"
    }
   ],
   "source": [
    "# Instentiate the neural network\n",
    "model = ANN()\n",
    "\n",
    "# Compute and display the loss after initialization\n",
    "print(f'Loss init = {model.loss(X, Y)}')\n",
    "\n",
    "# Initialize a list to store the loss after each update\n",
    "loss = []\n",
    "\n",
    "# Loop on epochs\n",
    "for it in range(max_step_number):\n",
    "\n",
    "    # Reset the gradient before accumulating on data\n",
    "    model.reset_grad()\n",
    "    \n",
    "    # Loop on all training samples\n",
    "    for _X, _Y in zip(X, Y):\n",
    "        # Forward pass\n",
    "        y_hat = model.forward(_X)\n",
    "        # Accumulate the gradient\n",
    "        model.accumulate_gradient(_X,_Y)\n",
    "    # Backward pass: update the parameters\n",
    "    model.backward(lr)\n",
    "    \n",
    "    # Compute the loss after updating the parameters\n",
    "    _loss = model.loss(X,Y)\n",
    "    \n",
    "   \n",
    "    # Keep track of the loss in the list \"loss\" in order to plot it afterward and monitor the training\n",
    "    loss.append(_loss)\n",
    "\n",
    "# Plot the loss after training\n",
    "plt.title(\"Courbe Empirique\")\n",
    "plt.plot(loss)"
   ]
  },
  {
   "cell_type": "markdown",
   "id": "e0a6c152-59ee-4366-be9d-3ac2c3d637e5",
   "metadata": {},
   "source": [
    "# Vectorial implementation of a Neural Network\n",
    "\n",
    "Implement a new class **VectANN** by using matrices representations for the neuron parameters and all values computed in the previous example."
   ]
  },
  {
   "cell_type": "code",
   "execution_count": 35,
   "id": "fe1b0a6d-490a-4e20-af41-233b750c1aec",
   "metadata": {},
   "outputs": [
    {
     "ename": "SyntaxError",
     "evalue": "incomplete input (2895226389.py, line 2)",
     "output_type": "error",
     "traceback": [
      "\u001b[0;36m  Cell \u001b[0;32mIn[35], line 2\u001b[0;36m\u001b[0m\n\u001b[0;31m    \u001b[0m\n\u001b[0m    ^\u001b[0m\n\u001b[0;31mSyntaxError\u001b[0m\u001b[0;31m:\u001b[0m incomplete input\n"
     ]
    }
   ],
   "source": [
    "class VecyANN(ANN):\n",
    "    def __init__():\n",
    "        "
   ]
  },
  {
   "cell_type": "code",
   "execution_count": null,
   "id": "51a87ba4-0102-489d-b501-8c06f71143d3",
   "metadata": {},
   "outputs": [],
   "source": []
  }
 ],
 "metadata": {
  "kernelspec": {
   "display_name": "Python 3 (ipykernel)",
   "language": "python",
   "name": "python3"
  },
  "language_info": {
   "codemirror_mode": {
    "name": "ipython",
    "version": 3
   },
   "file_extension": ".py",
   "mimetype": "text/x-python",
   "name": "python",
   "nbconvert_exporter": "python",
   "pygments_lexer": "ipython3",
   "version": "3.11.5"
  }
 },
 "nbformat": 4,
 "nbformat_minor": 5
}
