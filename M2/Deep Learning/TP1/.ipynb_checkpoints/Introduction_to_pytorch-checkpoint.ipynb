{
 "cells": [
  {
   "cell_type": "markdown",
   "id": "celtic-whale",
   "metadata": {},
   "source": [
    "<img src='https://upload.wikimedia.org/wikipedia/fr/thumb/e/ed/Logo_Universit%C3%A9_du_Maine.svg/1280px-Logo_Universit%C3%A9_du_Maine.svg.png' width=\"300\" height=\"500\">\n",
    "<br>\n",
    "<div style=\"border: solid 3px #000;\">\n",
    "    <h1 style=\"text-align: center; color:#000; font-family:Georgia; font-size:26px;\">Introduction à l'IA</h1>\n",
    "    <p style='text-align: center;'>Master Informatique</p>\n",
    "    <p style='text-align: center;'>Anhony Larcher</p>\n",
    "</div>\n",
    "\n",
    "Ce premier tutoriel est une introduction à [PyTorch](https://pytorch.org/)\n"
   ]
  },
  {
   "cell_type": "markdown",
   "id": "concrete-period",
   "metadata": {},
   "source": [
    "# Introduction a PyTorch: les classes de base\n",
    "\n",
    "La classe de base en **PyTorch** est le tenseur; les opérations de base sur les tenseurs sont décrites dans la [documentation de **PyTorch**](https://pytorch.org/tutorials/beginner/basics/tensorqs_tutorial.html)\n",
    "\n",
    "En Pytorch il y a deux façons de définir un réseau de neurone:\n",
    "* dériver la classe **module**\n",
    "* utiliser un objet **sequential**"
   ]
  },
  {
   "cell_type": "code",
   "execution_count": 1,
   "id": "figured-option",
   "metadata": {},
   "outputs": [],
   "source": [
    "import numpy\n",
    "import torch"
   ]
  },
  {
   "cell_type": "markdown",
   "id": "studied-package",
   "metadata": {},
   "source": [
    "Tout calcul en PyTorch est fait sur un *device* qu'il vous appartient de définir.\n",
    "\n",
    "Généralement, on utilise les **cpu** pour préparer les données et visualiser, et les **gpu** pour le calcul dans les réseaux.\n",
    "\n",
    "```python\n",
    "device = 'cuda' if torch.cuda.is_available() else 'cpu'\n",
    "print('Using {} device'.format(device))\n",
    "```\n",
    "\n",
    "## La classe de base pour définir un réseau de neurones est la classe **module**\n",
    "\n",
    "On dérive cette classe pour créer sa propre architecture puis on implémente la fonction **forward**.\n",
    "\n",
    "Nous allons définir un block résiduel (pour implémenter un ResNet).\n",
    "\n",
    "```python\n",
    "class ResBlock(torch.nn.Module):\n",
    "    \"\"\"\n",
    "\n",
    "    \"\"\"\n",
    "    expansion = 1\n",
    "\n",
    "    def __init__(self, channels, stride=1):\n",
    "        super(ResBlock, self).__init__()\n",
    "        ... a completer\n",
    "        \n",
    "    def forward(self, x):\n",
    "        ... a completer\n",
    "```\n",
    "\n",
    "La définition d'une classe héritée de `module` requiert l'implémentation de deux méthodes:\n",
    "* ```__init__```\n",
    "* `forward`\n",
    "Le rôle de ces méthodes est détaillé ci-dessous.\n",
    "\n",
    "### Initialisation\n",
    "Instancie les composantes du module:\n",
    "* couches neuronales\n",
    "* fonctions d'activation\n",
    "* couches et fonctions de régularisation (batchnorm, layernorm...)\n",
    "\n",
    "### Méthode `Forward`\n",
    "Définit le flux des données à travaers les couches et fonctions instanciées dans la fonction ```__init__```.\n",
    "\n",
    "\n",
    "### Retour à l'exemple du ResBlock\n",
    "\n",
    "Afin d'implémenter votre module vous devez définir son architecture.\n",
    "Dans cet exemple, le bloc doit contenir dans l'ordre:\n",
    "\n",
    "* 1 couche convolutionnelle 2D avec:\n",
    "    * dimension d'entree: = *channels*\n",
    "    * dimension de sortie = *channels*\n",
    "    * un noyau de taille 3\n",
    "    * un stride égale a celui fournis en paramètre\n",
    "    * padding = 1\n",
    "    * aucun biais\n",
    "* une couche de batch normalization (de dimension *channels*)\n",
    "* 1 activation de type *LeakyReLU*\n",
    "* une autre couche convolutionnelle avec les mêmes paramètres\n",
    "* une couche de batch normalization (de dimension *channels*)\n",
    "* 1 activation de type *LeakyReLU*\n",
    "* Une fois passé ces couches, on ajoute l'entrée non modifiée.\n",
    "* 1 activation de type *LeakyReLU*\n",
    "\n",
    "L'architecture de votre ResBlock est illustrée par la figure suivante."
   ]
  },
  {
   "cell_type": "markdown",
   "id": "98c06bb1",
   "metadata": {},
   "source": [
    "<img src='https://git-lium.univ-lemans.fr/cours_m2/open_resources/-/raw/master/figures/ResBlock.png' width=\"300\" height=\"500\">"
   ]
  },
  {
   "cell_type": "code",
   "execution_count": 3,
   "id": "plain-plasma",
   "metadata": {},
   "outputs": [],
   "source": [
    "class ResBlock(torch.nn.Module):\n",
    "    \"\"\"\n",
    "\n",
    "    \"\"\"\n",
    "    def __init__(self, channels, stride):\n",
    "\n",
    "        self.channels = \n",
    "\n",
    "        self.activation = \n",
    "\n",
    "        self.conv1 = \n",
    "        self.conv2= \n",
    "\n",
    "        self.batch_norm1 = \n",
    "        self.batch_norm2 = \n",
    "\n",
    "    def forward(self, x):\n",
    "        \"\"\"\n",
    "\n",
    "        :param x:\n",
    "        :return:\n",
    "        \"\"\"\n",
    "        ... to complete"
   ]
  },
  {
   "cell_type": "markdown",
   "id": "d937753b",
   "metadata": {},
   "source": [
    "### Bonne pratique pour l'implémentation\n",
    "\n",
    "L'implémentation de réseaux de neurones est parfois complexe.\n",
    "Le nombre de couche et la modularité des réseaux nécessite de la rigueur.\n",
    "Une bonne pratique, qui vous évitera un grand nombre d'erreurs consite à vérifier les dimensions d'entrée et de sortie de chaque couche afin de s'assurer que la sortie d'une couche ou d'un module peut être utilisée en entrée du suivant.\n",
    "\n",
    "**Pensez donc à créer un batch de fausses données (au format des vraies) afin de tester votre module au fur et à mesure de son implémentation.**\n",
    "\n",
    "Ici vous pouvez créer un batch de données aléatoires de dimension `(1, 2, 10, 100)` qui correspond à 1 batch de 1 échantillon à 2 canaux de dimension `(10, 100)`."
   ]
  },
  {
   "cell_type": "code",
   "execution_count": 4,
   "id": "fatty-skirt",
   "metadata": {},
   "outputs": [],
   "source": [
    "# Initialisez un ResBlock avec deux canaux et un stride de 1\n",
    "..."
   ]
  },
  {
   "cell_type": "code",
   "execution_count": 5,
   "id": "healthy-federation",
   "metadata": {},
   "outputs": [],
   "source": [
    "# Create 1 batch of 1 sample of 2 channels of dimension 10, 100 and test\n",
    "..."
   ]
  },
  {
   "cell_type": "code",
   "execution_count": 6,
   "id": "52897b31",
   "metadata": {},
   "outputs": [
    {
     "name": "stdout",
     "output_type": "stream",
     "text": [
      "Shape of output= torch.Size([1, 2, 10, 100])\n"
     ]
    }
   ],
   "source": [
    "# Test here your module\n",
    "..."
   ]
  },
  {
   "cell_type": "markdown",
   "id": "dominican-planner",
   "metadata": {},
   "source": [
    "## Sequential\n",
    "\n",
    "### Motivation\n",
    "\n",
    "Un module est très flexible et permet d'implémenter des flux de données complexes.\n",
    "\n",
    "Dans les cas ou le flux de données est simple et (unidirectionnel) il est possible de regrouper des couches ou traitements dans une structure séquentielle.\n",
    "\n",
    "### Application\n",
    "\n",
    "Créer maintenant une classe *ResNet* en dérivant la classe module.\n",
    "\n",
    "Ce réseau contient 1 couche d'entrée: convolutionnelle 2D \n",
    "* dimension d'entree = 2\n",
    "* dimension de sortie = 2\n",
    "* un noyau de taille = 3\n",
    "* un stride égale a celui fournis en paramètre\n",
    "* padding = 1\n",
    "* aucun biais\n",
    "\n",
    "suivie d'une couche de batch_norm et de 5 blocks *ResBlock(2, 1)* qui sont ajoutés dans un *torch.nn.Sequential*\n",
    "\n",
    "\n",
    "```python \n",
    "class ResNet(torch.nn.Module):\n",
    "    \"\"\"\n",
    "\n",
    "    \"\"\"\n",
    "    def __init__(self):\n",
    "        super(ResNet, self).__init__()\n",
    "        ...\n",
    "        \n",
    "    def forward(self, x):\n",
    "        ...\n",
    "```\n",
    "\n",
    "\n"
   ]
  },
  {
   "cell_type": "code",
   "execution_count": 7,
   "id": "asian-dominant",
   "metadata": {},
   "outputs": [],
   "source": [
    "class ResNet(torch.nn.Module):\n",
    "    \"\"\"\n",
    "\n",
    "    \"\"\"\n",
    "    def __init__(self):\n",
    "        super(ResNet, self).__init__()\n",
    "        self.conv1 = \n",
    "        self.bn1 = \n",
    "        self.res = torch.nn.Sequential(\n",
    "\n",
    "        )\n",
    "        self.bn2 = \n",
    "        self.avg_pool = \n",
    "        \n",
    "    def forward(self, x):\n",
    "        ..."
   ]
  },
  {
   "cell_type": "code",
   "execution_count": 8,
   "id": "adolescent-animal",
   "metadata": {},
   "outputs": [],
   "source": [
    "# Instanciez un ResNet\n",
    "..."
   ]
  },
  {
   "cell_type": "code",
   "execution_count": 9,
   "id": "dutch-chance",
   "metadata": {},
   "outputs": [],
   "source": [
    "# Créez vos données pour vérifier l'implementation de votre ResNet et testez\n",
    "..."
   ]
  },
  {
   "cell_type": "markdown",
   "id": "decimal-villa",
   "metadata": {},
   "source": [
    "# Datasets, Dataloaders et Datasamplers\n",
    "\n",
    "Les DataSets sont les classes qui permettent de charger et préparer les exemples.\n",
    "\n",
    "Les dataloaders permettent de gérer les batchs\n",
    "\n",
    "Les DataSamplers permettent de définir précisément les données fournies au réseau à chaque époque (équilibrage des batchs, ordre...)\n"
   ]
  },
  {
   "cell_type": "code",
   "execution_count": 11,
   "id": "supposed-velvet",
   "metadata": {},
   "outputs": [],
   "source": [
    "from torch.utils.data import Dataset\n",
    "from torch.utils.data import DataLoader\n",
    "from torch.utils.data import Sampler"
   ]
  },
  {
   "cell_type": "markdown",
   "id": "910578f8",
   "metadata": {},
   "source": [
    "Implémentez un `DataSet` qui génère une liste de 128 matrices de dimension $(10, 100)$ dont les éléments suivent une distribution normale.\n",
    "Lorsque la méthode `__getitem__` est appelée, le `DataSet` retourne la matrice correspondante."
   ]
  },
  {
   "cell_type": "code",
   "execution_count": 12,
   "id": "spiritual-civilization",
   "metadata": {},
   "outputs": [],
   "source": [
    "class RandomDataset(Dataset):\n",
    "    def __init__(self):\n",
    "        \"\"\"\n",
    "        de nombreuses transformations existent qui permettent d'augmenter les données simplement\n",
    "        \"\"\"\n",
    "        ...\n",
    "\n",
    "    def __len__(self):\n",
    "        ...\n",
    "\n",
    "    def __getitem__(self, idx):\n",
    "        ..."
   ]
  },
  {
   "cell_type": "code",
   "execution_count": 13,
   "id": "ae6b70f0",
   "metadata": {},
   "outputs": [
    {
     "name": "stdout",
     "output_type": "stream",
     "text": [
      "dimension des données: (10, 100)\n",
      "label associé à cet échantillon: 3\n"
     ]
    }
   ],
   "source": [
    "# Instanciez et testez votre RandomDataset en affichant le 3e exemple généré\n",
    "..."
   ]
  },
  {
   "cell_type": "code",
   "execution_count": 25,
   "id": "protecting-arcade",
   "metadata": {},
   "outputs": [],
   "source": [
    "# Créez un DataLoader qui utilise votre RandomDataset pour générer des batchs de 16 échantillons tirés dans un ordre aléatoire.\n",
    "# Attention il est possible que l'environnement du notebook ne vous permette pas de lancer ce DataLoader.\n",
    "# Si c'est le cas, pourquoi?\n",
    "\n",
    "# Pour résoudre ce problème recopiez le code du RandomDataset dans un module python externe que vous importerez ensuite.\n",
    "...\n"
   ]
  },
  {
   "cell_type": "code",
   "execution_count": 26,
   "id": "8de82953",
   "metadata": {},
   "outputs": [
    {
     "data": {
      "text/plain": [
       "8"
      ]
     },
     "execution_count": 26,
     "metadata": {},
     "output_type": "execute_result"
    }
   ],
   "source": [
    "# Affichez le nombre de batchs générés par votre DataLoader\n",
    "..."
   ]
  },
  {
   "cell_type": "code",
   "execution_count": 27,
   "id": "008dbb23",
   "metadata": {},
   "outputs": [
    {
     "name": "stdout",
     "output_type": "stream",
     "text": [
      "tensor([[[ 0.7593, -0.4458,  1.1342,  ..., -0.0183, -1.2983, -0.4538],\n",
      "         [ 0.1683, -1.3665,  0.3217,  ..., -0.7085, -1.3029,  1.2522],\n",
      "         [ 0.0594,  1.5714, -1.0017,  ...,  1.4760,  1.5328, -0.1920],\n",
      "         ...,\n",
      "         [-2.0481, -0.1349, -0.1104,  ...,  0.4932, -0.2885,  0.3159],\n",
      "         [ 0.0055,  1.3177,  1.6024,  ...,  0.4468,  0.2847, -1.8891],\n",
      "         [-0.9828, -0.4226,  0.1172,  ...,  0.6722,  1.5683, -0.4602]],\n",
      "\n",
      "        [[ 0.3404, -1.7323, -0.9495,  ..., -0.0039,  0.6285, -0.0213],\n",
      "         [ 0.5692,  0.7354,  1.2560,  ...,  1.1333,  0.1747,  0.6072],\n",
      "         [ 0.2684, -0.5287,  0.4409,  ..., -0.5964, -0.7434,  2.2727],\n",
      "         ...,\n",
      "         [ 0.2176,  0.0398,  0.7649,  ..., -0.2769, -0.3210,  1.4986],\n",
      "         [ 1.3290,  1.5605, -0.2678,  ...,  0.6909, -1.2123, -0.9036],\n",
      "         [-0.4925, -0.4194,  1.3632,  ..., -0.7504,  0.3691, -0.9598]],\n",
      "\n",
      "        [[ 0.5896,  0.7366,  0.8537,  ..., -1.2932, -0.6860,  1.7604],\n",
      "         [-0.4621, -1.3263,  0.4329,  ..., -1.0067, -1.5462, -1.3005],\n",
      "         [ 0.1528,  1.0243, -0.1554,  ..., -0.0534, -0.4584,  0.0098],\n",
      "         ...,\n",
      "         [-1.2093,  0.5640, -0.3442,  ..., -0.4152, -0.7776,  0.2849],\n",
      "         [-0.3585,  0.0165,  0.3728,  ...,  2.2566, -0.3877, -0.4209],\n",
      "         [-0.3503, -0.9490, -1.2137,  ...,  0.4622, -1.1272,  0.4004]],\n",
      "\n",
      "        ...,\n",
      "\n",
      "        [[-1.1708,  1.7394, -1.5441,  ...,  0.5417, -0.4255,  0.4585],\n",
      "         [-0.2533,  0.0440, -1.6970,  ...,  0.7386, -0.0063,  0.4594],\n",
      "         [-1.3955, -1.2648,  1.3255,  ..., -1.1316, -0.0205,  1.0055],\n",
      "         ...,\n",
      "         [-0.0132, -0.0276, -0.9180,  ..., -0.5519, -1.2789,  0.8347],\n",
      "         [ 0.3721,  0.0422,  1.7445,  ...,  0.5592, -1.5470,  0.4454],\n",
      "         [ 0.2104, -1.4767,  1.5252,  ..., -0.6636,  1.3953, -0.1335]],\n",
      "\n",
      "        [[ 0.1228, -0.9260,  0.2301,  ..., -1.4881, -1.7691,  2.2749],\n",
      "         [ 0.3594, -0.0097, -0.5351,  ..., -0.4084,  0.2235, -0.4717],\n",
      "         [ 0.1913, -0.3620, -0.0926,  ..., -0.3060,  1.4328, -1.6457],\n",
      "         ...,\n",
      "         [ 1.2274, -2.4018, -0.3185,  ...,  0.8485, -1.0889, -0.2168],\n",
      "         [-0.1978, -0.0241, -1.1647,  ..., -0.4326,  1.5376, -0.3085],\n",
      "         [ 1.0733,  1.7391,  0.1904,  ...,  1.0278, -1.1862,  0.0471]],\n",
      "\n",
      "        [[-1.1140, -1.4819,  0.3214,  ...,  0.1873,  0.0354, -0.0993],\n",
      "         [-0.6515, -0.6218, -1.1675,  ..., -0.3608, -0.3189,  2.0043],\n",
      "         [-1.3787,  0.2507,  0.0564,  ..., -0.1371, -1.6572, -0.2186],\n",
      "         ...,\n",
      "         [-0.9048, -0.7605, -0.5175,  ...,  0.7245, -0.8827,  0.6441],\n",
      "         [-0.4334,  0.6484,  0.3384,  ..., -0.8461,  0.1026,  0.7433],\n",
      "         [ 1.4658,  1.1364, -0.4377,  ...,  0.9187,  0.5438, -2.7485]]],\n",
      "       dtype=torch.float64)\n"
     ]
    }
   ],
   "source": [
    "# Testez ce DataLoader\n",
    "..."
   ]
  },
  {
   "cell_type": "markdown",
   "id": "81dfe83a",
   "metadata": {},
   "source": [
    "## DataSampler\n",
    "\n",
    "Implementez un data sampler qui, parmi les 128 exemples du dataset, sélectionne ces échantillons aléatoirement"
   ]
  },
  {
   "cell_type": "code",
   "execution_count": 19,
   "id": "necessary-structure",
   "metadata": {},
   "outputs": [],
   "source": [
    "class BatchSampler(torch.utils.data.Sampler):\n",
    "    \"\"\"\n",
    "    Data Sampler used to generate uniformly distributed batches\n",
    "    \"\"\"\n",
    "\n",
    "    def __init__(self, batch_size):\n",
    "        ...\n",
    "    def __iter__(self):\n",
    "        ...\n",
    "\n",
    "    def __len__(self) -> int:\n",
    "        ...\n",
    "\n",
    "    def set_epoch(self, epoch: int) -> None:\n",
    "        ..."
   ]
  },
  {
   "cell_type": "markdown",
   "id": "d86a82f8",
   "metadata": {},
   "source": [
    "Utilisez votre `DataSampler` avec un DataLoader qui n'effectue pas de shuffle sur vos données et vérifier son fonctionnement."
   ]
  },
  {
   "cell_type": "code",
   "execution_count": 38,
   "id": "natural-chaos",
   "metadata": {},
   "outputs": [],
   "source": [
    "..."
   ]
  },
  {
   "cell_type": "code",
   "execution_count": 39,
   "id": "b3dbf1b7",
   "metadata": {},
   "outputs": [
    {
     "name": "stdout",
     "output_type": "stream",
     "text": [
      "tensor([[[-0.7937,  1.4512, -0.4704,  ...,  0.0145, -0.2925,  0.9257],\n",
      "         [-0.0340, -0.0792,  0.0186,  ...,  0.1165, -1.1145, -0.8483],\n",
      "         [-3.5411,  0.4113, -1.2204,  ...,  1.1191, -0.2236,  0.1004],\n",
      "         ...,\n",
      "         [-0.7605,  0.1050,  1.8894,  ...,  0.5267,  1.4374, -0.3940],\n",
      "         [ 0.3630, -0.8052,  0.9325,  ...,  0.7135,  0.6261,  0.4511],\n",
      "         [ 1.2429, -0.8078, -0.5532,  ...,  0.2315, -0.7555, -0.1166]],\n",
      "\n",
      "        [[-1.8358,  1.1586,  0.8221,  ...,  0.7761,  3.3134,  1.5142],\n",
      "         [ 0.6716,  0.7796, -1.6265,  ..., -1.6118, -1.1040, -0.3088],\n",
      "         [ 0.0318,  1.0291,  0.9390,  ...,  3.0728,  0.1594,  0.8606],\n",
      "         ...,\n",
      "         [ 0.4851,  1.0680,  1.5948,  ...,  0.2656, -0.1093,  0.3473],\n",
      "         [ 1.0904,  0.6719, -0.9522,  ..., -0.9245,  0.5239, -0.9447],\n",
      "         [-0.5843,  0.8847,  0.3747,  ...,  0.3761,  1.5945, -0.5665]],\n",
      "\n",
      "        [[ 1.4093, -0.5195,  0.6137,  ..., -1.1289, -0.4026, -0.4182],\n",
      "         [ 1.2400,  2.1219, -1.1617,  ..., -0.4130,  0.2008, -0.6908],\n",
      "         [-0.2330,  0.0652,  0.5499,  ...,  0.6058,  1.7121,  0.0068],\n",
      "         ...,\n",
      "         [ 0.1749,  0.7058, -0.2256,  ..., -0.3942,  1.1496, -0.8263],\n",
      "         [ 0.7890, -1.4967, -1.2376,  ...,  0.8547,  1.0278,  0.3913],\n",
      "         [-1.5943,  1.1132, -1.3562,  ...,  1.8552,  0.3676,  0.4442]],\n",
      "\n",
      "        ...,\n",
      "\n",
      "        [[-1.2737,  1.3287, -1.0857,  ...,  0.2225,  1.1444,  0.3060],\n",
      "         [ 0.9535,  0.8009, -1.1988,  ...,  0.0958,  0.5612,  0.9556],\n",
      "         [ 0.9370,  0.3904, -0.7262,  ...,  1.2768, -0.3180,  0.3073],\n",
      "         ...,\n",
      "         [ 2.9416,  0.0971, -0.1896,  ..., -1.6517,  1.4536, -0.1615],\n",
      "         [-0.2503, -0.3555,  1.3142,  ..., -2.2225,  0.9119, -1.0122],\n",
      "         [ 0.6534, -0.8491,  0.0355,  ..., -0.3168,  0.8339,  0.4632]],\n",
      "\n",
      "        [[-0.1588, -0.6607,  0.3493,  ..., -0.7937,  0.1308,  0.7998],\n",
      "         [-0.3466, -0.0877, -0.2799,  ...,  0.4063,  0.6529, -0.0307],\n",
      "         [ 0.3032, -0.2027, -2.4951,  ...,  0.1612,  0.5355, -0.0533],\n",
      "         ...,\n",
      "         [-0.5148,  0.2813, -0.6869,  ..., -0.3230,  0.3150,  0.6275],\n",
      "         [ 1.0678,  0.2062,  0.1222,  ..., -0.5308,  0.3217,  0.8967],\n",
      "         [-1.2882,  0.1734, -0.1594,  ...,  0.8041, -0.5580,  0.9535]],\n",
      "\n",
      "        [[ 0.4154, -2.7517,  0.3386,  ...,  0.9554,  2.0445,  0.5655],\n",
      "         [-0.8410, -0.0157,  0.6403,  ...,  0.2505,  0.0305, -0.6627],\n",
      "         [-1.5436, -0.1857,  1.4460,  ...,  0.2461, -0.4938,  0.4567],\n",
      "         ...,\n",
      "         [ 0.5482, -0.6584,  0.9507,  ...,  0.7308, -0.7846, -1.1305],\n",
      "         [-0.8798, -0.9287, -0.1887,  ..., -1.2710, -0.0673,  1.6927],\n",
      "         [-0.6566,  0.3791,  0.0899,  ...,  1.5301, -0.8729, -0.2183]]],\n",
      "       dtype=torch.float64)\n"
     ]
    }
   ],
   "source": [
    "# Testez ce DataLoader\n",
    "..."
   ]
  },
  {
   "cell_type": "markdown",
   "id": "8c36fa08",
   "metadata": {},
   "source": [
    "# Save and Load models\n",
    "\n",
    "It is advised to save and load models to use the **load_state_dict** method.\n",
    "\n",
    "Beware, saving and loading models requires to know on which device the model is loaded.\n",
    "\n",
    "*Question: How to load a model on a selected device?*"
   ]
  },
  {
   "cell_type": "code",
   "execution_count": null,
   "id": "14212a02",
   "metadata": {},
   "outputs": [],
   "source": [
    "# Save and Load your model here\n",
    "..."
   ]
  },
  {
   "cell_type": "markdown",
   "id": "1a47bb29",
   "metadata": {},
   "source": [
    "# Make PyTorch deterministic\n",
    "\n",
    "Randomness is very present in many steps of deep learning.\n",
    "\n",
    "In order to come closer to reproducibility you need to :"
   ]
  },
  {
   "cell_type": "code",
   "execution_count": null,
   "id": "57fb6b13",
   "metadata": {},
   "outputs": [],
   "source": [
    "import numpy\n",
    "import random\n",
    "import torch\n",
    "\n",
    "numpy.random.seed(0)\n",
    "random.seed(0)\n",
    "torch.manual_seed(0)"
   ]
  },
  {
   "cell_type": "markdown",
   "id": "430771ed",
   "metadata": {},
   "source": [
    "Convolution can involve the choice of different algorithms.\n",
    "\n",
    "**When a cuDNN convolution is called with a new set of size parameters, an optional feature can run multiple convolution algorithms, benchmarking them to find the fastest one.**\n",
    "\n",
    "Disabling the benchmarking feature with ```torch.backends.cudnn.benchmark = False``` causes cuDNN to deterministically select an algorithm, possibly at the cost of reduced performance.\n",
    "\n",
    "However, if you do not need reproducibility across multiple executions of your application, then performance might improve if the benchmarking feature is enabled with ```torch.backends.cudnn.benchmark = True```.\n"
   ]
  },
  {
   "cell_type": "code",
   "execution_count": null,
   "id": "78b99b60",
   "metadata": {},
   "outputs": [],
   "source": [
    "torch.use_deterministic_algorithms(True)"
   ]
  },
  {
   "cell_type": "markdown",
   "id": "4c0003e6",
   "metadata": {},
   "source": [
    "DataLoader will reseed workers following Randomness in multi-process data loading algorithm. \n",
    "\n",
    "Use ```worker_init_fn()``` and generator to preserve reproducibility:"
   ]
  }
 ],
 "metadata": {
  "kernelspec": {
   "display_name": "Python 3 (ipykernel)",
   "language": "python",
   "name": "python3"
  },
  "language_info": {
   "codemirror_mode": {
    "name": "ipython",
    "version": 3
   },
   "file_extension": ".py",
   "mimetype": "text/x-python",
   "name": "python",
   "nbconvert_exporter": "python",
   "pygments_lexer": "ipython3",
   "version": "3.11.5"
  }
 },
 "nbformat": 4,
 "nbformat_minor": 5
}
