{
 "cells": [
  {
   "cell_type": "markdown",
   "id": "e780a8bf",
   "metadata": {},
   "source": [
    "# Classification d'émotions dans la parole avec un modèle Bayésien naïf.\n",
    "\n",
    "Dans ce travail, vous allez travailler sur un corpus de parole où les locuteurs actent des émotions sur un texte prédéfini. Ce corpus s'appelle Emo-DB, et la documentation complète est accessible ici : http://emodb.bilderbar.info/docu/ et la base de donnée est accessible sur la plateforme Kaggle (https://www.kaggle.com/datasets/piyushagni5/berlin-database-of-emotional-speech-emodb)\n",
    "\n",
    "10 locuteurs ont été enregistrés. 6 seront utilisés pour apprendre un modèle Bayésien naïf, les 4 locuteurs restant serviront à valider votre modèle. Nous aurons donc une évaluation indépendante du locuteur.\n",
    "\n",
    "A l'origine, 6 émotions ont été exprimées lors de l'enregistrement du corpus. Pour simplifier le problème, nous avons réduit à deux classes notre problème de classification :\n",
    "* NEG : colère, tristesse, peur, dégoût\n",
    "* IDL : neutre, ennui, joie"
   ]
  },
  {
   "cell_type": "code",
   "execution_count": 2,
   "id": "bbd45ef4",
   "metadata": {},
   "outputs": [],
   "source": [
    "from pathlib import Path\n",
    "import pandas as pd\n",
    "import scipy.io.wavfile as wav\n",
    "from tqdm import tqdm\n",
    "import numpy as np"
   ]
  },
  {
   "cell_type": "markdown",
   "id": "b0426ebd",
   "metadata": {},
   "source": [
    "## 1) Feature extraction\n",
    "\n",
    "Vous n'avez rien à faire dans cette section. Je vous la laisse pour comprendre comment sont construits les différents fichiers que vous aurez à traiter par la suite.\n",
    "\n",
    "Pour construire un modèle à partir d'une base de donnée audio, il faut extraire des descripteurs du signal de parole. Généralement ces descripteurs sont issus de la théorie du traitement numérique du signal et du modèle source-filtre de la parole.\n",
    "\n",
    "Nous considérons ici, l'extraction des descripteurs comme une boîte noire qui prend en entrée un signal audio (fichier wav) et retourne un vecteur de caractéristiques pour l'ensemble du segment. La taille du vecteur ne dépend pas de la durée du signal audio.\n",
    "\n",
    "La boîte noire que nous allons utiliser est celle d'OpenSmile (https://audeering.github.io/opensmile-python/). Le contenu des vecteurs de caractéristiques varie suivant la configuration choisie. Une des configurations les plus utilisées s'appelle eGeMAPS, c'est celle que nous utiliserons. Elle permet de représenter un segment de parole émotionnelle sous forme d'un vecteur de 88 valeurs continues."
   ]
  },
  {
   "cell_type": "code",
   "execution_count": 3,
   "id": "994080e0",
   "metadata": {},
   "outputs": [
    {
     "name": "stdout",
     "output_type": "stream",
     "text": [
      "F0semitoneFrom27.5Hz_sma3nz_amean,F0semitoneFrom27.5Hz_sma3nz_stddevNorm,F0semitoneFrom27.5Hz_sma3nz_percentile20.0,F0semitoneFrom27.5Hz_sma3nz_percentile50.0,F0semitoneFrom27.5Hz_sma3nz_percentile80.0,F0semitoneFrom27.5Hz_sma3nz_pctlrange0-2,F0semitoneFrom27.5Hz_sma3nz_meanRisingSlope,F0semitoneFrom27.5Hz_sma3nz_stddevRisingSlope,F0semitoneFrom27.5Hz_sma3nz_meanFallingSlope,F0semitoneFrom27.5Hz_sma3nz_stddevFallingSlope,loudness_sma3_amean,loudness_sma3_stddevNorm,loudness_sma3_percentile20.0,loudness_sma3_percentile50.0,loudness_sma3_percentile80.0,loudness_sma3_pctlrange0-2,loudness_sma3_meanRisingSlope,loudness_sma3_stddevRisingSlope,loudness_sma3_meanFallingSlope,loudness_sma3_stddevFallingSlope,spectralFlux_sma3_amean,spectralFlux_sma3_stddevNorm,mfcc1_sma3_amean,mfcc1_sma3_stddevNorm,mfcc2_sma3_amean,mfcc2_sma3_stddevNorm,mfcc3_sma3_amean,mfcc3_sma3_stddevNorm,mfcc4_sma3_amean,mfcc4_sma3_stddevNorm,jitterLocal_sma3nz_amean,jitterLocal_sma3nz_stddevNorm,shimmerLocaldB_sma3nz_amean,shimmerLocaldB_sma3nz_stddevNorm,HNRdBACF_sma3nz_amean,HNRdBACF_sma3nz_stddevNorm,logRelF0-H1-H2_sma3nz_amean,logRelF0-H1-H2_sma3nz_stddevNorm,logRelF0-H1-A3_sma3nz_amean,logRelF0-H1-A3_sma3nz_stddevNorm,F1frequency_sma3nz_amean,F1frequency_sma3nz_stddevNorm,F1bandwidth_sma3nz_amean,F1bandwidth_sma3nz_stddevNorm,F1amplitudeLogRelF0_sma3nz_amean,F1amplitudeLogRelF0_sma3nz_stddevNorm,F2frequency_sma3nz_amean,F2frequency_sma3nz_stddevNorm,F2bandwidth_sma3nz_amean,F2bandwidth_sma3nz_stddevNorm,F2amplitudeLogRelF0_sma3nz_amean,F2amplitudeLogRelF0_sma3nz_stddevNorm,F3frequency_sma3nz_amean,F3frequency_sma3nz_stddevNorm,F3bandwidth_sma3nz_amean,F3bandwidth_sma3nz_stddevNorm,F3amplitudeLogRelF0_sma3nz_amean,F3amplitudeLogRelF0_sma3nz_stddevNorm,alphaRatioV_sma3nz_amean,alphaRatioV_sma3nz_stddevNorm,hammarbergIndexV_sma3nz_amean,hammarbergIndexV_sma3nz_stddevNorm,slopeV0-500_sma3nz_amean,slopeV0-500_sma3nz_stddevNorm,slopeV500-1500_sma3nz_amean,slopeV500-1500_sma3nz_stddevNorm,spectralFluxV_sma3nz_amean,spectralFluxV_sma3nz_stddevNorm,mfcc1V_sma3nz_amean,mfcc1V_sma3nz_stddevNorm,mfcc2V_sma3nz_amean,mfcc2V_sma3nz_stddevNorm,mfcc3V_sma3nz_amean,mfcc3V_sma3nz_stddevNorm,mfcc4V_sma3nz_amean,mfcc4V_sma3nz_stddevNorm,alphaRatioUV_sma3nz_amean,hammarbergIndexUV_sma3nz_amean,slopeUV0-500_sma3nz_amean,slopeUV500-1500_sma3nz_amean,spectralFluxUV_sma3nz_amean,loudnessPeaksPerSec,VoicedSegmentsPerSec,MeanVoicedSegmentLengthSec,StddevVoicedSegmentLengthSec,MeanUnvoicedSegmentLength,StddevUnvoicedSegmentLength,equivalentSoundLevel_dBp\n"
     ]
    }
   ],
   "source": [
    "import opensmile\n",
    "smile = opensmile.Smile(\n",
    "    feature_set=opensmile.FeatureSet.eGeMAPSv02,\n",
    "    feature_level=opensmile.FeatureLevel.Functionals,\n",
    ")\n",
    "# affichage des noms des descripteurs audio qui sont extraits pour chaque fichier audio.\n",
    "feat = smile.feature_names\n",
    "print(','.join(feat))"
   ]
  },
  {
   "cell_type": "code",
   "execution_count": 4,
   "id": "3f84c0dd",
   "metadata": {},
   "outputs": [],
   "source": [
    "corpus_dir = '/Users/tahon/Documents/Recherche/Corpus/emodb/wav/'\n",
    "# dictionnaire de correspondance entre les classes d'émotion en allemand vers anglais\n",
    "# emo2emo = {'W':'A', 'L':'B', 'E':'D', 'A':'F', 'F':'H', 'T':'S', 'N':'N'}\n",
    "# dictionnaire de correspondance entre les classes d'émotion en allemand vers nos 2 classes. \n",
    "# La correspondance na n'est pas prise en compte dans l'extraction des descripteurs.\n",
    "emo2cl = {'W':'NEG', 'L':'IDL', 'E':'NEG', 'A':'NEG', 'F':'IDL', 'T':'NEG', 'N':'IDL'}\n",
    "\n",
    "\n",
    "def write_extract_features(corpus_dir, spk_list, csvfile):\n",
    "    \"\"\"\n",
    "        Cette fonction crée un fichier contenant l'ensemble des descripteurs obtenus pour chaque fichier audio,\n",
    "        ainsi que la classe d'émotion correspondante: Name,desc1,desc2,...,desc88,Emo\n",
    "        - corpus_dir: chemin vers les fichiers audio\n",
    "        - spk_list: liste des locuteurs considérés pour la création du fichier\n",
    "        - csvfile: nom du fichier\n",
    "    \"\"\"\n",
    "    header = 'Name,'+','.join(feat)+',Emo\\n'\n",
    "    with open(csvfile, 'w') as f:\n",
    "        f.write(header)\n",
    "        for file in Path(corpus_dir).glob('*.wav'):\n",
    "            \n",
    "            tab = str(file).split('/')[-1]\n",
    "            spk = tab[:2]\n",
    "            if spk not in spk_list:\n",
    "                continue\n",
    "            text = tab[2:5]\n",
    "            emo = emo2cl[tab[5]]\n",
    "            if emo == 'na':\n",
    "                continue\n",
    "            sr, y = wav.read(corpus_dir + tab)\n",
    "            x = smile.process_signal(y,sr)\n",
    "            f.write(tab + ',')\n",
    "            f.write(','.join(str(x.values[0][i]) for i in range(88)))\n",
    "            f.write(',' + emo + '\\n')"
   ]
  },
  {
   "cell_type": "markdown",
   "id": "97960ab4",
   "metadata": {},
   "source": [
    "--------------------------\n",
    "A partir de maintenant, nous pouvons extraire l'ensemble des descripteurs des ensembles d'apprentissage et de test fichier par fichier.\n",
    "\n",
    "Si vous souhaitez modifier la répartition des classes émotionnelles, et/ou faire une classification à plusieurs classes, vous devrez regénérer ces fichiers. Mais pour la partie suivante, vous pouvez récupérer les fichiers directement sur le dépôt UMTICE."
   ]
  },
  {
   "cell_type": "markdown",
   "id": "97b44bef",
   "metadata": {},
   "source": [
    "### Extract train set features"
   ]
  },
  {
   "cell_type": "code",
   "execution_count": 4,
   "id": "4877caec",
   "metadata": {},
   "outputs": [],
   "source": [
    "spk_train = ['03', '08', '09', '10', '11', '12']\n",
    "write_extract_features(corpus_dir, spk_train, 'emodb_train.csv')"
   ]
  },
  {
   "cell_type": "markdown",
   "id": "3a72612b",
   "metadata": {},
   "source": [
    "### Extract test features"
   ]
  },
  {
   "cell_type": "code",
   "execution_count": 5,
   "id": "84bfb564",
   "metadata": {},
   "outputs": [],
   "source": [
    "spk_test = ['13', '14', '15', '16']\n",
    "write_extract_features(corpus_dir, spk_test, 'emodb_test.csv')"
   ]
  },
  {
   "cell_type": "markdown",
   "id": "232f62a6",
   "metadata": {},
   "source": [
    "## 2) Construction d'un modèle Bayesien Naïf appliqué à des données continues (6 pts)\n",
    "\n",
    "Cette seconde partie est celle que vous devrez me retourner pour évaluation. Vous devez implémenter un modèle Bayésien Naïf pour des variables continues.\n",
    "\n",
    "**Q1** A priori, les variables étant continues, quel loi de probabilité allez-vous prendre pour modéliser les distributions des descripteurs d'émotion ?"
   ]
  },
  {
   "cell_type": "markdown",
   "id": "1a40d41a",
   "metadata": {},
   "source": [
    "**Q1.solution** Ça ne peut pas être la loi binomiale car elle est discrete ni bernoulli pour la même raison.\n",
    "Donc, à priori, on choisit la loi normale pour modéliser les distributions des descripteurs d'émotion. "
   ]
  },
  {
   "cell_type": "markdown",
   "id": "e58f0970",
   "metadata": {},
   "source": [
    "### Chargement des données d'apprentissage et de test\n",
    "\n",
    "**Q2** A partir des éléments de code donnés ci-dessous, calculer la probabilité a priori pour chacune des classes."
   ]
  },
  {
   "cell_type": "code",
   "execution_count": 5,
   "id": "996b5f7c",
   "metadata": {
    "scrolled": true
   },
   "outputs": [
    {
     "name": "stdout",
     "output_type": "stream",
     "text": [
      "\n",
      " train_data :\n",
      "\n",
      "Emo\n",
      "IDL    123\n",
      "NEG    155\n",
      "dtype: int64\n"
     ]
    }
   ],
   "source": [
    "# on récupère deux panda dataframe contenant les noms des fichiers, les descripteurs associés et l'émotion réelle.\n",
    "train_data = pd.read_csv('emodb_train.csv')\n",
    "test_data = pd.read_csv('emodb_test.csv')\n",
    "print(\"\\n train_data :\\n\")\n",
    "print(train_data.groupby('Emo').size())\n"
   ]
  },
  {
   "cell_type": "markdown",
   "id": "9970ec74",
   "metadata": {},
   "source": [
    "**Q2.solution** Concernant les données d'entrainements, cela donne une probabilité de $\\frac{123}{123+155}$ = 0.44 d'émotions IDL et $\\frac{155}{123+155}$ = 0.56 d'émotion NEG."
   ]
  },
  {
   "cell_type": "markdown",
   "id": "1a0bc78a",
   "metadata": {},
   "source": [
    "**Q3** Pour chaque descripteur déterminer les paramètres de loi à partir des segments émotionnels de la base d'apprentissage. On rappelle que dans le cas Bernoulli, il faut déterminer la probabilité de succès de l'événement. Dans le cas multinomial, il faut déterminer la moyenne et l'écart-type de la densité de probabilité. "
   ]
  },
  {
   "cell_type": "code",
   "execution_count": 6,
   "id": "3c2eef08",
   "metadata": {
    "scrolled": true
   },
   "outputs": [],
   "source": [
    "idle=[]\n",
    "neg=[]\n",
    "for u in train_data.values:\n",
    "        if \"IDL\" in u:\n",
    "            idle.append(u)\n",
    "        elif \"NEG\" in u:\n",
    "            neg.append(u)"
   ]
  },
  {
   "cell_type": "code",
   "execution_count": 7,
   "id": "a8100b34",
   "metadata": {
    "scrolled": true
   },
   "outputs": [],
   "source": [
    "moyenne_idle=[]\n",
    "moyenne_neg=[]\n",
    "ecart_idle=[]\n",
    "ecart_neg=[]\n",
    "tempo1=0\n",
    "tempo2=0\n",
    "ecart_temp_idle=0\n",
    "ecart_temp_neg=0\n",
    "\n",
    "def ecart_type(liste,numero):\n",
    "    temp=[]\n",
    "    for i in liste:\n",
    "        temp.append(i[numero])\n",
    "    return np.std(temp)\n",
    "    \n",
    "\n",
    "    \n",
    "    \n",
    "for u in range (88):\n",
    "    if u!=0:\n",
    "        ecart_idle.append(ecart_type(idle,u))\n",
    "        ecart_neg.append(ecart_type(neg,u))\n",
    "        for v in range (len(idle)):\n",
    "            tempo1+=idle[v][u]\n",
    "            tempo2+=neg[v][u]\n",
    "        \n",
    "    moyenne_idle.append(tempo1/len(idle))\n",
    "    moyenne_neg.append(tempo2/len(neg))\n",
    "    \n",
    "    #ecart_idle.append(ecart_type(idle,u))\n",
    "    tempo1=0\n",
    "    tempo2=0\n",
    "    \n",
    "\n",
    "\n"
   ]
  },
  {
   "cell_type": "markdown",
   "id": "8b48d24f",
   "metadata": {},
   "source": [
    "**Q4** Rappeler l'hypothèse naïve\n",
    "\n",
    "**Q4.solution** On considère que les variables sont indépendentes mes unes des autres. Les caractéristiques xi sont indépendantes entre elles\n",
    "P($x_i$|C,$x_j$) = P($x_i$|C) \n",
    "\n",
    "Alors on peut ré-écrire la probabilité conditionnelle :\n",
    "\n",
    "P(C|x) = $\\frac{P(C)}{P(x)}$ $\\sum_{i=1}^{n}P(X_i|C)$"
   ]
  },
  {
   "cell_type": "markdown",
   "id": "f0f0ce52",
   "metadata": {},
   "source": [
    "**Q5** Construire une fonction qui calcule la vraisemblance. Elle prendra en entrée les données d'apprentissage et un segment de test."
   ]
  },
  {
   "cell_type": "code",
   "execution_count": 25,
   "id": "73a26eb1",
   "metadata": {
    "scrolled": true
   },
   "outputs": [
    {
     "name": "stdout",
     "output_type": "stream",
     "text": [
      "Nom du segment de test : ['16a02Lb.wav' 0.0 0.0 0.0 0.0 0.0 0.0 0.0 0.0 0.0 0.0 6.2629194\n",
      " 0.010610047 6.19735 6.2700477 6.320696 0.12334585 4.22832 2.1760917\n",
      " 4.3378143 2.1759412 3.5922627 0.0795019 -8.714741 -0.11155835 2.058742\n",
      " 0.7988659 0.30841926 6.753431 3.3408957 0.9186138 0.0 0.0 0.0 0.0 0.0 0.0\n",
      " 0.0 0.0 0.0 0.0 0.0 0.0 0.0 0.0 -201.0 0.0 0.0 0.0 0.0 0.0 -201.0 0.0 0.0\n",
      " 0.0 0.0 0.0 -201.0 0.0 0.0 0.0 0.0 0.0 0.0 0.0 0.0 0.0 0.0 0.0 0.0 0.0\n",
      " 0.0 0.0 0.0 0.0 0.0 0.0 -4.9268594 17.019814 -0.056076407 -0.006453963\n",
      " 3.6104882 14.975846 0.0 0.0 0.0 2.01 0.0 -3.0416198 'IDL']\n"
     ]
    },
    {
     "ename": "IndexError",
     "evalue": "arrays used as indices must be of integer (or boolean) type",
     "output_type": "error",
     "traceback": [
      "\u001b[0;31m---------------------------------------------------------------------------\u001b[0m",
      "\u001b[0;31mIndexError\u001b[0m                                Traceback (most recent call last)",
      "Cell \u001b[0;32mIn [25], line 46\u001b[0m\n\u001b[1;32m     43\u001b[0m     \u001b[38;5;28mprint\u001b[39m(\u001b[38;5;124m\"\u001b[39m\u001b[38;5;124midle :\u001b[39m\u001b[38;5;124m\"\u001b[39m,sum_idle)\n\u001b[1;32m     45\u001b[0m     \u001b[38;5;66;03m#print(\"Le produit des probabilités obtenu grâce à la loi normale de ce segment est :\",sum)\u001b[39;00m\n\u001b[0;32m---> 46\u001b[0m \u001b[43mVraisemblance\u001b[49m\u001b[43m(\u001b[49m\u001b[43mtest_data\u001b[49m\u001b[38;5;241;43m.\u001b[39;49m\u001b[43mvalues\u001b[49m\u001b[43m)\u001b[49m\n",
      "Cell \u001b[0;32mIn [25], line 26\u001b[0m, in \u001b[0;36mVraisemblance\u001b[0;34m(segment)\u001b[0m\n\u001b[1;32m     21\u001b[0m \u001b[38;5;28;01mfor\u001b[39;00m v \u001b[38;5;129;01min\u001b[39;00m segment:\n\u001b[1;32m     23\u001b[0m     \u001b[38;5;28;01mfor\u001b[39;00m u \u001b[38;5;129;01min\u001b[39;00m \u001b[38;5;28mrange\u001b[39m(\u001b[38;5;241m87\u001b[39m) :\n\u001b[0;32m---> 26\u001b[0m         \u001b[38;5;28;01mif\u001b[39;00m (ecart_idle[u]\u001b[38;5;241m!=\u001b[39m\u001b[38;5;241m0.0\u001b[39m) \u001b[38;5;129;01mand\u001b[39;00m (\u001b[43msegment\u001b[49m\u001b[43m[\u001b[49m\u001b[43mv\u001b[49m\u001b[43m]\u001b[49m[u\u001b[38;5;241m+\u001b[39m\u001b[38;5;241m1\u001b[39m]\u001b[38;5;241m!=\u001b[39m\u001b[38;5;241m0.0\u001b[39m) \u001b[38;5;129;01mand\u001b[39;00m \u001b[38;5;28misinstance\u001b[39m(segment[v][u\u001b[38;5;241m+\u001b[39m\u001b[38;5;241m1\u001b[39m],\u001b[38;5;28mfloat\u001b[39m):\n\u001b[1;32m     27\u001b[0m             densite_idle\u001b[38;5;241m.\u001b[39mappend(DensiteLoiNormale(moyenne_idle[u],ecart_idle[u],segment[v][u\u001b[38;5;241m+\u001b[39m\u001b[38;5;241m1\u001b[39m]))\n\u001b[1;32m     28\u001b[0m         \u001b[38;5;28;01mif\u001b[39;00m (ecart_neg[u]\u001b[38;5;241m!=\u001b[39m\u001b[38;5;241m0.0\u001b[39m) \u001b[38;5;129;01mand\u001b[39;00m (segment[v][u\u001b[38;5;241m+\u001b[39m\u001b[38;5;241m1\u001b[39m]\u001b[38;5;241m!=\u001b[39m\u001b[38;5;241m0.0\u001b[39m) \u001b[38;5;129;01mand\u001b[39;00m \u001b[38;5;28misinstance\u001b[39m(segment[v][u\u001b[38;5;241m+\u001b[39m\u001b[38;5;241m1\u001b[39m],\u001b[38;5;28mfloat\u001b[39m):\n",
      "\u001b[0;31mIndexError\u001b[0m: arrays used as indices must be of integer (or boolean) type"
     ]
    }
   ],
   "source": [
    "#fonction qui calcule le densité de la loi normale \n",
    "from scipy.stats import norm\n",
    "def DensiteLoiNormale(mu,sigma,x):\n",
    "    return (norm(mu,sigma).pdf(x))\n",
    "    #return((1/(sigma*np.sqrt(2*np.pi)))*np.exp(-(((x-mu)**2)/2*sigma)**2))\n",
    "\n",
    "def proche(a,b,seg):\n",
    "    if np.abs(a-seg)<np.abs(b-seg):\n",
    "        return a\n",
    "    else: \n",
    "        return b\n",
    "\n",
    "\n",
    "def Vraisemblance(segment):\n",
    "    print(\"Nom du segment de test :\",segment[0])\n",
    "    sum_neg=1\n",
    "    sum_idle=1\n",
    "    densite_neg=[]\n",
    "    densite_idle=[]\n",
    "    densite=[]\n",
    "    for v in segment:\n",
    "    \n",
    "        for u in range(87) :\n",
    "\n",
    "\n",
    "            if (ecart_idle[u]!=0.0) and (segment[v][u+1]!=0.0) and isinstance(segment[v][u+1],float):\n",
    "                densite_idle.append(DensiteLoiNormale(moyenne_idle[u],ecart_idle[u],segment[v][u+1]))\n",
    "            if (ecart_neg[u]!=0.0) and (segment[v][u+1]!=0.0) and isinstance(segment[v][u+1],float):\n",
    "                densite_neg.append(DensiteLoiNormale(moyenne_neg[u],ecart_neg[u],segment[v][u+1]))\n",
    "\n",
    "\n",
    "        for i in densite_neg:\n",
    "            if(i!=0.0):\n",
    "                sum_neg*=i\n",
    "\n",
    "        for i in densite_idle:\n",
    "            if(i!=0.0):\n",
    "                sum_idle*=i\n",
    "\n",
    "    \n",
    "    print(densite_neg)\n",
    "    print(\"neg :\",sum_neg)\n",
    "    print(\"idle :\",sum_idle)\n",
    "\n",
    "    #print(\"Le produit des probabilités obtenu grâce à la loi normale de ce segment est :\",sum)\n",
    "Vraisemblance(test_data.values)"
   ]
  },
  {
   "cell_type": "code",
   "execution_count": null,
   "id": "86c0805e",
   "metadata": {},
   "outputs": [],
   "source": []
  },
  {
   "cell_type": "markdown",
   "id": "cc4cf361",
   "metadata": {},
   "source": [
    "**Q6** Pour un segment de test dont on ne connait pas la classe émotionnel, déterminer le maximum de vraisemblance. "
   ]
  },
  {
   "cell_type": "code",
   "execution_count": 14,
   "id": "047bc6b8",
   "metadata": {},
   "outputs": [
    {
     "ename": "NameError",
     "evalue": "name 'vraisemblance' is not defined",
     "output_type": "error",
     "traceback": [
      "\u001b[0;31m---------------------------------------------------------------------------\u001b[0m",
      "\u001b[0;31mNameError\u001b[0m                                 Traceback (most recent call last)",
      "Cell \u001b[0;32mIn [14], line 2\u001b[0m\n\u001b[1;32m      1\u001b[0m \u001b[38;5;66;03m# On calcule la vraisemblance des classes IDL et NEG pour chaque élément de notre segment\u001b[39;00m\n\u001b[0;32m----> 2\u001b[0m vraisemblance_IDL, vraisemblance_NEG \u001b[38;5;241m=\u001b[39m \u001b[43mvraisemblance\u001b[49m(desc, test_data[test_data\u001b[38;5;241m.\u001b[39mindex \u001b[38;5;241m<\u001b[39m\u001b[38;5;241m=\u001b[39m \u001b[38;5;241m25\u001b[39m])\n\u001b[1;32m      4\u001b[0m \u001b[38;5;28mmax\u001b[39m \u001b[38;5;241m=\u001b[39m []\n\u001b[1;32m      5\u001b[0m \u001b[38;5;66;03m# On détermine la classe de chaque élément du segment.\u001b[39;00m\n",
      "\u001b[0;31mNameError\u001b[0m: name 'vraisemblance' is not defined"
     ]
    }
   ],
   "source": [
    "# On calcule la vraisemblance des classes IDL et NEG pour chaque élément de notre segment\n",
    "vraisemblance_IDL, vraisemblance_NEG = vraisemblance(desc, test_data[test_data.index <= 25])\n",
    "\n",
    "max = []\n",
    "# On détermine la classe de chaque élément du segment.\n",
    "for i in range(len(vraisemblance_IDL)):\n",
    "    if vraisemblance_IDL[i] > vraisemblance_NEG[i]:\n",
    "        max.append(\"IDL\")\n",
    "    else:\n",
    "        max.append(\"NEG\")\n",
    "\n",
    "print(max)"
   ]
  },
  {
   "cell_type": "markdown",
   "id": "664a831f",
   "metadata": {},
   "source": [
    "**Q7** A partir de la vraisemblance et de la probabilité a priori, calculer la probabilité a posteri que le segment de test appartienne à une classe ou l'autre. Comparer votre résultat avec l'émotion réelle telle qu'annotée dans le corpus."
   ]
  },
  {
   "cell_type": "code",
   "execution_count": null,
   "id": "3f9e1648",
   "metadata": {},
   "outputs": [],
   "source": []
  },
  {
   "cell_type": "markdown",
   "id": "709db18e",
   "metadata": {},
   "source": [
    "**Q8** Evaluer votre modèle en calculant le taux de bonnes réponses (accuracy) obtenu sur l'ensemble de test, c'est-à-dire le nombre de bonnes réponses sur le nombre total de segment de test."
   ]
  },
  {
   "cell_type": "markdown",
   "id": "a22bdc12",
   "metadata": {},
   "source": [
    "si le résultat  est neg et que ca l'est vraiment bh c'est bon\n"
   ]
  },
  {
   "cell_type": "markdown",
   "id": "7b6acdcb",
   "metadata": {},
   "source": [
    "## 3) Comparaison de vos résultats avec sklearn (3pts)\n",
    "\n",
    "Enfin, je vous propose de comparer votre modèle avec une version implémentée dans la librairie `sklearn`. Plusieurs types de modèles sont possibles à choisir en fonction de vos données et votre problème: `MultinomialNB`, `GaussianNB`, `BernoulliNB`, etc...\n",
    "\n",
    "`sklearn` fourni également un certain nombre de métriques très utiles en machine learning. Parmi celle-ci, la plus complète et adaptée aux problèmes de classification est la visualisation de la matrice de confusion. Cette matrice ($2 \\times 2$ dans notre cas), permet de voir le nombre de segment correctement classés par classe."
   ]
  },
  {
   "cell_type": "code",
   "execution_count": 134,
   "id": "df05466d",
   "metadata": {},
   "outputs": [],
   "source": [
    "from sklearn.naive_bayes import MultinomialNB, GaussianNB, BernoulliNB\n",
    "from sklearn.metrics import confusion_matrix, ConfusionMatrixDisplay\n",
    "import matplotlib.pyplot as plt"
   ]
  },
  {
   "cell_type": "markdown",
   "id": "70e4b16f",
   "metadata": {},
   "source": [
    "L'apprentissage d'un modèle se fait avec les variables suivantes:\n",
    "* `x_train`: matrice correspondant aux données (en lignes) et leurs descripteurs (en colonnes) pour **l'apprentissage** du modèle\n",
    "* `y_train`: labels correspondant aux classes associés à chaque donnée d'apprentissage (vecteur)\n",
    "* `x_test`: matrice correspondant aux données (en lignes) et leurs descripteurs (en colonnes) pour **l'évaluation** du modèle\n",
    "* `y_pred`: labels prédits par le modèle sur les données d'évaluation `x_test`\n",
    "* `y_test`: labels a priori inconnus correspondant aux classes associés à chaque donnée d'évaluation (vecteur)"
   ]
  },
  {
   "cell_type": "code",
   "execution_count": 136,
   "id": "015204bc",
   "metadata": {},
   "outputs": [
    {
     "data": {
      "image/png": "[encoded data removed]",
      "text/plain": [
       "<Figure size 640x480 with 2 Axes>"
      ]
     },
     "metadata": {},
     "output_type": "display_data"
    }
   ],
   "source": [
    "x_train = train_data.drop(columns=['Emo', 'Name'])\n",
    "y_train = train_data['Emo']\n",
    "x_test = test_data.drop(columns=['Emo', 'Name'])\n",
    "y_test = test_data['Emo']\n",
    "clf = GaussianNB()                # choisir ici la fonction correspondant au modèle souhaité\n",
    "clf.fit(x_train, y_train)    # apprentissage du modèle sur les données d'apprentissage\n",
    "y_pred = clf.predict(x_test) # prédit les labels correspondant aux données d'évaluation\n",
    "\n",
    "# affiche la matrice de confusion\n",
    "cm = confusion_matrix(y_test, y_pred, labels=clf.classes_)\n",
    "disp = ConfusionMatrixDisplay(confusion_matrix=cm,display_labels=clf.classes_)\n",
    "disp.plot()\n",
    "plt.show()"
   ]
  },
  {
   "cell_type": "markdown",
   "id": "16b6b38f",
   "metadata": {},
   "source": [
    "## 4) pour aller plus loin (bonus 2pts)\n",
    "\n",
    "Dans cette dernière partie, je vous laisse libre de choisir la tâche que vous souhaitez réaliser.\n",
    "Finalement, vous pouvez rafiner votre modèle avec une approche de votre choix, optimiser les descripteurs, faire une classification à plus que deux classes. Vous pouvez également comparer l'approche avec d'autres types de modèles disponibles dans `sklearn`. Vous pouvez également prendre en compte le genre des locuteurs, ou normaliser vos descripteurs.\n",
    "\n",
    "Bon courage!"
   ]
  },
  {
   "cell_type": "code",
   "execution_count": null,
   "id": "883f756c",
   "metadata": {},
   "outputs": [],
   "source": []
  }
 ],
 "metadata": {
  "kernelspec": {
   "display_name": "Python 3 (ipykernel)",
   "language": "python",
   "name": "python3"
  },
  "language_info": {
   "codemirror_mode": {
    "name": "ipython",
    "version": 3
   },
   "file_extension": ".py",
   "mimetype": "text/x-python",
   "name": "python",
   "nbconvert_exporter": "python",
   "pygments_lexer": "ipython3",
   "version": "3.10.9"
  }
 },
 "nbformat": 4,
 "nbformat_minor": 5
}
