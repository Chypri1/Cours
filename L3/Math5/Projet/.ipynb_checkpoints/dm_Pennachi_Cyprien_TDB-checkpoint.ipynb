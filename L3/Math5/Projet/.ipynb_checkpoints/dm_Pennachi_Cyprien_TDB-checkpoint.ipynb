{
 "cells": [
  {
   "cell_type": "markdown",
   "id": "373554c7",
   "metadata": {
    "id": "e780a8bf"
   },
   "source": [
    "# Classification d'émotions dans la parole avec un modèle Bayésien naïf.\n",
    "\n",
    "Dans ce travail, vous allez travailler sur un corpus de parole où les locuteurs actent des émotions sur un texte prédéfini. Ce corpus s'appelle Emo-DB, et la documentation complète est accessible ici : http://emodb.bilderbar.info/docu/ et la base de donnée est accessible sur la plateforme Kaggle (https://www.kaggle.com/datasets/piyushagni5/berlin-database-of-emotional-speech-emodb)\n",
    "\n",
    "10 locuteurs ont été enregistrés. 6 seront utilisés pour apprendre un modèle Bayésien naïf, les 4 locuteurs restant serviront à valider votre modèle. Nous aurons donc une évaluation indépendante du locuteur.\n",
    "\n",
    "A l'origine, 6 émotions ont été exprimées lors de l'enregistrement du corpus. Pour simplifier le problème, nous avons réduit à deux classes notre problème de classification :\n",
    "* NEG : colère, tristesse, peur, dégoût\n",
    "* IDL : neutre, ennui, joie"
   ]
  },
  {
   "cell_type": "code",
   "execution_count": 1,
   "id": "7b552813",
   "metadata": {
    "colab": {
     "base_uri": "https://localhost:8080/"
    },
    "id": "bbd45ef4",
    "outputId": "f4fcbcff-c4bd-4da4-804e-10499ef9441a"
   },
   "outputs": [],
   "source": [
    "from pathlib import Path\n",
    "import pandas as pd\n",
    "import scipy.io.wavfile as wav\n",
    "from tqdm import tqdm\n",
    "import numpy as np\n",
    "import scipy.stats "
   ]
  },
  {
   "cell_type": "markdown",
   "id": "d37af442",
   "metadata": {
    "id": "b0426ebd"
   },
   "source": [
    "## 1) Feature extraction\n",
    "\n",
    "Vous n'avez rien à faire dans cette section. Je vous la laisse pour comprendre comment sont construits les différents fichiers que vous aurez à traiter par la suite.\n",
    "\n",
    "Pour construire un modèle à partir d'une base de donnée audio, il faut extraire des descripteurs du signal de parole. Généralement ces descripteurs sont issus de la théorie du traitement numérique du signal et du modèle source-filtre de la parole.\n",
    "\n",
    "Nous considérons ici, l'extraction des descripteurs comme une boîte noire qui prend en entrée un signal audio (fichier wav) et retourne un vecteur de caractéristiques pour l'ensemble du segment. La taille du vecteur ne dépend pas de la durée du signal audio.\n",
    "\n",
    "La boîte noire que nous allons utiliser est celle d'OpenSmile (https://audeering.github.io/opensmile-python/). Le contenu des vecteurs de caractéristiques varie suivant la configuration choisie. Une des configurations les plus utilisées s'appelle eGeMAPS, c'est celle que nous utiliserons. Elle permet de représenter un segment de parole émotionnelle sous forme d'un vecteur de 88 valeurs continues."
   ]
  },
  {
   "cell_type": "code",
   "execution_count": 2,
   "id": "ce608ef8",
   "metadata": {
    "colab": {
     "base_uri": "https://localhost:8080/"
    },
    "id": "994080e0",
    "outputId": "ce5146f6-3e35-43d6-9fe3-8b72cc9fc649"
   },
   "outputs": [
    {
     "name": "stdout",
     "output_type": "stream",
     "text": [
      "F0semitoneFrom27.5Hz_sma3nz_amean,F0semitoneFrom27.5Hz_sma3nz_stddevNorm,F0semitoneFrom27.5Hz_sma3nz_percentile20.0,F0semitoneFrom27.5Hz_sma3nz_percentile50.0,F0semitoneFrom27.5Hz_sma3nz_percentile80.0,F0semitoneFrom27.5Hz_sma3nz_pctlrange0-2,F0semitoneFrom27.5Hz_sma3nz_meanRisingSlope,F0semitoneFrom27.5Hz_sma3nz_stddevRisingSlope,F0semitoneFrom27.5Hz_sma3nz_meanFallingSlope,F0semitoneFrom27.5Hz_sma3nz_stddevFallingSlope,loudness_sma3_amean,loudness_sma3_stddevNorm,loudness_sma3_percentile20.0,loudness_sma3_percentile50.0,loudness_sma3_percentile80.0,loudness_sma3_pctlrange0-2,loudness_sma3_meanRisingSlope,loudness_sma3_stddevRisingSlope,loudness_sma3_meanFallingSlope,loudness_sma3_stddevFallingSlope,spectralFlux_sma3_amean,spectralFlux_sma3_stddevNorm,mfcc1_sma3_amean,mfcc1_sma3_stddevNorm,mfcc2_sma3_amean,mfcc2_sma3_stddevNorm,mfcc3_sma3_amean,mfcc3_sma3_stddevNorm,mfcc4_sma3_amean,mfcc4_sma3_stddevNorm,jitterLocal_sma3nz_amean,jitterLocal_sma3nz_stddevNorm,shimmerLocaldB_sma3nz_amean,shimmerLocaldB_sma3nz_stddevNorm,HNRdBACF_sma3nz_amean,HNRdBACF_sma3nz_stddevNorm,logRelF0-H1-H2_sma3nz_amean,logRelF0-H1-H2_sma3nz_stddevNorm,logRelF0-H1-A3_sma3nz_amean,logRelF0-H1-A3_sma3nz_stddevNorm,F1frequency_sma3nz_amean,F1frequency_sma3nz_stddevNorm,F1bandwidth_sma3nz_amean,F1bandwidth_sma3nz_stddevNorm,F1amplitudeLogRelF0_sma3nz_amean,F1amplitudeLogRelF0_sma3nz_stddevNorm,F2frequency_sma3nz_amean,F2frequency_sma3nz_stddevNorm,F2bandwidth_sma3nz_amean,F2bandwidth_sma3nz_stddevNorm,F2amplitudeLogRelF0_sma3nz_amean,F2amplitudeLogRelF0_sma3nz_stddevNorm,F3frequency_sma3nz_amean,F3frequency_sma3nz_stddevNorm,F3bandwidth_sma3nz_amean,F3bandwidth_sma3nz_stddevNorm,F3amplitudeLogRelF0_sma3nz_amean,F3amplitudeLogRelF0_sma3nz_stddevNorm,alphaRatioV_sma3nz_amean,alphaRatioV_sma3nz_stddevNorm,hammarbergIndexV_sma3nz_amean,hammarbergIndexV_sma3nz_stddevNorm,slopeV0-500_sma3nz_amean,slopeV0-500_sma3nz_stddevNorm,slopeV500-1500_sma3nz_amean,slopeV500-1500_sma3nz_stddevNorm,spectralFluxV_sma3nz_amean,spectralFluxV_sma3nz_stddevNorm,mfcc1V_sma3nz_amean,mfcc1V_sma3nz_stddevNorm,mfcc2V_sma3nz_amean,mfcc2V_sma3nz_stddevNorm,mfcc3V_sma3nz_amean,mfcc3V_sma3nz_stddevNorm,mfcc4V_sma3nz_amean,mfcc4V_sma3nz_stddevNorm,alphaRatioUV_sma3nz_amean,hammarbergIndexUV_sma3nz_amean,slopeUV0-500_sma3nz_amean,slopeUV500-1500_sma3nz_amean,spectralFluxUV_sma3nz_amean,loudnessPeaksPerSec,VoicedSegmentsPerSec,MeanVoicedSegmentLengthSec,StddevVoicedSegmentLengthSec,MeanUnvoicedSegmentLength,StddevUnvoicedSegmentLength,equivalentSoundLevel_dBp\n"
     ]
    }
   ],
   "source": [
    "import opensmile\n",
    "smile = opensmile.Smile(\n",
    "    feature_set=opensmile.FeatureSet.eGeMAPSv02,\n",
    "    feature_level=opensmile.FeatureLevel.Functionals,\n",
    ")\n",
    "# affichage des noms des descripteurs audio qui sont extraits pour chaque fichier audio.\n",
    "feat = smile.feature_names\n",
    "print(','.join(feat))"
   ]
  },
  {
   "cell_type": "code",
   "execution_count": 3,
   "id": "90348470",
   "metadata": {
    "id": "3f84c0dd"
   },
   "outputs": [],
   "source": [
    "corpus_dir = '/Users/tahon/Documents/Recherche/Corpus/emodb/wav/'\n",
    "# dictionnaire de correspondance entre les classes d'émotion en allemand vers anglais\n",
    "# emo2emo = {'W':'A', 'L':'B', 'E':'D', 'A':'F', 'F':'H', 'T':'S', 'N':'N'}\n",
    "# dictionnaire de correspondance entre les classes d'émotion en allemand vers nos 2 classes. \n",
    "# La correspondance na n'est pas prise en compte dans l'extraction des descripteurs.\n",
    "emo2cl = {'W':'NEG', 'L':'IDL', 'E':'NEG', 'A':'NEG', 'F':'IDL', 'T':'NEG', 'N':'IDL'}\n",
    "\n",
    "\n",
    "def write_extract_features(corpus_dir, spk_list, csvfile):\n",
    "    \"\"\"\n",
    "        Cette fonction crée un fichier contenant l'ensemble des descripteurs obtenus pour chaque fichier audio,\n",
    "        ainsi que la classe d'émotion correspondante: Name,desc1,desc2,...,desc88,Emo\n",
    "        - corpus_dir: chemin vers les fichiers audio\n",
    "        - spk_list: liste des locuteurs considérés pour la création du fichier\n",
    "        - csvfile: nom du fichier\n",
    "    \"\"\"\n",
    "    header = 'Name,'+','.join(feat)+',Emo\\n'\n",
    "    with open(csvfile, 'w') as f:\n",
    "        f.write(header)\n",
    "        for file in Path(corpus_dir).glob('*.wav'):\n",
    "            \n",
    "            tab = str(file).split('/')[-1]\n",
    "            spk = tab[:2]\n",
    "            if spk not in spk_list:\n",
    "                continue\n",
    "            text = tab[2:5]\n",
    "            emo = emo2cl[tab[5]]\n",
    "            if emo == 'na':\n",
    "                continue\n",
    "            sr, y = wav.read(corpus_dir + tab)\n",
    "            x = smile.process_signal(y,sr)\n",
    "            f.write(tab + ',')\n",
    "            f.write(','.join(str(x.values[0][i]) for i in range(88)))\n",
    "            f.write(',' + emo + '\\n')"
   ]
  },
  {
   "cell_type": "markdown",
   "id": "4dc434db",
   "metadata": {
    "id": "97960ab4"
   },
   "source": [
    "--------------------------\n",
    "A partir de maintenant, nous pouvons extraire l'ensemble des descripteurs des ensembles d'apprentissage et de test fichier par fichier.\n",
    "\n",
    "Si vous souhaitez modifier la répartition des classes émotionnelles, et/ou faire une classification à plusieurs classes, vous devrez regénérer ces fichiers. Mais pour la partie suivante, vous pouvez récupérer les fichiers directement sur le dépôt UMTICE."
   ]
  },
  {
   "cell_type": "markdown",
   "id": "3583d01a",
   "metadata": {
    "id": "97b44bef"
   },
   "source": [
    "### Extract train set features"
   ]
  },
  {
   "cell_type": "code",
   "execution_count": null,
   "id": "a85e2427",
   "metadata": {
    "id": "4877caec"
   },
   "outputs": [],
   "source": [
    "spk_train = ['03', '08', '09', '10', '11', '12']\n",
    "#write_extract_features(corpus_dir, spk_train, 'emodb_train.csv')"
   ]
  },
  {
   "cell_type": "markdown",
   "id": "dc5a17de",
   "metadata": {
    "id": "3a72612b"
   },
   "source": [
    "### Extract test features"
   ]
  },
  {
   "cell_type": "code",
   "execution_count": null,
   "id": "d802d0da",
   "metadata": {
    "id": "84bfb564"
   },
   "outputs": [],
   "source": [
    "spk_test = ['13', '14', '15', '16']\n",
    "#write_extract_features(corpus_dir, spk_test, 'emodb_test.csv')"
   ]
  },
  {
   "cell_type": "markdown",
   "id": "683a6c38",
   "metadata": {
    "id": "232f62a6"
   },
   "source": [
    "## 2) Construction d'un modèle Bayesien Naïf appliqué à des données continues (6 pts)\n",
    "\n",
    "Cette seconde partie est celle que vous devrez me retourner pour évaluation. Vous devez implémenter un modèle Bayésien Naïf pour des variables continues."
   ]
  },
  {
   "cell_type": "markdown",
   "id": "af66da82",
   "metadata": {
    "id": "e9be7f6a"
   },
   "source": [
    "**Q1 - A priori, les variables étant continues, quel loi de probabilité allez-vous prendre pour modéliser les distributions des descripteurs d'émotion ?**\n",
    "\n",
    "Dans ce cas précis, il faut utiliser la loi normale."
   ]
  },
  {
   "cell_type": "markdown",
   "id": "4cc1405e",
   "metadata": {
    "id": "e58f0970"
   },
   "source": [
    "### Chargement des données d'apprentissage et de test\n",
    "\n",
    "**Q2 - A partir des éléments de code donnés ci-dessous, calculer la probabilité a priori pour chacune des classes.**"
   ]
  },
  {
   "cell_type": "code",
   "execution_count": 4,
   "id": "be237ba1",
   "metadata": {
    "colab": {
     "base_uri": "https://localhost:8080/"
    },
    "id": "996b5f7c",
    "outputId": "b0ebd97a-d428-431f-c23e-9a6dcea8cc9c"
   },
   "outputs": [
    {
     "name": "stdout",
     "output_type": "stream",
     "text": [
      "Emo\n",
      "IDL    123\n",
      "NEG    155\n",
      "dtype: int64\n",
      "Proba IDL : 0.44244604316546765\n",
      "Proba NEG : 0.5575539568345323\n"
     ]
    }
   ],
   "source": [
    "# on récupère deux panda dataframe contenant les noms des fichiers, les descripteurs associés et l'émotion réelle.\n",
    "train_data = pd.read_csv('emodb_train.csv')\n",
    "test_data = pd.read_csv('emodb_test.csv')\n",
    "print(train_data.groupby('Emo').size())\n",
    "\n",
    "total = len(train_data['Emo']);\n",
    "\n",
    "# Calcul de la probabilité à priori des classes \n",
    "proba_NEG = train_data.groupby('Emo').size()['NEG'] / total\n",
    "proba_IDL = train_data.groupby('Emo').size()['IDL'] / total\n",
    "\n",
    "print('Proba IDL :', proba_IDL)\n",
    "print('Proba NEG :', proba_NEG)"
   ]
  },
  {
   "cell_type": "markdown",
   "id": "6366458d",
   "metadata": {
    "id": "1a0bc78a"
   },
   "source": [
    "**Q3 - Pour chaque descripteur déterminer les paramètres de loi à partir des segments émotionnels de la base d'apprentissage. On rappelle que dans le cas Bernoulli, il faut déterminer la probabilité de succès de l'événement. Dans le cas multinomial, il faut déterminer la moyenne et l'écart-type de la densité de probabilité.**"
   ]
  },
  {
   "cell_type": "code",
   "execution_count": 7,
   "id": "66b1fbc6",
   "metadata": {
    "colab": {
     "base_uri": "https://localhost:8080/"
    },
    "id": "6f01b15d",
    "outputId": "a4e2e1e0-5ca8-4ea3-c16a-8d5a2ff1df14"
   },
   "outputs": [
    {
     "name": "stdout",
     "output_type": "stream",
     "text": [
      "[[[0.0, 0.0], [0.0, 0.0]], [[0.0, 0.0], [0.0, 0.0]], [[0.0, 0.0], [0.0, 0.0]], [[0.0, 0.0], [0.0, 0.0]], [[0.0, 0.0], [0.0, 0.0]], [[0.0, 0.0], [0.0, 0.0]], [[0.0, 0.0], [0.0, 0.0]], [[0.0, 0.0], [0.0, 0.0]], [[0.0, 0.0], [0.0, 0.0]], [[0.0, 0.0], [0.0, 0.0]], [[6.221328634959351, 0.18338685665955423], [6.200741378709678, 0.1769102976015501]], [[0.031643839788617886, 0.06740621570959514], [0.036064947625806455, 0.06012110260087539]], [[6.16489576504065, 0.337199723493527], [6.126054772903226, 0.3076274091348821]], [[6.26955208699187, 0.026448486300710172], [6.2650157309677414, 0.026769438053283575]], [[6.33052443902439, 0.010568828763120723], [6.32722481483871, 0.01234728906432653]], [[0.16562868869918698, 0.33691110985977085], [0.20117004752903225, 0.30195741149918015]], [[8.180927481153171, 14.766332469077355], [11.323786874838708, 17.319073929227457]], [[3.412625629268293, 5.417705508591422], [5.483560061935484, 7.471896055896266]], [[5.247177923560976, 4.448451900637019], [6.433310544225806, 5.957741079259324]], [[3.394115144715447, 5.25166136038663], [5.304221185374194, 7.814813566442008]], [[3.6622011430894306, 0.09402668362612984], [3.7152932877419356, 0.14913582050647842]], [[0.09070716340650407, 0.055472041396649255], [0.1002953426451613, 0.05981041660599624]], [[-8.30518927886179, 0.9629647370151806], [-8.09070862, 1.031637902869334]], [[-0.2327600789512195, 0.4124015409730487], [-0.2870041445806452, 0.5476962279129182]], [[1.8226529747967481, 0.3962700297685152], [2.0342214077419354, 0.6525964579611433]], [[0.9927179112195121, 0.27081973409341475], [0.9942955051612902, 0.1678373964464723]], [[0.3796921418593495, 0.3803108480740148], [0.5895368781858065, 0.5856495625124962]], [[35.29292235284552, 298.0856981073665], [15.64437529096774, 129.2734391966692]], [[3.150442447967479, 0.40514874175285814], [3.3005650961290325, 0.43561675962595736]], [[0.8934918587804875, 0.2296942246685974], [0.8575814836774194, 0.10416068065980437]], [[0.0, 0.0], [0.0, 0.0]], [[0.0, 0.0], [0.0, 0.0]], [[0.0, 0.0], [0.0, 0.0]], [[0.0, 0.0], [0.0, 0.0]], [[0.0, 0.0], [0.0, 0.0]], [[0.0, 0.0], [0.0, 0.0]], [[0.0, 0.0], [0.0, 0.0]], [[0.0, 0.0], [0.0, 0.0]], [[0.0, 0.0], [0.0, 0.0]], [[0.0, 0.0], [0.0, 0.0]], [[0.0, 0.0], [0.0, 0.0]], [[0.0, 0.0], [0.0, 0.0]], [[0.0, 0.0], [0.0, 0.0]], [[0.0, 0.0], [0.0, 0.0]], [[-201.0, 0.0], [-201.0, 0.0]], [[0.0, 0.0], [0.0, 0.0]], [[0.0, 0.0], [0.0, 0.0]], [[0.0, 0.0], [0.0, 0.0]], [[0.0, 0.0], [0.0, 0.0]], [[0.0, 0.0], [0.0, 0.0]], [[-201.0, 0.0], [-201.0, 0.0]], [[0.0, 0.0], [0.0, 0.0]], [[0.0, 0.0], [0.0, 0.0]], [[0.0, 0.0], [0.0, 0.0]], [[0.0, 0.0], [0.0, 0.0]], [[0.0, 0.0], [0.0, 0.0]], [[-201.0, 0.0], [-201.0, 0.0]], [[0.0, 0.0], [0.0, 0.0]], [[0.0, 0.0], [0.0, 0.0]], [[0.0, 0.0], [0.0, 0.0]], [[0.0, 0.0], [0.0, 0.0]], [[0.0, 0.0], [0.0, 0.0]], [[0.0, 0.0], [0.0, 0.0]], [[0.0, 0.0], [0.0, 0.0]], [[0.0, 0.0], [0.0, 0.0]], [[0.0, 0.0], [0.0, 0.0]], [[0.0, 0.0], [0.0, 0.0]], [[0.0, 0.0], [0.0, 0.0]], [[0.0, 0.0], [0.0, 0.0]], [[0.0, 0.0], [0.0, 0.0]], [[0.0, 0.0], [0.0, 0.0]], [[0.0, 0.0], [0.0, 0.0]], [[0.0, 0.0], [0.0, 0.0]], [[0.0, 0.0], [0.0, 0.0]], [[0.0, 0.0], [0.0, 0.0]], [[0.0, 0.0], [0.0, 0.0]], [[-5.063654717886179, 0.7828700730522544], [-5.171904575483871, 0.7100176366510228]], [[17.149655495934965, 0.8916053602071126], [17.249458322580647, 0.7602187655439032]], [[-0.05575545161788618, 0.0024784091325821185], [-0.056244480793548386, 0.002155782208035298]], [[-0.007000208044715447, 0.0012261587044420767], [-0.007082041507870968, 0.000999978140306309]], [[3.6857625796747966, 0.0801007116256179], [3.729769911612903, 0.1436647403736549]], [[12.007860887642275, 4.004987565836957], [11.250253251290323, 4.481117568346704]], [[0.0, 0.0], [0.0, 0.0]], [[0.0, 0.0], [0.0, 0.0]], [[0.0, 0.0], [0.0, 0.0]], [[2.492601595121951, 0.7748126924631606], [2.89238705483871, 1.28102481892108]], [[0.0, 0.0], [0.0, 0.0]], [[-3.0263226788617885, 0.20997702137789168], [-3.0114586722580645, 0.18778070251928328]]]\n"
     ]
    }
   ],
   "source": [
    "Descripteur = [] # Tableau stockant les paramètres des 88 descripteurs\n",
    "nbDescripteur = train_data.shape[1] - 2\n",
    "nbLignes = train_data.shape[0]\n",
    "\n",
    "for i in range(nbDescripteur):\n",
    "    \n",
    "    Descripteur.append([[0,0],[0,0]])\n",
    "    \n",
    "    desc_IDL = []\n",
    "    desc_NEG = []\n",
    "    \n",
    "    # Récupération des descripteurs dans chaque liste\n",
    "    for j in range(nbLignes):\n",
    "        if(train_data.values[j][-1] == \"NEG\"):\n",
    "            desc_NEG.append(train_data.values[j][i+1])\n",
    "        else:\n",
    "            desc_IDL.append(train_data.values[j][i+1])\n",
    "    \n",
    "    # On fait la moyenne et l'écart-type pour IDL et NEG et on les stocke dans Descripteur\n",
    "    for k in range(nbDescripteur):\n",
    "        Descripteur[i][0][0] = np.mean(desc_IDL)\n",
    "        Descripteur[i][0][1] = np.std(desc_IDL)\n",
    "        \n",
    "        Descripteur[i][1][0] = np.mean(desc_NEG)\n",
    "        Descripteur[i][1][1] = np.std(desc_NEG)\n",
    "\n",
    "print(Descripteur)"
   ]
  },
  {
   "cell_type": "markdown",
   "id": "f2ebff02",
   "metadata": {
    "id": "df404099"
   },
   "source": [
    "**Q4 - Rappeler l'hypothèse naïve**\n",
    "\n",
    "Dans le cas de probabilités conditionnelles à n dimensions tel que :\n",
    "\n",
    "$P(x_{1},\\ldots,x_{n}|C)$ = $P(x_{1}|C)P(x_{2},\\ldots,x_{n}|C,x_{1})$ \n",
    "\n",
    "L'hypotèse naïve part du principe que les caractéristiques $x_{i}$ sont indépendantes entre elles.\n",
    "\n",
    "On écrit donc la probabilité de cette manière :\n",
    "\n",
    "$P(C|x)$ = $\\dfrac{P(C)}{P(x)}\\displaystyle\\sum_{i=1}^{n}P(x_{i}|C)$\n",
    "\n",
    "(à retrouver dans le CM5)"
   ]
  },
  {
   "cell_type": "markdown",
   "id": "29f8be69",
   "metadata": {
    "id": "a05e6cff"
   },
   "source": [
    "**Q5 - Construire une fonction qui calcule la vraisemblance. Elle prendra en entrée les données d'apprentissage et un segment de test.**"
   ]
  },
  {
   "cell_type": "code",
   "execution_count": 10,
   "id": "7c23d577",
   "metadata": {
    "id": "e45d9d98"
   },
   "outputs": [],
   "source": [
    "# Fonction de calcul de la vraisemblance\n",
    "def vraisemblance(Descripteur, test_data):\n",
    "\n",
    "    # Calcul de la vraisemblance pour les classes IDL et NEG pour chaque entrée du jeu de test\n",
    "    vraisemblance_IDL = []\n",
    "    vraisemblance_NEG = []\n",
    "\n",
    "    for u in range(test_data.shape[0]):\n",
    "        \n",
    "        # Initialisation de la vraisemblance à 1\n",
    "        vraisemblance_IDL.append(1)\n",
    "        vraisemblance_NEG.append(1)\n",
    "\n",
    "        for v in range(test_data.shape[1] -2):\n",
    "            \n",
    "            tempo_IDL = 0\n",
    "            tempo_NEG = 0\n",
    "\n",
    "            # Calcul de la densité de probabilité sans prendre en compte les cas où l'écart-type et la moyenne sont à 0\n",
    "            if Descripteur[v][0][1] != 0 and Descripteur[v][0][0] != 0:\n",
    "                tempo_IDL = scipy.stats.norm(Descripteur[v][0][0], Descripteur[v][0][1]).pdf(test_data.values[u][v+1])\n",
    "            if Descripteur[v][1][1] != 0 and Descripteur[v][1][0] != 0:\n",
    "                tempo_NEG = scipy.stats.norm(Descripteur[v][1][0], Descripteur[v][1][1]).pdf(test_data.values[u][v+1])\n",
    "\n",
    "            # Si la densité de probabilité est égale à 0, on la compte pas\n",
    "            if tempo_IDL != 0:\n",
    "                vraisemblance_IDL[u] *= tempo_IDL\n",
    "            if tempo_NEG != 0:\n",
    "                vraisemblance_NEG[u] *= tempo_NEG\n",
    "\n",
    "    return vraisemblance_IDL, vraisemblance_NEG"
   ]
  },
  {
   "cell_type": "markdown",
   "id": "292123cc",
   "metadata": {
    "id": "b1c45cdc"
   },
   "source": [
    "**Q6 - Pour un segment de test dont on ne connait pas la classe émotionnel, déterminer le maximum de vraisemblance.**"
   ]
  },
  {
   "cell_type": "code",
   "execution_count": 11,
   "id": "7f4ff914",
   "metadata": {
    "colab": {
     "base_uri": "https://localhost:8080/"
    },
    "id": "d1eb10aa",
    "outputId": "33e322ed-ace1-40ef-92d6-14f3f4b44973"
   },
   "outputs": [
    {
     "name": "stdout",
     "output_type": "stream",
     "text": [
      "['IDL', 'IDL', 'IDL', 'NEG', 'IDL', 'IDL', 'IDL', 'IDL', 'NEG', 'IDL', 'NEG', 'NEG', 'IDL', 'IDL', 'IDL', 'IDL', 'NEG', 'NEG', 'IDL', 'IDL', 'IDL', 'IDL', 'IDL', 'IDL', 'IDL', 'IDL']\n"
     ]
    }
   ],
   "source": [
    "# On calcule la vraisemblance des classes IDL et NEG pour chaque élément du segment souhaité\n",
    "vraisemblance_IDL, vraisemblance_NEG = vraisemblance(Descripteur, test_data[test_data.index <= 25])\n",
    "\n",
    "max = []\n",
    "# On détermine la classe de chaque élément du segment selon le maximum de vraisemblance\n",
    "for i in range(len(vraisemblance_IDL)):\n",
    "    if vraisemblance_IDL[i] > vraisemblance_NEG[i]:\n",
    "        max.append(\"IDL\")\n",
    "    else:\n",
    "        max.append(\"NEG\")\n",
    "\n",
    "print(max)"
   ]
  },
  {
   "cell_type": "markdown",
   "id": "5d08eee7",
   "metadata": {
    "id": "664a831f"
   },
   "source": [
    "**Q7 - A partir de la vraisemblance et de la probabilité a priori, calculer la probabilité a posteri que le segment de test appartienne à une classe ou l'autre. Comparer votre résultat avec l'émotion réelle telle qu'annotée dans le corpus.**"
   ]
  },
  {
   "cell_type": "code",
   "execution_count": 13,
   "id": "86028de2",
   "metadata": {
    "colab": {
     "base_uri": "https://localhost:8080/"
    },
    "id": "34709756",
    "outputId": "40131f0d-66a9-426e-ec61-89aee40d1829"
   },
   "outputs": [
    {
     "name": "stdout",
     "output_type": "stream",
     "text": [
      "ID0 Classe prédite IDL : true\n",
      "ID1 Classe prédite IDL : false\n",
      "ID2 Classe prédite IDL : false\n",
      "ID3 Classe prédite NEG : true\n",
      "ID4 Classe prédite IDL : true\n",
      "ID5 Classe prédite IDL : false\n",
      "ID6 Classe prédite IDL : false\n",
      "ID7 Classe prédite IDL : true\n",
      "ID8 Classe prédite NEG : true\n",
      "ID9 Classe prédite IDL : false\n",
      "ID10 Classe prédite NEG : false\n",
      "ID11 Classe prédite NEG : true\n",
      "ID12 Classe prédite IDL : false\n",
      "ID13 Classe prédite IDL : true\n",
      "ID14 Classe prédite IDL : false\n",
      "ID15 Classe prédite IDL : true\n",
      "ID16 Classe prédite NEG : true\n",
      "ID17 Classe prédite NEG : true\n",
      "ID18 Classe prédite IDL : true\n",
      "ID19 Classe prédite IDL : false\n",
      "ID20 Classe prédite IDL : false\n",
      "ID21 Classe prédite IDL : false\n",
      "ID22 Classe prédite IDL : true\n",
      "ID23 Classe prédite IDL : true\n",
      "ID24 Classe prédite IDL : true\n",
      "ID25 Classe prédite IDL : true\n"
     ]
    }
   ],
   "source": [
    "# Calcul de la probabilité à posteriori de chaque classe\n",
    "probabiliteIDL = [v*proba_IDL for v in vraisemblance_IDL]\n",
    "probabiliteNEG = [v*proba_NEG for v in vraisemblance_NEG]\n",
    "\n",
    "# Comparaison des segments avec l'émotion réelle\n",
    "resultat = []\n",
    "for i, c in enumerate(max):\n",
    "    if c == test_data.values[i][-1]:\n",
    "        resultat.append(\"true\")\n",
    "    else:\n",
    "        resultat.append(\"false\")\n",
    "\n",
    "for i in range(len(max)):\n",
    "    print(f\"ID{i} Classe prédite {max[i]} : {resultat[i]}\")\n"
   ]
  },
  {
   "cell_type": "markdown",
   "id": "a827c3c0",
   "metadata": {
    "id": "709db18e"
   },
   "source": [
    "**Q8 - Evaluer votre modèle en calculant le taux de bonnes réponses (accuracy) obtenu sur l'ensemble de test, c'est-à-dire le nombre de bonnes réponses sur le nombre total de segment de test.**"
   ]
  },
  {
   "cell_type": "code",
   "execution_count": 16,
   "id": "6b2c09cb",
   "metadata": {
    "colab": {
     "base_uri": "https://localhost:8080/"
    },
    "id": "07faef7f",
    "outputId": "95f63750-5c2e-49fc-af2b-d5a3a94ed443"
   },
   "outputs": [
    {
     "name": "stdout",
     "output_type": "stream",
     "text": [
      "Accuracy : 0.58\n"
     ]
    }
   ],
   "source": [
    "# Calcul du taux de précision de bonnes réponses par rapport au test_data\n",
    "precision = resultat.count(\"true\") / len(resultat)\n",
    "\n",
    "print(f\"Accuracy : {precision:.2f}\")"
   ]
  },
  {
   "cell_type": "markdown",
   "id": "c8dc137a",
   "metadata": {
    "id": "7b6acdcb"
   },
   "source": [
    "## 3) Comparaison de vos résultats avec sklearn (3pts)\n",
    "\n",
    "Enfin, je vous propose de comparer votre modèle avec une version implémentée dans la librairie `sklearn`. Plusieurs types de modèles sont possibles à choisir en fonction de vos données et votre problème: `MultinomialNB`, `GaussianNB`, `BernoulliNB`, etc...\n",
    "\n",
    "`sklearn` fourni également un certain nombre de métriques très utiles en machine learning. Parmi celle-ci, la plus complète et adaptée aux problèmes de classification est la visualisation de la matrice de confusion. Cette matrice ($2 \\times 2$ dans notre cas), permet de voir le nombre de segment correctement classés par classe."
   ]
  },
  {
   "cell_type": "code",
   "execution_count": 19,
   "id": "7e665602",
   "metadata": {
    "id": "df05466d"
   },
   "outputs": [],
   "source": [
    "from sklearn.naive_bayes import MultinomialNB, GaussianNB, BernoulliNB\n",
    "from sklearn.metrics import confusion_matrix, ConfusionMatrixDisplay\n",
    "import matplotlib.pyplot as plt"
   ]
  },
  {
   "cell_type": "markdown",
   "id": "386a1117",
   "metadata": {
    "id": "70e4b16f"
   },
   "source": [
    "L'apprentissage d'un modèle se fait avec les variables suivantes:\n",
    "* `x_train`: matrice correspondant aux données (en lignes) et leurs descripteurs (en colonnes) pour **l'apprentissage** du modèle\n",
    "* `y_train`: labels correspondant aux classes associés à chaque donnée d'apprentissage (vecteur)\n",
    "* `x_test`: matrice correspondant aux données (en lignes) et leurs descripteurs (en colonnes) pour **l'évaluation** du modèle\n",
    "* `y_pred`: labels prédits par le modèle sur les données d'évaluation `x_test`\n",
    "* `y_test`: labels a priori inconnus correspondant aux classes associés à chaque donnée d'évaluation (vecteur)"
   ]
  },
  {
   "cell_type": "code",
   "execution_count": 31,
   "id": "68f61494",
   "metadata": {
    "colab": {
     "base_uri": "https://localhost:8080/",
     "height": 279
    },
    "id": "AbcSetlWEoto",
    "outputId": "ce94355d-07ef-4b16-f0dd-e3e6f6ae40ef"
   },
   "outputs": [
    {
     "data": {
      "image/png": "[encoded data removed]",
      "text/plain": [
       "<Figure size 432x288 with 2 Axes>"
      ]
     },
     "metadata": {
      "needs_background": "light"
     },
     "output_type": "display_data"
    }
   ],
   "source": [
    "x_train = train_data.drop(columns=['Emo', 'Name'])\n",
    "y_train = train_data['Emo']\n",
    "x_test = test_data.drop(columns=['Emo', 'Name'])\n",
    "y_test = test_data['Emo']\n",
    "clf = GaussianNB()                # choisir ici la fonction correspondant au modèle souhaité\n",
    "clf.fit(x_train, y_train)    # apprentissage du modèle sur les données d'apprentissage\n",
    "y_pred = clf.predict(x_test) # prédit les labels correspondant aux données d'évaluation\n",
    "\n",
    "# affiche la matrice de confusion\n",
    "cm = confusion_matrix(y_test, y_pred, labels=clf.classes_)\n",
    "disp = ConfusionMatrixDisplay(confusion_matrix=cm,display_labels=clf.classes_)\n",
    "disp.plot()\n",
    "plt.show()"
   ]
  },
  {
   "cell_type": "markdown",
   "id": "14f1b0e2",
   "metadata": {
    "id": "16b6b38f"
   },
   "source": [
    "## 4) pour aller plus loin (bonus 2pts)\n",
    "\n",
    "Dans cette dernière partie, je vous laisse libre de choisir la tâche que vous souhaitez réaliser.\n",
    "Finalement, vous pouvez rafiner votre modèle avec une approche de votre choix, optimiser les descripteurs, faire une classification à plus que deux classes. Vous pouvez également comparer l'approche avec d'autres types de modèles disponibles dans `sklearn`. Vous pouvez également prendre en compte le genre des locuteurs, ou normaliser vos descripteurs.\n",
    "\n",
    "Bon courage!"
   ]
  },
  {
   "cell_type": "code",
   "execution_count": null,
   "id": "7dda4583",
   "metadata": {
    "id": "883f756c"
   },
   "outputs": [],
   "source": []
  }
 ],
 "metadata": {
  "colab": {
   "provenance": []
  },
  "kernelspec": {
   "display_name": "Python 3 (ipykernel)",
   "language": "python",
   "name": "python3"
  },
  "language_info": {
   "codemirror_mode": {
    "name": "ipython",
    "version": 3
   },
   "file_extension": ".py",
   "mimetype": "text/x-python",
   "name": "python",
   "nbconvert_exporter": "python",
   "pygments_lexer": "ipython3",
   "version": "3.10.9"
  },
  "vscode": {
   "interpreter": {
    "hash": "6a7ff8b0bc368a0ed862245bf872c32bbfc70b6343f6a9e9d3c8a5028676b802"
   }
  }
 },
 "nbformat": 4,
 "nbformat_minor": 5
}
