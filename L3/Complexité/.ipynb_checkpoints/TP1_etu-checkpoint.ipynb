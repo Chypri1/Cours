{
 "cells": [
  {
   "cell_type": "markdown",
   "id": "53665868-cfeb-4028-8f50-571f482221bf",
   "metadata": {},
   "source": [
    "# TP : Temps d'exécution et complexité - structures de données élémentaires\n",
    "\n",
    "## I - time et timeit\n",
    "\n",
    "#### Le package time nous permet de mesurer les temps d'exécutions de portions de code comme dans la cellule ci-dessous dont le but est de mesurer le temps d'exécution d'un appel d'`append` sur une list. On utilise une seule fonction `time_ns` qui nous donne un timestamp en nano-secondes. En calculant ce timestamp avant et après exécution du `append`, on obtient le temps écoulé."
   ]
  },
  {
   "cell_type": "code",
   "execution_count": 2,
   "id": "b662de47-fd1d-47f4-9beb-4e9456f62c35",
   "metadata": {},
   "outputs": [
    {
     "data": {
      "text/plain": [
       "<function time.time_ns>"
      ]
     },
     "execution_count": 2,
     "metadata": {},
     "output_type": "execute_result"
    }
   ],
   "source": [
    "import time\n",
    "time.time_ns"
   ]
  },
  {
   "cell_type": "code",
   "execution_count": 3,
   "id": "25d76c28-4314-45dc-a288-24b10d2ef1f9",
   "metadata": {},
   "outputs": [
    {
     "name": "stdout",
     "output_type": "stream",
     "text": [
      "37000 nanosecondes\n",
      "111000 s\n"
     ]
    }
   ],
   "source": [
    "import time\n",
    "l = list()\n",
    "start = time.time_ns()\n",
    "l.append(\"add\")\n",
    "end = time.time_ns()\n",
    "print((end-start), \"nanosecondes\")\n",
    "print(((end-start)*(10^9)), \"s\")"
   ]
  },
  {
   "cell_type": "markdown",
   "id": "f06f7b9e-c95f-4159-8859-3f26f16cc5b6",
   "metadata": {},
   "source": [
    "## I.1 Cryptanalyse\n",
    "\n",
    "#### Un mot de passe est une chaîne de caractères d'une taille $k$ composée uniquement de chiffres entre 0 et 9. Le code ci-dessous permet de générer des mots de passe aléatoirement pour un $k$ donné, et de réitérer l'opération un certain nombre de fois pour des $k$ variant de $1$ à $5$. L'objectif est de procéder à la cryptanalyse de ces mots de passes par force brute. On va pour cela itérer deux étapes : \n",
    "- créer un mot de passe\n",
    "- vérifier que c'est le bon mot de passe ou non. Si c'est le bon, la procédure se termine.\n",
    "#### Pour créer le mot de passe suivant, nous allons opérer en ajoutant 1 à notre mot de passe actuel. Exemples : \n",
    "add_one_cryptanalyse(\"0001\",4) retourne \"0002\",\n",
    "add_one_cryptanalyse(\"12655\",5) retourne \"12656\".\n",
    "\n",
    "#### À vous de créer la fonction `add_one_cryptanalyse` qui génère le mot de passe suivant en utilisant le mot de passe actuel et la taille $k$ du mot de passe.\n",
    "\n",
    "#### Puis vous pourrez exécuter la celle du dessous qui effectue la cryptanalyse : la cellule génère aléatoirement des mots de passe et utilise `add_one_cryptanalyse` pour les trouver. On simule une attaque qui essaierait de trouver des mots de passes, pour des tailles de mots de passe allant de 1 à 5.\n",
    "\n",
    "\n",
    "#### Quelle forme de courbe obtient-on ? À quelle complexité cela correspond-il ?"
   ]
  },
  {
   "cell_type": "code",
   "execution_count": 4,
   "id": "559c76ab-7cf6-4fcc-b152-dcf54dd97c86",
   "metadata": {},
   "outputs": [
    {
     "name": "stdout",
     "output_type": "stream",
     "text": [
      "0002\n",
      "80617\n"
     ]
    }
   ],
   "source": [
    "import time\n",
    "import numpy as np\n",
    "def add_one_cryptanalyse(actuel, taille_k):\n",
    "    futur=int(actuel)\n",
    "    futur+=1\n",
    "    futur=str(futur)\n",
    "    while(len(futur)<taille_k):\n",
    "        futur=\"0\" +futur\n",
    "        \n",
    "    return futur\n",
    "    \n",
    "    return \n",
    "print(add_one_cryptanalyse(\"0001\", 4))\n",
    "print(add_one_cryptanalyse(\"80616\", 5))"
   ]
  },
  {
   "cell_type": "code",
   "execution_count": 5,
   "id": "94055b17-7bf6-4320-9ecd-99d25e322532",
   "metadata": {},
   "outputs": [
    {
     "data": {
      "image/png": "[encoded data removed]",
      "text/plain": [
       "<Figure size 640x480 with 1 Axes>"
      ]
     },
     "metadata": {},
     "output_type": "display_data"
    }
   ],
   "source": [
    "import random \n",
    "liste = list(range(1,6))\n",
    "temps = []\n",
    "#Taille des mots de passes générés\n",
    "for k in liste:\n",
    "    runs = []\n",
    "    # On génère 10 mots de passe pour chaque taille\n",
    "    for i in range(10):\n",
    "        a_deviner = \"\"\n",
    "        # Pour générer un mot de passe de la bonne taille\n",
    "        for j in range(k):\n",
    "            # On génère k entiers entre 0 et 9\n",
    "            a_deviner += str(random.randint(0, 9))\n",
    "        # On commence la cryptanalyse : on va essayer de trouver le mot de passe généré\n",
    "        # On commence par k 0 comme candidat\n",
    "        res=\"0\"*k\n",
    "        start = time.time_ns()\n",
    "        # Tant qu'on a pas trouvé le mot de passe, on génère le candidat suivant\n",
    "        while (res != a_deviner):\n",
    "            res = add_one_cryptanalyse(res, k)\n",
    "        end = time.time_ns()\n",
    "        runs.append((end-start))\n",
    "    temps.append(np.mean(runs))\n",
    "\n",
    "import matplotlib.pyplot as plt\n",
    "plt.figure()\n",
    "plt.xlabel(\"Taille du mot de passe k\")\n",
    "plt.ylabel(\"Temps en nanosecondes\")\n",
    "plt.scatter(liste, temps)\n",
    "plt.show()"
   ]
  },
  {
   "cell_type": "markdown",
   "id": "1c2c4ff4-182e-4b19-9bb8-7b1a6937407a",
   "metadata": {},
   "source": [
    "----------------------------\n",
    "## I.2. Exponentiation dichotomique\n",
    "\n",
    "#### Programmer un algorithme qui calcule la puissance $k$ d'un chiffre $a$, soit $a^k$ en utilisant des multiplications. "
   ]
  },
  {
   "cell_type": "code",
   "execution_count": 14,
   "id": "f1c0c0d2-ef74-4b04-adc2-b1e9e69a9a78",
   "metadata": {},
   "outputs": [
    {
     "data": {
      "text/plain": [
       "1024"
      ]
     },
     "execution_count": 14,
     "metadata": {},
     "output_type": "execute_result"
    }
   ],
   "source": [
    "def exponentiation(a, k):\n",
    "    res=1\n",
    "    for i in range(k):\n",
    "        res*=a\n",
    "    return res\n",
    "exponentiation(2,10)"
   ]
  },
  {
   "cell_type": "markdown",
   "id": "c339ecde-ff69-405a-b2f2-4321e7da9703",
   "metadata": {},
   "source": [
    "#### Exécuter le code qui suit. Que se passe-il quand $k$ grandit ?"
   ]
  },
  {
   "cell_type": "code",
   "execution_count": 15,
   "id": "d1b71f3c-4b8f-4c50-9eec-47298515c3e6",
   "metadata": {},
   "outputs": [
    {
     "data": {
      "image/png": "[encoded data removed]",
      "text/plain": [
       "<Figure size 640x480 with 1 Axes>"
      ]
     },
     "metadata": {},
     "output_type": "display_data"
    }
   ],
   "source": [
    "temps = []\n",
    "ks = list(range(10000))\n",
    "for k in ks:\n",
    "    runs = []\n",
    "    for i in range(10):\n",
    "        start = time.time_ns()\n",
    "        exponentiation(1.00001, k) \n",
    "        end = time.time_ns()\n",
    "        runs.append((end - start))\n",
    "    temps.append(np.mean(runs))\n",
    "plt.figure()\n",
    "plt.xlabel(\"k\")\n",
    "plt.ylabel(\"Temps en nanosecondes\")\n",
    "plt.scatter(ks, temps)\n",
    "plt.show()"
   ]
  },
  {
   "cell_type": "markdown",
   "id": "33c81824-3ca0-43d8-904f-97f4a9d7dea7",
   "metadata": {},
   "source": [
    "#### Nous allons maintenant implémenter l'algorithme de puissance rapide ou d'exponentiation dichotomique. Celui-ci s'implémente facilement de façon récursive, mais la récursion n'est pas le meilleur moyen d'avoir un algorithme qui s'exécute rapidement. Nous allons donc l'implémenter itérativement.\n",
    "#### Que se passe-t-il quand $k$ grandit ?\n",
    "L'algorithme est décrit comme suit :\n",
    "```\n",
    "Entrée: a, k\n",
    "Sortie: a^k\n",
    "Fonction exponentiation_dichotomique(a, k) ;\n",
    "    u ← 1; v ← a ; \n",
    "    tantque k > 1 faire\n",
    "        si k pair alors\n",
    "            v ← v ∗ v  \n",
    "            k ← k // 2\n",
    "        sinon\n",
    "            u ← u ∗ v; \n",
    "            v ← v ∗ v; \n",
    "            k ← k // 2\n",
    "        fsi\n",
    "    ftantque\n",
    "    retourner u ∗ v;\n",
    "```"
   ]
  },
  {
   "cell_type": "code",
   "execution_count": 16,
   "id": "1505755d-bfb1-47e6-9d6f-2c5b60de8998",
   "metadata": {},
   "outputs": [
    {
     "data": {
      "text/plain": [
       "256"
      ]
     },
     "execution_count": 16,
     "metadata": {},
     "output_type": "execute_result"
    }
   ],
   "source": [
    "def exponentiation_dichotomique(a, k):\n",
    "    u = 1\n",
    "    v = a\n",
    "    while(k> 1):\n",
    "        if(k%2==0):\n",
    "            v*=v\n",
    "        else:\n",
    "            u*=v\n",
    "            v*=v\n",
    "        k//=2\n",
    "    return u * v\n",
    "\n",
    "exponentiation_dichotomique(2,8)"
   ]
  },
  {
   "cell_type": "code",
   "execution_count": 17,
   "id": "56ba4392-3c35-4a43-9038-285d87af10ab",
   "metadata": {},
   "outputs": [
    {
     "data": {
      "text/plain": [
       "2"
      ]
     },
     "execution_count": 17,
     "metadata": {},
     "output_type": "execute_result"
    }
   ],
   "source": [
    "#Division entière\n",
    "5 // 2"
   ]
  },
  {
   "cell_type": "code",
   "execution_count": 19,
   "id": "0646ef89-1230-4b04-bf25-091858c3a9bf",
   "metadata": {},
   "outputs": [
    {
     "data": {
      "image/png": "[encoded data removed]",
      "text/plain": [
       "<Figure size 640x480 with 1 Axes>"
      ]
     },
     "metadata": {},
     "output_type": "display_data"
    }
   ],
   "source": [
    "temps = []\n",
    "ks = list(range(20000))\n",
    "for k in ks:\n",
    "    runs = []\n",
    "    for i in range(10):\n",
    "        start = time.time_ns()\n",
    "        exponentiation_dichotomique(1.0001, k) \n",
    "        end = time.time_ns()\n",
    "        runs.append((end - start))\n",
    "    temps.append(np.mean(runs))\n",
    "w = 1000\n",
    "l = []\n",
    "for i in range(len(temps) - w):\n",
    "    l.append(np.mean(temps[i:i+w]))\n",
    "plt.figure()\n",
    "plt.scatter(list(range(len(l))), l)\n",
    "plt.xlabel(\"k\")\n",
    "plt.ylabel(\"Temps en nanosecondes\")\n",
    "plt.show()"
   ]
  },
  {
   "cell_type": "markdown",
   "id": "f1af9551-735d-437e-841f-72670f81f491",
   "metadata": {},
   "source": [
    "### I.1. list et append, quelle complexité observée ?\n",
    "#### Lancer $k$ appels de la fonction `append` et calculer le temps d'exécution de chacun de ces appels."
   ]
  },
  {
   "cell_type": "code",
   "execution_count": 21,
   "id": "2012aa64-580a-4981-a1ed-facfa88984a7",
   "metadata": {
    "tags": []
   },
   "outputs": [
    {
     "name": "stdout",
     "output_type": "stream",
     "text": [
      "1000 nanosecondes\n",
      "1000 nanosecondes\n",
      "0 nanosecondes\n",
      "0 nanosecondes\n",
      "0 nanosecondes\n",
      "0 nanosecondes\n",
      "0 nanosecondes\n",
      "0 nanosecondes\n",
      "0 nanosecondes\n",
      "1000 nanosecondes\n"
     ]
    }
   ],
   "source": [
    "l=list()\n",
    "k=10\n",
    "for i in range(k):\n",
    "    start = time.time_ns()\n",
    "    l.append(\"add\")\n",
    "    end = time.time_ns()\n",
    "    print((end-start),\"nanosecondes\")"
   ]
  },
  {
   "cell_type": "markdown",
   "id": "056637b2-ab3b-44d5-aa94-a2f515e0d7c2",
   "metadata": {},
   "source": [
    "#### Nous allons utiliser cette approche pour mesurer les temps d'exécution de l'exécution d'append lorsqu'on la répète et voir si le temps d'exécution varie. Lancer $k$ appels de la fonction `append` et calculer le temps d'exécution de chacun de ces appels. Stocker ce temps d'exécution dans une `list`."
   ]
  },
  {
   "cell_type": "code",
   "execution_count": 26,
   "id": "58d73607-924e-4771-bcb0-31011c08fcdb",
   "metadata": {
    "tags": []
   },
   "outputs": [],
   "source": [
    "import time\n",
    "l = list()\n",
    "temps=[]\n",
    "k = 100000\n",
    "for i in range(k):\n",
    "    start = time.time_ns()\n",
    "    l.append(\"add\")\n",
    "    end = time.time_ns()\n",
    "    temps.append(end-start)\n",
    "    \n"
   ]
  },
  {
   "cell_type": "markdown",
   "id": "e1e148cc-27dc-4abc-ae8a-76ecf7626a43",
   "metadata": {},
   "source": [
    "#### Avec matplotlib.pyplot, créer un histogramme qui permette de voir la distribution des valeurs de temps d'exécution. Comment lire un tel histogramme ? En abscisse, on a les temps d'exécution, et en ordonnée leur nombre d'occurrences. L'histogramme affiché vous semble-t-il intéressant ? Pour tenter de comprendre, afficher le temps d'exécution maximal, l'écart type de ces temps d'exécutions, et comparer ces valeurs avec les temps d'exécutions observées précédemment."
   ]
  },
  {
   "cell_type": "code",
   "execution_count": 30,
   "id": "54a07b81-fe24-45ef-86be-4ccb50b0ca7f",
   "metadata": {
    "jupyter": {
     "outputs_hidden": true
    },
    "tags": []
   },
   "outputs": [],
   "source": [
    "import matplotlib.pyplot as plt\n",
    "plt.hist?"
   ]
  },
  {
   "cell_type": "code",
   "execution_count": 2,
   "id": "4dc559c0-6a06-4772-b3db-874bbd71bc27",
   "metadata": {
    "jupyter": {
     "outputs_hidden": true
    },
    "scrolled": true,
    "tags": []
   },
   "outputs": [
    {
     "data": {
      "text/plain": [
       "\u001b[0;31mSignature:\u001b[0m\n",
       "\u001b[0mnp\u001b[0m\u001b[0;34m.\u001b[0m\u001b[0mmax\u001b[0m\u001b[0;34m(\u001b[0m\u001b[0;34m\u001b[0m\n",
       "\u001b[0;34m\u001b[0m    \u001b[0ma\u001b[0m\u001b[0;34m,\u001b[0m\u001b[0;34m\u001b[0m\n",
       "\u001b[0;34m\u001b[0m    \u001b[0maxis\u001b[0m\u001b[0;34m=\u001b[0m\u001b[0;32mNone\u001b[0m\u001b[0;34m,\u001b[0m\u001b[0;34m\u001b[0m\n",
       "\u001b[0;34m\u001b[0m    \u001b[0mout\u001b[0m\u001b[0;34m=\u001b[0m\u001b[0;32mNone\u001b[0m\u001b[0;34m,\u001b[0m\u001b[0;34m\u001b[0m\n",
       "\u001b[0;34m\u001b[0m    \u001b[0mkeepdims\u001b[0m\u001b[0;34m=\u001b[0m\u001b[0;34m<\u001b[0m\u001b[0mno\u001b[0m \u001b[0mvalue\u001b[0m\u001b[0;34m>\u001b[0m\u001b[0;34m,\u001b[0m\u001b[0;34m\u001b[0m\n",
       "\u001b[0;34m\u001b[0m    \u001b[0minitial\u001b[0m\u001b[0;34m=\u001b[0m\u001b[0;34m<\u001b[0m\u001b[0mno\u001b[0m \u001b[0mvalue\u001b[0m\u001b[0;34m>\u001b[0m\u001b[0;34m,\u001b[0m\u001b[0;34m\u001b[0m\n",
       "\u001b[0;34m\u001b[0m    \u001b[0mwhere\u001b[0m\u001b[0;34m=\u001b[0m\u001b[0;34m<\u001b[0m\u001b[0mno\u001b[0m \u001b[0mvalue\u001b[0m\u001b[0;34m>\u001b[0m\u001b[0;34m,\u001b[0m\u001b[0;34m\u001b[0m\n",
       "\u001b[0;34m\u001b[0m\u001b[0;34m)\u001b[0m\u001b[0;34m\u001b[0m\u001b[0;34m\u001b[0m\u001b[0m\n",
       "\u001b[0;31mDocstring:\u001b[0m\n",
       "Return the maximum of an array or maximum along an axis.\n",
       "\n",
       "Parameters\n",
       "----------\n",
       "a : array_like\n",
       "    Input data.\n",
       "axis : None or int or tuple of ints, optional\n",
       "    Axis or axes along which to operate.  By default, flattened input is\n",
       "    used.\n",
       "\n",
       "    .. versionadded:: 1.7.0\n",
       "\n",
       "    If this is a tuple of ints, the maximum is selected over multiple axes,\n",
       "    instead of a single axis or all the axes as before.\n",
       "out : ndarray, optional\n",
       "    Alternative output array in which to place the result.  Must\n",
       "    be of the same shape and buffer length as the expected output.\n",
       "    See :ref:`ufuncs-output-type` for more details.\n",
       "\n",
       "keepdims : bool, optional\n",
       "    If this is set to True, the axes which are reduced are left\n",
       "    in the result as dimensions with size one. With this option,\n",
       "    the result will broadcast correctly against the input array.\n",
       "\n",
       "    If the default value is passed, then `keepdims` will not be\n",
       "    passed through to the `amax` method of sub-classes of\n",
       "    `ndarray`, however any non-default value will be.  If the\n",
       "    sub-class' method does not implement `keepdims` any\n",
       "    exceptions will be raised.\n",
       "\n",
       "initial : scalar, optional\n",
       "    The minimum value of an output element. Must be present to allow\n",
       "    computation on empty slice. See `~numpy.ufunc.reduce` for details.\n",
       "\n",
       "    .. versionadded:: 1.15.0\n",
       "\n",
       "where : array_like of bool, optional\n",
       "    Elements to compare for the maximum. See `~numpy.ufunc.reduce`\n",
       "    for details.\n",
       "\n",
       "    .. versionadded:: 1.17.0\n",
       "\n",
       "Returns\n",
       "-------\n",
       "amax : ndarray or scalar\n",
       "    Maximum of `a`. If `axis` is None, the result is a scalar value.\n",
       "    If `axis` is given, the result is an array of dimension\n",
       "    ``a.ndim - 1``.\n",
       "\n",
       "See Also\n",
       "--------\n",
       "amin :\n",
       "    The minimum value of an array along a given axis, propagating any NaNs.\n",
       "nanmax :\n",
       "    The maximum value of an array along a given axis, ignoring any NaNs.\n",
       "maximum :\n",
       "    Element-wise maximum of two arrays, propagating any NaNs.\n",
       "fmax :\n",
       "    Element-wise maximum of two arrays, ignoring any NaNs.\n",
       "argmax :\n",
       "    Return the indices of the maximum values.\n",
       "\n",
       "nanmin, minimum, fmin\n",
       "\n",
       "Notes\n",
       "-----\n",
       "NaN values are propagated, that is if at least one item is NaN, the\n",
       "corresponding max value will be NaN as well. To ignore NaN values\n",
       "(MATLAB behavior), please use nanmax.\n",
       "\n",
       "Don't use `amax` for element-wise comparison of 2 arrays; when\n",
       "``a.shape[0]`` is 2, ``maximum(a[0], a[1])`` is faster than\n",
       "``amax(a, axis=0)``.\n",
       "\n",
       "Examples\n",
       "--------\n",
       ">>> a = np.arange(4).reshape((2,2))\n",
       ">>> a\n",
       "array([[0, 1],\n",
       "       [2, 3]])\n",
       ">>> np.amax(a)           # Maximum of the flattened array\n",
       "3\n",
       ">>> np.amax(a, axis=0)   # Maxima along the first axis\n",
       "array([2, 3])\n",
       ">>> np.amax(a, axis=1)   # Maxima along the second axis\n",
       "array([1, 3])\n",
       ">>> np.amax(a, where=[False, True], initial=-1, axis=0)\n",
       "array([-1,  3])\n",
       ">>> b = np.arange(5, dtype=float)\n",
       ">>> b[2] = np.NaN\n",
       ">>> np.amax(b)\n",
       "nan\n",
       ">>> np.amax(b, where=~np.isnan(b), initial=-1)\n",
       "4.0\n",
       ">>> np.nanmax(b)\n",
       "4.0\n",
       "\n",
       "You can use an initial value to compute the maximum of an empty slice, or\n",
       "to initialize it to a different value:\n",
       "\n",
       ">>> np.amax([[-50], [10]], axis=-1, initial=0)\n",
       "array([ 0, 10])\n",
       "\n",
       "Notice that the initial value is used as one of the elements for which the\n",
       "maximum is determined, unlike for the default argument Python's max\n",
       "function, which is only used for empty iterables.\n",
       "\n",
       ">>> np.amax([5], initial=6)\n",
       "6\n",
       ">>> max([5], default=6)\n",
       "5\n",
       "\u001b[0;31mFile:\u001b[0m      ~/miniconda3/envs/py39/lib/python3.9/site-packages/numpy/core/fromnumeric.py\n",
       "\u001b[0;31mType:\u001b[0m      function\n"
      ]
     },
     "metadata": {},
     "output_type": "display_data"
    }
   ],
   "source": [
    "import numpy as np\n",
    "np.max?"
   ]
  },
  {
   "cell_type": "code",
   "execution_count": 3,
   "id": "2df82c9f-e3c1-4fe4-93cd-0a8ecae6e759",
   "metadata": {
    "jupyter": {
     "outputs_hidden": true
    },
    "scrolled": true,
    "tags": []
   },
   "outputs": [
    {
     "data": {
      "text/plain": [
       "\u001b[0;31mSignature:\u001b[0m\n",
       "\u001b[0mnp\u001b[0m\u001b[0;34m.\u001b[0m\u001b[0mstd\u001b[0m\u001b[0;34m(\u001b[0m\u001b[0;34m\u001b[0m\n",
       "\u001b[0;34m\u001b[0m    \u001b[0ma\u001b[0m\u001b[0;34m,\u001b[0m\u001b[0;34m\u001b[0m\n",
       "\u001b[0;34m\u001b[0m    \u001b[0maxis\u001b[0m\u001b[0;34m=\u001b[0m\u001b[0;32mNone\u001b[0m\u001b[0;34m,\u001b[0m\u001b[0;34m\u001b[0m\n",
       "\u001b[0;34m\u001b[0m    \u001b[0mdtype\u001b[0m\u001b[0;34m=\u001b[0m\u001b[0;32mNone\u001b[0m\u001b[0;34m,\u001b[0m\u001b[0;34m\u001b[0m\n",
       "\u001b[0;34m\u001b[0m    \u001b[0mout\u001b[0m\u001b[0;34m=\u001b[0m\u001b[0;32mNone\u001b[0m\u001b[0;34m,\u001b[0m\u001b[0;34m\u001b[0m\n",
       "\u001b[0;34m\u001b[0m    \u001b[0mddof\u001b[0m\u001b[0;34m=\u001b[0m\u001b[0;36m0\u001b[0m\u001b[0;34m,\u001b[0m\u001b[0;34m\u001b[0m\n",
       "\u001b[0;34m\u001b[0m    \u001b[0mkeepdims\u001b[0m\u001b[0;34m=\u001b[0m\u001b[0;34m<\u001b[0m\u001b[0mno\u001b[0m \u001b[0mvalue\u001b[0m\u001b[0;34m>\u001b[0m\u001b[0;34m,\u001b[0m\u001b[0;34m\u001b[0m\n",
       "\u001b[0;34m\u001b[0m    \u001b[0;34m*\u001b[0m\u001b[0;34m,\u001b[0m\u001b[0;34m\u001b[0m\n",
       "\u001b[0;34m\u001b[0m    \u001b[0mwhere\u001b[0m\u001b[0;34m=\u001b[0m\u001b[0;34m<\u001b[0m\u001b[0mno\u001b[0m \u001b[0mvalue\u001b[0m\u001b[0;34m>\u001b[0m\u001b[0;34m,\u001b[0m\u001b[0;34m\u001b[0m\n",
       "\u001b[0;34m\u001b[0m\u001b[0;34m)\u001b[0m\u001b[0;34m\u001b[0m\u001b[0;34m\u001b[0m\u001b[0m\n",
       "\u001b[0;31mDocstring:\u001b[0m\n",
       "Compute the standard deviation along the specified axis.\n",
       "\n",
       "Returns the standard deviation, a measure of the spread of a distribution,\n",
       "of the array elements. The standard deviation is computed for the\n",
       "flattened array by default, otherwise over the specified axis.\n",
       "\n",
       "Parameters\n",
       "----------\n",
       "a : array_like\n",
       "    Calculate the standard deviation of these values.\n",
       "axis : None or int or tuple of ints, optional\n",
       "    Axis or axes along which the standard deviation is computed. The\n",
       "    default is to compute the standard deviation of the flattened array.\n",
       "\n",
       "    .. versionadded:: 1.7.0\n",
       "\n",
       "    If this is a tuple of ints, a standard deviation is performed over\n",
       "    multiple axes, instead of a single axis or all the axes as before.\n",
       "dtype : dtype, optional\n",
       "    Type to use in computing the standard deviation. For arrays of\n",
       "    integer type the default is float64, for arrays of float types it is\n",
       "    the same as the array type.\n",
       "out : ndarray, optional\n",
       "    Alternative output array in which to place the result. It must have\n",
       "    the same shape as the expected output but the type (of the calculated\n",
       "    values) will be cast if necessary.\n",
       "ddof : int, optional\n",
       "    Means Delta Degrees of Freedom.  The divisor used in calculations\n",
       "    is ``N - ddof``, where ``N`` represents the number of elements.\n",
       "    By default `ddof` is zero.\n",
       "keepdims : bool, optional\n",
       "    If this is set to True, the axes which are reduced are left\n",
       "    in the result as dimensions with size one. With this option,\n",
       "    the result will broadcast correctly against the input array.\n",
       "\n",
       "    If the default value is passed, then `keepdims` will not be\n",
       "    passed through to the `std` method of sub-classes of\n",
       "    `ndarray`, however any non-default value will be.  If the\n",
       "    sub-class' method does not implement `keepdims` any\n",
       "    exceptions will be raised.\n",
       "\n",
       "where : array_like of bool, optional\n",
       "    Elements to include in the standard deviation.\n",
       "    See `~numpy.ufunc.reduce` for details.\n",
       "\n",
       "    .. versionadded:: 1.20.0\n",
       "\n",
       "Returns\n",
       "-------\n",
       "standard_deviation : ndarray, see dtype parameter above.\n",
       "    If `out` is None, return a new array containing the standard deviation,\n",
       "    otherwise return a reference to the output array.\n",
       "\n",
       "See Also\n",
       "--------\n",
       "var, mean, nanmean, nanstd, nanvar\n",
       ":ref:`ufuncs-output-type`\n",
       "\n",
       "Notes\n",
       "-----\n",
       "The standard deviation is the square root of the average of the squared\n",
       "deviations from the mean, i.e., ``std = sqrt(mean(x))``, where\n",
       "``x = abs(a - a.mean())**2``.\n",
       "\n",
       "The average squared deviation is typically calculated as ``x.sum() / N``,\n",
       "where ``N = len(x)``. If, however, `ddof` is specified, the divisor\n",
       "``N - ddof`` is used instead. In standard statistical practice, ``ddof=1``\n",
       "provides an unbiased estimator of the variance of the infinite population.\n",
       "``ddof=0`` provides a maximum likelihood estimate of the variance for\n",
       "normally distributed variables. The standard deviation computed in this\n",
       "function is the square root of the estimated variance, so even with\n",
       "``ddof=1``, it will not be an unbiased estimate of the standard deviation\n",
       "per se.\n",
       "\n",
       "Note that, for complex numbers, `std` takes the absolute\n",
       "value before squaring, so that the result is always real and nonnegative.\n",
       "\n",
       "For floating-point input, the *std* is computed using the same\n",
       "precision the input has. Depending on the input data, this can cause\n",
       "the results to be inaccurate, especially for float32 (see example below).\n",
       "Specifying a higher-accuracy accumulator using the `dtype` keyword can\n",
       "alleviate this issue.\n",
       "\n",
       "Examples\n",
       "--------\n",
       ">>> a = np.array([[1, 2], [3, 4]])\n",
       ">>> np.std(a)\n",
       "1.1180339887498949 # may vary\n",
       ">>> np.std(a, axis=0)\n",
       "array([1.,  1.])\n",
       ">>> np.std(a, axis=1)\n",
       "array([0.5,  0.5])\n",
       "\n",
       "In single precision, std() can be inaccurate:\n",
       "\n",
       ">>> a = np.zeros((2, 512*512), dtype=np.float32)\n",
       ">>> a[0, :] = 1.0\n",
       ">>> a[1, :] = 0.1\n",
       ">>> np.std(a)\n",
       "0.45000005\n",
       "\n",
       "Computing the standard deviation in float64 is more accurate:\n",
       "\n",
       ">>> np.std(a, dtype=np.float64)\n",
       "0.44999999925494177 # may vary\n",
       "\n",
       "Specifying a where argument:\n",
       "\n",
       ">>> a = np.array([[14, 8, 11, 10], [7, 9, 10, 11], [10, 15, 5, 10]])\n",
       ">>> np.std(a)\n",
       "2.614064523559687 # may vary\n",
       ">>> np.std(a, where=[[True], [True], [False]])\n",
       "2.0\n",
       "\u001b[0;31mFile:\u001b[0m      ~/miniconda3/envs/py39/lib/python3.9/site-packages/numpy/core/fromnumeric.py\n",
       "\u001b[0;31mType:\u001b[0m      function\n"
      ]
     },
     "metadata": {},
     "output_type": "display_data"
    }
   ],
   "source": [
    "np.std?"
   ]
  },
  {
   "cell_type": "code",
   "execution_count": 34,
   "id": "37174b1c",
   "metadata": {},
   "outputs": [
    {
     "name": "stdout",
     "output_type": "stream",
     "text": [
      "max 346000\n",
      "min 1892.3342520812755\n"
     ]
    },
    {
     "data": {
      "image/png": "[encoded data removed]",
      "text/plain": [
       "<Figure size 640x480 with 1 Axes>"
      ]
     },
     "metadata": {},
     "output_type": "display_data"
    }
   ],
   "source": [
    "plt.hist( temps,bins=100)\n",
    "print(\"max\",np.max(temps))\n",
    "print(\"min\",np.std(temps))\n"
   ]
  },
  {
   "cell_type": "markdown",
   "id": "37d85610-2c25-4407-94e1-f703b03be7ee",
   "metadata": {},
   "source": [
    "#### On observe que la valeur maximum est très élevée par rapport aux temps d'exécution usuels. Cela correspond au fait que la `list` en Python est gérée par l'intermédiaire d'un tableau : certaines exécution de `append` aboutissent au redimensionnement du tableau et sont donc très longues. Nous allons les supprimer pour mieux visualiser les données. Pour cela, utiliser une compréhension de liste et la fonction `percentile` de numpy. Supprimons ainsi les valeurs supérieures au 99ieme percentile de notre tableau `temps`. Retracer l'histogramme, que constatez-vous ?\n",
    "\n",
    "Remarque : Ces valeurs que nous supprimons, nous les appelons parfois aberrations statistiques (ou outliers), elles gênent la visualisation du reste des données"
   ]
  },
  {
   "cell_type": "code",
   "execution_count": 38,
   "id": "f3415a2b-c7ba-4b1b-b2a5-910c4073a94c",
   "metadata": {},
   "outputs": [],
   "source": [
    "percentile = np.percentile(temps,99)"
   ]
  },
  {
   "cell_type": "code",
   "execution_count": 13,
   "id": "4a9739e5-ca13-4ea2-ab6d-6a81b92edfaa",
   "metadata": {
    "tags": []
   },
   "outputs": [],
   "source": [
    "temps2 = [x for x in temps if x < percentile]"
   ]
  },
  {
   "cell_type": "code",
   "execution_count": 41,
   "id": "410e021a-dacd-4755-a366-2c6e55bfb168",
   "metadata": {},
   "outputs": [
    {
     "data": {
      "text/plain": [
       "Text(0, 0.5, 'nb de append')"
      ]
     },
     "execution_count": 41,
     "metadata": {},
     "output_type": "execute_result"
    },
    {
     "data": {
      "image/png": "[encoded data removed]",
      "text/plain": [
       "<Figure size 640x480 with 1 Axes>"
      ]
     },
     "metadata": {},
     "output_type": "display_data"
    }
   ],
   "source": [
    "plt.hist(temps2,bins=20)\n",
    "plt.xlabel(\"Temps\")\n",
    "plt.ylabel(\"nb de append\")"
   ]
  },
  {
   "cell_type": "markdown",
   "id": "09ea105a-ca7c-4288-beb0-16345ebda82a",
   "metadata": {},
   "source": [
    "#### Les temps d'insertion ne semblent pas grandir avec la taille de la liste. Pour nous en assurer, nous allons faire un scatter plot de tous ces temps d'exécutions."
   ]
  },
  {
   "cell_type": "code",
   "execution_count": 42,
   "id": "e3068c02-bbcc-4062-9d78-8df079674b22",
   "metadata": {
    "jupyter": {
     "outputs_hidden": true
    },
    "tags": []
   },
   "outputs": [],
   "source": [
    "plt.scatter?"
   ]
  },
  {
   "cell_type": "code",
   "execution_count": 49,
   "id": "630b5405-0ba0-4c8c-a0cb-ab4f5337061b",
   "metadata": {
    "tags": []
   },
   "outputs": [
    {
     "data": {
      "image/png": "[encoded data removed]",
      "text/plain": [
       "<Figure size 640x480 with 1 Axes>"
      ]
     },
     "metadata": {},
     "output_type": "display_data"
    }
   ],
   "source": [
    "plt.figure()\n",
    "plt.scatter(range(len(temps2)),temps2)\n",
    "plt.xlabel(\"num exec\")\n",
    "plt.ylabel(\"temps\")\n",
    "plt.show()"
   ]
  },
  {
   "cell_type": "markdown",
   "id": "4afa9720-fc67-4d92-8676-7e0249bcd20c",
   "metadata": {},
   "source": [
    "#### Pour réussir à affichier un résultat lisible, on va appliquer ce qu'on appelle un lissage. En effet, les variations qu'on observe sont dûes à de l'aléatoire ou à des phénomènes externes à l'exécution de notre instruction. Il s'agit de variations en nanosecondes, soit des temps extrêment faibles sur lesquels toute variation peut sembler importante. Pour gommer un peu ces variations et observer une tendance, on va se servir d'un lissage par moyenne mobile comme vu en TD.\n",
    "\n",
    "#### Sur la liste qui contient nos temps d'exécutions, on va déplacer une fenêtre de taille $k$, indice par indice. On calculera avant chaque déplacement la moyenne des $k$ points au sein de la fenêtre. Cela conduira à gommer les variations aléatoires. Essayez avec plusieurs valeurs de $k$ !\n",
    "\n",
    "#### Pour réaliser cette moyenne mobile :\n",
    "- la fonction mean de numpy vous sera utile\n",
    "- le slicing de list sera utile"
   ]
  },
  {
   "cell_type": "code",
   "execution_count": 19,
   "id": "c8812e01-c490-45f1-8694-a41c5cfaea9a",
   "metadata": {
    "tags": []
   },
   "outputs": [
    {
     "data": {
      "text/plain": [
       "4.0"
      ]
     },
     "execution_count": 19,
     "metadata": {},
     "output_type": "execute_result"
    }
   ],
   "source": [
    "np.mean([3,4,5])"
   ]
  },
  {
   "cell_type": "code",
   "execution_count": 25,
   "id": "7cb66480-f894-4f43-8f18-dc125e01916c",
   "metadata": {},
   "outputs": [
    {
     "name": "stdout",
     "output_type": "stream",
     "text": [
      "[5, 6, 7, 8, 9, 10]\n"
     ]
    },
    {
     "data": {
      "text/plain": [
       "7.5"
      ]
     },
     "execution_count": 25,
     "metadata": {},
     "output_type": "execute_result"
    }
   ],
   "source": [
    "l=list(range(100))\n",
    "print(l[5:11])\n",
    "np.mean(l[5:11])"
   ]
  },
  {
   "cell_type": "code",
   "execution_count": 53,
   "id": "8c3989fb-1b77-43cc-bd9a-79ceffd2c5c3",
   "metadata": {},
   "outputs": [
    {
     "data": {
      "image/png": "[encoded data removed]",
      "text/plain": [
       "<Figure size 640x480 with 1 Axes>"
      ]
     },
     "metadata": {},
     "output_type": "display_data"
    }
   ],
   "source": [
    "def moyenneMobile(l,k):\n",
    "    lisse=list()\n",
    "    for i in range(len(l)):\n",
    "        lisse.append(np.mean(temps2[i:i+k]))\n",
    "    return lisse\n",
    "\n",
    "\n",
    "temps3=moyenneMobile(temps2,1000)\n",
    "\n",
    "plt.figure()\n",
    "plt.scatter(range(len(temps3)),temps3)\n",
    "plt.xlabel(\"num exec\")\n",
    "plt.ylabel(\"temps\")\n",
    "plt.show()"
   ]
  },
  {
   "cell_type": "markdown",
   "id": "47c366ec-5c9a-4105-a5ed-c9bb84600072",
   "metadata": {},
   "source": [
    "#### Qu'observe-t-on ? Le temps d'exécution d'`append` évolue-t-il avec la taille de la liste ? Est-ce cohérent avec ce qu'on sait sur la structure sous-jacente de la liste ?"
   ]
  },
  {
   "cell_type": "markdown",
   "id": "0bb6da22-ca62-47e9-b785-24f57e0508b4",
   "metadata": {},
   "source": [
    "#### Reproduire l'expérimentation ci-dessus, mais au lieu de considérer l'opération d'`append` dans une `list`, nous allons nous intéresser à l'insertion dans un tableau trié. Pour cela, nous utilisons `bisect` qui sert notamment à maintenir une liste triée. Quelle semble être la complexité d'insertion dans le tableau trié ?\n",
    "\n",
    "#### Pour l'expérimentation, vous insèrerez des entiers aléatoires dans le tableau trié avec `random.randint(0,1000000000)`, puis vous visualiserez les données. Si la visualisation de donne rien, vous pouvez supprimer les outliers (données au-dessus du 99ieme percentile) et appliquer une moyenne mobile."
   ]
  },
  {
   "cell_type": "code",
   "execution_count": 62,
   "id": "2a0596e7-9f1e-4c1e-9e7a-5293e66439a5",
   "metadata": {},
   "outputs": [
    {
     "data": {
      "image/png": "[encoded data removed]",
      "text/plain": [
       "<Figure size 640x480 with 1 Axes>"
      ]
     },
     "metadata": {},
     "output_type": "display_data"
    },
    {
     "data": {
      "image/png": "[encoded data removed]",
      "text/plain": [
       "<Figure size 640x480 with 1 Axes>"
      ]
     },
     "metadata": {},
     "output_type": "display_data"
    }
   ],
   "source": [
    "import bisect\n",
    "import random\n",
    "l=list()\n",
    "temps=[]\n",
    "k = 100000\n",
    "for i in range(k):\n",
    "    start=time.time_ns()\n",
    "    bisect.insort(l, random.randint(0,1000000000))\n",
    "    end=time.time_ns()\n",
    "    temps.append(end-start)\n",
    "\n",
    "#Afficher le contenu la list temps\n",
    "plt.figure()\n",
    "plt.scatter(range(len(temps)),temps)\n",
    "plt.xlabel(\"num append\")\n",
    "plt.ylabel(\"temps\")\n",
    "plt.show()\n",
    "\n",
    "#Suppression des outliers\n",
    "percentile = np.percentile(temps,99)\n",
    "temps2 = [x for x in temps if x < percentile]\n",
    "    \n",
    "#Suppression de la moyenne mobile\n",
    "temps3=moyenneMobile(temps2,1000)\n",
    "\n",
    "#Afficher le contenu la list temps après suppression des outliers et application de la moyenne mobile\n",
    "plt.figure()\n",
    "plt.scatter(range(len(temps3)),temps3)\n",
    "plt.xlabel(\"num append\")\n",
    "plt.ylabel(\"temps\")\n",
    "plt.show()"
   ]
  },
  {
   "cell_type": "markdown",
   "id": "13886950-d541-4db9-b470-63d2dfa58485",
   "metadata": {},
   "source": [
    "#### Avec timeit, il est possible de lancer une opération un certain nombre de fois et de calculer son temps d'exécution. Pour opérer une telle opération, il vous faudra instancier un setup. Créer une fonction qui lance $k$ append avec timeit et mesurer le temps d'exécution."
   ]
  },
  {
   "cell_type": "code",
   "execution_count": 49,
   "id": "ada4004f-cd21-40af-adaa-7c172333e1d8",
   "metadata": {
    "collapsed": true,
    "jupyter": {
     "outputs_hidden": true
    },
    "tags": []
   },
   "outputs": [
    {
     "data": {
      "text/plain": [
       "\u001b[0;31mSignature:\u001b[0m\n",
       "\u001b[0mtimeit\u001b[0m\u001b[0;34m.\u001b[0m\u001b[0mtimeit\u001b[0m\u001b[0;34m(\u001b[0m\u001b[0;34m\u001b[0m\n",
       "\u001b[0;34m\u001b[0m    \u001b[0mstmt\u001b[0m\u001b[0;34m=\u001b[0m\u001b[0;34m'pass'\u001b[0m\u001b[0;34m,\u001b[0m\u001b[0;34m\u001b[0m\n",
       "\u001b[0;34m\u001b[0m    \u001b[0msetup\u001b[0m\u001b[0;34m=\u001b[0m\u001b[0;34m'pass'\u001b[0m\u001b[0;34m,\u001b[0m\u001b[0;34m\u001b[0m\n",
       "\u001b[0;34m\u001b[0m    \u001b[0mtimer\u001b[0m\u001b[0;34m=\u001b[0m\u001b[0;34m<\u001b[0m\u001b[0mbuilt\u001b[0m\u001b[0;34m-\u001b[0m\u001b[0;32min\u001b[0m \u001b[0mfunction\u001b[0m \u001b[0mperf_counter\u001b[0m\u001b[0;34m>\u001b[0m\u001b[0;34m,\u001b[0m\u001b[0;34m\u001b[0m\n",
       "\u001b[0;34m\u001b[0m    \u001b[0mnumber\u001b[0m\u001b[0;34m=\u001b[0m\u001b[0;36m1000000\u001b[0m\u001b[0;34m,\u001b[0m\u001b[0;34m\u001b[0m\n",
       "\u001b[0;34m\u001b[0m    \u001b[0mglobals\u001b[0m\u001b[0;34m=\u001b[0m\u001b[0;32mNone\u001b[0m\u001b[0;34m,\u001b[0m\u001b[0;34m\u001b[0m\n",
       "\u001b[0;34m\u001b[0m\u001b[0;34m)\u001b[0m\u001b[0;34m\u001b[0m\u001b[0;34m\u001b[0m\u001b[0m\n",
       "\u001b[0;31mDocstring:\u001b[0m Convenience function to create Timer object and call timeit method.\n",
       "\u001b[0;31mFile:\u001b[0m      ~/miniconda3/envs/py39/lib/python3.9/timeit.py\n",
       "\u001b[0;31mType:\u001b[0m      function\n"
      ]
     },
     "metadata": {},
     "output_type": "display_data"
    }
   ],
   "source": [
    "import timeit\n",
    "timeit.timeit?"
   ]
  },
  {
   "cell_type": "code",
   "execution_count": 68,
   "id": "1a7f5b6e-4c8c-4418-8a83-f45abef64c1e",
   "metadata": {},
   "outputs": [
    {
     "data": {
      "text/plain": [
       "4.639538061019266"
      ]
     },
     "execution_count": 68,
     "metadata": {},
     "output_type": "execute_result"
    }
   ],
   "source": [
    "import timeit\n",
    "import bisect\n",
    "def run_k_append(k):\n",
    "    setup ='''\n",
    "l=list()\n",
    "    '''\n",
    "    cmd = 'l.append(1)'\n",
    "    return timeit.timeit(cmd, setup=setup, number=k)\n",
    "run_k_append(1000)"
   ]
  },
  {
   "cell_type": "markdown",
   "id": "63f8b2a0-3562-4354-af9f-36ab1b9d547c",
   "metadata": {},
   "source": [
    "#### Exécuter cette fonction `run_k_append` avec k= 1000, 10.000, 100.000, 1.000.000, 10.000.000 et 100.000.000\n",
    "#### À chaque fois, stocker les valeurs d'exécution dans une liste. Créer un scatterplot pour visualiser ces temps d'exécution comme précédemment. Utiliser une échelle log-log. Qu'observez-vous ?\n",
    "\n",
    "#### Pour une échelle log-log : \n",
    "```\n",
    "ax.set_yscale('log')\n",
    "ax.set_xscale('log')\n",
    "```"
   ]
  },
  {
   "cell_type": "code",
   "execution_count": 77,
   "id": "6934990c-e8ba-4020-8e9e-b42bd3963336",
   "metadata": {},
   "outputs": [
    {
     "data": {
      "image/png": "[encoded data removed]",
      "text/plain": [
       "<Figure size 640x480 with 1 Axes>"
      ]
     },
     "metadata": {},
     "output_type": "display_data"
    }
   ],
   "source": [
    "xs = [1000, 10000, 100000, 1000000, 10000000, 100000000]\n",
    "temps=[]\n",
    "for x in xs:\n",
    "    temps.append(run_k_append(x))\n",
    "\n",
    "fig,ax= plt.subplots()\n",
    "plt.scatter(range(len(temps)),temps)\n",
    "ax.set_yscale('log')\n",
    "ax.set_xscale('log')\n",
    "plt.show()"
   ]
  },
  {
   "cell_type": "markdown",
   "id": "0d7d07fc-6d63-41f1-aa75-771bf970eb85",
   "metadata": {},
   "source": [
    "#### Pour aller plus loin, nous allons essayer de voir si une régression linéaire permettrait de bien modéliser les points de données obtenus. Pour cela, nous allons au préalable calculer plus de points, puis opérer la régression linéaire.\n",
    "\n",
    "#### Rappel : une régression linéaire permet de trouver une fonction f(x)= ax + b telle que cette fonction permet de suivre les données observées."
   ]
  },
  {
   "cell_type": "code",
   "execution_count": 78,
   "id": "e3cec691-fc80-46b9-bdf3-09f9e4393ce3",
   "metadata": {},
   "outputs": [
    {
     "data": {
      "image/png": "[encoded data removed]",
      "text/plain": [
       "<Figure size 640x480 with 1 Axes>"
      ]
     },
     "metadata": {},
     "output_type": "display_data"
    }
   ],
   "source": [
    "xs = list(range(500, 100000, 500))\n",
    "temps=[]\n",
    "for x in xs:\n",
    "    temps.append(run_k_append(x))\n",
    "\n",
    "fig,ax= plt.subplots()\n",
    "plt.scatter(range(len(temps)),temps)\n",
    "ax.set_yscale('log')\n",
    "ax.set_xscale('log')\n",
    "plt.show()"
   ]
  },
  {
   "cell_type": "markdown",
   "id": "b1c299c8-db4b-42e9-9910-1fbbf99f0c5f",
   "metadata": {},
   "source": [
    "#### On fitte la régression linéaire avec les xs et le temps, puis on prédit le temps en fonctions des xs."
   ]
  },
  {
   "cell_type": "code",
   "execution_count": 81,
   "id": "4bd29d6d-0584-447e-998e-eba302875265",
   "metadata": {},
   "outputs": [
    {
     "data": {
      "image/png": "[encoded data removed]",
      "text/plain": [
       "<Figure size 640x480 with 1 Axes>"
      ]
     },
     "metadata": {},
     "output_type": "display_data"
    }
   ],
   "source": [
    "from sklearn.linear_model import LinearRegression\n",
    "xs = np.reshape(xs,(-1,1))\n",
    "reg = LinearRegression().fit(xs, temps)\n",
    "y_reg = reg.predict(xs)\n",
    "\n",
    "fig,ax= plt.subplots()\n",
    "plt.scatter(range(len(temps)),temps)\n",
    "ax.set_yscale('log')\n",
    "ax.set_xscale('log')\n",
    "plt.show()"
   ]
  },
  {
   "cell_type": "markdown",
   "id": "b3e13297-2268-448a-a630-b076737432eb",
   "metadata": {},
   "source": [
    "---------------- \n",
    "\n",
    "### I.2. Création de liste : quels temps d'exécution en fonction de la taille ?"
   ]
  },
  {
   "cell_type": "markdown",
   "id": "454a3f5b-0597-4563-9441-53159973d0ff",
   "metadata": {},
   "source": [
    "#### Vous disposez de :\n",
    "- une liste de valeurs indiquant les tailles de listes à créer\n",
    "- la fonction plot_error_bar pour tracer des scatterplot capables d'indiquer un écart-type (error). \n",
    "- la fonction repeat de timeit qui permet de répeter une opération $k$ fois et de récupérer les $k$ temps de run\n",
    "\n",
    "Vous avez pour objectif de tester les approches de création de liste suivantes et de les comparer. L'objectif est de créer une liste qui contient les entiers de 0 à k :\n",
    "- Par compréhension de liste : `[i for i in range(k)]`\n",
    "- Par append itératifs : \n",
    "```\n",
    "for i in range(k): \n",
    "    l.append(i)\n",
    "```\n",
    "- Par initialisation avec des 0 puis affectation par les indices \n",
    "```\n",
    "l = [0] * k\n",
    "for i in range(k): \n",
    "    l[i]=i\n",
    "```\n",
    "- via le cast d'un range : `list(range(k))`\n",
    "\n",
    "À vous de jouer !"
   ]
  },
  {
   "cell_type": "code",
   "execution_count": 83,
   "id": "9eae41bb-90b0-44c7-9575-25c9987aaefb",
   "metadata": {},
   "outputs": [
    {
     "data": {
      "text/plain": [
       "\u001b[0;31mSignature:\u001b[0m\n",
       "\u001b[0mtimeit\u001b[0m\u001b[0;34m.\u001b[0m\u001b[0mrepeat\u001b[0m\u001b[0;34m(\u001b[0m\u001b[0;34m\u001b[0m\n",
       "\u001b[0;34m\u001b[0m    \u001b[0mstmt\u001b[0m\u001b[0;34m=\u001b[0m\u001b[0;34m'pass'\u001b[0m\u001b[0;34m,\u001b[0m\u001b[0;34m\u001b[0m\n",
       "\u001b[0;34m\u001b[0m    \u001b[0msetup\u001b[0m\u001b[0;34m=\u001b[0m\u001b[0;34m'pass'\u001b[0m\u001b[0;34m,\u001b[0m\u001b[0;34m\u001b[0m\n",
       "\u001b[0;34m\u001b[0m    \u001b[0mtimer\u001b[0m\u001b[0;34m=\u001b[0m\u001b[0;34m<\u001b[0m\u001b[0mbuilt\u001b[0m\u001b[0;34m-\u001b[0m\u001b[0;32min\u001b[0m \u001b[0mfunction\u001b[0m \u001b[0mperf_counter\u001b[0m\u001b[0;34m>\u001b[0m\u001b[0;34m,\u001b[0m\u001b[0;34m\u001b[0m\n",
       "\u001b[0;34m\u001b[0m    \u001b[0mrepeat\u001b[0m\u001b[0;34m=\u001b[0m\u001b[0;36m5\u001b[0m\u001b[0;34m,\u001b[0m\u001b[0;34m\u001b[0m\n",
       "\u001b[0;34m\u001b[0m    \u001b[0mnumber\u001b[0m\u001b[0;34m=\u001b[0m\u001b[0;36m1000000\u001b[0m\u001b[0;34m,\u001b[0m\u001b[0;34m\u001b[0m\n",
       "\u001b[0;34m\u001b[0m    \u001b[0mglobals\u001b[0m\u001b[0;34m=\u001b[0m\u001b[0;32mNone\u001b[0m\u001b[0;34m,\u001b[0m\u001b[0;34m\u001b[0m\n",
       "\u001b[0;34m\u001b[0m\u001b[0;34m)\u001b[0m\u001b[0;34m\u001b[0m\u001b[0;34m\u001b[0m\u001b[0m\n",
       "\u001b[0;31mDocstring:\u001b[0m Convenience function to create Timer object and call repeat method.\n",
       "\u001b[0;31mFile:\u001b[0m      ~/miniconda3/envs/py39/lib/python3.9/timeit.py\n",
       "\u001b[0;31mType:\u001b[0m      function\n"
      ]
     },
     "metadata": {},
     "output_type": "display_data"
    }
   ],
   "source": [
    "timeit.repeat?"
   ]
  },
  {
   "cell_type": "code",
   "execution_count": 86,
   "id": "f30533df-46c4-4e00-9e84-36c3f0d6c13b",
   "metadata": {},
   "outputs": [],
   "source": [
    "#### Valeurs à utiliser pour les tailles de listes\n",
    "liste = range(5000, 50000, 1000)\n",
    "\n",
    "#### Fonction de plot\n",
    "import numpy as np\n",
    "import matplotlib.pyplot as plt\n",
    "def plot_error_bar(xs, ys, error, ymin, ymax):\n",
    "    fig = plt.figure()\n",
    "    ax = fig.add_subplot(1, 1, 1)\n",
    "\n",
    "    plt.errorbar(xs, ys, error, linestyle='None', marker='^')\n",
    "    plt.ylim(ymin, ymax)\n",
    "    plt.show()\n",
    "    "
   ]
  },
  {
   "cell_type": "code",
   "execution_count": 110,
   "id": "767502b8-e2ac-457f-8ba3-7b7b05d97674",
   "metadata": {
    "collapsed": true,
    "jupyter": {
     "outputs_hidden": true
    },
    "tags": []
   },
   "outputs": [
    {
     "name": "stdout",
     "output_type": "stream",
     "text": [
      "i 5000 mean 0.00010126979996130103 std 1.3912523754906182e-05\n",
      "i 6000 mean 0.00010896820003836183 std 8.593696264435154e-06\n",
      "i 7000 mean 0.0001242062002347666 std 5.004690553091082e-06\n",
      "i 8000 mean 0.00014879340033076006 std 9.567041758103985e-06\n",
      "i 9000 mean 0.00016958710002654698 std 3.9196427654684874e-05\n",
      "i 10000 mean 0.00018484919983166037 std 1.322409795858271e-05\n",
      "i 11000 mean 0.0002628312997330795 std 9.609801565427777e-05\n",
      "i 12000 mean 0.0002661182999872835 std 4.813944900569962e-05\n",
      "i 13000 mean 0.00032962610002869043 std 7.89348099364145e-05\n",
      "i 14000 mean 0.00033706060021359007 std 7.243863222885674e-05\n",
      "i 15000 mean 0.000304392900034145 std 5.171503790285247e-05\n",
      "i 16000 mean 0.0005195265999645926 std 0.00010135963268337516\n",
      "i 17000 mean 0.0006215372002770891 std 9.411529880943427e-05\n",
      "i 18000 mean 0.0003883469000356854 std 6.735747412561111e-05\n",
      "i 19000 mean 0.0005705345998649136 std 0.00014667363219168677\n",
      "i 20000 mean 0.000516145900110132 std 0.00010795526289933695\n",
      "i 21000 mean 0.00039116309981181987 std 6.473186171150666e-05\n",
      "i 22000 mean 0.0006802561994845747 std 8.009459606509135e-05\n",
      "i 23000 mean 0.0005658721996951499 std 0.00015504343910751624\n",
      "i 24000 mean 0.0004092107999895234 std 2.6494636846279292e-05\n",
      "i 25000 mean 0.0004561351002848824 std 3.5773284988748046e-05\n",
      "i 26000 mean 0.0004493267000725609 std 3.117785350210938e-05\n",
      "i 27000 mean 0.0004570516000967473 std 3.125750964982623e-05\n",
      "i 28000 mean 0.0004883624000285635 std 3.157452599410797e-05\n",
      "i 29000 mean 0.0005078280997622642 std 3.063760906619355e-05\n",
      "i 30000 mean 0.0005249626003205777 std 2.476222971833671e-05\n",
      "i 31000 mean 0.0005618744002276798 std 1.5846126679084117e-05\n",
      "i 32000 mean 0.0005398494000473875 std 2.2919689726335265e-05\n",
      "i 33000 mean 0.0007714744002441876 std 0.0001356524866078935\n",
      "i 34000 mean 0.0006240909000553074 std 3.924123607413019e-05\n",
      "i 35000 mean 0.000582156300333736 std 2.2774457580063025e-05\n",
      "i 36000 mean 0.0006162338995636674 std 1.925051208812312e-05\n",
      "i 37000 mean 0.0006222788004379253 std 1.592357265944192e-05\n",
      "i 38000 mean 0.0006656235000264132 std 2.9489948705948305e-05\n",
      "i 39000 mean 0.0006803652000598959 std 2.2014431359922184e-05\n",
      "i 40000 mean 0.0006934253999133944 std 4.682489075986238e-05\n",
      "i 41000 mean 0.000703474100009771 std 3.844873037094685e-05\n",
      "i 42000 mean 0.0007104190002792165 std 8.728395367567692e-06\n",
      "i 43000 mean 0.0007322790002945112 std 2.198831586881777e-05\n",
      "i 44000 mean 0.0007559676996606868 std 1.7890197694922325e-05\n",
      "i 45000 mean 0.0007647001002624165 std 1.444002840620081e-05\n",
      "i 46000 mean 0.0007920945003206725 std 2.835495172713052e-05\n",
      "i 47000 mean 0.0008013661998120369 std 1.463130133026858e-05\n",
      "i 48000 mean 0.0008146638996549882 std 9.572993769401057e-06\n",
      "i 49000 mean 0.0008310257999255555 std 1.367101839833952e-05\n"
     ]
    },
    {
     "data": {
      "image/png": "[encoded data removed]",
      "text/plain": [
       "<Figure size 432x288 with 1 Axes>"
      ]
     },
     "metadata": {
      "needs_background": "light"
     },
     "output_type": "display_data"
    }
   ],
   "source": [
    "\n",
    "ymin = 0\n",
    "ymax = 0.002\n",
    "means = []\n",
    "stds = []\n",
    "\n",
    "for i in liste:\n",
    "    #TODO\n",
    "\n",
    "plot_error_bar(liste, means, stds, ymin, ymax)\n"
   ]
  },
  {
   "cell_type": "code",
   "execution_count": 111,
   "id": "8b502cb3-8733-4c73-aa16-3b9213ae5577",
   "metadata": {
    "collapsed": true,
    "jupyter": {
     "outputs_hidden": true
    },
    "tags": []
   },
   "outputs": [
    {
     "name": "stdout",
     "output_type": "stream",
     "text": [
      "i 5000 mean 0.00013675890022568638 std 8.054749461884381e-06\n",
      "i 6000 mean 0.0001877730002888711 std 7.985355314940495e-05\n",
      "i 7000 mean 0.00021362890020100168 std 6.063526497218676e-05\n",
      "i 8000 mean 0.0002457982000123593 std 7.771734749001253e-05\n",
      "i 9000 mean 0.0002453985000101966 std 9.03415309593022e-06\n",
      "i 10000 mean 0.0002674033001312637 std 1.591393734623153e-05\n",
      "i 11000 mean 0.000274938699658378 std 2.639078967791684e-05\n",
      "i 12000 mean 0.00033515969989821314 std 3.0798925136729254e-05\n",
      "i 13000 mean 0.00043882419977308017 std 9.531184802231883e-05\n",
      "i 14000 mean 0.0004574632999720052 std 0.00010045533220082074\n",
      "i 15000 mean 0.0007536078001066926 std 0.00012773141991162263\n",
      "i 16000 mean 0.0005555080997510231 std 0.0001920870611052943\n",
      "i 17000 mean 0.0006190129995957249 std 0.00013503037356765856\n",
      "i 18000 mean 0.0006567922999238362 std 0.0002185096967819508\n",
      "i 19000 mean 0.0008113288999084034 std 0.00034054262883279735\n",
      "i 20000 mean 0.0007032723005977459 std 0.00019320262709214098\n",
      "i 21000 mean 0.0006866220999654615 std 0.0001922678708520437\n",
      "i 22000 mean 0.0005814217001898214 std 5.204604504946803e-05\n",
      "i 23000 mean 0.0006558080000104383 std 6.912991643926071e-05\n",
      "i 24000 mean 0.0007482519000404864 std 0.00018341024513594128\n",
      "i 25000 mean 0.0007295536997844465 std 3.931299756616629e-05\n",
      "i 26000 mean 0.0008899446003852063 std 0.00023529018512058987\n",
      "i 27000 mean 0.0008332683997650747 std 0.00022041784692461718\n",
      "i 28000 mean 0.0008055694997892715 std 0.0001044684865644288\n",
      "i 29000 mean 0.000867493499936245 std 0.00017273841966299882\n",
      "i 30000 mean 0.0008421055999860982 std 8.16050275162077e-05\n",
      "i 31000 mean 0.0008695131000422407 std 7.367384755714277e-05\n",
      "i 32000 mean 0.0010929768999631052 std 0.00019609383421035953\n",
      "i 33000 mean 0.0010179956998399575 std 0.0001962716408157758\n",
      "i 34000 mean 0.0009657307999077602 std 8.179884107631201e-05\n",
      "i 35000 mean 0.001072591100273712 std 0.0002310529334739846\n",
      "i 36000 mean 0.0011230279002120368 std 0.00023848993273469827\n",
      "i 37000 mean 0.00112431630041101 std 0.00020269828004578177\n",
      "i 38000 mean 0.0012566933000925928 std 0.00026619813081720254\n",
      "i 39000 mean 0.0011063440000725678 std 0.00015110838334076408\n",
      "i 40000 mean 0.0011314304998450097 std 9.189981537291615e-05\n",
      "i 41000 mean 0.0011318560003928725 std 5.059379940890739e-05\n",
      "i 42000 mean 0.0012182451000626315 std 0.00013761403203567518\n",
      "i 43000 mean 0.0012597787002960104 std 8.059683540484107e-05\n",
      "i 44000 mean 0.0012269298998944579 std 5.910230901980904e-05\n",
      "i 45000 mean 0.0012591296999744372 std 3.495969419706835e-05\n",
      "i 46000 mean 0.0012286649996894993 std 4.510248498540025e-05\n",
      "i 47000 mean 0.0012897982001959462 std 2.787023185475911e-05\n",
      "i 48000 mean 0.0012610496998604504 std 2.944159029150926e-05\n",
      "i 49000 mean 0.0013007540997932664 std 3.694955368690451e-05\n"
     ]
    },
    {
     "data": {
      "image/png": "[encoded data removed]",
      "text/plain": [
       "<Figure size 432x288 with 1 Axes>"
      ]
     },
     "metadata": {
      "needs_background": "light"
     },
     "output_type": "display_data"
    }
   ],
   "source": [
    "means = []\n",
    "stds = []\n",
    "\n",
    "\n",
    "for i in liste:\n",
    "    #TODO\n",
    "\n",
    "plot_error_bar(liste, means, stds, ymin, ymax)"
   ]
  },
  {
   "cell_type": "code",
   "execution_count": 112,
   "id": "3e514d96-9c56-4feb-bb29-f00c46401109",
   "metadata": {
    "collapsed": true,
    "jupyter": {
     "outputs_hidden": true
    },
    "tags": []
   },
   "outputs": [
    {
     "name": "stdout",
     "output_type": "stream",
     "text": [
      "i 5000 mean 0.00011159370005771052 std 1.1163927519293022e-05\n",
      "i 6000 mean 0.00011035809984605294 std 4.710340729075677e-06\n",
      "i 7000 mean 0.0001727915996525553 std 3.430248838803168e-05\n",
      "i 8000 mean 0.00017890020044433185 std 1.399561925094025e-05\n",
      "i 9000 mean 0.00019693579997692723 std 5.121953125409682e-06\n",
      "i 10000 mean 0.00023008259977359559 std 4.8057332858946106e-05\n",
      "i 11000 mean 0.0002301399003044935 std 1.1105690132635331e-05\n",
      "i 12000 mean 0.00027765570011979436 std 6.076094314087187e-05\n",
      "i 13000 mean 0.0003009786998518393 std 2.992093610835912e-05\n",
      "i 14000 mean 0.0003027321999979904 std 1.7243889311187158e-05\n",
      "i 15000 mean 0.0003138112999295117 std 3.765614990487476e-05\n",
      "i 16000 mean 0.0003508703997795237 std 2.4236397747502225e-05\n",
      "i 17000 mean 0.0004106843998670229 std 0.0001310119373513199\n",
      "i 18000 mean 0.0004038742001284845 std 8.993527339308504e-05\n",
      "i 19000 mean 0.000388485100120306 std 3.2368042630118164e-05\n",
      "i 20000 mean 0.0004026605000035488 std 3.535414069291993e-05\n",
      "i 21000 mean 0.00041206200021406405 std 2.8719422166828402e-05\n",
      "i 22000 mean 0.00045970369992573976 std 6.22941125807593e-05\n",
      "i 23000 mean 0.0005371265000576386 std 9.701503648902565e-05\n",
      "i 24000 mean 0.00046896559979359154 std 3.3208369108411436e-05\n",
      "i 25000 mean 0.0005433111000456847 std 7.177117598691212e-05\n",
      "i 26000 mean 0.000509038600284839 std 3.1873561095185754e-05\n",
      "i 27000 mean 0.0005572243997448822 std 3.4479924700934205e-05\n",
      "i 28000 mean 0.0005802846000733553 std 4.2096571957144174e-05\n",
      "i 29000 mean 0.0005720730005123187 std 4.308338375824755e-05\n",
      "i 30000 mean 0.0006785024001146666 std 4.616597367937194e-05\n",
      "i 31000 mean 0.0006276263004110661 std 2.9910142833076767e-05\n",
      "i 32000 mean 0.0006744049996996182 std 3.74015654718124e-05\n",
      "i 33000 mean 0.0006712849000905408 std 5.5762904853719166e-05\n",
      "i 34000 mean 0.0007060445996103226 std 4.2991896521926117e-05\n",
      "i 35000 mean 0.0006972774001042126 std 3.3328072282014484e-05\n",
      "i 36000 mean 0.0007171217001086915 std 1.8351401437573945e-05\n",
      "i 37000 mean 0.0007373182999799611 std 1.6397934606511054e-05\n",
      "i 38000 mean 0.0007320097998672282 std 3.164444374087214e-05\n",
      "i 39000 mean 0.0007683911999265547 std 2.3087347965754884e-05\n",
      "i 40000 mean 0.0007984220997968805 std 3.2343854928814014e-05\n",
      "i 41000 mean 0.0008265628002845915 std 3.924825785057984e-05\n",
      "i 42000 mean 0.0008436202004304505 std 2.342679204147226e-05\n",
      "i 43000 mean 0.0008661759999085916 std 1.3636741545827116e-05\n",
      "i 44000 mean 0.0009253920996343367 std 6.768829041125112e-05\n",
      "i 45000 mean 0.0009008962997540948 std 1.6464657998594054e-05\n",
      "i 46000 mean 0.0009092074002182926 std 3.625348837981266e-05\n",
      "i 47000 mean 0.0009455090001210919 std 2.375465161724612e-05\n",
      "i 48000 mean 0.0009737694002978969 std 3.407825469050043e-05\n",
      "i 49000 mean 0.0010320977002265864 std 3.700595391742262e-05\n"
     ]
    },
    {
     "data": {
      "image/png": "[encoded data removed]",
      "text/plain": [
       "<Figure size 432x288 with 1 Axes>"
      ]
     },
     "metadata": {
      "needs_background": "light"
     },
     "output_type": "display_data"
    }
   ],
   "source": [
    "means = []\n",
    "stds = []\n",
    "\n",
    "for i in liste:\n",
    "    #TODO\n",
    "\n",
    "plot_error_bar(liste, means, stds, ymin, ymax)"
   ]
  },
  {
   "cell_type": "code",
   "execution_count": 113,
   "id": "47a09bdc-4df9-4bf0-a383-37dbcd1eac1c",
   "metadata": {
    "collapsed": true,
    "jupyter": {
     "outputs_hidden": true
    },
    "tags": []
   },
   "outputs": [
    {
     "name": "stdout",
     "output_type": "stream",
     "text": [
      "i 5000 mean 6.667030029348098e-05 std 9.735189042114869e-06\n",
      "i 6000 mean 7.536490011261776e-05 std 1.1631257899005534e-05\n",
      "i 7000 mean 0.0001132670999140828 std 9.001456216844708e-05\n",
      "i 8000 mean 8.795500016276492e-05 std 4.205946623390852e-06\n",
      "i 9000 mean 9.917030001815874e-05 std 6.767183915648731e-06\n",
      "i 10000 mean 0.00010970020011882297 std 1.0047369250951127e-05\n",
      "i 11000 mean 0.00015150609997363062 std 5.244024492406538e-05\n",
      "i 12000 mean 0.00013509730033547384 std 1.151926991433345e-05\n",
      "i 13000 mean 0.00013822829987475416 std 1.3061148903339104e-05\n",
      "i 14000 mean 0.00017689820015220903 std 7.455338455335945e-05\n",
      "i 15000 mean 0.00010566699966148007 std 4.442362941087949e-06\n",
      "i 16000 mean 0.00012420979983289725 std 3.0139676145161572e-06\n",
      "i 17000 mean 0.00013278830010676757 std 3.8975437200617484e-06\n",
      "i 18000 mean 0.00015411660006066087 std 4.0538643789032755e-05\n",
      "i 19000 mean 0.00015458119978575268 std 1.2312881887496306e-05\n",
      "i 20000 mean 0.000164380700152833 std 1.774370736211931e-05\n",
      "i 21000 mean 0.00026568510020297254 std 0.00011493932089017026\n",
      "i 22000 mean 0.0002646676999574993 std 3.9975458903447566e-05\n",
      "i 23000 mean 0.00032026860026235227 std 8.02597563751434e-05\n",
      "i 24000 mean 0.0003138227002636995 std 6.642603890854452e-05\n",
      "i 25000 mean 0.00021835530042153551 std 6.640655604698985e-05\n",
      "i 26000 mean 0.00023010029981378465 std 5.5502039269749255e-05\n",
      "i 27000 mean 0.00020853890000580578 std 3.6869859701097633e-06\n",
      "i 28000 mean 0.000259572800132446 std 5.3326758448187234e-05\n",
      "i 29000 mean 0.00022843020051368512 std 7.170170059137439e-06\n",
      "i 30000 mean 0.0002692173997274949 std 5.057348643227473e-05\n",
      "i 31000 mean 0.00023515830016549444 std 1.7876054329001716e-05\n",
      "i 32000 mean 0.0002407823001703946 std 1.4263576386989615e-05\n",
      "i 33000 mean 0.00021537870015890802 std 8.308051310679095e-06\n",
      "i 34000 mean 0.00022476660051324872 std 1.336011942104036e-05\n",
      "i 35000 mean 0.00029005359992879677 std 2.902818859588678e-05\n",
      "i 36000 mean 0.0003039068004000001 std 3.358002685205379e-05\n",
      "i 37000 mean 0.00029498519979824777 std 2.9090125401348486e-05\n",
      "i 38000 mean 0.0002818463000949123 std 4.982426065437259e-05\n",
      "i 39000 mean 0.00027413019961386453 std 1.5985953974734396e-05\n",
      "i 40000 mean 0.00035440470019239 std 8.626612094184316e-05\n",
      "i 41000 mean 0.0003121830997770303 std 3.934738132626323e-05\n",
      "i 42000 mean 0.0002779362996079726 std 7.694321422374691e-06\n",
      "i 43000 mean 0.0002906622003138182 std 8.797014324321898e-06\n",
      "i 44000 mean 0.00029970989999128506 std 1.4445191723410083e-05\n",
      "i 45000 mean 0.000329228899863665 std 2.2051228263457208e-05\n",
      "i 46000 mean 0.0003304538000520552 std 2.9476941421996003e-05\n",
      "i 47000 mean 0.00033013030042639 std 4.4831186429153165e-06\n",
      "i 48000 mean 0.0003175099001964554 std 7.679888458360173e-06\n",
      "i 49000 mean 0.00033592500039958395 std 1.0986313907947126e-05\n"
     ]
    },
    {
     "data": {
      "image/png": "[encoded data removed]",
      "text/plain": [
       "<Figure size 432x288 with 1 Axes>"
      ]
     },
     "metadata": {
      "needs_background": "light"
     },
     "output_type": "display_data"
    }
   ],
   "source": [
    "means = []\n",
    "stds = []\n",
    "\n",
    "for i in liste:\n",
    "    #TODO\n",
    "\n",
    "plot_error_bar(liste, means, stds, ymin, ymax)"
   ]
  },
  {
   "cell_type": "markdown",
   "id": "d469221c-db5f-4fab-8f07-07e67c74efd8",
   "metadata": {},
   "source": [
    "### I.3. Comparaison du set et de la list pour les tests d'existence\n",
    "\n",
    "L'objectif est d'initialiser une list et un set avec des tailles allant de 2000 à 11000 par palliers de 500. On va ensuite pour chaque taille, aller chercher l'existence d'un nombre qui existe dans la structure de données, soit un nombre aléatoire entre 0 et la taille de la stucture de données. On effectue cette recherche 2000 fois, et on répète l'opération 10 fois. On procède à un scatterplot via la fonction `plot_error_bar`. Que constatez-vous ?"
   ]
  },
  {
   "cell_type": "code",
   "execution_count": 132,
   "id": "fc89f727-0d15-4fdc-b0e8-9a77cdaa3193",
   "metadata": {},
   "outputs": [
    {
     "data": {
      "text/plain": [
       "\u001b[0;31mSignature:\u001b[0m \u001b[0mrandom\u001b[0m\u001b[0;34m.\u001b[0m\u001b[0mrandint\u001b[0m\u001b[0;34m(\u001b[0m\u001b[0ma\u001b[0m\u001b[0;34m,\u001b[0m \u001b[0mb\u001b[0m\u001b[0;34m)\u001b[0m\u001b[0;34m\u001b[0m\u001b[0;34m\u001b[0m\u001b[0m\n",
       "\u001b[0;31mDocstring:\u001b[0m\n",
       "Return random integer in range [a, b], including both end points.\n",
       "        \n",
       "\u001b[0;31mFile:\u001b[0m      ~/miniconda3/envs/py39/lib/python3.9/random.py\n",
       "\u001b[0;31mType:\u001b[0m      method\n"
      ]
     },
     "metadata": {},
     "output_type": "display_data"
    }
   ],
   "source": [
    "random.randint?"
   ]
  },
  {
   "cell_type": "code",
   "execution_count": null,
   "id": "b1dbe5a0-c8a8-43bf-8a9d-72c36a38f7fb",
   "metadata": {},
   "outputs": [],
   "source": [
    "\n",
    "liste = range(2000, 11000, 500)"
   ]
  },
  {
   "cell_type": "code",
   "execution_count": 87,
   "id": "6e9f8bcc-606b-4009-a6cb-6ad8684f1cc6",
   "metadata": {},
   "outputs": [
    {
     "name": "stdout",
     "output_type": "stream",
     "text": [
      "i 2000 mean 0.012850984499891638 std 0.0006780867899319037\n",
      "i 2500 mean 0.016388269200160722 std 0.0014611549525977527\n",
      "i 3000 mean 0.019379279500026315 std 0.0007667723593306095\n",
      "i 3500 mean 0.02175460650005334 std 0.00047011323028581773\n",
      "i 4000 mean 0.024518421000084344 std 0.0002742578310089411\n",
      "i 4500 mean 0.027111772199987172 std 0.0005496989655725097\n",
      "i 5000 mean 0.029761272799987637 std 0.00045493810800949696\n",
      "i 5500 mean 0.03311211109994474 std 0.000703179422528232\n",
      "i 6000 mean 0.03841582390032272 std 0.0022406502577148575\n",
      "i 6500 mean 0.04028951719983524 std 0.0019805052268655767\n",
      "i 7000 mean 0.04241234190003525 std 0.001414982497774843\n",
      "i 7500 mean 0.04474819229999412 std 0.0004274294261670716\n",
      "i 8000 mean 0.04743061689996466 std 0.0006616112966081542\n",
      "i 8500 mean 0.050644045399894824 std 0.0007475275227341611\n",
      "i 9000 mean 0.05331921069982855 std 0.0004990923133827002\n",
      "i 9500 mean 0.05618772610005181 std 0.0007108264441180965\n",
      "i 10000 mean 0.05971279880013754 std 0.001167431916034435\n",
      "i 10500 mean 0.06195718550006859 std 0.0008970492165117028\n"
     ]
    },
    {
     "data": {
      "image/png": "[encoded data removed]",
      "text/plain": [
       "<Figure size 432x288 with 1 Axes>"
      ]
     },
     "metadata": {
      "needs_background": "light"
     },
     "output_type": "display_data"
    }
   ],
   "source": [
    "import random\n",
    "\n",
    "liste = range(2000, 11000, 500)\n",
    "\n",
    "means = []\n",
    "stds = []\n",
    "\n",
    "ymin = 0\n",
    "ymax = 0.08\n",
    "\n",
    "setup='''\n",
    "import random \n",
    "l = list(range('''+str(np.max(liste))+'''))\n",
    "'''\n",
    "\n",
    "for i in liste:\n",
    "    #TODO\n",
    "\n",
    "plot_error_bar(liste, means, stds, ymin, ymax)"
   ]
  },
  {
   "cell_type": "code",
   "execution_count": 89,
   "id": "170804b4-8471-42b4-9711-ba3bda267529",
   "metadata": {},
   "outputs": [
    {
     "name": "stdout",
     "output_type": "stream",
     "text": [
      "i 2000 mean 0.0012297870000111289 std 0.00031454456648586445\n",
      "i 2500 mean 0.0011348785000336648 std 0.000262628875844269\n",
      "i 3000 mean 0.0009065802997611172 std 5.1890120237150314e-05\n",
      "i 3500 mean 0.0008622434997960227 std 6.194560250835743e-05\n",
      "i 4000 mean 0.000962674699985655 std 0.0001387467467267912\n",
      "i 4500 mean 0.0009762870000486146 std 9.019626617627456e-05\n",
      "i 5000 mean 0.000935739999931684 std 6.078499221463773e-05\n",
      "i 5500 mean 0.0009425262000149814 std 5.927051023476852e-05\n",
      "i 6000 mean 0.0009985250999307027 std 8.328922783118272e-05\n",
      "i 6500 mean 0.0008853750999151088 std 5.641820819279814e-05\n",
      "i 7000 mean 0.0008896005000678997 std 3.391517415270344e-05\n",
      "i 7500 mean 0.0008735119999982999 std 2.2943418039326087e-05\n",
      "i 8000 mean 0.0009360221000861202 std 0.00016450506531408846\n",
      "i 8500 mean 0.0009881951002171264 std 3.11383174438054e-05\n",
      "i 9000 mean 0.0009487535997322993 std 2.4937594535194637e-05\n",
      "i 9500 mean 0.0009596922999662638 std 1.0634328901414937e-05\n",
      "i 10000 mean 0.0009460332999879029 std 2.180855922950466e-05\n",
      "i 10500 mean 0.000936963600179297 std 1.6387849859272038e-05\n"
     ]
    },
    {
     "data": {
      "image/png": "[encoded data removed]",
      "text/plain": [
       "<Figure size 432x288 with 1 Axes>"
      ]
     },
     "metadata": {
      "needs_background": "light"
     },
     "output_type": "display_data"
    }
   ],
   "source": [
    "means = []\n",
    "stds = []\n",
    "\n",
    "ymin = 0\n",
    "ymax = 0.01\n",
    "\n",
    "#TODO\n",
    "\n",
    "plot_error_bar(liste, means, stds, ymin, ymax)"
   ]
  },
  {
   "cell_type": "markdown",
   "id": "b90b1be9-a3fa-41f6-be4d-815fc8f4d16e",
   "metadata": {},
   "source": [
    "#### L'objectif est maintenant d'initialiser une list et un set avec des tailles allant de 2000 à 11000 par palliers de 500. On va cette fois, pour chaque taille, aller chercher l'existence de TOUS les nombres qui existent dans la structure de données, soit TOUS les nombres entre 0 et la taille de la stucture de données. On effectue cette recherche 1 fois, et on répète l'opération 10 fois. On procède à un scatterplot via la fonction `plot_error_bar`. Que constatez-vous ?"
   ]
  },
  {
   "cell_type": "code",
   "execution_count": 90,
   "id": "bbb6796e-1565-43df-9a7c-7e0fbc142e92",
   "metadata": {},
   "outputs": [
    {
     "name": "stdout",
     "output_type": "stream",
     "text": [
      "i 2000 mean 0.01168676309989678 std 0.0015331093807171682\n",
      "i 2500 mean 0.017407999200258928 std 0.0004076427439229077\n",
      "i 3000 mean 0.02560606569995798 std 0.0013756671049006768\n",
      "i 3500 mean 0.03447064359979777 std 0.001392379682897996\n",
      "i 4000 mean 0.04845157319987266 std 0.00236195864289448\n",
      "i 4500 mean 0.05842070789985883 std 0.0023504220139351872\n",
      "i 5000 mean 0.07064885820009295 std 0.001325342285965599\n",
      "i 5500 mean 0.0854856158000075 std 0.0009112296969998266\n",
      "i 6000 mean 0.10069484819996433 std 0.0015184890458384399\n",
      "i 6500 mean 0.11939572640003462 std 0.0010503370174206128\n",
      "i 7000 mean 0.14013615730009404 std 0.0017115584610176942\n",
      "i 7500 mean 0.16521604800018394 std 0.0065539592505706856\n",
      "i 8000 mean 0.1874587048999274 std 0.003286803007742508\n",
      "i 8500 mean 0.21151899190008408 std 0.005050138847947287\n",
      "i 9000 mean 0.25690589089963395 std 0.01258768308953825\n",
      "i 9500 mean 0.2811523718999524 std 0.008286101933004594\n",
      "i 10000 mean 0.30408862399999637 std 0.0065837208269114164\n",
      "i 10500 mean 0.3357495311000093 std 0.006512264255425457\n"
     ]
    },
    {
     "data": {
      "image/png": "[encoded data removed]",
      "text/plain": [
       "<Figure size 432x288 with 1 Axes>"
      ]
     },
     "metadata": {
      "needs_background": "light"
     },
     "output_type": "display_data"
    }
   ],
   "source": [
    "liste = range(2000, 11000, 500)\n",
    "\n",
    "means = []\n",
    "stds = []\n",
    "\n",
    "ymin = 0\n",
    "ymax = 0.5\n",
    "\n",
    "#TODO\n",
    "\n",
    "plot_error_bar(liste, means, stds, ymin, ymax)"
   ]
  },
  {
   "cell_type": "code",
   "execution_count": 91,
   "id": "96177a51-3487-4ee1-8542-876dbd3e3a7b",
   "metadata": {
    "tags": []
   },
   "outputs": [
    {
     "name": "stdout",
     "output_type": "stream",
     "text": [
      "i 2000 mean 5.530060016099014e-05 std 8.457315142036136e-07\n",
      "i 4000 mean 9.623809992262978e-05 std 1.0790064596589484e-05\n",
      "i 6000 mean 0.00015425120009240345 std 1.3934172418299663e-05\n",
      "i 8000 mean 0.00020506840000962258 std 6.294604319347158e-06\n",
      "i 10000 mean 0.0002538247998927545 std 3.69136644019271e-06\n",
      "i 12000 mean 0.0003389147999769193 std 3.5903393924425934e-05\n",
      "i 14000 mean 0.0004349892001300759 std 7.561014146010088e-05\n",
      "i 16000 mean 0.00041710169998623316 std 1.695316089065969e-05\n",
      "i 18000 mean 0.0005073237000942754 std 1.4734160285093835e-05\n",
      "i 20000 mean 0.0005463591000079759 std 6.908806904992398e-05\n",
      "i 22000 mean 0.0005501420999280526 std 3.437038311954018e-05\n",
      "i 24000 mean 0.0006246904001272924 std 6.0323526959109735e-05\n",
      "i 26000 mean 0.0006629172001339611 std 5.337276029941612e-05\n",
      "i 28000 mean 0.0007106379000106245 std 1.6538226150965776e-05\n",
      "i 30000 mean 0.0007701289002397971 std 5.945193212864259e-05\n",
      "i 32000 mean 0.0008057519999965735 std 2.7872736593513933e-05\n",
      "i 34000 mean 0.0008647382999697583 std 1.825891613705593e-05\n",
      "i 36000 mean 0.0009362837002299784 std 3.41744011084499e-05\n",
      "i 38000 mean 0.000964056699831417 std 1.4145014924056251e-05\n",
      "i 40000 mean 0.001026598799853673 std 2.1692810742571607e-05\n",
      "i 42000 mean 0.0010899650997998832 std 2.8789042214143122e-05\n",
      "i 44000 mean 0.0011286298999038991 std 1.37638301386333e-05\n",
      "i 46000 mean 0.001240608599891857 std 0.00010705704786558454\n",
      "i 48000 mean 0.0012902540001050512 std 0.000141474377016191\n",
      "i 50000 mean 0.0012983240000721708 std 3.788489715252728e-05\n",
      "i 52000 mean 0.0013965039000140677 std 4.2576731233688326e-05\n",
      "i 54000 mean 0.0014189654002620955 std 5.999643091737066e-05\n",
      "i 56000 mean 0.0014665373003481363 std 6.439523711246444e-05\n",
      "i 58000 mean 0.001517850900108897 std 3.178718670085946e-05\n",
      "i 60000 mean 0.0015612109998983214 std 2.3350360488976423e-05\n",
      "i 62000 mean 0.001615649099858274 std 2.6193368997436513e-05\n",
      "i 64000 mean 0.0017075362002287875 std 4.112075378177114e-05\n",
      "i 66000 mean 0.0017098300999350614 std 1.626529625780856e-05\n",
      "i 68000 mean 0.0018484826998246718 std 7.524856019760245e-05\n",
      "i 70000 mean 0.0018335064998609596 std 4.5642219286214507e-05\n",
      "i 72000 mean 0.0019523918001141283 std 8.704617851900671e-05\n",
      "i 74000 mean 0.0019642607000605493 std 7.005496937531836e-05\n",
      "i 76000 mean 0.0020007203002023743 std 3.2241198260562764e-05\n",
      "i 78000 mean 0.0020666436998908466 std 2.115639695317124e-05\n",
      "i 80000 mean 0.0020919695000884532 std 6.244512479548627e-05\n",
      "i 82000 mean 0.002141834499889228 std 3.389887357056815e-05\n",
      "i 84000 mean 0.002258605899896793 std 8.626229493923023e-05\n",
      "i 86000 mean 0.002302630000122008 std 7.399886701864345e-05\n",
      "i 88000 mean 0.0023148629001298105 std 5.496722586585102e-05\n",
      "i 90000 mean 0.002411874499921396 std 4.99325238043112e-05\n",
      "i 92000 mean 0.0024110171999382145 std 3.666517170820767e-05\n",
      "i 94000 mean 0.0025062237001293396 std 3.5579907938315534e-05\n",
      "i 96000 mean 0.00259067450015209 std 9.339305338112826e-05\n",
      "i 98000 mean 0.0027829182999994373 std 0.0002628015239585278\n"
     ]
    },
    {
     "data": {
      "image/png": "[encoded data removed]",
      "text/plain": [
       "<Figure size 432x288 with 1 Axes>"
      ]
     },
     "metadata": {
      "needs_background": "light"
     },
     "output_type": "display_data"
    }
   ],
   "source": [
    "liste = range(2000, 100000, 2000)\n",
    "\n",
    "means = []\n",
    "stds = []\n",
    "\n",
    "ymin = 0\n",
    "ymax = 0.01\n",
    "\n",
    "#TODO\n",
    "\n",
    "plot_error_bar(liste, means, stds, ymin, ymax)"
   ]
  },
  {
   "cell_type": "markdown",
   "id": "174320fe-9138-4ca6-9a42-983f0a5eea92",
   "metadata": {},
   "source": [
    "## II. Implémentation d'un dictionnaire"
   ]
  },
  {
   "cell_type": "code",
   "execution_count": 1,
   "id": "22ffcb57-2280-4e40-b7c0-c7cb9a41d2a2",
   "metadata": {},
   "outputs": [],
   "source": [
    "import numpy as np\n",
    "import matplotlib.pyplot as plt\n",
    "def plot_error_bar(xs, ys, error, ymin=None, ymax=None):\n",
    "    fig = plt.figure()\n",
    "    ax = fig.add_subplot(1, 1, 1)\n",
    "\n",
    "    plt.errorbar(xs, ys, error, linestyle='None', marker='^')\n",
    "    if ymin and ymax:\n",
    "        plt.ylim(ymin, ymax)\n",
    "    plt.show()"
   ]
  },
  {
   "cell_type": "markdown",
   "id": "af29d42a-c6bc-4608-8911-d463b99a08e9",
   "metadata": {},
   "source": [
    "\n",
    "\n",
    "Comme nous venons de le voir, les objets `set` sont très pratiques pour retrouver facilement et rapidement des données. Les dictionnaires (`dict` en Python) nous permettent d'effectuer la même chose, mais en associant une valeur à la clé.\n",
    "\n",
    "Nous allons implémenter nous-mêmes notre propre classe de dictionnaire Python sans utiliser l'objet `set` ni `dict`. Pour cela nous allons à la place utiliser une table de hashage.\n",
    "Voici quelques caractéristiques de notre future classe `Dico` :\n",
    "- la création d'un `Dico` construira un dictionnaire vide ;\n",
    "- le contenu de notre dictionnaire sera stocké dans une liste, l'index sera obtenu grâce à la fonction de hashage `hash(clé)` ;\n",
    "- vous définirez la méthode `_get_idx` qui associe une clé à son l'indice dans la table de hashage ;\n",
    "- vous définirez la méthode `__setitem__` qui permet d'ajouter une valeur associée à une clé dans notre dictionnaire ;\n",
    "- vous définirez la méthode `__getitem__` qui permet de récupérer la valeur associée à une clé dans notre dictionnaire (KeyError si l'élément n'existe pas) ;\n",
    "- vous définirez la méthode `__delitem__` qui permet de supprimer la valeur associée à la clé dans notre dictionnaire (KeyError si l'élément n'existe pas) ;\n",
    "- vous définirez la méthode `__contains__` qui renvoie `True` si la clé existe dans le dictionnaire ou `False` sinon ;\n",
    "- vous définirez la méthode `keys` qui renvoie une liste de toutes les clés contenues dans notre dictionnaire ;\n",
    "\n",
    "### Comment stocker nos éléments ?\n",
    "\n",
    "Nous souhaitons stocker les données suivantes dans notre dictionnaire :\n",
    "```python\n",
    "{\n",
    "    'TOTO': 'a',\n",
    "    'tutu': 'b',\n",
    "    0.01: 'c',\n",
    "    42: 'd'\n",
    "}\n",
    "```\n",
    "\n",
    "Chaque clé sera hashée avec la fonction `hash`. Par exemple :\n",
    "```python\n",
    "hash('TOTO') #> 6675603031165189107\n",
    "hash('tutu') #> 414345619093764751\n",
    "hash(0.01)   #> 23058430092136940\n",
    "hash(42)     #> 42\n",
    "```\n",
    "\n",
    "Nous ne pouvons malheursement pas directement stocker la valeur associée à 'TOTO' à l'indice 6675603031165189107, car nous aurions besoin d'une table vraiment très grande.\n",
    "Nous allons à la place créer une table d'une taille raisonnable, par exemple 30. En utilisant le modulo, nous pouvons ainsi contenir tous nos éléments dans notre table de taille 30. Pour chaque élément nous enregistrons le tuple (clé, valeur).\n",
    "\n",
    "```python\n",
    "tableau = [\n",
    "    (), (), (), (), (), (), (), (), (), (), (),(), (), (), (),\n",
    "    (),(), (), (), (), (), (), (), (), (), (), (), (), (), ()\n",
    "]\n",
    "\n",
    "hash('TOTO') % 30 #> 27\n",
    "hash('tutu') % 30 #> 1\n",
    "hash(0.01)   % 30 #> 20\n",
    "hash(42)     % 30 #> 12\n",
    "```\n",
    "\n",
    "Nous pouvons donc stocker `'TOTO'` à l'indice 27 de notre tableau, `'tutu'` à l'indice 1, ...\n",
    "```python\n",
    "table = [\n",
    "    (), ('tutu', 'b'), (), (), (), (), (), (), (), (), (), (),\n",
    "    (42, 'd'), (), (), (), (), (), (), (), (0.01, 'c'), (),\n",
    "    (),(), (), (), (), ('TOTO', 'a'), (), ()\n",
    "]\n",
    "```\n",
    "\n",
    "Essayons maintenant d'ajouter un élément ayant pour clé `72` dans notre dictionnaire :\n",
    "```python\n",
    "hash(72) % 30 #> 12\n",
    "```\n",
    "\n",
    "Nous avons une collision : `42` était déjà stocké à l'indice 12. Une solution pour éviter ce problème serait d'augmenter la taille de notre table, afin de réduire le risque de collision. Mais nous pourrions toujours en obtenir. Il faut donc trouver une autre solution.\n",
    "Plutôt que d'éviter les collisions, on va faire avec. Chacune de nos 30 cases de notre table pourra stocker tous les éléments devant s'y trouver, à l'aide d'une liste. Notre table est ainsi une liste de listes :\n",
    "\n",
    "```python\n",
    "table = [\n",
    "    [], [('tutu', 'b')], [], [], [], [], [], [],\n",
    "    [], [],[], [], [(42, 'd'), (72, 'e')], [],\n",
    "    [], [], [], [], [], [], [(0.01, 'c')], [], [],\n",
    "    [], [], [], [], [('TOTO', 'a')], [], []\n",
    "]\n",
    "```\n",
    "\n",
    "Deux éléments se trouvent donc à l'indice `12`, `42: 'd'` et `72: 'e'`."
   ]
  },
  {
   "cell_type": "markdown",
   "id": "c8d85e8b-00ad-45b6-9a4d-ae2da34d8e89",
   "metadata": {},
   "source": [
    "#### II.1. Implémentation"
   ]
  },
  {
   "cell_type": "code",
   "execution_count": 67,
   "id": "63f3f99e-703c-49c2-ab83-0edca1d205d4",
   "metadata": {},
   "outputs": [],
   "source": [
    "class Dico:\n",
    "    \n",
    "    def __init__(self, init_size=30):\n",
    "        # TODO: initialiser le dictionnaire à vide\n",
    "        # pour cela vous avez besoin de créer votre table de hachage qui sera une liste de la taille init_size\n",
    "        self.table = None\n",
    "\n",
    "    def __setitem__(self, key, value):\n",
    "        # TODO: ajouter l'élement dans le dictionnaire\n",
    "        pass\n",
    "    \n",
    "    def __getitem__(self, key):\n",
    "        # TODO: renvoyer l'élement associé à la clé, si celui-ci n'existe pas, lever l'exception KeyError\n",
    "        pass\n",
    "    \n",
    "    def __delitem__(self, key):\n",
    "        # TODO: doit supprimer l'élément du dictionnaire\n",
    "        pass\n",
    "    \n",
    "    def __contains__(self, key):\n",
    "        # TODO: doit renvoyer True ou False en fonction de si key est contenu dans le dictionnaire\n",
    "        pass\n",
    "    \n",
    "    def _get_idx(self, key):\n",
    "        # TODO: écrire la méthode transformant key en index dans notre container\n",
    "        # pour cela il faut utiliser hash() pour transformer notre key en indice unique\n",
    "        # puis le modulo pour obtenir un indice valide dans notre container\n",
    "        pass\n",
    "    \n",
    "    def keys(self):\n",
    "        # TODO: écrire la méthode renvoyant toutes les clés contenues dans notre dictionnaire\n",
    "        # optionel: vous pouvez également écrire la méthode values(self) qui renvoie toutes les valeurs\n",
    "        # contenues dans le dictionnaire\n",
    "        pass\n",
    "    \n",
    "    def __repr__(self):\n",
    "        return repr(self.table)\n"
   ]
  },
  {
   "cell_type": "markdown",
   "id": "77037cee-8a3f-41ec-ae00-8d209f7284eb",
   "metadata": {},
   "source": [
    "#### II.2. Utilisation du dictionnaire\n",
    "\n",
    "Maintenant que nous avons une implémentation d'un dictionnaire en Python, nous allons l'utiliser et regarder son coût algorithmique."
   ]
  },
  {
   "cell_type": "code",
   "execution_count": 10,
   "id": "eed96abb-fd0e-4f3a-b638-53cdc9cdd505",
   "metadata": {},
   "outputs": [
    {
     "data": {
      "text/plain": [
       "[[], [], [], [], [], [], [], [('tomate', 3.67)], [], [], [], [], [], [], [], [], [], [], [], [], [('pomme', 4.5)], [], [], [], [], [], [], [], [], [('poire', 5.2)]]"
      ]
     },
     "execution_count": 10,
     "metadata": {},
     "output_type": "execute_result"
    }
   ],
   "source": [
    "dictionnaire = Dico()\n",
    "dictionnaire['pomme'] = 4.5\n",
    "dictionnaire['poire'] = 5.2\n",
    "dictionnaire['tomate'] = 3.67\n",
    "\n",
    "dictionnaire"
   ]
  },
  {
   "cell_type": "code",
   "execution_count": 11,
   "id": "c675d438-6797-4129-9b43-eef333183fc6",
   "metadata": {},
   "outputs": [
    {
     "data": {
      "text/plain": [
       "True"
      ]
     },
     "execution_count": 11,
     "metadata": {},
     "output_type": "execute_result"
    }
   ],
   "source": [
    "'tomate' in dictionnaire"
   ]
  },
  {
   "cell_type": "code",
   "execution_count": 12,
   "id": "ce5074e4-6861-4319-88d8-d2a2f161b55f",
   "metadata": {},
   "outputs": [
    {
     "data": {
      "text/plain": [
       "3.67"
      ]
     },
     "execution_count": 12,
     "metadata": {},
     "output_type": "execute_result"
    }
   ],
   "source": [
    "dictionnaire['tomate']"
   ]
  },
  {
   "cell_type": "code",
   "execution_count": 13,
   "id": "3dc75278-085b-4acd-81ac-c03048bf7a85",
   "metadata": {},
   "outputs": [
    {
     "data": {
      "text/plain": [
       "False"
      ]
     },
     "execution_count": 13,
     "metadata": {},
     "output_type": "execute_result"
    }
   ],
   "source": [
    "del dictionnaire['tomate']\n",
    "'tomate' in dictionnaire"
   ]
  },
  {
   "cell_type": "code",
   "execution_count": 14,
   "id": "a8e85148-9cd7-4144-b38e-c973113e2d31",
   "metadata": {},
   "outputs": [
    {
     "ename": "KeyError",
     "evalue": "'abricot'",
     "output_type": "error",
     "traceback": [
      "\u001b[0;31m---------------------------------------------------------------------------\u001b[0m",
      "\u001b[0;31mKeyError\u001b[0m                                  Traceback (most recent call last)",
      "\u001b[0;32m/var/folders/vr/jdg_2n391tnc_hg1wtwyv29r0006vh/T/ipykernel_34602/2338376700.py\u001b[0m in \u001b[0;36m<module>\u001b[0;34m\u001b[0m\n\u001b[0;32m----> 1\u001b[0;31m \u001b[0mdictionnaire\u001b[0m\u001b[0;34m[\u001b[0m\u001b[0;34m'abricot'\u001b[0m\u001b[0;34m]\u001b[0m\u001b[0;34m\u001b[0m\u001b[0;34m\u001b[0m\u001b[0m\n\u001b[0m",
      "\u001b[0;32m/var/folders/vr/jdg_2n391tnc_hg1wtwyv29r0006vh/T/ipykernel_34602/125782118.py\u001b[0m in \u001b[0;36m__getitem__\u001b[0;34m(self, key)\u001b[0m\n\u001b[1;32m     15\u001b[0m             \u001b[0;32mif\u001b[0m \u001b[0mk\u001b[0m \u001b[0;34m==\u001b[0m \u001b[0mkey\u001b[0m\u001b[0;34m:\u001b[0m\u001b[0;34m\u001b[0m\u001b[0;34m\u001b[0m\u001b[0m\n\u001b[1;32m     16\u001b[0m                 \u001b[0;32mreturn\u001b[0m \u001b[0mv\u001b[0m\u001b[0;34m\u001b[0m\u001b[0;34m\u001b[0m\u001b[0m\n\u001b[0;32m---> 17\u001b[0;31m         \u001b[0;32mraise\u001b[0m \u001b[0mKeyError\u001b[0m\u001b[0;34m(\u001b[0m\u001b[0mkey\u001b[0m\u001b[0;34m)\u001b[0m\u001b[0;34m\u001b[0m\u001b[0;34m\u001b[0m\u001b[0m\n\u001b[0m\u001b[1;32m     18\u001b[0m \u001b[0;34m\u001b[0m\u001b[0m\n\u001b[1;32m     19\u001b[0m     \u001b[0;32mdef\u001b[0m \u001b[0m__delitem__\u001b[0m\u001b[0;34m(\u001b[0m\u001b[0mself\u001b[0m\u001b[0;34m,\u001b[0m \u001b[0mkey\u001b[0m\u001b[0;34m)\u001b[0m\u001b[0;34m:\u001b[0m\u001b[0;34m\u001b[0m\u001b[0;34m\u001b[0m\u001b[0m\n",
      "\u001b[0;31mKeyError\u001b[0m: 'abricot'"
     ]
    }
   ],
   "source": [
    "dictionnaire['abricot']"
   ]
  },
  {
   "cell_type": "markdown",
   "id": "bd269039-0e45-444c-890d-ed784a314a76",
   "metadata": {},
   "source": [
    "#### C - Coût algorithmique\n",
    "Passons maintenant à un exemple plus complexe :"
   ]
  },
  {
   "cell_type": "code",
   "execution_count": 15,
   "id": "8afd6020-f727-421e-9ccb-704e4136783e",
   "metadata": {},
   "outputs": [],
   "source": [
    "pays_et_capitales = [\n",
    "    [\"Malta\", \"Valletta\"], [\"Croatia\", \"Zagreb\"], [\"Macedonia\", \"Skopje\"], [\"San Marino\", \"San Marino\"],\n",
    "    [\"Portugal\", \"Lisbon\"], [\"Latvia\", \"Riga\"], [\"Finland\", \"Helsinki\"], [\"Albania\", \"Tirana\"],\n",
    "    [\"Serbia\", \"Belgrade\"], [\"Bulgaria\", \"Sofia\"], [\"Romania\", \"Bucharest\"], [\"Switzerland\", \"Bern\"],\n",
    "    [\"Slovenia\", \"Ljubljana\"], [\"Hungary\", \"Budapest\"], [\"Liechtenstein\", \"Vaduz\"],\n",
    "    [\"Czech Republic\", \"Prague\"], [\"Iceland\", \"Reykjavík\"], [\"Bosnia and Herzegovina\", \"Sarajevo\"],\n",
    "    [\"Belgium\", \"Brussels\"], [\"Italy\", \"Rome\"], [\"Luxembourg\", \"Luxembourg City\"], [\"Belarus\", \"Minsk\"],\n",
    "    [\"Republic of Ireland\", \"Dublin\"], [\"Moldova\", \"Chișinău\"], [\"Estonia\", \"Tallinn\"],\n",
    "    [\"Russia\", \"Moscow\"], [\"Vatican City\", \"Vatican City\"], [\"Ukraine\", \"Kiev\"], [\"Monaco\", \"Monaco\"],\n",
    "    [\"Greece\", \"Athens\"], [\"Lithuania\", \"Vilnius\"], [\"Slovakia\", \"Bratislava\"], [\"Spain\", \"Madrid\"],\n",
    "    [\"Austria\", \"Vienna\"], [\"France\", \"Paris\"], [\"Sweden\", \"Stockholm\"], [\"Andorra\", \"Andorra la Vella\"],\n",
    "    [\"United Kingdom\", \"London\"], [\"Poland\", \"Warsaw\"], [\"The Netherlands\", \"Amsterdam\"],\n",
    "    [\"Montenegro\", \"Podgorica\"], [\"Germany\", \"Berlin\"], [\"Norway\", \"Oslo\"], [\"Denmark\", \"Copenhagen\"]\n",
    "]"
   ]
  },
  {
   "cell_type": "code",
   "execution_count": 16,
   "id": "91bd0d70-cee2-4996-adc2-5a5220648368",
   "metadata": {},
   "outputs": [
    {
     "name": "stdout",
     "output_type": "stream",
     "text": [
      "France : Paris\n",
      "Lettonie : Riga\n",
      "Liechtenstein : Vaduz\n",
      "Pologne : Warsaw\n"
     ]
    }
   ],
   "source": [
    "capitales = Dico(init_size=50)\n",
    "for pays, capitale in pays_et_capitales:\n",
    "    capitales[pays] = capitale\n",
    "\n",
    "print('France :', capitales['France'])\n",
    "print('Lettonie :', capitales['Latvia'])\n",
    "print('Liechtenstein :', capitales['Liechtenstein'])\n",
    "print('Pologne :', capitales['Poland'])"
   ]
  },
  {
   "cell_type": "markdown",
   "id": "383b2682-fe30-4e52-a4bd-d83940d24899",
   "metadata": {},
   "source": [
    "---\n",
    "Nous souhaitons afficher le temps d'accès à la capitale des pays en fonction de la taille de la table de hashage. Vous allez réaliser l'expérience avec les tailles de 1 à 100 par palier de 1. Pour chaque dictionnaire ainsi créee, vous devez afficher le temps moyen et son écart type pour l'accès à toutes les capitales des pays.\n",
    "Quel lien pouvez-vous observer entre la taille de la table et le coût d'accès à l'information ?"
   ]
  },
  {
   "cell_type": "code",
   "execution_count": null,
   "id": "2f9ad270-82a7-46bc-85ba-79c589225ccd",
   "metadata": {
    "tags": []
   },
   "outputs": [],
   "source": [
    "means = []\n",
    "stds = []\n",
    "\n",
    "#TODO\n",
    "\n",
    "plot_error_bar(liste, means, stds)"
   ]
  },
  {
   "cell_type": "markdown",
   "id": "45bdcb56-caad-4b5f-958a-74b0b5941071",
   "metadata": {},
   "source": [
    "---\n",
    "Nous souhaitons ajouter les états des Etats-Unis et leurs capitales associées.\n",
    "Vous aller afficher le temps nécessaire pour l'insertion des nouvelles capitales dans un dictionnaire, en fonction de la taille de la table de hashage. Vous allez réaliser l'expérience avec les tailles de 1 à 100 par palier de 1. Pour chaque dictionnaire ainsi créee, vous devez afficher le temps moyen et son écart type pour ajouter les états des US et leurs villes capitales.\n",
    "Quel lien pouvez-vous observer entre la taille de la table et le coût d'accès à l'information ?\n"
   ]
  },
  {
   "cell_type": "code",
   "execution_count": 21,
   "id": "16ce5df2-acbc-4c09-b8b7-e15b2777beac",
   "metadata": {},
   "outputs": [],
   "source": [
    "etats_us_et_capitales = [\n",
    "    ['Alabama', 'Montgomery'],\n",
    "    ['Alaska', 'Juneau'],\n",
    "    ['Arizona', 'Phoenix'],\n",
    "    ['Arkansas', 'Little Rock'],\n",
    "    ['California', 'Sacramento'],\n",
    "    ['Colorado', 'Denver'],\n",
    "    ['Connecticut', 'Hartford'],\n",
    "    ['Delaware', 'Dover'],\n",
    "    ['Florida', 'Tallahassee'],\n",
    "    ['Georgia', 'Atlanta'],\n",
    "    ['Hawaii', 'Honolulu'],\n",
    "    ['Idaho', 'Boise'],\n",
    "    ['Illinois', 'Springfield'],\n",
    "    ['Indiana', 'Indianapolis'],\n",
    "    ['Iowa', 'Des Moines'],\n",
    "    ['Kansas', 'Topeka'],\n",
    "    ['Kentucky', 'Frankfort'],\n",
    "    ['Louisiana', 'Baton Rouge'],\n",
    "    ['Maine', 'Augusta'],\n",
    "    ['Maryland', 'Annapolis'],\n",
    "    ['Massachusetts', 'Boston'],\n",
    "    ['Michigan', 'Lansing'],\n",
    "    ['Minnesota', 'Saint Paul'],\n",
    "    ['Mississippi', 'Jackson'],\n",
    "    ['Missouri', 'Jefferson City'],\n",
    "    ['Montana', 'Helena'],\n",
    "    ['Nebraska', 'Lincoln'],\n",
    "    ['Nevada', 'Carson City'],\n",
    "    ['New Hampshire', 'Concord'],\n",
    "    ['New Jersey', 'Trenton'],\n",
    "    ['New Mexico', 'Santa Fe'],\n",
    "    ['New York', 'Albany'],\n",
    "    ['North Carolina', 'Raleigh'],\n",
    "    ['North Dakota', 'Bismarck'],\n",
    "    ['Ohio', 'Columbus'],\n",
    "    ['Oklahoma', 'Oklahoma City'],\n",
    "    ['Oregon', 'Salem'],\n",
    "    ['Pennsylvania', 'Harrisburg'],\n",
    "    ['Rhode Island', 'Providence'],\n",
    "    ['South Carolina', 'Columbia'],\n",
    "    ['South Dakota', 'Pierre'],\n",
    "    ['Tennessee', 'Nashville'],\n",
    "    ['Texas', 'Austin'],\n",
    "    ['Utah', 'Salt Lake City'],\n",
    "    ['Vermont', 'Montpelier'],\n",
    "    ['Virginia', 'Richmond'],\n",
    "    ['Washington', 'Olympia'],\n",
    "    ['West Virginia', 'Charleston'],\n",
    "    ['Wisconsin', 'Madison'],\n",
    "    ['Wyoming', 'Cheyenne'],   \n",
    "]"
   ]
  },
  {
   "cell_type": "code",
   "execution_count": null,
   "id": "cb12fc6a-07fa-48b1-b90c-6508c07828b8",
   "metadata": {},
   "outputs": [],
   "source": [
    "means = []\n",
    "stds = []\n",
    "\n",
    "#TODO\n",
    "\n",
    "plot_error_bar(liste, means, stds)"
   ]
  },
  {
   "cell_type": "code",
   "execution_count": 27,
   "id": "fa87cd7e-16fc-4c3e-892c-52eea77264f4",
   "metadata": {},
   "outputs": [
    {
     "data": {
      "text/plain": [
       "[[('Bosnia and Herzegovina', 'Sarajevo')], [('Bulgaria', 'Sofia'), ('Arkansas', 'Little Rock'), ('Georgia', 'Atlanta'), ('New Jersey', 'Trenton'), ('Tennessee', 'Nashville')], [], [], [], [('Ukraine', 'Kiev'), ('Spain', 'Madrid')], [('Lithuania', 'Vilnius')], [('Croatia', 'Zagreb'), ('Iceland', 'Reykjavík')], [('Serbia', 'Belgrade'), ('Delaware', 'Dover')], [('Kansas', 'Topeka')], [], [('Iowa', 'Des Moines')], [('United Kingdom', 'London'), ('Hawaii', 'Honolulu')], [], [], [('Poland', 'Warsaw')], [('Czech Republic', 'Prague'), ('Monaco', 'Monaco')], [('Rhode Island', 'Providence')], [('Malta', 'Valletta'), ('West Virginia', 'Charleston')], [], [('Liechtenstein', 'Vaduz'), ('Texas', 'Austin')], [('Maine', 'Augusta'), ('Minnesota', 'Saint Paul')], [('Alaska', 'Juneau')], [('Indiana', 'Indianapolis')], [], [('Latvia', 'Riga'), ('Belarus', 'Minsk')], [('Mississippi', 'Jackson')], [('Montana', 'Helena')], [], [('Moldova', 'Chișinău'), ('Alabama', 'Montgomery'), ('Massachusetts', 'Boston')], [('Italy', 'Rome'), ('Greece', 'Athens')], [], [('Kentucky', 'Frankfort')], [], [], [], [], [('Albania', 'Tirana'), ('Colorado', 'Denver')], [('Nevada', 'Carson City')], [('Illinois', 'Springfield')], [], [('Finland', 'Helsinki')], [('Montenegro', 'Podgorica')], [('Russia', 'Moscow')], [('Norway', 'Oslo'), ('Virginia', 'Richmond'), ('Wisconsin', 'Madison')], [], [('Ohio', 'Columbus')], [('Arizona', 'Phoenix')], [('Belgium', 'Brussels')], [('Wyoming', 'Cheyenne')], [('Estonia', 'Tallinn'), ('Florida', 'Tallahassee')], [('San Marino', 'San Marino'), ('Washington', 'Olympia')], [('New Hampshire', 'Concord')], [], [], [('Germany', 'Berlin'), ('Utah', 'Salt Lake City')], [('Luxembourg', 'Luxembourg City'), ('Vatican City', 'Vatican City')], [], [('Oregon', 'Salem')], [('New York', 'Albany'), ('North Carolina', 'Raleigh')], [('Switzerland', 'Bern')], [], [('Missouri', 'Jefferson City')], [('Pennsylvania', 'Harrisburg')], [('The Netherlands', 'Amsterdam')], [], [], [('California', 'Sacramento')], [], [], [('Portugal', 'Lisbon'), ('New Mexico', 'Santa Fe'), ('South Carolina', 'Columbia')], [('Macedonia', 'Skopje')], [], [], [('Nebraska', 'Lincoln')], [('Slovakia', 'Bratislava')], [('Oklahoma', 'Oklahoma City')], [], [], [], [('Michigan', 'Lansing')], [('South Dakota', 'Pierre')], [], [('Hungary', 'Budapest'), ('North Dakota', 'Bismarck')], [], [('Slovenia', 'Ljubljana'), ('Denmark', 'Copenhagen')], [('Connecticut', 'Hartford'), ('Maryland', 'Annapolis')], [('Austria', 'Vienna')], [('Romania', 'Bucharest')], [], [], [('Louisiana', 'Baton Rouge')], [], [], [('France', 'Paris'), ('Sweden', 'Stockholm'), ('Vermont', 'Montpelier')], [('Republic of Ireland', 'Dublin'), ('Idaho', 'Boise')], [('Andorra', 'Andorra la Vella')], [], []]"
      ]
     },
     "execution_count": 27,
     "metadata": {},
     "output_type": "execute_result"
    }
   ],
   "source": [
    "capitales"
   ]
  }
 ],
 "metadata": {
  "kernelspec": {
   "display_name": "Python 3 (ipykernel)",
   "language": "python",
   "name": "python3"
  },
  "language_info": {
   "codemirror_mode": {
    "name": "ipython",
    "version": 3
   },
   "file_extension": ".py",
   "mimetype": "text/x-python",
   "name": "python",
   "nbconvert_exporter": "python",
   "pygments_lexer": "ipython3",
   "version": "3.10.9"
  }
 },
 "nbformat": 4,
 "nbformat_minor": 5
}
